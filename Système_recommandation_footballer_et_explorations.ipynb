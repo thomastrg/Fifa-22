{
 "cells": [
  {
   "cell_type": "markdown",
   "metadata": {
    "heading_collapsed": true
   },
   "source": [
    "# Import libraries"
   ]
  },
  {
   "cell_type": "code",
   "execution_count": 1,
   "metadata": {
    "hidden": true
   },
   "outputs": [],
   "source": [
    "import pandas as pd\n",
    "import numpy as np\n",
    "\n",
    "import re\n",
    "import requests\n",
    "import base64\n",
    "from unidecode import unidecode\n",
    "\n",
    "import seaborn as sns\n",
    "import matplotlib.pyplot as plt\n",
    "import streamlit as st\n",
    "\n",
    "from annoy import AnnoyIndex"
   ]
  },
  {
   "cell_type": "markdown",
   "metadata": {
    "heading_collapsed": true
   },
   "source": [
    "# Data Importation"
   ]
  },
  {
   "cell_type": "markdown",
   "metadata": {
    "heading_collapsed": true,
    "hidden": true
   },
   "source": [
    "## Fifa 2022"
   ]
  },
  {
   "cell_type": "code",
   "execution_count": 2,
   "metadata": {
    "hidden": true
   },
   "outputs": [],
   "source": [
    "df=pd.read_csv('FIFA22_official_data.csv')"
   ]
  },
  {
   "cell_type": "code",
   "execution_count": 3,
   "metadata": {
    "hidden": true,
    "scrolled": true
   },
   "outputs": [
    {
     "data": {
      "text/html": [
       "<div>\n",
       "<style scoped>\n",
       "    .dataframe tbody tr th:only-of-type {\n",
       "        vertical-align: middle;\n",
       "    }\n",
       "\n",
       "    .dataframe tbody tr th {\n",
       "        vertical-align: top;\n",
       "    }\n",
       "\n",
       "    .dataframe thead th {\n",
       "        text-align: right;\n",
       "    }\n",
       "</style>\n",
       "<table border=\"1\" class=\"dataframe\">\n",
       "  <thead>\n",
       "    <tr style=\"text-align: right;\">\n",
       "      <th></th>\n",
       "      <th>ID</th>\n",
       "      <th>Name</th>\n",
       "      <th>Age</th>\n",
       "      <th>Photo</th>\n",
       "      <th>Nationality</th>\n",
       "      <th>Flag</th>\n",
       "      <th>Overall</th>\n",
       "      <th>Potential</th>\n",
       "      <th>Club</th>\n",
       "      <th>Club Logo</th>\n",
       "      <th>...</th>\n",
       "      <th>SlidingTackle</th>\n",
       "      <th>GKDiving</th>\n",
       "      <th>GKHandling</th>\n",
       "      <th>GKKicking</th>\n",
       "      <th>GKPositioning</th>\n",
       "      <th>GKReflexes</th>\n",
       "      <th>Best Position</th>\n",
       "      <th>Best Overall Rating</th>\n",
       "      <th>Release Clause</th>\n",
       "      <th>DefensiveAwareness</th>\n",
       "    </tr>\n",
       "  </thead>\n",
       "  <tbody>\n",
       "    <tr>\n",
       "      <th>0</th>\n",
       "      <td>212198</td>\n",
       "      <td>Bruno Fernandes</td>\n",
       "      <td>26</td>\n",
       "      <td>https://cdn.sofifa.com/players/212/198/22_60.png</td>\n",
       "      <td>Portugal</td>\n",
       "      <td>https://cdn.sofifa.com/flags/pt.png</td>\n",
       "      <td>88</td>\n",
       "      <td>89</td>\n",
       "      <td>Manchester United</td>\n",
       "      <td>https://cdn.sofifa.com/teams/11/30.png</td>\n",
       "      <td>...</td>\n",
       "      <td>65.0</td>\n",
       "      <td>12.0</td>\n",
       "      <td>14.0</td>\n",
       "      <td>15.0</td>\n",
       "      <td>8.0</td>\n",
       "      <td>14.0</td>\n",
       "      <td>CAM</td>\n",
       "      <td>88.0</td>\n",
       "      <td>€206.9M</td>\n",
       "      <td>72.0</td>\n",
       "    </tr>\n",
       "    <tr>\n",
       "      <th>1</th>\n",
       "      <td>209658</td>\n",
       "      <td>L. Goretzka</td>\n",
       "      <td>26</td>\n",
       "      <td>https://cdn.sofifa.com/players/209/658/22_60.png</td>\n",
       "      <td>Germany</td>\n",
       "      <td>https://cdn.sofifa.com/flags/de.png</td>\n",
       "      <td>87</td>\n",
       "      <td>88</td>\n",
       "      <td>FC Bayern München</td>\n",
       "      <td>https://cdn.sofifa.com/teams/21/30.png</td>\n",
       "      <td>...</td>\n",
       "      <td>77.0</td>\n",
       "      <td>13.0</td>\n",
       "      <td>8.0</td>\n",
       "      <td>15.0</td>\n",
       "      <td>11.0</td>\n",
       "      <td>9.0</td>\n",
       "      <td>CM</td>\n",
       "      <td>87.0</td>\n",
       "      <td>€160.4M</td>\n",
       "      <td>74.0</td>\n",
       "    </tr>\n",
       "    <tr>\n",
       "      <th>2</th>\n",
       "      <td>176580</td>\n",
       "      <td>L. Suárez</td>\n",
       "      <td>34</td>\n",
       "      <td>https://cdn.sofifa.com/players/176/580/22_60.png</td>\n",
       "      <td>Uruguay</td>\n",
       "      <td>https://cdn.sofifa.com/flags/uy.png</td>\n",
       "      <td>88</td>\n",
       "      <td>88</td>\n",
       "      <td>Atlético de Madrid</td>\n",
       "      <td>https://cdn.sofifa.com/teams/240/30.png</td>\n",
       "      <td>...</td>\n",
       "      <td>38.0</td>\n",
       "      <td>27.0</td>\n",
       "      <td>25.0</td>\n",
       "      <td>31.0</td>\n",
       "      <td>33.0</td>\n",
       "      <td>37.0</td>\n",
       "      <td>ST</td>\n",
       "      <td>88.0</td>\n",
       "      <td>€91.2M</td>\n",
       "      <td>42.0</td>\n",
       "    </tr>\n",
       "    <tr>\n",
       "      <th>3</th>\n",
       "      <td>192985</td>\n",
       "      <td>K. De Bruyne</td>\n",
       "      <td>30</td>\n",
       "      <td>https://cdn.sofifa.com/players/192/985/22_60.png</td>\n",
       "      <td>Belgium</td>\n",
       "      <td>https://cdn.sofifa.com/flags/be.png</td>\n",
       "      <td>91</td>\n",
       "      <td>91</td>\n",
       "      <td>Manchester City</td>\n",
       "      <td>https://cdn.sofifa.com/teams/10/30.png</td>\n",
       "      <td>...</td>\n",
       "      <td>53.0</td>\n",
       "      <td>15.0</td>\n",
       "      <td>13.0</td>\n",
       "      <td>5.0</td>\n",
       "      <td>10.0</td>\n",
       "      <td>13.0</td>\n",
       "      <td>CM</td>\n",
       "      <td>91.0</td>\n",
       "      <td>€232.2M</td>\n",
       "      <td>68.0</td>\n",
       "    </tr>\n",
       "    <tr>\n",
       "      <th>4</th>\n",
       "      <td>224334</td>\n",
       "      <td>M. Acuña</td>\n",
       "      <td>29</td>\n",
       "      <td>https://cdn.sofifa.com/players/224/334/22_60.png</td>\n",
       "      <td>Argentina</td>\n",
       "      <td>https://cdn.sofifa.com/flags/ar.png</td>\n",
       "      <td>84</td>\n",
       "      <td>84</td>\n",
       "      <td>Sevilla FC</td>\n",
       "      <td>https://cdn.sofifa.com/teams/481/30.png</td>\n",
       "      <td>...</td>\n",
       "      <td>82.0</td>\n",
       "      <td>8.0</td>\n",
       "      <td>14.0</td>\n",
       "      <td>13.0</td>\n",
       "      <td>13.0</td>\n",
       "      <td>14.0</td>\n",
       "      <td>LB</td>\n",
       "      <td>84.0</td>\n",
       "      <td>€77.7M</td>\n",
       "      <td>80.0</td>\n",
       "    </tr>\n",
       "    <tr>\n",
       "      <th>5</th>\n",
       "      <td>212622</td>\n",
       "      <td>J. Kimmich</td>\n",
       "      <td>26</td>\n",
       "      <td>https://cdn.sofifa.com/players/212/622/22_60.png</td>\n",
       "      <td>Germany</td>\n",
       "      <td>https://cdn.sofifa.com/flags/de.png</td>\n",
       "      <td>89</td>\n",
       "      <td>90</td>\n",
       "      <td>FC Bayern München</td>\n",
       "      <td>https://cdn.sofifa.com/teams/21/30.png</td>\n",
       "      <td>...</td>\n",
       "      <td>79.0</td>\n",
       "      <td>8.0</td>\n",
       "      <td>15.0</td>\n",
       "      <td>7.0</td>\n",
       "      <td>15.0</td>\n",
       "      <td>15.0</td>\n",
       "      <td>CDM</td>\n",
       "      <td>89.0</td>\n",
       "      <td>€186.3M</td>\n",
       "      <td>85.0</td>\n",
       "    </tr>\n",
       "    <tr>\n",
       "      <th>6</th>\n",
       "      <td>187961</td>\n",
       "      <td>Paulinho</td>\n",
       "      <td>32</td>\n",
       "      <td>https://cdn.sofifa.com/players/187/961/22_60.png</td>\n",
       "      <td>Brazil</td>\n",
       "      <td>https://cdn.sofifa.com/flags/br.png</td>\n",
       "      <td>83</td>\n",
       "      <td>83</td>\n",
       "      <td>Al Ahli</td>\n",
       "      <td>https://cdn.sofifa.com/teams/112387/30.png</td>\n",
       "      <td>...</td>\n",
       "      <td>75.0</td>\n",
       "      <td>16.0</td>\n",
       "      <td>16.0</td>\n",
       "      <td>11.0</td>\n",
       "      <td>6.0</td>\n",
       "      <td>8.0</td>\n",
       "      <td>CM</td>\n",
       "      <td>83.0</td>\n",
       "      <td>€48.5M</td>\n",
       "      <td>80.0</td>\n",
       "    </tr>\n",
       "    <tr>\n",
       "      <th>7</th>\n",
       "      <td>181291</td>\n",
       "      <td>G. Wijnaldum</td>\n",
       "      <td>30</td>\n",
       "      <td>https://cdn.sofifa.com/players/181/291/22_60.png</td>\n",
       "      <td>Netherlands</td>\n",
       "      <td>https://cdn.sofifa.com/flags/nl.png</td>\n",
       "      <td>84</td>\n",
       "      <td>84</td>\n",
       "      <td>Paris Saint-Germain</td>\n",
       "      <td>https://cdn.sofifa.com/teams/73/30.png</td>\n",
       "      <td>...</td>\n",
       "      <td>70.0</td>\n",
       "      <td>16.0</td>\n",
       "      <td>6.0</td>\n",
       "      <td>14.0</td>\n",
       "      <td>12.0</td>\n",
       "      <td>6.0</td>\n",
       "      <td>CM</td>\n",
       "      <td>84.0</td>\n",
       "      <td>€74.9M</td>\n",
       "      <td>79.0</td>\n",
       "    </tr>\n",
       "    <tr>\n",
       "      <th>8</th>\n",
       "      <td>208333</td>\n",
       "      <td>E. Can</td>\n",
       "      <td>27</td>\n",
       "      <td>https://cdn.sofifa.com/players/208/333/22_60.png</td>\n",
       "      <td>Germany</td>\n",
       "      <td>https://cdn.sofifa.com/flags/de.png</td>\n",
       "      <td>82</td>\n",
       "      <td>83</td>\n",
       "      <td>Borussia Dortmund</td>\n",
       "      <td>https://cdn.sofifa.com/teams/22/30.png</td>\n",
       "      <td>...</td>\n",
       "      <td>86.0</td>\n",
       "      <td>14.0</td>\n",
       "      <td>8.0</td>\n",
       "      <td>8.0</td>\n",
       "      <td>13.0</td>\n",
       "      <td>11.0</td>\n",
       "      <td>CDM</td>\n",
       "      <td>85.0</td>\n",
       "      <td>€62.1M</td>\n",
       "      <td>81.0</td>\n",
       "    </tr>\n",
       "    <tr>\n",
       "      <th>9</th>\n",
       "      <td>194765</td>\n",
       "      <td>A. Griezmann</td>\n",
       "      <td>30</td>\n",
       "      <td>https://cdn.sofifa.com/players/194/765/22_60.png</td>\n",
       "      <td>France</td>\n",
       "      <td>https://cdn.sofifa.com/flags/fr.png</td>\n",
       "      <td>85</td>\n",
       "      <td>85</td>\n",
       "      <td>Atlético de Madrid</td>\n",
       "      <td>https://cdn.sofifa.com/teams/240/30.png</td>\n",
       "      <td>...</td>\n",
       "      <td>49.0</td>\n",
       "      <td>14.0</td>\n",
       "      <td>8.0</td>\n",
       "      <td>14.0</td>\n",
       "      <td>13.0</td>\n",
       "      <td>14.0</td>\n",
       "      <td>CAM</td>\n",
       "      <td>86.0</td>\n",
       "      <td>NaN</td>\n",
       "      <td>43.0</td>\n",
       "    </tr>\n",
       "  </tbody>\n",
       "</table>\n",
       "<p>10 rows × 65 columns</p>\n",
       "</div>"
      ],
      "text/plain": [
       "       ID             Name  Age  \\\n",
       "0  212198  Bruno Fernandes   26   \n",
       "1  209658      L. Goretzka   26   \n",
       "2  176580        L. Suárez   34   \n",
       "3  192985     K. De Bruyne   30   \n",
       "4  224334         M. Acuña   29   \n",
       "5  212622       J. Kimmich   26   \n",
       "6  187961         Paulinho   32   \n",
       "7  181291     G. Wijnaldum   30   \n",
       "8  208333           E. Can   27   \n",
       "9  194765     A. Griezmann   30   \n",
       "\n",
       "                                              Photo  Nationality  \\\n",
       "0  https://cdn.sofifa.com/players/212/198/22_60.png     Portugal   \n",
       "1  https://cdn.sofifa.com/players/209/658/22_60.png      Germany   \n",
       "2  https://cdn.sofifa.com/players/176/580/22_60.png      Uruguay   \n",
       "3  https://cdn.sofifa.com/players/192/985/22_60.png      Belgium   \n",
       "4  https://cdn.sofifa.com/players/224/334/22_60.png    Argentina   \n",
       "5  https://cdn.sofifa.com/players/212/622/22_60.png      Germany   \n",
       "6  https://cdn.sofifa.com/players/187/961/22_60.png       Brazil   \n",
       "7  https://cdn.sofifa.com/players/181/291/22_60.png  Netherlands   \n",
       "8  https://cdn.sofifa.com/players/208/333/22_60.png      Germany   \n",
       "9  https://cdn.sofifa.com/players/194/765/22_60.png       France   \n",
       "\n",
       "                                  Flag  Overall  Potential  \\\n",
       "0  https://cdn.sofifa.com/flags/pt.png       88         89   \n",
       "1  https://cdn.sofifa.com/flags/de.png       87         88   \n",
       "2  https://cdn.sofifa.com/flags/uy.png       88         88   \n",
       "3  https://cdn.sofifa.com/flags/be.png       91         91   \n",
       "4  https://cdn.sofifa.com/flags/ar.png       84         84   \n",
       "5  https://cdn.sofifa.com/flags/de.png       89         90   \n",
       "6  https://cdn.sofifa.com/flags/br.png       83         83   \n",
       "7  https://cdn.sofifa.com/flags/nl.png       84         84   \n",
       "8  https://cdn.sofifa.com/flags/de.png       82         83   \n",
       "9  https://cdn.sofifa.com/flags/fr.png       85         85   \n",
       "\n",
       "                  Club                                   Club Logo  ...  \\\n",
       "0    Manchester United      https://cdn.sofifa.com/teams/11/30.png  ...   \n",
       "1    FC Bayern München      https://cdn.sofifa.com/teams/21/30.png  ...   \n",
       "2   Atlético de Madrid     https://cdn.sofifa.com/teams/240/30.png  ...   \n",
       "3      Manchester City      https://cdn.sofifa.com/teams/10/30.png  ...   \n",
       "4           Sevilla FC     https://cdn.sofifa.com/teams/481/30.png  ...   \n",
       "5    FC Bayern München      https://cdn.sofifa.com/teams/21/30.png  ...   \n",
       "6              Al Ahli  https://cdn.sofifa.com/teams/112387/30.png  ...   \n",
       "7  Paris Saint-Germain      https://cdn.sofifa.com/teams/73/30.png  ...   \n",
       "8    Borussia Dortmund      https://cdn.sofifa.com/teams/22/30.png  ...   \n",
       "9   Atlético de Madrid     https://cdn.sofifa.com/teams/240/30.png  ...   \n",
       "\n",
       "  SlidingTackle GKDiving  GKHandling GKKicking  GKPositioning  GKReflexes  \\\n",
       "0          65.0     12.0        14.0      15.0            8.0        14.0   \n",
       "1          77.0     13.0         8.0      15.0           11.0         9.0   \n",
       "2          38.0     27.0        25.0      31.0           33.0        37.0   \n",
       "3          53.0     15.0        13.0       5.0           10.0        13.0   \n",
       "4          82.0      8.0        14.0      13.0           13.0        14.0   \n",
       "5          79.0      8.0        15.0       7.0           15.0        15.0   \n",
       "6          75.0     16.0        16.0      11.0            6.0         8.0   \n",
       "7          70.0     16.0         6.0      14.0           12.0         6.0   \n",
       "8          86.0     14.0         8.0       8.0           13.0        11.0   \n",
       "9          49.0     14.0         8.0      14.0           13.0        14.0   \n",
       "\n",
       "   Best Position Best Overall Rating Release Clause DefensiveAwareness  \n",
       "0            CAM                88.0        €206.9M               72.0  \n",
       "1             CM                87.0        €160.4M               74.0  \n",
       "2             ST                88.0         €91.2M               42.0  \n",
       "3             CM                91.0        €232.2M               68.0  \n",
       "4             LB                84.0         €77.7M               80.0  \n",
       "5            CDM                89.0        €186.3M               85.0  \n",
       "6             CM                83.0         €48.5M               80.0  \n",
       "7             CM                84.0         €74.9M               79.0  \n",
       "8            CDM                85.0         €62.1M               81.0  \n",
       "9            CAM                86.0            NaN               43.0  \n",
       "\n",
       "[10 rows x 65 columns]"
      ]
     },
     "execution_count": 3,
     "metadata": {},
     "output_type": "execute_result"
    }
   ],
   "source": [
    "df.head(10)"
   ]
  },
  {
   "cell_type": "code",
   "execution_count": 4,
   "metadata": {
    "hidden": true
   },
   "outputs": [],
   "source": [
    "df[\"Name\"]=df[\"Name\"].apply(lambda name: unidecode(name))"
   ]
  },
  {
   "cell_type": "code",
   "execution_count": 5,
   "metadata": {
    "hidden": true
   },
   "outputs": [
    {
     "data": {
      "text/plain": [
       "Index(['ID', 'Name', 'Age', 'Photo', 'Nationality', 'Flag', 'Overall',\n",
       "       'Potential', 'Club', 'Club Logo', 'Value', 'Wage', 'Special',\n",
       "       'Preferred Foot', 'International Reputation', 'Weak Foot',\n",
       "       'Skill Moves', 'Work Rate', 'Body Type', 'Real Face', 'Position',\n",
       "       'Jersey Number', 'Joined', 'Loaned From', 'Contract Valid Until',\n",
       "       'Height', 'Weight', 'Crossing', 'Finishing', 'HeadingAccuracy',\n",
       "       'ShortPassing', 'Volleys', 'Dribbling', 'Curve', 'FKAccuracy',\n",
       "       'LongPassing', 'BallControl', 'Acceleration', 'SprintSpeed', 'Agility',\n",
       "       'Reactions', 'Balance', 'ShotPower', 'Jumping', 'Stamina', 'Strength',\n",
       "       'LongShots', 'Aggression', 'Interceptions', 'Positioning', 'Vision',\n",
       "       'Penalties', 'Composure', 'Marking', 'StandingTackle', 'SlidingTackle',\n",
       "       'GKDiving', 'GKHandling', 'GKKicking', 'GKPositioning', 'GKReflexes',\n",
       "       'Best Position', 'Best Overall Rating', 'Release Clause',\n",
       "       'DefensiveAwareness'],\n",
       "      dtype='object')"
      ]
     },
     "execution_count": 5,
     "metadata": {},
     "output_type": "execute_result"
    }
   ],
   "source": [
    "df.columns"
   ]
  },
  {
   "cell_type": "markdown",
   "metadata": {
    "heading_collapsed": true,
    "hidden": true
   },
   "source": [
    "## Comparer au fifa 2020 pour voir quelles données on garde"
   ]
  },
  {
   "cell_type": "code",
   "execution_count": 6,
   "metadata": {
    "hidden": true
   },
   "outputs": [],
   "source": [
    "df_fifa20=pd.read_csv('sofifa2020.csv')"
   ]
  },
  {
   "cell_type": "code",
   "execution_count": 7,
   "metadata": {
    "hidden": true,
    "scrolled": true
   },
   "outputs": [
    {
     "data": {
      "text/html": [
       "<div>\n",
       "<style scoped>\n",
       "    .dataframe tbody tr th:only-of-type {\n",
       "        vertical-align: middle;\n",
       "    }\n",
       "\n",
       "    .dataframe tbody tr th {\n",
       "        vertical-align: top;\n",
       "    }\n",
       "\n",
       "    .dataframe thead th {\n",
       "        text-align: right;\n",
       "    }\n",
       "</style>\n",
       "<table border=\"1\" class=\"dataframe\">\n",
       "  <thead>\n",
       "    <tr style=\"text-align: right;\">\n",
       "      <th></th>\n",
       "      <th>name</th>\n",
       "      <th>photo_url</th>\n",
       "      <th>teams</th>\n",
       "      <th>league</th>\n",
       "      <th>contract</th>\n",
       "      <th>positions</th>\n",
       "      <th>age</th>\n",
       "      <th>height</th>\n",
       "      <th>weight</th>\n",
       "      <th>Overall Rating</th>\n",
       "      <th>...</th>\n",
       "      <th>DefensiveAwareness</th>\n",
       "      <th>StandingTackle</th>\n",
       "      <th>SlidingTackle</th>\n",
       "      <th>GKDiving</th>\n",
       "      <th>GKHandling</th>\n",
       "      <th>GKKicking</th>\n",
       "      <th>GKPositioning</th>\n",
       "      <th>GKReflexes</th>\n",
       "      <th>player_traits</th>\n",
       "      <th>player_hashtags</th>\n",
       "    </tr>\n",
       "  </thead>\n",
       "  <tbody>\n",
       "    <tr>\n",
       "      <th>0</th>\n",
       "      <td>Lionel Andrés Messi Cuccittini</td>\n",
       "      <td>https://cdn.sofifa.com/players/158/023/21_120.png</td>\n",
       "      <td>FC Barcelona, Argentina</td>\n",
       "      <td>Spain Primera Division</td>\n",
       "      <td>2021.0</td>\n",
       "      <td>['RW', 'ST', 'CF']</td>\n",
       "      <td>33</td>\n",
       "      <td>170</td>\n",
       "      <td>72</td>\n",
       "      <td>93</td>\n",
       "      <td>...</td>\n",
       "      <td>32</td>\n",
       "      <td>35</td>\n",
       "      <td>24</td>\n",
       "      <td>6</td>\n",
       "      <td>11</td>\n",
       "      <td>15</td>\n",
       "      <td>14</td>\n",
       "      <td>8</td>\n",
       "      <td>['Finesse Shot', 'Long Shot Taker (AI)', 'Spee...</td>\n",
       "      <td>['#Dribbler', '#Distance Shooter', '#FK Specia...</td>\n",
       "    </tr>\n",
       "    <tr>\n",
       "      <th>1</th>\n",
       "      <td>Cristiano Ronaldo dos Santos Aveiro</td>\n",
       "      <td>https://cdn.sofifa.com/players/020/801/21_120.png</td>\n",
       "      <td>Juventus, Portugal</td>\n",
       "      <td>Italian Serie A</td>\n",
       "      <td>2022.0</td>\n",
       "      <td>['ST', 'LW']</td>\n",
       "      <td>35</td>\n",
       "      <td>187</td>\n",
       "      <td>83</td>\n",
       "      <td>92</td>\n",
       "      <td>...</td>\n",
       "      <td>28</td>\n",
       "      <td>32</td>\n",
       "      <td>24</td>\n",
       "      <td>7</td>\n",
       "      <td>11</td>\n",
       "      <td>15</td>\n",
       "      <td>14</td>\n",
       "      <td>11</td>\n",
       "      <td>['Power Free-Kick', 'Flair', 'Long Shot Taker ...</td>\n",
       "      <td>['#Aerial Threat', '#Dribbler', '#Distance Sho...</td>\n",
       "    </tr>\n",
       "    <tr>\n",
       "      <th>2</th>\n",
       "      <td>Jan Oblak</td>\n",
       "      <td>https://cdn.sofifa.com/players/200/389/21_120.png</td>\n",
       "      <td>Atlético Madrid, Slovenia</td>\n",
       "      <td>Spain Primera Division</td>\n",
       "      <td>2023.0</td>\n",
       "      <td>['GK']</td>\n",
       "      <td>27</td>\n",
       "      <td>188</td>\n",
       "      <td>87</td>\n",
       "      <td>91</td>\n",
       "      <td>...</td>\n",
       "      <td>27</td>\n",
       "      <td>12</td>\n",
       "      <td>18</td>\n",
       "      <td>87</td>\n",
       "      <td>92</td>\n",
       "      <td>78</td>\n",
       "      <td>90</td>\n",
       "      <td>90</td>\n",
       "      <td>['GK Long Throw', 'Comes For Crosses']</td>\n",
       "      <td>[]</td>\n",
       "    </tr>\n",
       "    <tr>\n",
       "      <th>3</th>\n",
       "      <td>Kevin De Bruyne</td>\n",
       "      <td>https://cdn.sofifa.com/players/192/985/21_120.png</td>\n",
       "      <td>Manchester City, Belgium</td>\n",
       "      <td>English Premier League</td>\n",
       "      <td>2023.0</td>\n",
       "      <td>['CM', 'CAM']</td>\n",
       "      <td>29</td>\n",
       "      <td>181</td>\n",
       "      <td>70</td>\n",
       "      <td>91</td>\n",
       "      <td>...</td>\n",
       "      <td>68</td>\n",
       "      <td>65</td>\n",
       "      <td>53</td>\n",
       "      <td>15</td>\n",
       "      <td>13</td>\n",
       "      <td>5</td>\n",
       "      <td>10</td>\n",
       "      <td>13</td>\n",
       "      <td>['Injury Prone', 'Leadership', 'Early Crosser'...</td>\n",
       "      <td>['#Dribbler', '#Playmaker', '#Engine', '#Dista...</td>\n",
       "    </tr>\n",
       "    <tr>\n",
       "      <th>4</th>\n",
       "      <td>Neymar da Silva Santos Júnior</td>\n",
       "      <td>https://cdn.sofifa.com/players/190/871/21_120.png</td>\n",
       "      <td>Paris Saint-Germain</td>\n",
       "      <td>French Ligue 1</td>\n",
       "      <td>2022.0</td>\n",
       "      <td>['LW', 'CAM']</td>\n",
       "      <td>28</td>\n",
       "      <td>175</td>\n",
       "      <td>68</td>\n",
       "      <td>91</td>\n",
       "      <td>...</td>\n",
       "      <td>35</td>\n",
       "      <td>30</td>\n",
       "      <td>29</td>\n",
       "      <td>9</td>\n",
       "      <td>9</td>\n",
       "      <td>15</td>\n",
       "      <td>15</td>\n",
       "      <td>11</td>\n",
       "      <td>['Injury Prone', 'Flair', 'Speed Dribbler (AI)...</td>\n",
       "      <td>['#Speedster', '#Dribbler', '#Playmaker', '#FK...</td>\n",
       "    </tr>\n",
       "  </tbody>\n",
       "</table>\n",
       "<p>5 rows × 51 columns</p>\n",
       "</div>"
      ],
      "text/plain": [
       "                                  name  \\\n",
       "0       Lionel Andrés Messi Cuccittini   \n",
       "1  Cristiano Ronaldo dos Santos Aveiro   \n",
       "2                            Jan Oblak   \n",
       "3                      Kevin De Bruyne   \n",
       "4        Neymar da Silva Santos Júnior   \n",
       "\n",
       "                                           photo_url  \\\n",
       "0  https://cdn.sofifa.com/players/158/023/21_120.png   \n",
       "1  https://cdn.sofifa.com/players/020/801/21_120.png   \n",
       "2  https://cdn.sofifa.com/players/200/389/21_120.png   \n",
       "3  https://cdn.sofifa.com/players/192/985/21_120.png   \n",
       "4  https://cdn.sofifa.com/players/190/871/21_120.png   \n",
       "\n",
       "                       teams                  league  contract  \\\n",
       "0    FC Barcelona, Argentina  Spain Primera Division    2021.0   \n",
       "1         Juventus, Portugal         Italian Serie A    2022.0   \n",
       "2  Atlético Madrid, Slovenia  Spain Primera Division    2023.0   \n",
       "3   Manchester City, Belgium  English Premier League    2023.0   \n",
       "4        Paris Saint-Germain          French Ligue 1    2022.0   \n",
       "\n",
       "            positions  age  height  weight  Overall Rating  ...  \\\n",
       "0  ['RW', 'ST', 'CF']   33     170      72              93  ...   \n",
       "1        ['ST', 'LW']   35     187      83              92  ...   \n",
       "2              ['GK']   27     188      87              91  ...   \n",
       "3       ['CM', 'CAM']   29     181      70              91  ...   \n",
       "4       ['LW', 'CAM']   28     175      68              91  ...   \n",
       "\n",
       "   DefensiveAwareness  StandingTackle  SlidingTackle  GKDiving GKHandling  \\\n",
       "0                  32              35             24         6         11   \n",
       "1                  28              32             24         7         11   \n",
       "2                  27              12             18        87         92   \n",
       "3                  68              65             53        15         13   \n",
       "4                  35              30             29         9          9   \n",
       "\n",
       "   GKKicking  GKPositioning  GKReflexes  \\\n",
       "0         15             14           8   \n",
       "1         15             14          11   \n",
       "2         78             90          90   \n",
       "3          5             10          13   \n",
       "4         15             15          11   \n",
       "\n",
       "                                       player_traits  \\\n",
       "0  ['Finesse Shot', 'Long Shot Taker (AI)', 'Spee...   \n",
       "1  ['Power Free-Kick', 'Flair', 'Long Shot Taker ...   \n",
       "2             ['GK Long Throw', 'Comes For Crosses']   \n",
       "3  ['Injury Prone', 'Leadership', 'Early Crosser'...   \n",
       "4  ['Injury Prone', 'Flair', 'Speed Dribbler (AI)...   \n",
       "\n",
       "                                     player_hashtags  \n",
       "0  ['#Dribbler', '#Distance Shooter', '#FK Specia...  \n",
       "1  ['#Aerial Threat', '#Dribbler', '#Distance Sho...  \n",
       "2                                                 []  \n",
       "3  ['#Dribbler', '#Playmaker', '#Engine', '#Dista...  \n",
       "4  ['#Speedster', '#Dribbler', '#Playmaker', '#FK...  \n",
       "\n",
       "[5 rows x 51 columns]"
      ]
     },
     "execution_count": 7,
     "metadata": {},
     "output_type": "execute_result"
    }
   ],
   "source": [
    "df_fifa20.head(5)"
   ]
  },
  {
   "cell_type": "markdown",
   "metadata": {
    "heading_collapsed": true,
    "hidden": true
   },
   "source": [
    "## Gardons uniquement les joueurs de niveau supérieur (>76 général)"
   ]
  },
  {
   "cell_type": "code",
   "execution_count": 8,
   "metadata": {
    "hidden": true
   },
   "outputs": [
    {
     "name": "stderr",
     "output_type": "stream",
     "text": [
      "2022-03-08 02:01:40.053 INFO    numexpr.utils: NumExpr defaulting to 8 threads.\n"
     ]
    }
   ],
   "source": [
    "df=df[df['Overall']>76]"
   ]
  },
  {
   "cell_type": "markdown",
   "metadata": {
    "heading_collapsed": true,
    "hidden": true
   },
   "source": [
    "## Sélection de la donnée "
   ]
  },
  {
   "cell_type": "code",
   "execution_count": 9,
   "metadata": {
    "hidden": true
   },
   "outputs": [],
   "source": [
    "#Colonnes communes entre fifa 22 et fifa 20\n",
    "cols_to_keep=list(set(df.columns).intersection(df_fifa20.columns))"
   ]
  },
  {
   "cell_type": "code",
   "execution_count": 10,
   "metadata": {
    "hidden": true,
    "scrolled": true
   },
   "outputs": [
    {
     "data": {
      "text/plain": [
       "['Volleys',\n",
       " 'Balance',\n",
       " 'Wage',\n",
       " 'Curve',\n",
       " 'Value',\n",
       " 'SlidingTackle',\n",
       " 'GKReflexes',\n",
       " 'Acceleration',\n",
       " 'Crossing',\n",
       " 'Vision',\n",
       " 'Jumping',\n",
       " 'Dribbling',\n",
       " 'Preferred Foot',\n",
       " 'HeadingAccuracy',\n",
       " 'Interceptions',\n",
       " 'ShotPower',\n",
       " 'FKAccuracy',\n",
       " 'Penalties',\n",
       " 'Aggression',\n",
       " 'SprintSpeed',\n",
       " 'Positioning',\n",
       " 'Agility',\n",
       " 'GKKicking',\n",
       " 'Strength',\n",
       " 'Finishing',\n",
       " 'Potential',\n",
       " 'Release Clause',\n",
       " 'GKPositioning',\n",
       " 'ShortPassing',\n",
       " 'DefensiveAwareness',\n",
       " 'GKHandling',\n",
       " 'Composure',\n",
       " 'LongShots',\n",
       " 'StandingTackle',\n",
       " 'GKDiving',\n",
       " 'Reactions',\n",
       " 'Stamina',\n",
       " 'BallControl',\n",
       " 'LongPassing']"
      ]
     },
     "execution_count": 10,
     "metadata": {},
     "output_type": "execute_result"
    }
   ],
   "source": [
    "cols_to_keep"
   ]
  },
  {
   "cell_type": "code",
   "execution_count": 11,
   "metadata": {
    "hidden": true
   },
   "outputs": [
    {
     "data": {
      "text/plain": [
       "Index(['name', 'photo_url', 'teams', 'league', 'contract', 'positions', 'age',\n",
       "       'height', 'weight', 'Overall Rating', 'Potential', 'Value', 'Wage',\n",
       "       'Release Clause', 'Preferred Foot', 'Crossing', 'Finishing',\n",
       "       'HeadingAccuracy', 'ShortPassing', 'Volleys', 'Dribbling', 'Curve',\n",
       "       'FKAccuracy', 'LongPassing', 'BallControl', 'Acceleration',\n",
       "       'SprintSpeed', 'Agility', 'Reactions', 'Balance', 'ShotPower',\n",
       "       'Jumping', 'Stamina', 'Strength', 'LongShots', 'Aggression',\n",
       "       'Interceptions', 'Positioning', 'Vision', 'Penalties', 'Composure',\n",
       "       'DefensiveAwareness', 'StandingTackle', 'SlidingTackle', 'GKDiving',\n",
       "       'GKHandling', 'GKKicking', 'GKPositioning', 'GKReflexes',\n",
       "       'player_traits', 'player_hashtags'],\n",
       "      dtype='object')"
      ]
     },
     "execution_count": 11,
     "metadata": {},
     "output_type": "execute_result"
    }
   ],
   "source": [
    "df_fifa20.columns # fifa 20"
   ]
  },
  {
   "cell_type": "code",
   "execution_count": 12,
   "metadata": {
    "hidden": true,
    "scrolled": true
   },
   "outputs": [
    {
     "data": {
      "text/plain": [
       "Index(['ID', 'Name', 'Age', 'Photo', 'Nationality', 'Flag', 'Overall',\n",
       "       'Potential', 'Club', 'Club Logo', 'Value', 'Wage', 'Special',\n",
       "       'Preferred Foot', 'International Reputation', 'Weak Foot',\n",
       "       'Skill Moves', 'Work Rate', 'Body Type', 'Real Face', 'Position',\n",
       "       'Jersey Number', 'Joined', 'Loaned From', 'Contract Valid Until',\n",
       "       'Height', 'Weight', 'Crossing', 'Finishing', 'HeadingAccuracy',\n",
       "       'ShortPassing', 'Volleys', 'Dribbling', 'Curve', 'FKAccuracy',\n",
       "       'LongPassing', 'BallControl', 'Acceleration', 'SprintSpeed', 'Agility',\n",
       "       'Reactions', 'Balance', 'ShotPower', 'Jumping', 'Stamina', 'Strength',\n",
       "       'LongShots', 'Aggression', 'Interceptions', 'Positioning', 'Vision',\n",
       "       'Penalties', 'Composure', 'Marking', 'StandingTackle', 'SlidingTackle',\n",
       "       'GKDiving', 'GKHandling', 'GKKicking', 'GKPositioning', 'GKReflexes',\n",
       "       'Best Position', 'Best Overall Rating', 'Release Clause',\n",
       "       'DefensiveAwareness'],\n",
       "      dtype='object')"
      ]
     },
     "execution_count": 12,
     "metadata": {},
     "output_type": "execute_result"
    }
   ],
   "source": [
    "df.columns # fifa 22"
   ]
  },
  {
   "cell_type": "code",
   "execution_count": 13,
   "metadata": {
    "hidden": true,
    "scrolled": true
   },
   "outputs": [
    {
     "name": "stdout",
     "output_type": "stream",
     "text": [
      "name : Cristiano Ronaldo dos Santos Aveiro\n",
      "photo_url : https://cdn.sofifa.com/players/020/801/21_120.png\n",
      "teams : Juventus, Portugal\n",
      "league : Italian Serie A\n",
      "contract : 2022.0\n",
      "positions : ['ST', 'LW']\n",
      "age : 35\n",
      "height : 187\n",
      "weight : 83\n",
      "Overall Rating : 92\n",
      "player_traits : ['Power Free-Kick', 'Flair', 'Long Shot Taker (AI)', 'Speed Dribbler (AI)', 'Outside Foot Shot']\n",
      "player_hashtags : ['#Aerial Threat', '#Dribbler', '#Distance Shooter', '#Acrobat', '#Clinical Finisher', '#Complete Forward']\n"
     ]
    }
   ],
   "source": [
    "# Colonnes de fifa 20 qui ne sont pas dans le dataset fifa 22 (exemple sur Cristiano Ronaldo)\n",
    "col_names=[]\n",
    "for x in df_fifa20.columns:\n",
    "    if x not in cols_to_keep:\n",
    "        col_names.append(x)\n",
    "for i in col_names:\n",
    "    print(str(i)+\" : \"+str(df_fifa20.loc[1][i]))      "
   ]
  },
  {
   "cell_type": "code",
   "execution_count": 14,
   "metadata": {
    "hidden": true,
    "scrolled": true
   },
   "outputs": [
    {
     "name": "stdout",
     "output_type": "stream",
     "text": [
      "ID : 209658\n",
      "Name : L. Goretzka\n",
      "Age : 26\n",
      "Photo : https://cdn.sofifa.com/players/209/658/22_60.png\n",
      "Nationality : Germany\n",
      "Flag : https://cdn.sofifa.com/flags/de.png\n",
      "Overall : 87\n",
      "Club : FC Bayern München\n",
      "Club Logo : https://cdn.sofifa.com/teams/21/30.png\n",
      "Special : 2314\n",
      "International Reputation : 4.0\n",
      "Weak Foot : 4.0\n",
      "Skill Moves : 3.0\n",
      "Work Rate : High/ Medium\n",
      "Body Type : Unique\n",
      "Real Face : Yes\n",
      "Position : <span class=\"pos pos11\">LDM\n",
      "Jersey Number : 8.0\n",
      "Joined : Jul 1, 2018\n",
      "Loaned From : nan\n",
      "Contract Valid Until : 2026\n",
      "Height : 189cm\n",
      "Weight : 82kg\n",
      "Marking : nan\n",
      "Best Position : CM\n",
      "Best Overall Rating : 87.0\n"
     ]
    }
   ],
   "source": [
    "# Colonnes de fifa 22 qui ne sont pas dans fifa 20\n",
    "col_names=[]\n",
    "for x in df.columns:\n",
    "    if x not in cols_to_keep:\n",
    "        col_names.append(x)\n",
    "for i in col_names:\n",
    "    print(str(i)+\" : \"+str(df.loc[1][i]))      "
   ]
  },
  {
   "cell_type": "code",
   "execution_count": 15,
   "metadata": {
    "hidden": true,
    "scrolled": true
   },
   "outputs": [
    {
     "name": "stdout",
     "output_type": "stream",
     "text": [
      "ID : 187961\n",
      "Name : Paulinho\n",
      "Age : 32\n",
      "Photo : https://cdn.sofifa.com/players/187/961/22_60.png\n",
      "Nationality : Brazil\n",
      "Flag : https://cdn.sofifa.com/flags/br.png\n",
      "Overall : 83\n",
      "Potential : 83\n",
      "Club : Al Ahli\n",
      "Club Logo : https://cdn.sofifa.com/teams/112387/30.png\n",
      "Value : €28.5M\n",
      "Wage : €61K\n",
      "Special : 2273\n",
      "Preferred Foot : Right\n",
      "International Reputation : 3.0\n",
      "Weak Foot : 4.0\n",
      "Skill Moves : 4.0\n",
      "Work Rate : High/ High\n",
      "Body Type : Normal (170-185)\n",
      "Real Face : Yes\n",
      "Position : <span class=\"pos pos15\">LCM\n",
      "Jersey Number : 15.0\n",
      "Joined : Jul 22, 2021\n",
      "Loaned From : nan\n",
      "Contract Valid Until : 2024\n",
      "Height : 183cm\n",
      "Weight : 80kg\n",
      "Crossing : 67.0\n",
      "Finishing : 83.0\n",
      "HeadingAccuracy : 85.0\n",
      "ShortPassing : 82.0\n",
      "Volleys : 75.0\n",
      "Dribbling : 82.0\n",
      "Curve : 66.0\n",
      "FKAccuracy : 75.0\n",
      "LongPassing : 76.0\n",
      "BallControl : 83.0\n",
      "Acceleration : 73.0\n",
      "SprintSpeed : 71.0\n",
      "Agility : 72.0\n",
      "Reactions : 82.0\n",
      "Balance : 85.0\n",
      "ShotPower : 83.0\n",
      "Jumping : 92.0\n",
      "Stamina : 91.0\n",
      "Strength : 82.0\n",
      "LongShots : 80.0\n",
      "Aggression : 81.0\n",
      "Interceptions : 80.0\n",
      "Positioning : 83.0\n",
      "Vision : 82.0\n",
      "Penalties : 71.0\n",
      "Composure : 81.0\n",
      "Marking : nan\n",
      "StandingTackle : 79.0\n",
      "SlidingTackle : 75.0\n",
      "GKDiving : 16.0\n",
      "GKHandling : 16.0\n",
      "GKKicking : 11.0\n",
      "GKPositioning : 6.0\n",
      "GKReflexes : 8.0\n",
      "Best Position : CM\n",
      "Best Overall Rating : 83.0\n",
      "Release Clause : €48.5M\n",
      "DefensiveAwareness : 80.0\n"
     ]
    }
   ],
   "source": [
    "# Affichage des colonnes et valeurs pour une ligne dans fifa 22\n",
    "col_names=[]\n",
    "for x in df.columns:\n",
    "    col_names.append(x)\n",
    "    index=0\n",
    "for i in (df.loc[6]):\n",
    "    print(str(col_names[index])+\" : \"+str(i))\n",
    "    index+=1"
   ]
  },
  {
   "cell_type": "code",
   "execution_count": 16,
   "metadata": {
    "hidden": true
   },
   "outputs": [],
   "source": [
    "# Ajout des colonnes intéressantes qui ne sont pas en commun entre fifa 20 et 22\n",
    "index=0\n",
    "for i in ['Name', 'Age', 'Photo', 'Nationality',\"Best Position\",'Flag','Club','Club Logo','Jersey Number','Overall','Height','Weight']:\n",
    "    cols_to_keep.insert(index,i)\n",
    "    index+=1"
   ]
  },
  {
   "cell_type": "code",
   "execution_count": 17,
   "metadata": {
    "hidden": true,
    "scrolled": true
   },
   "outputs": [
    {
     "data": {
      "text/plain": [
       "['Name',\n",
       " 'Age',\n",
       " 'Photo',\n",
       " 'Nationality',\n",
       " 'Best Position',\n",
       " 'Flag',\n",
       " 'Club',\n",
       " 'Club Logo',\n",
       " 'Jersey Number',\n",
       " 'Overall',\n",
       " 'Height',\n",
       " 'Weight',\n",
       " 'Volleys',\n",
       " 'Balance',\n",
       " 'Wage',\n",
       " 'Curve',\n",
       " 'Value',\n",
       " 'SlidingTackle',\n",
       " 'GKReflexes',\n",
       " 'Acceleration',\n",
       " 'Crossing',\n",
       " 'Vision',\n",
       " 'Jumping',\n",
       " 'Dribbling',\n",
       " 'Preferred Foot',\n",
       " 'HeadingAccuracy',\n",
       " 'Interceptions',\n",
       " 'ShotPower',\n",
       " 'FKAccuracy',\n",
       " 'Penalties',\n",
       " 'Aggression',\n",
       " 'SprintSpeed',\n",
       " 'Positioning',\n",
       " 'Agility',\n",
       " 'GKKicking',\n",
       " 'Strength',\n",
       " 'Finishing',\n",
       " 'Potential',\n",
       " 'Release Clause',\n",
       " 'GKPositioning',\n",
       " 'ShortPassing',\n",
       " 'DefensiveAwareness',\n",
       " 'GKHandling',\n",
       " 'Composure',\n",
       " 'LongShots',\n",
       " 'StandingTackle',\n",
       " 'GKDiving',\n",
       " 'Reactions',\n",
       " 'Stamina',\n",
       " 'BallControl',\n",
       " 'LongPassing']"
      ]
     },
     "execution_count": 17,
     "metadata": {},
     "output_type": "execute_result"
    }
   ],
   "source": [
    "# Colonne gardées\n",
    "cols_to_keep"
   ]
  },
  {
   "cell_type": "markdown",
   "metadata": {
    "heading_collapsed": true,
    "hidden": true
   },
   "source": [
    "## Création nouveau dataframe"
   ]
  },
  {
   "cell_type": "code",
   "execution_count": 18,
   "metadata": {
    "hidden": true,
    "scrolled": true
   },
   "outputs": [],
   "source": [
    "df=df[cols_to_keep]"
   ]
  },
  {
   "cell_type": "code",
   "execution_count": 19,
   "metadata": {
    "hidden": true
   },
   "outputs": [],
   "source": [
    "#df.to_csv('df_final.csv')"
   ]
  },
  {
   "cell_type": "markdown",
   "metadata": {
    "heading_collapsed": true
   },
   "source": [
    "# Data processing "
   ]
  },
  {
   "cell_type": "markdown",
   "metadata": {
    "hidden": true
   },
   "source": [
    "## Encoder les clubs et pays\n"
   ]
  },
  {
   "cell_type": "code",
   "execution_count": 20,
   "metadata": {
    "hidden": true,
    "scrolled": true
   },
   "outputs": [],
   "source": [
    "df['Club_cat']=df['Club'].astype('category').cat.codes"
   ]
  },
  {
   "cell_type": "code",
   "execution_count": 21,
   "metadata": {
    "hidden": true
   },
   "outputs": [],
   "source": [
    "df['Nationality_cat']=df['Nationality'].astype('category').cat.codes"
   ]
  },
  {
   "cell_type": "code",
   "execution_count": 22,
   "metadata": {
    "hidden": true
   },
   "outputs": [
    {
     "data": {
      "text/plain": [
       "217"
      ]
     },
     "execution_count": 22,
     "metadata": {},
     "output_type": "execute_result"
    }
   ],
   "source": [
    "#Nombre de clubs différents\n",
    "len(df['Club'].unique())"
   ]
  },
  {
   "cell_type": "markdown",
   "metadata": {
    "hidden": true
   },
   "source": [
    "## Process le format prix"
   ]
  },
  {
   "cell_type": "code",
   "execution_count": 23,
   "metadata": {
    "hidden": true,
    "scrolled": true
   },
   "outputs": [
    {
     "data": {
      "text/plain": [
       "Name                   object\n",
       "Age                     int64\n",
       "Photo                  object\n",
       "Nationality            object\n",
       "Best Position          object\n",
       "Flag                   object\n",
       "Club                   object\n",
       "Club Logo              object\n",
       "Jersey Number         float64\n",
       "Overall                 int64\n",
       "Height                 object\n",
       "Weight                 object\n",
       "Volleys               float64\n",
       "Balance               float64\n",
       "Wage                   object\n",
       "Curve                 float64\n",
       "Value                  object\n",
       "SlidingTackle         float64\n",
       "GKReflexes            float64\n",
       "Acceleration          float64\n",
       "Crossing              float64\n",
       "Vision                float64\n",
       "Jumping               float64\n",
       "Dribbling             float64\n",
       "Preferred Foot         object\n",
       "HeadingAccuracy       float64\n",
       "Interceptions         float64\n",
       "ShotPower             float64\n",
       "FKAccuracy            float64\n",
       "Penalties             float64\n",
       "Aggression            float64\n",
       "SprintSpeed           float64\n",
       "Positioning           float64\n",
       "Agility               float64\n",
       "GKKicking             float64\n",
       "Strength              float64\n",
       "Finishing             float64\n",
       "Potential               int64\n",
       "Release Clause         object\n",
       "GKPositioning         float64\n",
       "ShortPassing          float64\n",
       "DefensiveAwareness    float64\n",
       "GKHandling            float64\n",
       "Composure             float64\n",
       "LongShots             float64\n",
       "StandingTackle        float64\n",
       "GKDiving              float64\n",
       "Reactions             float64\n",
       "Stamina               float64\n",
       "BallControl           float64\n",
       "LongPassing           float64\n",
       "Club_cat                int16\n",
       "Nationality_cat          int8\n",
       "dtype: object"
      ]
     },
     "execution_count": 23,
     "metadata": {},
     "output_type": "execute_result"
    }
   ],
   "source": [
    "df.dtypes"
   ]
  },
  {
   "cell_type": "code",
   "execution_count": 24,
   "metadata": {
    "hidden": true
   },
   "outputs": [],
   "source": [
    "def value_to_float(x):\n",
    "    if type(x) == float or type(x) == int:\n",
    "        return x\n",
    "    if 'K' in x:\n",
    "        if len(x) > 1:\n",
    "            return float(x.replace('K', '')) * 1000\n",
    "        return 1000.0\n",
    "    if 'M' in x:\n",
    "        if len(x) > 1:\n",
    "            return float(x.replace('M', '')) * 1000000\n",
    "        return 1000000.0\n",
    "    if 'B' in x:\n",
    "        return float(x.replace('B', '')) * 1000000000\n",
    "    return x"
   ]
  },
  {
   "cell_type": "code",
   "execution_count": 25,
   "metadata": {
    "hidden": true,
    "scrolled": false
   },
   "outputs": [],
   "source": [
    "df['Wage']=df['Wage'].str.replace('€', '').apply(value_to_float)"
   ]
  },
  {
   "cell_type": "code",
   "execution_count": 26,
   "metadata": {
    "hidden": true
   },
   "outputs": [],
   "source": [
    "df['Value']=df['Value'].str.replace('€', '').apply(value_to_float)"
   ]
  },
  {
   "cell_type": "code",
   "execution_count": 27,
   "metadata": {
    "hidden": true
   },
   "outputs": [],
   "source": [
    "df['Height']=df['Height'].str.replace('[dA-Za-z]', '').astype('int')"
   ]
  },
  {
   "cell_type": "code",
   "execution_count": 28,
   "metadata": {
    "hidden": true
   },
   "outputs": [],
   "source": [
    "df['Weight']=df['Weight'].str.replace('[dA-Za-z]', '').astype('int')"
   ]
  },
  {
   "cell_type": "code",
   "execution_count": 29,
   "metadata": {
    "hidden": true
   },
   "outputs": [],
   "source": [
    "#rename Value en value in M€ and wage in wage in \n",
    "df=df.rename(columns={\"Value\": \"Value (€)\", \"Wage\": \"Wage (€)\"})"
   ]
  },
  {
   "cell_type": "code",
   "execution_count": 30,
   "metadata": {
    "hidden": true
   },
   "outputs": [],
   "source": [
    "df['Value (€)']=df['Value (€)'].astype('int64')\n",
    "df['Wage (€)']=df['Wage (€)'].astype('int64')\n",
    "df=df[~df['Name'].str.contains(r'\\d')]"
   ]
  },
  {
   "cell_type": "markdown",
   "metadata": {},
   "source": [
    "# Data Exploration"
   ]
  },
  {
   "cell_type": "markdown",
   "metadata": {
    "heading_collapsed": true
   },
   "source": [
    "## Taux de remplissage des colonnes"
   ]
  },
  {
   "cell_type": "code",
   "execution_count": 31,
   "metadata": {
    "hidden": true
   },
   "outputs": [
    {
     "name": "stdout",
     "output_type": "stream",
     "text": [
      "The DataFrame contains 1138 lines and 53 columns.\n"
     ]
    }
   ],
   "source": [
    "print('The DataFrame contains {} lines and {} columns.'.format(df.shape[0],df.shape[1]))"
   ]
  },
  {
   "cell_type": "code",
   "execution_count": 32,
   "metadata": {
    "hidden": true,
    "scrolled": true
   },
   "outputs": [
    {
     "name": "stdout",
     "output_type": "stream",
     "text": [
      "Pourcentage de valeurs Null > 0.5 % par colonne :\n",
      "\n",
      "\n",
      "Nombre colonnes ayant plus de 0.5 % de valeurs nulles : 0\n",
      "Les 53 autres colonnes sont remplies à plus de 99.5%\n"
     ]
    }
   ],
   "source": [
    "seuil=0.5\n",
    "print('Pourcentage de valeurs Null > {} % par colonne :\\n'.format(seuil))\n",
    "i=0\n",
    "\n",
    "col_to_check = []\n",
    "\n",
    "for col in df.columns:\n",
    "    res = (df[col].isnull().sum() / len(df)) * 100\n",
    "    res = round(res,2)\n",
    "    if col =='Best Position': # car STR\n",
    "        break\n",
    "    if res > 0.5:\n",
    "        col_to_check.append(col)\n",
    "        i += 1\n",
    "        print(f'   - {col} : {res}%')\n",
    "        \n",
    "print(\"\\nNombre colonnes ayant plus de {} % de valeurs nulles : {}\" .format(seuil,i))\n",
    "print('Les {} autres colonnes sont remplies à plus de {}%'.format(df.shape[1]-len(col_to_check),100-seuil))"
   ]
  },
  {
   "cell_type": "markdown",
   "metadata": {},
   "source": [
    "## Exploration de la donnée selon la nationalité\n"
   ]
  },
  {
   "cell_type": "markdown",
   "metadata": {},
   "source": [
    "### Le joueur le plus cher de chaque pays parmi les 100 joueurs les plus chers"
   ]
  },
  {
   "cell_type": "code",
   "execution_count": 33,
   "metadata": {},
   "outputs": [],
   "source": [
    "top100_valuable_players=df.sort_values('Value (€)',ascending=False).head(200)"
   ]
  },
  {
   "cell_type": "code",
   "execution_count": 34,
   "metadata": {},
   "outputs": [
    {
     "data": {
      "text/html": [
       "<div>\n",
       "<style scoped>\n",
       "    .dataframe tbody tr th:only-of-type {\n",
       "        vertical-align: middle;\n",
       "    }\n",
       "\n",
       "    .dataframe tbody tr th {\n",
       "        vertical-align: top;\n",
       "    }\n",
       "\n",
       "    .dataframe thead th {\n",
       "        text-align: right;\n",
       "    }\n",
       "</style>\n",
       "<table border=\"1\" class=\"dataframe\">\n",
       "  <thead>\n",
       "    <tr style=\"text-align: right;\">\n",
       "      <th></th>\n",
       "      <th>Name</th>\n",
       "      <th>Age</th>\n",
       "      <th>Photo</th>\n",
       "      <th>Nationality</th>\n",
       "      <th>Best Position</th>\n",
       "      <th>Flag</th>\n",
       "      <th>Club</th>\n",
       "      <th>Club Logo</th>\n",
       "      <th>Jersey Number</th>\n",
       "      <th>Overall</th>\n",
       "      <th>...</th>\n",
       "      <th>Composure</th>\n",
       "      <th>LongShots</th>\n",
       "      <th>StandingTackle</th>\n",
       "      <th>GKDiving</th>\n",
       "      <th>Reactions</th>\n",
       "      <th>Stamina</th>\n",
       "      <th>BallControl</th>\n",
       "      <th>LongPassing</th>\n",
       "      <th>Club_cat</th>\n",
       "      <th>Nationality_cat</th>\n",
       "    </tr>\n",
       "  </thead>\n",
       "  <tbody>\n",
       "    <tr>\n",
       "      <th>82</th>\n",
       "      <td>K. Mbappe</td>\n",
       "      <td>22</td>\n",
       "      <td>https://cdn.sofifa.com/players/231/747/22_60.png</td>\n",
       "      <td>France</td>\n",
       "      <td>ST</td>\n",
       "      <td>https://cdn.sofifa.com/flags/fr.png</td>\n",
       "      <td>Paris Saint-Germain</td>\n",
       "      <td>https://cdn.sofifa.com/teams/73/30.png</td>\n",
       "      <td>7.0</td>\n",
       "      <td>91</td>\n",
       "      <td>...</td>\n",
       "      <td>88.0</td>\n",
       "      <td>82.0</td>\n",
       "      <td>34.0</td>\n",
       "      <td>13.0</td>\n",
       "      <td>93.0</td>\n",
       "      <td>88.0</td>\n",
       "      <td>91.0</td>\n",
       "      <td>71.0</td>\n",
       "      <td>138</td>\n",
       "      <td>29</td>\n",
       "    </tr>\n",
       "    <tr>\n",
       "      <th>251</th>\n",
       "      <td>E. Haaland</td>\n",
       "      <td>20</td>\n",
       "      <td>https://cdn.sofifa.com/players/239/085/22_60.png</td>\n",
       "      <td>Norway</td>\n",
       "      <td>ST</td>\n",
       "      <td>https://cdn.sofifa.com/flags/no.png</td>\n",
       "      <td>Borussia Dortmund</td>\n",
       "      <td>https://cdn.sofifa.com/teams/22/30.png</td>\n",
       "      <td>9.0</td>\n",
       "      <td>88</td>\n",
       "      <td>...</td>\n",
       "      <td>84.0</td>\n",
       "      <td>87.0</td>\n",
       "      <td>43.0</td>\n",
       "      <td>7.0</td>\n",
       "      <td>88.0</td>\n",
       "      <td>82.0</td>\n",
       "      <td>85.0</td>\n",
       "      <td>51.0</td>\n",
       "      <td>31</td>\n",
       "      <td>55</td>\n",
       "    </tr>\n",
       "    <tr>\n",
       "      <th>39</th>\n",
       "      <td>H. Kane</td>\n",
       "      <td>27</td>\n",
       "      <td>https://cdn.sofifa.com/players/202/126/22_60.png</td>\n",
       "      <td>England</td>\n",
       "      <td>ST</td>\n",
       "      <td>https://cdn.sofifa.com/flags/gb-eng.png</td>\n",
       "      <td>Tottenham Hotspur</td>\n",
       "      <td>https://cdn.sofifa.com/teams/18/30.png</td>\n",
       "      <td>10.0</td>\n",
       "      <td>90</td>\n",
       "      <td>...</td>\n",
       "      <td>91.0</td>\n",
       "      <td>86.0</td>\n",
       "      <td>36.0</td>\n",
       "      <td>8.0</td>\n",
       "      <td>92.0</td>\n",
       "      <td>83.0</td>\n",
       "      <td>85.0</td>\n",
       "      <td>86.0</td>\n",
       "      <td>194</td>\n",
       "      <td>27</td>\n",
       "    </tr>\n",
       "    <tr>\n",
       "      <th>64</th>\n",
       "      <td>Neymar Jr</td>\n",
       "      <td>29</td>\n",
       "      <td>https://cdn.sofifa.com/players/190/871/22_60.png</td>\n",
       "      <td>Brazil</td>\n",
       "      <td>LW</td>\n",
       "      <td>https://cdn.sofifa.com/flags/br.png</td>\n",
       "      <td>Paris Saint-Germain</td>\n",
       "      <td>https://cdn.sofifa.com/teams/73/30.png</td>\n",
       "      <td>10.0</td>\n",
       "      <td>91</td>\n",
       "      <td>...</td>\n",
       "      <td>93.0</td>\n",
       "      <td>81.0</td>\n",
       "      <td>32.0</td>\n",
       "      <td>9.0</td>\n",
       "      <td>89.0</td>\n",
       "      <td>81.0</td>\n",
       "      <td>95.0</td>\n",
       "      <td>81.0</td>\n",
       "      <td>138</td>\n",
       "      <td>9</td>\n",
       "    </tr>\n",
       "    <tr>\n",
       "      <th>3</th>\n",
       "      <td>K. De Bruyne</td>\n",
       "      <td>30</td>\n",
       "      <td>https://cdn.sofifa.com/players/192/985/22_60.png</td>\n",
       "      <td>Belgium</td>\n",
       "      <td>CM</td>\n",
       "      <td>https://cdn.sofifa.com/flags/be.png</td>\n",
       "      <td>Manchester City</td>\n",
       "      <td>https://cdn.sofifa.com/teams/10/30.png</td>\n",
       "      <td>17.0</td>\n",
       "      <td>91</td>\n",
       "      <td>...</td>\n",
       "      <td>89.0</td>\n",
       "      <td>91.0</td>\n",
       "      <td>65.0</td>\n",
       "      <td>15.0</td>\n",
       "      <td>91.0</td>\n",
       "      <td>89.0</td>\n",
       "      <td>91.0</td>\n",
       "      <td>93.0</td>\n",
       "      <td>118</td>\n",
       "      <td>7</td>\n",
       "    </tr>\n",
       "    <tr>\n",
       "      <th>...</th>\n",
       "      <td>...</td>\n",
       "      <td>...</td>\n",
       "      <td>...</td>\n",
       "      <td>...</td>\n",
       "      <td>...</td>\n",
       "      <td>...</td>\n",
       "      <td>...</td>\n",
       "      <td>...</td>\n",
       "      <td>...</td>\n",
       "      <td>...</td>\n",
       "      <td>...</td>\n",
       "      <td>...</td>\n",
       "      <td>...</td>\n",
       "      <td>...</td>\n",
       "      <td>...</td>\n",
       "      <td>...</td>\n",
       "      <td>...</td>\n",
       "      <td>...</td>\n",
       "      <td>...</td>\n",
       "      <td>...</td>\n",
       "      <td>...</td>\n",
       "    </tr>\n",
       "    <tr>\n",
       "      <th>264</th>\n",
       "      <td>Ronaldo Cabrais</td>\n",
       "      <td>29</td>\n",
       "      <td>https://cdn.sofifa.com/players/230/481/22_60.png</td>\n",
       "      <td>Brazil</td>\n",
       "      <td>RM</td>\n",
       "      <td>https://cdn.sofifa.com/flags/br.png</td>\n",
       "      <td>Grêmio</td>\n",
       "      <td>https://cdn.sofifa.com/teams/1629/30.png</td>\n",
       "      <td>7.0</td>\n",
       "      <td>83</td>\n",
       "      <td>...</td>\n",
       "      <td>81.0</td>\n",
       "      <td>78.0</td>\n",
       "      <td>35.0</td>\n",
       "      <td>12.0</td>\n",
       "      <td>84.0</td>\n",
       "      <td>88.0</td>\n",
       "      <td>83.0</td>\n",
       "      <td>82.0</td>\n",
       "      <td>95</td>\n",
       "      <td>9</td>\n",
       "    </tr>\n",
       "    <tr>\n",
       "      <th>464</th>\n",
       "      <td>A. Kramaric</td>\n",
       "      <td>30</td>\n",
       "      <td>https://cdn.sofifa.com/players/216/354/22_60.png</td>\n",
       "      <td>Croatia</td>\n",
       "      <td>ST</td>\n",
       "      <td>https://cdn.sofifa.com/flags/hr.png</td>\n",
       "      <td>TSG Hoffenheim</td>\n",
       "      <td>https://cdn.sofifa.com/teams/10029/30.png</td>\n",
       "      <td>27.0</td>\n",
       "      <td>83</td>\n",
       "      <td>...</td>\n",
       "      <td>83.0</td>\n",
       "      <td>85.0</td>\n",
       "      <td>20.0</td>\n",
       "      <td>8.0</td>\n",
       "      <td>84.0</td>\n",
       "      <td>76.0</td>\n",
       "      <td>86.0</td>\n",
       "      <td>63.0</td>\n",
       "      <td>189</td>\n",
       "      <td>21</td>\n",
       "    </tr>\n",
       "    <tr>\n",
       "      <th>853</th>\n",
       "      <td>Mario Hermoso</td>\n",
       "      <td>26</td>\n",
       "      <td>https://cdn.sofifa.com/players/229/668/22_60.png</td>\n",
       "      <td>Spain</td>\n",
       "      <td>CB</td>\n",
       "      <td>https://cdn.sofifa.com/flags/es.png</td>\n",
       "      <td>Atlético de Madrid</td>\n",
       "      <td>https://cdn.sofifa.com/teams/240/30.png</td>\n",
       "      <td>22.0</td>\n",
       "      <td>82</td>\n",
       "      <td>...</td>\n",
       "      <td>79.0</td>\n",
       "      <td>46.0</td>\n",
       "      <td>84.0</td>\n",
       "      <td>13.0</td>\n",
       "      <td>82.0</td>\n",
       "      <td>77.0</td>\n",
       "      <td>75.0</td>\n",
       "      <td>77.0</td>\n",
       "      <td>24</td>\n",
       "      <td>68</td>\n",
       "    </tr>\n",
       "    <tr>\n",
       "      <th>13</th>\n",
       "      <td>D. Alaba</td>\n",
       "      <td>29</td>\n",
       "      <td>https://cdn.sofifa.com/players/197/445/22_60.png</td>\n",
       "      <td>Austria</td>\n",
       "      <td>CB</td>\n",
       "      <td>https://cdn.sofifa.com/flags/at.png</td>\n",
       "      <td>Real Madrid CF</td>\n",
       "      <td>https://cdn.sofifa.com/teams/243/30.png</td>\n",
       "      <td>4.0</td>\n",
       "      <td>84</td>\n",
       "      <td>...</td>\n",
       "      <td>85.0</td>\n",
       "      <td>78.0</td>\n",
       "      <td>83.0</td>\n",
       "      <td>5.0</td>\n",
       "      <td>88.0</td>\n",
       "      <td>75.0</td>\n",
       "      <td>84.0</td>\n",
       "      <td>80.0</td>\n",
       "      <td>154</td>\n",
       "      <td>6</td>\n",
       "    </tr>\n",
       "    <tr>\n",
       "      <th>2419</th>\n",
       "      <td>D. Zapata</td>\n",
       "      <td>30</td>\n",
       "      <td>https://cdn.sofifa.com/players/215/333/22_60.png</td>\n",
       "      <td>Colombia</td>\n",
       "      <td>ST</td>\n",
       "      <td>https://cdn.sofifa.com/flags/co.png</td>\n",
       "      <td>Atalanta</td>\n",
       "      <td>https://cdn.sofifa.com/teams/39/30.png</td>\n",
       "      <td>91.0</td>\n",
       "      <td>83</td>\n",
       "      <td>...</td>\n",
       "      <td>82.0</td>\n",
       "      <td>64.0</td>\n",
       "      <td>24.0</td>\n",
       "      <td>9.0</td>\n",
       "      <td>82.0</td>\n",
       "      <td>75.0</td>\n",
       "      <td>82.0</td>\n",
       "      <td>47.0</td>\n",
       "      <td>21</td>\n",
       "      <td>18</td>\n",
       "    </tr>\n",
       "  </tbody>\n",
       "</table>\n",
       "<p>200 rows × 53 columns</p>\n",
       "</div>"
      ],
      "text/plain": [
       "                 Name  Age                                             Photo  \\\n",
       "82          K. Mbappe   22  https://cdn.sofifa.com/players/231/747/22_60.png   \n",
       "251        E. Haaland   20  https://cdn.sofifa.com/players/239/085/22_60.png   \n",
       "39            H. Kane   27  https://cdn.sofifa.com/players/202/126/22_60.png   \n",
       "64          Neymar Jr   29  https://cdn.sofifa.com/players/190/871/22_60.png   \n",
       "3        K. De Bruyne   30  https://cdn.sofifa.com/players/192/985/22_60.png   \n",
       "...               ...  ...                                               ...   \n",
       "264   Ronaldo Cabrais   29  https://cdn.sofifa.com/players/230/481/22_60.png   \n",
       "464       A. Kramaric   30  https://cdn.sofifa.com/players/216/354/22_60.png   \n",
       "853     Mario Hermoso   26  https://cdn.sofifa.com/players/229/668/22_60.png   \n",
       "13           D. Alaba   29  https://cdn.sofifa.com/players/197/445/22_60.png   \n",
       "2419        D. Zapata   30  https://cdn.sofifa.com/players/215/333/22_60.png   \n",
       "\n",
       "     Nationality Best Position                                     Flag  \\\n",
       "82        France            ST      https://cdn.sofifa.com/flags/fr.png   \n",
       "251       Norway            ST      https://cdn.sofifa.com/flags/no.png   \n",
       "39       England            ST  https://cdn.sofifa.com/flags/gb-eng.png   \n",
       "64        Brazil            LW      https://cdn.sofifa.com/flags/br.png   \n",
       "3        Belgium            CM      https://cdn.sofifa.com/flags/be.png   \n",
       "...          ...           ...                                      ...   \n",
       "264       Brazil            RM      https://cdn.sofifa.com/flags/br.png   \n",
       "464      Croatia            ST      https://cdn.sofifa.com/flags/hr.png   \n",
       "853        Spain            CB      https://cdn.sofifa.com/flags/es.png   \n",
       "13       Austria            CB      https://cdn.sofifa.com/flags/at.png   \n",
       "2419    Colombia            ST      https://cdn.sofifa.com/flags/co.png   \n",
       "\n",
       "                     Club                                  Club Logo  \\\n",
       "82    Paris Saint-Germain     https://cdn.sofifa.com/teams/73/30.png   \n",
       "251     Borussia Dortmund     https://cdn.sofifa.com/teams/22/30.png   \n",
       "39      Tottenham Hotspur     https://cdn.sofifa.com/teams/18/30.png   \n",
       "64    Paris Saint-Germain     https://cdn.sofifa.com/teams/73/30.png   \n",
       "3         Manchester City     https://cdn.sofifa.com/teams/10/30.png   \n",
       "...                   ...                                        ...   \n",
       "264                Grêmio   https://cdn.sofifa.com/teams/1629/30.png   \n",
       "464        TSG Hoffenheim  https://cdn.sofifa.com/teams/10029/30.png   \n",
       "853    Atlético de Madrid    https://cdn.sofifa.com/teams/240/30.png   \n",
       "13         Real Madrid CF    https://cdn.sofifa.com/teams/243/30.png   \n",
       "2419             Atalanta     https://cdn.sofifa.com/teams/39/30.png   \n",
       "\n",
       "      Jersey Number  Overall  ...  Composure  LongShots  StandingTackle  \\\n",
       "82              7.0       91  ...       88.0       82.0            34.0   \n",
       "251             9.0       88  ...       84.0       87.0            43.0   \n",
       "39             10.0       90  ...       91.0       86.0            36.0   \n",
       "64             10.0       91  ...       93.0       81.0            32.0   \n",
       "3              17.0       91  ...       89.0       91.0            65.0   \n",
       "...             ...      ...  ...        ...        ...             ...   \n",
       "264             7.0       83  ...       81.0       78.0            35.0   \n",
       "464            27.0       83  ...       83.0       85.0            20.0   \n",
       "853            22.0       82  ...       79.0       46.0            84.0   \n",
       "13              4.0       84  ...       85.0       78.0            83.0   \n",
       "2419           91.0       83  ...       82.0       64.0            24.0   \n",
       "\n",
       "      GKDiving  Reactions  Stamina  BallControl  LongPassing  Club_cat  \\\n",
       "82        13.0       93.0     88.0         91.0         71.0       138   \n",
       "251        7.0       88.0     82.0         85.0         51.0        31   \n",
       "39         8.0       92.0     83.0         85.0         86.0       194   \n",
       "64         9.0       89.0     81.0         95.0         81.0       138   \n",
       "3         15.0       91.0     89.0         91.0         93.0       118   \n",
       "...        ...        ...      ...          ...          ...       ...   \n",
       "264       12.0       84.0     88.0         83.0         82.0        95   \n",
       "464        8.0       84.0     76.0         86.0         63.0       189   \n",
       "853       13.0       82.0     77.0         75.0         77.0        24   \n",
       "13         5.0       88.0     75.0         84.0         80.0       154   \n",
       "2419       9.0       82.0     75.0         82.0         47.0        21   \n",
       "\n",
       "      Nationality_cat  \n",
       "82                 29  \n",
       "251                55  \n",
       "39                 27  \n",
       "64                  9  \n",
       "3                   7  \n",
       "...               ...  \n",
       "264                 9  \n",
       "464                21  \n",
       "853                68  \n",
       "13                  6  \n",
       "2419               18  \n",
       "\n",
       "[200 rows x 53 columns]"
      ]
     },
     "execution_count": 34,
     "metadata": {},
     "output_type": "execute_result"
    }
   ],
   "source": [
    "top100_valuable_players"
   ]
  },
  {
   "cell_type": "code",
   "execution_count": 35,
   "metadata": {},
   "outputs": [],
   "source": [
    "df_agg = top100_valuable_players.groupby([\"Nationality\",'Name']).agg({'Value (€)':sum})"
   ]
  },
  {
   "cell_type": "code",
   "execution_count": 36,
   "metadata": {},
   "outputs": [],
   "source": [
    "g = df_agg['Value (€)'].groupby('Nationality', group_keys=False)"
   ]
  },
  {
   "cell_type": "code",
   "execution_count": 37,
   "metadata": {},
   "outputs": [],
   "source": [
    "res = g.apply(lambda x: x.sort_values(ascending=False).head(1))"
   ]
  },
  {
   "cell_type": "code",
   "execution_count": 38,
   "metadata": {},
   "outputs": [],
   "source": [
    "res=pd.DataFrame(res).sort_values('Value (€)',ascending=False)"
   ]
  },
  {
   "cell_type": "code",
   "execution_count": 39,
   "metadata": {
    "scrolled": true
   },
   "outputs": [
    {
     "data": {
      "text/html": [
       "<style  type=\"text/css\" >\n",
       "#T_503d71b2_9e7b_11ec_94d3_e02be9f13799row0_col0{\n",
       "            background-color:  #ff0000;\n",
       "            color:  #f1f1f1;\n",
       "        }#T_503d71b2_9e7b_11ec_94d3_e02be9f13799row1_col0{\n",
       "            background-color:  #fb5656;\n",
       "            color:  #000000;\n",
       "        }#T_503d71b2_9e7b_11ec_94d3_e02be9f13799row2_col0,#T_503d71b2_9e7b_11ec_94d3_e02be9f13799row3_col0{\n",
       "            background-color:  #fa6262;\n",
       "            color:  #000000;\n",
       "        }#T_503d71b2_9e7b_11ec_94d3_e02be9f13799row4_col0{\n",
       "            background-color:  #fa6868;\n",
       "            color:  #000000;\n",
       "        }#T_503d71b2_9e7b_11ec_94d3_e02be9f13799row5_col0,#T_503d71b2_9e7b_11ec_94d3_e02be9f13799row6_col0,#T_503d71b2_9e7b_11ec_94d3_e02be9f13799row7_col0{\n",
       "            background-color:  #f97171;\n",
       "            color:  #000000;\n",
       "        }#T_503d71b2_9e7b_11ec_94d3_e02be9f13799row8_col0{\n",
       "            background-color:  #f97c7c;\n",
       "            color:  #000000;\n",
       "        }#T_503d71b2_9e7b_11ec_94d3_e02be9f13799row9_col0{\n",
       "            background-color:  #f88282;\n",
       "            color:  #000000;\n",
       "        }#T_503d71b2_9e7b_11ec_94d3_e02be9f13799row10_col0{\n",
       "            background-color:  #f88383;\n",
       "            color:  #000000;\n",
       "        }#T_503d71b2_9e7b_11ec_94d3_e02be9f13799row11_col0{\n",
       "            background-color:  #f88888;\n",
       "            color:  #000000;\n",
       "        }#T_503d71b2_9e7b_11ec_94d3_e02be9f13799row12_col0,#T_503d71b2_9e7b_11ec_94d3_e02be9f13799row13_col0{\n",
       "            background-color:  #f88d8d;\n",
       "            color:  #000000;\n",
       "        }#T_503d71b2_9e7b_11ec_94d3_e02be9f13799row14_col0{\n",
       "            background-color:  #f79999;\n",
       "            color:  #000000;\n",
       "        }#T_503d71b2_9e7b_11ec_94d3_e02be9f13799row15_col0{\n",
       "            background-color:  #f7a1a1;\n",
       "            color:  #000000;\n",
       "        }#T_503d71b2_9e7b_11ec_94d3_e02be9f13799row16_col0{\n",
       "            background-color:  #f7a8a7;\n",
       "            color:  #000000;\n",
       "        }#T_503d71b2_9e7b_11ec_94d3_e02be9f13799row17_col0{\n",
       "            background-color:  #f6b6b6;\n",
       "            color:  #000000;\n",
       "        }#T_503d71b2_9e7b_11ec_94d3_e02be9f13799row18_col0{\n",
       "            background-color:  #f5bdbd;\n",
       "            color:  #000000;\n",
       "        }#T_503d71b2_9e7b_11ec_94d3_e02be9f13799row19_col0{\n",
       "            background-color:  #f5c1c1;\n",
       "            color:  #000000;\n",
       "        }#T_503d71b2_9e7b_11ec_94d3_e02be9f13799row20_col0{\n",
       "            background-color:  #f5c2c2;\n",
       "            color:  #000000;\n",
       "        }#T_503d71b2_9e7b_11ec_94d3_e02be9f13799row21_col0{\n",
       "            background-color:  #f5c3c3;\n",
       "            color:  #000000;\n",
       "        }#T_503d71b2_9e7b_11ec_94d3_e02be9f13799row22_col0,#T_503d71b2_9e7b_11ec_94d3_e02be9f13799row23_col0{\n",
       "            background-color:  #f5cece;\n",
       "            color:  #000000;\n",
       "        }#T_503d71b2_9e7b_11ec_94d3_e02be9f13799row24_col0{\n",
       "            background-color:  #f4d0d0;\n",
       "            color:  #000000;\n",
       "        }#T_503d71b2_9e7b_11ec_94d3_e02be9f13799row25_col0{\n",
       "            background-color:  #f4dbdb;\n",
       "            color:  #000000;\n",
       "        }#T_503d71b2_9e7b_11ec_94d3_e02be9f13799row26_col0{\n",
       "            background-color:  #f4dcdc;\n",
       "            color:  #000000;\n",
       "        }#T_503d71b2_9e7b_11ec_94d3_e02be9f13799row27_col0,#T_503d71b2_9e7b_11ec_94d3_e02be9f13799row28_col0{\n",
       "            background-color:  #f4dddd;\n",
       "            color:  #000000;\n",
       "        }#T_503d71b2_9e7b_11ec_94d3_e02be9f13799row29_col0,#T_503d71b2_9e7b_11ec_94d3_e02be9f13799row30_col0,#T_503d71b2_9e7b_11ec_94d3_e02be9f13799row31_col0{\n",
       "            background-color:  #f3e5e5;\n",
       "            color:  #000000;\n",
       "        }#T_503d71b2_9e7b_11ec_94d3_e02be9f13799row32_col0{\n",
       "            background-color:  #f3e8e7;\n",
       "            color:  #000000;\n",
       "        }#T_503d71b2_9e7b_11ec_94d3_e02be9f13799row33_col0{\n",
       "            background-color:  #f3efef;\n",
       "            color:  #000000;\n",
       "        }#T_503d71b2_9e7b_11ec_94d3_e02be9f13799row34_col0,#T_503d71b2_9e7b_11ec_94d3_e02be9f13799row35_col0{\n",
       "            background-color:  #f3f0f0;\n",
       "            color:  #000000;\n",
       "        }</style><table id=\"T_503d71b2_9e7b_11ec_94d3_e02be9f13799\" ><thead>    <tr>        <th class=\"blank\" ></th>        <th class=\"blank level0\" ></th>        <th class=\"col_heading level0 col0\" >Value (€)</th>    </tr>    <tr>        <th class=\"index_name level0\" >Nationality</th>        <th class=\"index_name level1\" >Name</th>        <th class=\"blank\" ></th>    </tr></thead><tbody>\n",
       "                <tr>\n",
       "                        <th id=\"T_503d71b2_9e7b_11ec_94d3_e02be9f13799level0_row0\" class=\"row_heading level0 row0\" >France</th>\n",
       "                        <th id=\"T_503d71b2_9e7b_11ec_94d3_e02be9f13799level1_row0\" class=\"row_heading level1 row0\" >K. Mbappe</th>\n",
       "                        <td id=\"T_503d71b2_9e7b_11ec_94d3_e02be9f13799row0_col0\" class=\"data row0 col0\" >194000000</td>\n",
       "            </tr>\n",
       "            <tr>\n",
       "                        <th id=\"T_503d71b2_9e7b_11ec_94d3_e02be9f13799level0_row1\" class=\"row_heading level0 row1\" >Norway</th>\n",
       "                        <th id=\"T_503d71b2_9e7b_11ec_94d3_e02be9f13799level1_row1\" class=\"row_heading level1 row1\" >E. Haaland</th>\n",
       "                        <td id=\"T_503d71b2_9e7b_11ec_94d3_e02be9f13799row1_col0\" class=\"data row1 col0\" >137500000</td>\n",
       "            </tr>\n",
       "            <tr>\n",
       "                        <th id=\"T_503d71b2_9e7b_11ec_94d3_e02be9f13799level0_row2\" class=\"row_heading level0 row2\" >England</th>\n",
       "                        <th id=\"T_503d71b2_9e7b_11ec_94d3_e02be9f13799level1_row2\" class=\"row_heading level1 row2\" >H. Kane</th>\n",
       "                        <td id=\"T_503d71b2_9e7b_11ec_94d3_e02be9f13799row2_col0\" class=\"data row2 col0\" >129500000</td>\n",
       "            </tr>\n",
       "            <tr>\n",
       "                        <th id=\"T_503d71b2_9e7b_11ec_94d3_e02be9f13799level0_row3\" class=\"row_heading level0 row3\" >Brazil</th>\n",
       "                        <th id=\"T_503d71b2_9e7b_11ec_94d3_e02be9f13799level1_row3\" class=\"row_heading level1 row3\" >Neymar Jr</th>\n",
       "                        <td id=\"T_503d71b2_9e7b_11ec_94d3_e02be9f13799row3_col0\" class=\"data row3 col0\" >129000000</td>\n",
       "            </tr>\n",
       "            <tr>\n",
       "                        <th id=\"T_503d71b2_9e7b_11ec_94d3_e02be9f13799level0_row4\" class=\"row_heading level0 row4\" >Belgium</th>\n",
       "                        <th id=\"T_503d71b2_9e7b_11ec_94d3_e02be9f13799level1_row4\" class=\"row_heading level1 row4\" >K. De Bruyne</th>\n",
       "                        <td id=\"T_503d71b2_9e7b_11ec_94d3_e02be9f13799row4_col0\" class=\"data row4 col0\" >125500000</td>\n",
       "            </tr>\n",
       "            <tr>\n",
       "                        <th id=\"T_503d71b2_9e7b_11ec_94d3_e02be9f13799level0_row5\" class=\"row_heading level0 row5\" >Italy</th>\n",
       "                        <th id=\"T_503d71b2_9e7b_11ec_94d3_e02be9f13799level1_row5\" class=\"row_heading level1 row5\" >G. Donnarumma</th>\n",
       "                        <td id=\"T_503d71b2_9e7b_11ec_94d3_e02be9f13799row5_col0\" class=\"data row5 col0\" >119500000</td>\n",
       "            </tr>\n",
       "            <tr>\n",
       "                        <th id=\"T_503d71b2_9e7b_11ec_94d3_e02be9f13799level0_row6\" class=\"row_heading level0 row6\" >Poland</th>\n",
       "                        <th id=\"T_503d71b2_9e7b_11ec_94d3_e02be9f13799level1_row6\" class=\"row_heading level1 row6\" >R. Lewandowski</th>\n",
       "                        <td id=\"T_503d71b2_9e7b_11ec_94d3_e02be9f13799row6_col0\" class=\"data row6 col0\" >119500000</td>\n",
       "            </tr>\n",
       "            <tr>\n",
       "                        <th id=\"T_503d71b2_9e7b_11ec_94d3_e02be9f13799level0_row7\" class=\"row_heading level0 row7\" >Netherlands</th>\n",
       "                        <th id=\"T_503d71b2_9e7b_11ec_94d3_e02be9f13799level1_row7\" class=\"row_heading level1 row7\" >F. de Jong</th>\n",
       "                        <td id=\"T_503d71b2_9e7b_11ec_94d3_e02be9f13799row7_col0\" class=\"data row7 col0\" >119500000</td>\n",
       "            </tr>\n",
       "            <tr>\n",
       "                        <th id=\"T_503d71b2_9e7b_11ec_94d3_e02be9f13799level0_row8\" class=\"row_heading level0 row8\" >Slovenia</th>\n",
       "                        <th id=\"T_503d71b2_9e7b_11ec_94d3_e02be9f13799level1_row8\" class=\"row_heading level1 row8\" >J. Oblak</th>\n",
       "                        <td id=\"T_503d71b2_9e7b_11ec_94d3_e02be9f13799row8_col0\" class=\"data row8 col0\" >112000000</td>\n",
       "            </tr>\n",
       "            <tr>\n",
       "                        <th id=\"T_503d71b2_9e7b_11ec_94d3_e02be9f13799level0_row9\" class=\"row_heading level0 row9\" >Germany</th>\n",
       "                        <th id=\"T_503d71b2_9e7b_11ec_94d3_e02be9f13799level1_row9\" class=\"row_heading level1 row9\" >J. Kimmich</th>\n",
       "                        <td id=\"T_503d71b2_9e7b_11ec_94d3_e02be9f13799row9_col0\" class=\"data row9 col0\" >108000000</td>\n",
       "            </tr>\n",
       "            <tr>\n",
       "                        <th id=\"T_503d71b2_9e7b_11ec_94d3_e02be9f13799level0_row10\" class=\"row_heading level0 row10\" >Portugal</th>\n",
       "                        <th id=\"T_503d71b2_9e7b_11ec_94d3_e02be9f13799level1_row10\" class=\"row_heading level1 row10\" >Bruno Fernandes</th>\n",
       "                        <td id=\"T_503d71b2_9e7b_11ec_94d3_e02be9f13799row10_col0\" class=\"data row10 col0\" >107500000</td>\n",
       "            </tr>\n",
       "            <tr>\n",
       "                        <th id=\"T_503d71b2_9e7b_11ec_94d3_e02be9f13799level0_row11\" class=\"row_heading level0 row11\" >Korea Republic</th>\n",
       "                        <th id=\"T_503d71b2_9e7b_11ec_94d3_e02be9f13799level1_row11\" class=\"row_heading level1 row11\" >H. Son</th>\n",
       "                        <td id=\"T_503d71b2_9e7b_11ec_94d3_e02be9f13799row11_col0\" class=\"data row11 col0\" >104000000</td>\n",
       "            </tr>\n",
       "            <tr>\n",
       "                        <th id=\"T_503d71b2_9e7b_11ec_94d3_e02be9f13799level0_row12\" class=\"row_heading level0 row12\" >Egypt</th>\n",
       "                        <th id=\"T_503d71b2_9e7b_11ec_94d3_e02be9f13799level1_row12\" class=\"row_heading level1 row12\" >M. Salah</th>\n",
       "                        <td id=\"T_503d71b2_9e7b_11ec_94d3_e02be9f13799row12_col0\" class=\"data row12 col0\" >101000000</td>\n",
       "            </tr>\n",
       "            <tr>\n",
       "                        <th id=\"T_503d71b2_9e7b_11ec_94d3_e02be9f13799level0_row13\" class=\"row_heading level0 row13\" >Senegal</th>\n",
       "                        <th id=\"T_503d71b2_9e7b_11ec_94d3_e02be9f13799level1_row13\" class=\"row_heading level1 row13\" >S. Mane</th>\n",
       "                        <td id=\"T_503d71b2_9e7b_11ec_94d3_e02be9f13799row13_col0\" class=\"data row13 col0\" >101000000</td>\n",
       "            </tr>\n",
       "            <tr>\n",
       "                        <th id=\"T_503d71b2_9e7b_11ec_94d3_e02be9f13799level0_row14\" class=\"row_heading level0 row14\" >Argentina</th>\n",
       "                        <th id=\"T_503d71b2_9e7b_11ec_94d3_e02be9f13799level1_row14\" class=\"row_heading level1 row14\" >P. Dybala</th>\n",
       "                        <td id=\"T_503d71b2_9e7b_11ec_94d3_e02be9f13799row14_col0\" class=\"data row14 col0\" >93000000</td>\n",
       "            </tr>\n",
       "            <tr>\n",
       "                        <th id=\"T_503d71b2_9e7b_11ec_94d3_e02be9f13799level0_row15\" class=\"row_heading level0 row15\" >Spain</th>\n",
       "                        <th id=\"T_503d71b2_9e7b_11ec_94d3_e02be9f13799level1_row15\" class=\"row_heading level1 row15\" >Marcos Llorente</th>\n",
       "                        <td id=\"T_503d71b2_9e7b_11ec_94d3_e02be9f13799row15_col0\" class=\"data row15 col0\" >88000000</td>\n",
       "            </tr>\n",
       "            <tr>\n",
       "                        <th id=\"T_503d71b2_9e7b_11ec_94d3_e02be9f13799level0_row16\" class=\"row_heading level0 row16\" >Scotland</th>\n",
       "                        <th id=\"T_503d71b2_9e7b_11ec_94d3_e02be9f13799level1_row16\" class=\"row_heading level1 row16\" >A. Robertson</th>\n",
       "                        <td id=\"T_503d71b2_9e7b_11ec_94d3_e02be9f13799row16_col0\" class=\"data row16 col0\" >83500000</td>\n",
       "            </tr>\n",
       "            <tr>\n",
       "                        <th id=\"T_503d71b2_9e7b_11ec_94d3_e02be9f13799level0_row17\" class=\"row_heading level0 row17\" >Slovakia</th>\n",
       "                        <th id=\"T_503d71b2_9e7b_11ec_94d3_e02be9f13799level1_row17\" class=\"row_heading level1 row17\" >M. Skriniar</th>\n",
       "                        <td id=\"T_503d71b2_9e7b_11ec_94d3_e02be9f13799row17_col0\" class=\"data row17 col0\" >74000000</td>\n",
       "            </tr>\n",
       "            <tr>\n",
       "                        <th id=\"T_503d71b2_9e7b_11ec_94d3_e02be9f13799level0_row18\" class=\"row_heading level0 row18\" >Morocco</th>\n",
       "                        <th id=\"T_503d71b2_9e7b_11ec_94d3_e02be9f13799level1_row18\" class=\"row_heading level1 row18\" >A. Hakimi</th>\n",
       "                        <td id=\"T_503d71b2_9e7b_11ec_94d3_e02be9f13799row18_col0\" class=\"data row18 col0\" >69500000</td>\n",
       "            </tr>\n",
       "            <tr>\n",
       "                        <th id=\"T_503d71b2_9e7b_11ec_94d3_e02be9f13799level0_row19\" class=\"row_heading level0 row19\" >Nigeria</th>\n",
       "                        <th id=\"T_503d71b2_9e7b_11ec_94d3_e02be9f13799level1_row19\" class=\"row_heading level1 row19\" >W. Ndidi</th>\n",
       "                        <td id=\"T_503d71b2_9e7b_11ec_94d3_e02be9f13799row19_col0\" class=\"data row19 col0\" >66500000</td>\n",
       "            </tr>\n",
       "            <tr>\n",
       "                        <th id=\"T_503d71b2_9e7b_11ec_94d3_e02be9f13799level0_row20\" class=\"row_heading level0 row20\" >Serbia</th>\n",
       "                        <th id=\"T_503d71b2_9e7b_11ec_94d3_e02be9f13799level1_row20\" class=\"row_heading level1 row20\" >S. Milinkovic-Savic</th>\n",
       "                        <td id=\"T_503d71b2_9e7b_11ec_94d3_e02be9f13799row20_col0\" class=\"data row20 col0\" >66000000</td>\n",
       "            </tr>\n",
       "            <tr>\n",
       "                        <th id=\"T_503d71b2_9e7b_11ec_94d3_e02be9f13799level0_row21\" class=\"row_heading level0 row21\" >Algeria</th>\n",
       "                        <th id=\"T_503d71b2_9e7b_11ec_94d3_e02be9f13799level1_row21\" class=\"row_heading level1 row21\" >R. Mahrez</th>\n",
       "                        <td id=\"T_503d71b2_9e7b_11ec_94d3_e02be9f13799row21_col0\" class=\"data row21 col0\" >65500000</td>\n",
       "            </tr>\n",
       "            <tr>\n",
       "                        <th id=\"T_503d71b2_9e7b_11ec_94d3_e02be9f13799level0_row22\" class=\"row_heading level0 row22\" >Sweden</th>\n",
       "                        <th id=\"T_503d71b2_9e7b_11ec_94d3_e02be9f13799level1_row22\" class=\"row_heading level1 row22\" >D. Kulusevski</th>\n",
       "                        <td id=\"T_503d71b2_9e7b_11ec_94d3_e02be9f13799row22_col0\" class=\"data row22 col0\" >58000000</td>\n",
       "            </tr>\n",
       "            <tr>\n",
       "                        <th id=\"T_503d71b2_9e7b_11ec_94d3_e02be9f13799level0_row23\" class=\"row_heading level0 row23\" >Uruguay</th>\n",
       "                        <th id=\"T_503d71b2_9e7b_11ec_94d3_e02be9f13799level1_row23\" class=\"row_heading level1 row23\" >F. Valverde</th>\n",
       "                        <td id=\"T_503d71b2_9e7b_11ec_94d3_e02be9f13799row23_col0\" class=\"data row23 col0\" >58000000</td>\n",
       "            </tr>\n",
       "            <tr>\n",
       "                        <th id=\"T_503d71b2_9e7b_11ec_94d3_e02be9f13799level0_row24\" class=\"row_heading level0 row24\" >Canada</th>\n",
       "                        <th id=\"T_503d71b2_9e7b_11ec_94d3_e02be9f13799level1_row24\" class=\"row_heading level1 row24\" >A. Davies</th>\n",
       "                        <td id=\"T_503d71b2_9e7b_11ec_94d3_e02be9f13799row24_col0\" class=\"data row24 col0\" >57000000</td>\n",
       "            </tr>\n",
       "            <tr>\n",
       "                        <th id=\"T_503d71b2_9e7b_11ec_94d3_e02be9f13799level0_row25\" class=\"row_heading level0 row25\" >Côte d'Ivoire</th>\n",
       "                        <th id=\"T_503d71b2_9e7b_11ec_94d3_e02be9f13799level1_row25\" class=\"row_heading level1 row25\" >F. Kessie</th>\n",
       "                        <td id=\"T_503d71b2_9e7b_11ec_94d3_e02be9f13799row25_col0\" class=\"data row25 col0\" >49500000</td>\n",
       "            </tr>\n",
       "            <tr>\n",
       "                        <th id=\"T_503d71b2_9e7b_11ec_94d3_e02be9f13799level0_row26\" class=\"row_heading level0 row26\" >United States</th>\n",
       "                        <th id=\"T_503d71b2_9e7b_11ec_94d3_e02be9f13799level1_row26\" class=\"row_heading level1 row26\" >C. Pulisic</th>\n",
       "                        <td id=\"T_503d71b2_9e7b_11ec_94d3_e02be9f13799row26_col0\" class=\"data row26 col0\" >49000000</td>\n",
       "            </tr>\n",
       "            <tr>\n",
       "                        <th id=\"T_503d71b2_9e7b_11ec_94d3_e02be9f13799level0_row27\" class=\"row_heading level0 row27\" >Burkina Faso</th>\n",
       "                        <th id=\"T_503d71b2_9e7b_11ec_94d3_e02be9f13799level1_row27\" class=\"row_heading level1 row27\" >E. Tapsoba</th>\n",
       "                        <td id=\"T_503d71b2_9e7b_11ec_94d3_e02be9f13799row27_col0\" class=\"data row27 col0\" >48500000</td>\n",
       "            </tr>\n",
       "            <tr>\n",
       "                        <th id=\"T_503d71b2_9e7b_11ec_94d3_e02be9f13799level0_row28\" class=\"row_heading level0 row28\" >Austria</th>\n",
       "                        <th id=\"T_503d71b2_9e7b_11ec_94d3_e02be9f13799level1_row28\" class=\"row_heading level1 row28\" >M. Sabitzer</th>\n",
       "                        <td id=\"T_503d71b2_9e7b_11ec_94d3_e02be9f13799row28_col0\" class=\"data row28 col0\" >48000000</td>\n",
       "            </tr>\n",
       "            <tr>\n",
       "                        <th id=\"T_503d71b2_9e7b_11ec_94d3_e02be9f13799level0_row29\" class=\"row_heading level0 row29\" >Jamaica</th>\n",
       "                        <th id=\"T_503d71b2_9e7b_11ec_94d3_e02be9f13799level1_row29\" class=\"row_heading level1 row29\" >L. Bailey</th>\n",
       "                        <td id=\"T_503d71b2_9e7b_11ec_94d3_e02be9f13799row29_col0\" class=\"data row29 col0\" >43500000</td>\n",
       "            </tr>\n",
       "            <tr>\n",
       "                        <th id=\"T_503d71b2_9e7b_11ec_94d3_e02be9f13799level0_row30\" class=\"row_heading level0 row30\" >Gabon</th>\n",
       "                        <th id=\"T_503d71b2_9e7b_11ec_94d3_e02be9f13799level1_row30\" class=\"row_heading level1 row30\" >P. Aubameyang</th>\n",
       "                        <td id=\"T_503d71b2_9e7b_11ec_94d3_e02be9f13799row30_col0\" class=\"data row30 col0\" >43500000</td>\n",
       "            </tr>\n",
       "            <tr>\n",
       "                        <th id=\"T_503d71b2_9e7b_11ec_94d3_e02be9f13799level0_row31\" class=\"row_heading level0 row31\" >Denmark</th>\n",
       "                        <th id=\"T_503d71b2_9e7b_11ec_94d3_e02be9f13799level1_row31\" class=\"row_heading level1 row31\" >P. Hojbjerg</th>\n",
       "                        <td id=\"T_503d71b2_9e7b_11ec_94d3_e02be9f13799row31_col0\" class=\"data row31 col0\" >43500000</td>\n",
       "            </tr>\n",
       "            <tr>\n",
       "                        <th id=\"T_503d71b2_9e7b_11ec_94d3_e02be9f13799level0_row32\" class=\"row_heading level0 row32\" >Croatia</th>\n",
       "                        <th id=\"T_503d71b2_9e7b_11ec_94d3_e02be9f13799level1_row32\" class=\"row_heading level1 row32\" >M. Kovacic</th>\n",
       "                        <td id=\"T_503d71b2_9e7b_11ec_94d3_e02be9f13799row32_col0\" class=\"data row32 col0\" >41500000</td>\n",
       "            </tr>\n",
       "            <tr>\n",
       "                        <th id=\"T_503d71b2_9e7b_11ec_94d3_e02be9f13799level0_row33\" class=\"row_heading level0 row33\" >Ghana</th>\n",
       "                        <th id=\"T_503d71b2_9e7b_11ec_94d3_e02be9f13799level1_row33\" class=\"row_heading level1 row33\" >T. Partey</th>\n",
       "                        <td id=\"T_503d71b2_9e7b_11ec_94d3_e02be9f13799row33_col0\" class=\"data row33 col0\" >36500000</td>\n",
       "            </tr>\n",
       "            <tr>\n",
       "                        <th id=\"T_503d71b2_9e7b_11ec_94d3_e02be9f13799level0_row34\" class=\"row_heading level0 row34\" >Czech Republic</th>\n",
       "                        <th id=\"T_503d71b2_9e7b_11ec_94d3_e02be9f13799level1_row34\" class=\"row_heading level1 row34\" >T. Soucek</th>\n",
       "                        <td id=\"T_503d71b2_9e7b_11ec_94d3_e02be9f13799row34_col0\" class=\"data row34 col0\" >36000000</td>\n",
       "            </tr>\n",
       "            <tr>\n",
       "                        <th id=\"T_503d71b2_9e7b_11ec_94d3_e02be9f13799level0_row35\" class=\"row_heading level0 row35\" >Colombia</th>\n",
       "                        <th id=\"T_503d71b2_9e7b_11ec_94d3_e02be9f13799level1_row35\" class=\"row_heading level1 row35\" >D. Zapata</th>\n",
       "                        <td id=\"T_503d71b2_9e7b_11ec_94d3_e02be9f13799row35_col0\" class=\"data row35 col0\" >35500000</td>\n",
       "            </tr>\n",
       "    </tbody></table>"
      ],
      "text/plain": [
       "<pandas.io.formats.style.Styler at 0x258c68415b0>"
      ]
     },
     "execution_count": 39,
     "metadata": {},
     "output_type": "execute_result"
    }
   ],
   "source": [
    "pd.DataFrame(res).sort_values('Value (€)',ascending=False).style.background_gradient(cmap=sns.light_palette(\"red\", as_cmap=True))"
   ]
  },
  {
   "cell_type": "markdown",
   "metadata": {},
   "source": [
    "### Parmi les meilleurs, voir si la nationalité joue sur le prix"
   ]
  },
  {
   "cell_type": "code",
   "execution_count": 40,
   "metadata": {
    "scrolled": true
   },
   "outputs": [],
   "source": [
    "a=pd.DataFrame(top100_valuable_players.groupby([\"Nationality\"]).sum()['Value (€)'].sort_values(ascending=False))"
   ]
  },
  {
   "cell_type": "code",
   "execution_count": 41,
   "metadata": {},
   "outputs": [
    {
     "name": "stdout",
     "output_type": "stream",
     "text": [
      "WE CAN SEE THAT NATIONALITY HAVE AN IMPACT ON PLAYERS PRICE\n"
     ]
    },
    {
     "data": {
      "image/png": "[encoded data removed]",
      "text/plain": [
       "<Figure size 1224x504 with 1 Axes>"
      ]
     },
     "metadata": {
      "needs_background": "light"
     },
     "output_type": "display_data"
    }
   ],
   "source": [
    "f, ax = plt.subplots(figsize=(17, 7))\n",
    "sns.barplot(x=a['Value (€)'],y=a.index,data=a, palette='Spectral')\n",
    "plt.title('Sum of top 100 valuables players by nationality')\n",
    "print('WE CAN SEE THAT NATIONALITY HAVE AN IMPACT ON PLAYERS PRICE')"
   ]
  },
  {
   "cell_type": "markdown",
   "metadata": {},
   "source": [
    "## Visualiser les meilleurs joueurs par pays\n"
   ]
  },
  {
   "cell_type": "markdown",
   "metadata": {},
   "source": [
    "### Récupération des Latitudes et Longitudes des pays"
   ]
  },
  {
   "cell_type": "code",
   "execution_count": 42,
   "metadata": {},
   "outputs": [],
   "source": [
    "#Changement pour d'intitulé pour la Corée du Sud car il n'est pas reconnu par la librairie\n",
    "df['Nationality']=df['Nationality'].replace(['Korea Republic'],'Korea')"
   ]
  },
  {
   "cell_type": "code",
   "execution_count": 43,
   "metadata": {
    "scrolled": true
   },
   "outputs": [
    {
     "data": {
      "text/html": [
       "<div>\n",
       "<style scoped>\n",
       "    .dataframe tbody tr th:only-of-type {\n",
       "        vertical-align: middle;\n",
       "    }\n",
       "\n",
       "    .dataframe tbody tr th {\n",
       "        vertical-align: top;\n",
       "    }\n",
       "\n",
       "    .dataframe thead th {\n",
       "        text-align: right;\n",
       "    }\n",
       "</style>\n",
       "<table border=\"1\" class=\"dataframe\">\n",
       "  <thead>\n",
       "    <tr style=\"text-align: right;\">\n",
       "      <th></th>\n",
       "      <th>Name</th>\n",
       "      <th>Age</th>\n",
       "      <th>Photo</th>\n",
       "      <th>Nationality</th>\n",
       "      <th>Best Position</th>\n",
       "      <th>Flag</th>\n",
       "      <th>Club</th>\n",
       "      <th>Club Logo</th>\n",
       "      <th>Jersey Number</th>\n",
       "      <th>Overall</th>\n",
       "      <th>...</th>\n",
       "      <th>Composure</th>\n",
       "      <th>LongShots</th>\n",
       "      <th>StandingTackle</th>\n",
       "      <th>GKDiving</th>\n",
       "      <th>Reactions</th>\n",
       "      <th>Stamina</th>\n",
       "      <th>BallControl</th>\n",
       "      <th>LongPassing</th>\n",
       "      <th>Club_cat</th>\n",
       "      <th>Nationality_cat</th>\n",
       "    </tr>\n",
       "  </thead>\n",
       "  <tbody>\n",
       "    <tr>\n",
       "      <th>0</th>\n",
       "      <td>Bruno Fernandes</td>\n",
       "      <td>26</td>\n",
       "      <td>https://cdn.sofifa.com/players/212/198/22_60.png</td>\n",
       "      <td>Portugal</td>\n",
       "      <td>CAM</td>\n",
       "      <td>https://cdn.sofifa.com/flags/pt.png</td>\n",
       "      <td>Manchester United</td>\n",
       "      <td>https://cdn.sofifa.com/teams/11/30.png</td>\n",
       "      <td>18.0</td>\n",
       "      <td>88</td>\n",
       "      <td>...</td>\n",
       "      <td>87.0</td>\n",
       "      <td>89.0</td>\n",
       "      <td>73.0</td>\n",
       "      <td>12.0</td>\n",
       "      <td>91.0</td>\n",
       "      <td>91.0</td>\n",
       "      <td>87.0</td>\n",
       "      <td>88.0</td>\n",
       "      <td>119</td>\n",
       "      <td>59</td>\n",
       "    </tr>\n",
       "    <tr>\n",
       "      <th>1</th>\n",
       "      <td>L. Goretzka</td>\n",
       "      <td>26</td>\n",
       "      <td>https://cdn.sofifa.com/players/209/658/22_60.png</td>\n",
       "      <td>Germany</td>\n",
       "      <td>CM</td>\n",
       "      <td>https://cdn.sofifa.com/flags/de.png</td>\n",
       "      <td>FC Bayern München</td>\n",
       "      <td>https://cdn.sofifa.com/teams/21/30.png</td>\n",
       "      <td>8.0</td>\n",
       "      <td>87</td>\n",
       "      <td>...</td>\n",
       "      <td>82.0</td>\n",
       "      <td>86.0</td>\n",
       "      <td>85.0</td>\n",
       "      <td>13.0</td>\n",
       "      <td>88.0</td>\n",
       "      <td>88.0</td>\n",
       "      <td>87.0</td>\n",
       "      <td>84.0</td>\n",
       "      <td>72</td>\n",
       "      <td>31</td>\n",
       "    </tr>\n",
       "    <tr>\n",
       "      <th>2</th>\n",
       "      <td>L. Suarez</td>\n",
       "      <td>34</td>\n",
       "      <td>https://cdn.sofifa.com/players/176/580/22_60.png</td>\n",
       "      <td>Uruguay</td>\n",
       "      <td>ST</td>\n",
       "      <td>https://cdn.sofifa.com/flags/uy.png</td>\n",
       "      <td>Atlético de Madrid</td>\n",
       "      <td>https://cdn.sofifa.com/teams/240/30.png</td>\n",
       "      <td>9.0</td>\n",
       "      <td>88</td>\n",
       "      <td>...</td>\n",
       "      <td>87.0</td>\n",
       "      <td>88.0</td>\n",
       "      <td>45.0</td>\n",
       "      <td>27.0</td>\n",
       "      <td>92.0</td>\n",
       "      <td>78.0</td>\n",
       "      <td>86.0</td>\n",
       "      <td>77.0</td>\n",
       "      <td>24</td>\n",
       "      <td>77</td>\n",
       "    </tr>\n",
       "    <tr>\n",
       "      <th>3</th>\n",
       "      <td>K. De Bruyne</td>\n",
       "      <td>30</td>\n",
       "      <td>https://cdn.sofifa.com/players/192/985/22_60.png</td>\n",
       "      <td>Belgium</td>\n",
       "      <td>CM</td>\n",
       "      <td>https://cdn.sofifa.com/flags/be.png</td>\n",
       "      <td>Manchester City</td>\n",
       "      <td>https://cdn.sofifa.com/teams/10/30.png</td>\n",
       "      <td>17.0</td>\n",
       "      <td>91</td>\n",
       "      <td>...</td>\n",
       "      <td>89.0</td>\n",
       "      <td>91.0</td>\n",
       "      <td>65.0</td>\n",
       "      <td>15.0</td>\n",
       "      <td>91.0</td>\n",
       "      <td>89.0</td>\n",
       "      <td>91.0</td>\n",
       "      <td>93.0</td>\n",
       "      <td>118</td>\n",
       "      <td>7</td>\n",
       "    </tr>\n",
       "    <tr>\n",
       "      <th>5</th>\n",
       "      <td>J. Kimmich</td>\n",
       "      <td>26</td>\n",
       "      <td>https://cdn.sofifa.com/players/212/622/22_60.png</td>\n",
       "      <td>Germany</td>\n",
       "      <td>CDM</td>\n",
       "      <td>https://cdn.sofifa.com/flags/de.png</td>\n",
       "      <td>FC Bayern München</td>\n",
       "      <td>https://cdn.sofifa.com/teams/21/30.png</td>\n",
       "      <td>6.0</td>\n",
       "      <td>89</td>\n",
       "      <td>...</td>\n",
       "      <td>85.0</td>\n",
       "      <td>84.0</td>\n",
       "      <td>85.0</td>\n",
       "      <td>8.0</td>\n",
       "      <td>88.0</td>\n",
       "      <td>94.0</td>\n",
       "      <td>85.0</td>\n",
       "      <td>90.0</td>\n",
       "      <td>72</td>\n",
       "      <td>31</td>\n",
       "    </tr>\n",
       "  </tbody>\n",
       "</table>\n",
       "<p>5 rows × 53 columns</p>\n",
       "</div>"
      ],
      "text/plain": [
       "              Name  Age                                             Photo  \\\n",
       "0  Bruno Fernandes   26  https://cdn.sofifa.com/players/212/198/22_60.png   \n",
       "1      L. Goretzka   26  https://cdn.sofifa.com/players/209/658/22_60.png   \n",
       "2        L. Suarez   34  https://cdn.sofifa.com/players/176/580/22_60.png   \n",
       "3     K. De Bruyne   30  https://cdn.sofifa.com/players/192/985/22_60.png   \n",
       "5       J. Kimmich   26  https://cdn.sofifa.com/players/212/622/22_60.png   \n",
       "\n",
       "  Nationality Best Position                                 Flag  \\\n",
       "0    Portugal           CAM  https://cdn.sofifa.com/flags/pt.png   \n",
       "1     Germany            CM  https://cdn.sofifa.com/flags/de.png   \n",
       "2     Uruguay            ST  https://cdn.sofifa.com/flags/uy.png   \n",
       "3     Belgium            CM  https://cdn.sofifa.com/flags/be.png   \n",
       "5     Germany           CDM  https://cdn.sofifa.com/flags/de.png   \n",
       "\n",
       "                 Club                                Club Logo  Jersey Number  \\\n",
       "0   Manchester United   https://cdn.sofifa.com/teams/11/30.png           18.0   \n",
       "1   FC Bayern München   https://cdn.sofifa.com/teams/21/30.png            8.0   \n",
       "2  Atlético de Madrid  https://cdn.sofifa.com/teams/240/30.png            9.0   \n",
       "3     Manchester City   https://cdn.sofifa.com/teams/10/30.png           17.0   \n",
       "5   FC Bayern München   https://cdn.sofifa.com/teams/21/30.png            6.0   \n",
       "\n",
       "   Overall  ...  Composure  LongShots  StandingTackle  GKDiving  Reactions  \\\n",
       "0       88  ...       87.0       89.0            73.0      12.0       91.0   \n",
       "1       87  ...       82.0       86.0            85.0      13.0       88.0   \n",
       "2       88  ...       87.0       88.0            45.0      27.0       92.0   \n",
       "3       91  ...       89.0       91.0            65.0      15.0       91.0   \n",
       "5       89  ...       85.0       84.0            85.0       8.0       88.0   \n",
       "\n",
       "   Stamina  BallControl  LongPassing  Club_cat  Nationality_cat  \n",
       "0     91.0         87.0         88.0       119               59  \n",
       "1     88.0         87.0         84.0        72               31  \n",
       "2     78.0         86.0         77.0        24               77  \n",
       "3     89.0         91.0         93.0       118                7  \n",
       "5     94.0         85.0         90.0        72               31  \n",
       "\n",
       "[5 rows x 53 columns]"
      ]
     },
     "execution_count": 43,
     "metadata": {},
     "output_type": "execute_result"
    }
   ],
   "source": [
    "top75_bestplayers=df[df['Overall']>85]\n",
    "top75_bestplayers.head(5)"
   ]
  },
  {
   "cell_type": "code",
   "execution_count": 44,
   "metadata": {},
   "outputs": [],
   "source": [
    "#function to get longitude and latitude data from country name\n",
    "from geopy.geocoders import Nominatim\n",
    "from geopy.extra.rate_limiter import RateLimiter\n",
    "\n",
    "geolocator = Nominatim(user_agent=\"knn_similar_players.ipynb\")\n",
    "\n",
    "def geolocate(country):\n",
    "    try:\n",
    "        geocode = RateLimiter(geolocator.geocode, min_delay_seconds=4)\n",
    "        # Geolocate the center of the country\n",
    "        loc = geolocator.geocode(country)\n",
    "        # And return latitude and longitude\n",
    "        return (loc.latitude, loc.longitude)\n",
    "    except:\n",
    "        # Return missing value\n",
    "        return None\n",
    "        "
   ]
  },
  {
   "cell_type": "code",
   "execution_count": 45,
   "metadata": {},
   "outputs": [
    {
     "name": "stderr",
     "output_type": "stream",
     "text": [
      "<ipython-input-45-ec5a2ec00414>:1: SettingWithCopyWarning: \n",
      "A value is trying to be set on a copy of a slice from a DataFrame.\n",
      "Try using .loc[row_indexer,col_indexer] = value instead\n",
      "\n",
      "See the caveats in the documentation: https://pandas.pydata.org/pandas-docs/stable/user_guide/indexing.html#returning-a-view-versus-a-copy\n",
      "  top75_bestplayers['geolocate']=top75_bestplayers['Nationality'].apply(geolocate)\n"
     ]
    }
   ],
   "source": [
    "top75_bestplayers['geolocate']=top75_bestplayers['Nationality'].apply(geolocate)"
   ]
  },
  {
   "cell_type": "code",
   "execution_count": 46,
   "metadata": {},
   "outputs": [
    {
     "name": "stderr",
     "output_type": "stream",
     "text": [
      "C:\\Users\\thoma\\anaconda3\\lib\\site-packages\\pandas\\core\\frame.py:3065: SettingWithCopyWarning: \n",
      "A value is trying to be set on a copy of a slice from a DataFrame.\n",
      "Try using .loc[row_indexer,col_indexer] = value instead\n",
      "\n",
      "See the caveats in the documentation: https://pandas.pydata.org/pandas-docs/stable/user_guide/indexing.html#returning-a-view-versus-a-copy\n",
      "  self[k1] = value[k2]\n"
     ]
    }
   ],
   "source": [
    "top75_bestplayers[['latitude', 'longitude']]=pd.DataFrame(top75_bestplayers['geolocate'].tolist(), index=top75_bestplayers.index)\n",
    "#df.to_csv('df_final.csv')"
   ]
  },
  {
   "cell_type": "code",
   "execution_count": 47,
   "metadata": {},
   "outputs": [
    {
     "data": {
      "text/html": [
       "<div style=\"width:100%;\"><div style=\"position:relative;width:100%;height:0;padding-bottom:60%;\"><span style=\"color:#565656\">Make this Notebook Trusted to load map: File -> Trust Notebook</span><iframe src=\"about:blank\" style=\"position:absolute;width:100%;height:100%;left:0;top:0;border:none !important;\" data-html=%3C%21DOCTYPE%20html%3E%0A%3Chead%3E%20%20%20%20%0A%20%20%20%20%3Cmeta%20http-equiv%3D%22content-type%22%20content%3D%22text/html%3B%20charset%3DUTF-8%22%20/%3E%0A%20%20%20%20%0A%20%20%20%20%20%20%20%20%3Cscript%3E%0A%20%20%20%20%20%20%20%20%20%20%20%20L_NO_TOUCH%20%3D%20false%3B%0A%20%20%20%20%20%20%20%20%20%20%20%20L_DISABLE_3D%20%3D%20false%3B%0A%20%20%20%20%20%20%20%20%3C/script%3E%0A%20%20%20%20%0A%20%20%20%20%3Cstyle%3Ehtml%2C%20body%20%7Bwidth%3A%20100%25%3Bheight%3A%20100%25%3Bmargin%3A%200%3Bpadding%3A%200%3B%7D%3C/style%3E%0A%20%20%20%20%3Cstyle%3E%23map%20%7Bposition%3Aabsolute%3Btop%3A0%3Bbottom%3A0%3Bright%3A0%3Bleft%3A0%3B%7D%3C/style%3E%0A%20%20%20%20%3Cscript%20src%3D%22https%3A//cdn.jsdelivr.net/npm/leaflet%401.6.0/dist/leaflet.js%22%3E%3C/script%3E%0A%20%20%20%20%3Cscript%20src%3D%22https%3A//code.jquery.com/jquery-1.12.4.min.js%22%3E%3C/script%3E%0A%20%20%20%20%3Cscript%20src%3D%22https%3A//maxcdn.bootstrapcdn.com/bootstrap/3.2.0/js/bootstrap.min.js%22%3E%3C/script%3E%0A%20%20%20%20%3Cscript%20src%3D%22https%3A//cdnjs.cloudflare.com/ajax/libs/Leaflet.awesome-markers/2.0.2/leaflet.awesome-markers.js%22%3E%3C/script%3E%0A%20%20%20%20%3Clink%20rel%3D%22stylesheet%22%20href%3D%22https%3A//cdn.jsdelivr.net/npm/leaflet%401.6.0/dist/leaflet.css%22/%3E%0A%20%20%20%20%3Clink%20rel%3D%22stylesheet%22%20href%3D%22https%3A//maxcdn.bootstrapcdn.com/bootstrap/3.2.0/css/bootstrap.min.css%22/%3E%0A%20%20%20%20%3Clink%20rel%3D%22stylesheet%22%20href%3D%22https%3A//maxcdn.bootstrapcdn.com/bootstrap/3.2.0/css/bootstrap-theme.min.css%22/%3E%0A%20%20%20%20%3Clink%20rel%3D%22stylesheet%22%20href%3D%22https%3A//maxcdn.bootstrapcdn.com/font-awesome/4.6.3/css/font-awesome.min.css%22/%3E%0A%20%20%20%20%3Clink%20rel%3D%22stylesheet%22%20href%3D%22https%3A//cdnjs.cloudflare.com/ajax/libs/Leaflet.awesome-markers/2.0.2/leaflet.awesome-markers.css%22/%3E%0A%20%20%20%20%3Clink%20rel%3D%22stylesheet%22%20href%3D%22https%3A//cdn.jsdelivr.net/gh/python-visualization/folium/folium/templates/leaflet.awesome.rotate.min.css%22/%3E%0A%20%20%20%20%0A%20%20%20%20%20%20%20%20%20%20%20%20%3Cmeta%20name%3D%22viewport%22%20content%3D%22width%3Ddevice-width%2C%0A%20%20%20%20%20%20%20%20%20%20%20%20%20%20%20%20initial-scale%3D1.0%2C%20maximum-scale%3D1.0%2C%20user-scalable%3Dno%22%20/%3E%0A%20%20%20%20%20%20%20%20%20%20%20%20%3Cstyle%3E%0A%20%20%20%20%20%20%20%20%20%20%20%20%20%20%20%20%23map_56359afdfbbc4dab922831f1ec66b1e9%20%7B%0A%20%20%20%20%20%20%20%20%20%20%20%20%20%20%20%20%20%20%20%20position%3A%20relative%3B%0A%20%20%20%20%20%20%20%20%20%20%20%20%20%20%20%20%20%20%20%20width%3A%20100.0%25%3B%0A%20%20%20%20%20%20%20%20%20%20%20%20%20%20%20%20%20%20%20%20height%3A%20100.0%25%3B%0A%20%20%20%20%20%20%20%20%20%20%20%20%20%20%20%20%20%20%20%20left%3A%200.0%25%3B%0A%20%20%20%20%20%20%20%20%20%20%20%20%20%20%20%20%20%20%20%20top%3A%200.0%25%3B%0A%20%20%20%20%20%20%20%20%20%20%20%20%20%20%20%20%7D%0A%20%20%20%20%20%20%20%20%20%20%20%20%3C/style%3E%0A%20%20%20%20%20%20%20%20%0A%20%20%20%20%3Cscript%20src%3D%22https%3A//cdnjs.cloudflare.com/ajax/libs/leaflet.markercluster/1.1.0/leaflet.markercluster.js%22%3E%3C/script%3E%0A%20%20%20%20%3Clink%20rel%3D%22stylesheet%22%20href%3D%22https%3A//cdnjs.cloudflare.com/ajax/libs/leaflet.markercluster/1.1.0/MarkerCluster.css%22/%3E%0A%20%20%20%20%3Clink%20rel%3D%22stylesheet%22%20href%3D%22https%3A//cdnjs.cloudflare.com/ajax/libs/leaflet.markercluster/1.1.0/MarkerCluster.Default.css%22/%3E%0A%3C/head%3E%0A%3Cbody%3E%20%20%20%20%0A%20%20%20%20%0A%20%20%20%20%20%20%20%20%20%20%20%20%3Cdiv%20class%3D%22folium-map%22%20id%3D%22map_56359afdfbbc4dab922831f1ec66b1e9%22%20%3E%3C/div%3E%0A%20%20%20%20%20%20%20%20%0A%3C/body%3E%0A%3Cscript%3E%20%20%20%20%0A%20%20%20%20%0A%20%20%20%20%20%20%20%20%20%20%20%20var%20map_56359afdfbbc4dab922831f1ec66b1e9%20%3D%20L.map%28%0A%20%20%20%20%20%20%20%20%20%20%20%20%20%20%20%20%22map_56359afdfbbc4dab922831f1ec66b1e9%22%2C%0A%20%20%20%20%20%20%20%20%20%20%20%20%20%20%20%20%7B%0A%20%20%20%20%20%20%20%20%20%20%20%20%20%20%20%20%20%20%20%20center%3A%20%5B0%2C%200%5D%2C%0A%20%20%20%20%20%20%20%20%20%20%20%20%20%20%20%20%20%20%20%20crs%3A%20L.CRS.EPSG3857%2C%0A%20%20%20%20%20%20%20%20%20%20%20%20%20%20%20%20%20%20%20%20zoom%3A%201%2C%0A%20%20%20%20%20%20%20%20%20%20%20%20%20%20%20%20%20%20%20%20zoomControl%3A%20true%2C%0A%20%20%20%20%20%20%20%20%20%20%20%20%20%20%20%20%20%20%20%20preferCanvas%3A%20false%2C%0A%20%20%20%20%20%20%20%20%20%20%20%20%20%20%20%20%7D%0A%20%20%20%20%20%20%20%20%20%20%20%20%29%3B%0A%0A%20%20%20%20%20%20%20%20%20%20%20%20%0A%0A%20%20%20%20%20%20%20%20%0A%20%20%20%20%0A%20%20%20%20%20%20%20%20%20%20%20%20var%20tile_layer_8e522da2ae8840a5bc64e261d31ec40a%20%3D%20L.tileLayer%28%0A%20%20%20%20%20%20%20%20%20%20%20%20%20%20%20%20%22https%3A//cartodb-basemaps-%7Bs%7D.global.ssl.fastly.net/light_all/%7Bz%7D/%7Bx%7D/%7By%7D.png%22%2C%0A%20%20%20%20%20%20%20%20%20%20%20%20%20%20%20%20%7B%22attribution%22%3A%20%22%5Cu0026copy%3B%20%5Cu003ca%20href%3D%5C%22http%3A//www.openstreetmap.org/copyright%5C%22%5Cu003eOpenStreetMap%5Cu003c/a%5Cu003e%20contributors%20%5Cu0026copy%3B%20%5Cu003ca%20href%3D%5C%22http%3A//cartodb.com/attributions%5C%22%5Cu003eCartoDB%5Cu003c/a%5Cu003e%2C%20CartoDB%20%5Cu003ca%20href%20%3D%5C%22http%3A//cartodb.com/attributions%5C%22%5Cu003eattributions%5Cu003c/a%5Cu003e%22%2C%20%22detectRetina%22%3A%20false%2C%20%22maxNativeZoom%22%3A%2018%2C%20%22maxZoom%22%3A%2018%2C%20%22minZoom%22%3A%200%2C%20%22noWrap%22%3A%20false%2C%20%22opacity%22%3A%201%2C%20%22subdomains%22%3A%20%22abc%22%2C%20%22tms%22%3A%20false%7D%0A%20%20%20%20%20%20%20%20%20%20%20%20%29.addTo%28map_56359afdfbbc4dab922831f1ec66b1e9%29%3B%0A%20%20%20%20%20%20%20%20%0A%20%20%20%20%0A%20%20%20%20%20%20%20%20%20%20%20%20var%20marker_cluster_c8dba0ead68d4ac78a1adc98eb432145%20%3D%20L.markerClusterGroup%28%0A%20%20%20%20%20%20%20%20%20%20%20%20%20%20%20%20%7B%7D%0A%20%20%20%20%20%20%20%20%20%20%20%20%29%3B%0A%20%20%20%20%20%20%20%20%20%20%20%20map_56359afdfbbc4dab922831f1ec66b1e9.addLayer%28marker_cluster_c8dba0ead68d4ac78a1adc98eb432145%29%3B%0A%20%20%20%20%20%20%20%20%0A%20%20%20%20%0A%20%20%20%20%20%20%20%20%20%20%20%20var%20circle_marker_11e5f8de92b54e8283b07efd6a288baf%20%3D%20L.circleMarker%28%0A%20%20%20%20%20%20%20%20%20%20%20%20%20%20%20%20%5B40.0332629%2C%20-7.8896263%5D%2C%0A%20%20%20%20%20%20%20%20%20%20%20%20%20%20%20%20%7B%22bubblingMouseEvents%22%3A%20true%2C%20%22color%22%3A%20%22%233388ff%22%2C%20%22dashArray%22%3A%20null%2C%20%22dashOffset%22%3A%20null%2C%20%22fill%22%3A%20true%2C%20%22fillColor%22%3A%20%22%233388ff%22%2C%20%22fillOpacity%22%3A%200.2%2C%20%22fillRule%22%3A%20%22evenodd%22%2C%20%22lineCap%22%3A%20%22round%22%2C%20%22lineJoin%22%3A%20%22round%22%2C%20%22opacity%22%3A%201.0%2C%20%22radius%22%3A%2010%2C%20%22stroke%22%3A%20true%2C%20%22weight%22%3A%203%7D%0A%20%20%20%20%20%20%20%20%20%20%20%20%29.addTo%28marker_cluster_c8dba0ead68d4ac78a1adc98eb432145%29%3B%0A%20%20%20%20%20%20%20%20%0A%20%20%20%20%0A%20%20%20%20%20%20%20%20var%20popup_b6a4b6e1efae49d1b8dadfa4bcdd1e6b%20%3D%20L.popup%28%7B%22maxWidth%22%3A%20%22100%25%22%7D%29%3B%0A%0A%20%20%20%20%20%20%20%20%0A%20%20%20%20%20%20%20%20%20%20%20%20var%20html_ed108ef177fc48d3af83098da7d08623%20%3D%20%24%28%60%3Cdiv%20id%3D%22html_ed108ef177fc48d3af83098da7d08623%22%20style%3D%22width%3A%20100.0%25%3B%20height%3A%20100.0%25%3B%22%3EBruno%20Fernandes%2C%20Manchester%20United%20%20%20%20%20%20%20%20%20%20%20%20%20%20%20%20%20%20%20%20%20Rating%20%3A%2088%20%20%20%20%20%20%20%20%20%20%20%20%20%20%20%20%20%20%20%20%20%3C/div%3E%60%29%5B0%5D%3B%0A%20%20%20%20%20%20%20%20%20%20%20%20popup_b6a4b6e1efae49d1b8dadfa4bcdd1e6b.setContent%28html_ed108ef177fc48d3af83098da7d08623%29%3B%0A%20%20%20%20%20%20%20%20%0A%0A%20%20%20%20%20%20%20%20circle_marker_11e5f8de92b54e8283b07efd6a288baf.bindPopup%28popup_b6a4b6e1efae49d1b8dadfa4bcdd1e6b%29%0A%20%20%20%20%20%20%20%20%3B%0A%0A%20%20%20%20%20%20%20%20%0A%20%20%20%20%0A%20%20%20%20%0A%20%20%20%20%20%20%20%20%20%20%20%20var%20circle_marker_8791c149477b46f98f55709789eb25ad%20%3D%20L.circleMarker%28%0A%20%20%20%20%20%20%20%20%20%20%20%20%20%20%20%20%5B51.0834196%2C%2010.4234469%5D%2C%0A%20%20%20%20%20%20%20%20%20%20%20%20%20%20%20%20%7B%22bubblingMouseEvents%22%3A%20true%2C%20%22color%22%3A%20%22%233388ff%22%2C%20%22dashArray%22%3A%20null%2C%20%22dashOffset%22%3A%20null%2C%20%22fill%22%3A%20true%2C%20%22fillColor%22%3A%20%22%233388ff%22%2C%20%22fillOpacity%22%3A%200.2%2C%20%22fillRule%22%3A%20%22evenodd%22%2C%20%22lineCap%22%3A%20%22round%22%2C%20%22lineJoin%22%3A%20%22round%22%2C%20%22opacity%22%3A%201.0%2C%20%22radius%22%3A%2010%2C%20%22stroke%22%3A%20true%2C%20%22weight%22%3A%203%7D%0A%20%20%20%20%20%20%20%20%20%20%20%20%29.addTo%28marker_cluster_c8dba0ead68d4ac78a1adc98eb432145%29%3B%0A%20%20%20%20%20%20%20%20%0A%20%20%20%20%0A%20%20%20%20%20%20%20%20var%20popup_f857b56700cc4dc28d78dd729d12cf0b%20%3D%20L.popup%28%7B%22maxWidth%22%3A%20%22100%25%22%7D%29%3B%0A%0A%20%20%20%20%20%20%20%20%0A%20%20%20%20%20%20%20%20%20%20%20%20var%20html_ebb1aa0662f44b0d8efbcac2dc91d8e4%20%3D%20%24%28%60%3Cdiv%20id%3D%22html_ebb1aa0662f44b0d8efbcac2dc91d8e4%22%20style%3D%22width%3A%20100.0%25%3B%20height%3A%20100.0%25%3B%22%3EL.%20Goretzka%2C%20FC%20Bayern%20M%C3%BCnchen%20%20%20%20%20%20%20%20%20%20%20%20%20%20%20%20%20%20%20%20%20Rating%20%3A%2087%20%20%20%20%20%20%20%20%20%20%20%20%20%20%20%20%20%20%20%20%20%3C/div%3E%60%29%5B0%5D%3B%0A%20%20%20%20%20%20%20%20%20%20%20%20popup_f857b56700cc4dc28d78dd729d12cf0b.setContent%28html_ebb1aa0662f44b0d8efbcac2dc91d8e4%29%3B%0A%20%20%20%20%20%20%20%20%0A%0A%20%20%20%20%20%20%20%20circle_marker_8791c149477b46f98f55709789eb25ad.bindPopup%28popup_f857b56700cc4dc28d78dd729d12cf0b%29%0A%20%20%20%20%20%20%20%20%3B%0A%0A%20%20%20%20%20%20%20%20%0A%20%20%20%20%0A%20%20%20%20%0A%20%20%20%20%20%20%20%20%20%20%20%20var%20circle_marker_0d27b2686dae4718a8759da81094aae8%20%3D%20L.circleMarker%28%0A%20%20%20%20%20%20%20%20%20%20%20%20%20%20%20%20%5B-32.8755548%2C%20-56.0201525%5D%2C%0A%20%20%20%20%20%20%20%20%20%20%20%20%20%20%20%20%7B%22bubblingMouseEvents%22%3A%20true%2C%20%22color%22%3A%20%22%233388ff%22%2C%20%22dashArray%22%3A%20null%2C%20%22dashOffset%22%3A%20null%2C%20%22fill%22%3A%20true%2C%20%22fillColor%22%3A%20%22%233388ff%22%2C%20%22fillOpacity%22%3A%200.2%2C%20%22fillRule%22%3A%20%22evenodd%22%2C%20%22lineCap%22%3A%20%22round%22%2C%20%22lineJoin%22%3A%20%22round%22%2C%20%22opacity%22%3A%201.0%2C%20%22radius%22%3A%2010%2C%20%22stroke%22%3A%20true%2C%20%22weight%22%3A%203%7D%0A%20%20%20%20%20%20%20%20%20%20%20%20%29.addTo%28marker_cluster_c8dba0ead68d4ac78a1adc98eb432145%29%3B%0A%20%20%20%20%20%20%20%20%0A%20%20%20%20%0A%20%20%20%20%20%20%20%20var%20popup_54d4295ee9b3445887fcd687d0964c48%20%3D%20L.popup%28%7B%22maxWidth%22%3A%20%22100%25%22%7D%29%3B%0A%0A%20%20%20%20%20%20%20%20%0A%20%20%20%20%20%20%20%20%20%20%20%20var%20html_214aa3128f3340bdaca2e034ad45f7c2%20%3D%20%24%28%60%3Cdiv%20id%3D%22html_214aa3128f3340bdaca2e034ad45f7c2%22%20style%3D%22width%3A%20100.0%25%3B%20height%3A%20100.0%25%3B%22%3EL.%20Suarez%2C%20Atl%C3%A9tico%20de%20Madrid%20%20%20%20%20%20%20%20%20%20%20%20%20%20%20%20%20%20%20%20%20Rating%20%3A%2088%20%20%20%20%20%20%20%20%20%20%20%20%20%20%20%20%20%20%20%20%20%3C/div%3E%60%29%5B0%5D%3B%0A%20%20%20%20%20%20%20%20%20%20%20%20popup_54d4295ee9b3445887fcd687d0964c48.setContent%28html_214aa3128f3340bdaca2e034ad45f7c2%29%3B%0A%20%20%20%20%20%20%20%20%0A%0A%20%20%20%20%20%20%20%20circle_marker_0d27b2686dae4718a8759da81094aae8.bindPopup%28popup_54d4295ee9b3445887fcd687d0964c48%29%0A%20%20%20%20%20%20%20%20%3B%0A%0A%20%20%20%20%20%20%20%20%0A%20%20%20%20%0A%20%20%20%20%0A%20%20%20%20%20%20%20%20%20%20%20%20var%20circle_marker_a78566dd53a04e60a737cffd2343fa49%20%3D%20L.circleMarker%28%0A%20%20%20%20%20%20%20%20%20%20%20%20%20%20%20%20%5B50.6402809%2C%204.6667145%5D%2C%0A%20%20%20%20%20%20%20%20%20%20%20%20%20%20%20%20%7B%22bubblingMouseEvents%22%3A%20true%2C%20%22color%22%3A%20%22%233388ff%22%2C%20%22dashArray%22%3A%20null%2C%20%22dashOffset%22%3A%20null%2C%20%22fill%22%3A%20true%2C%20%22fillColor%22%3A%20%22%233388ff%22%2C%20%22fillOpacity%22%3A%200.2%2C%20%22fillRule%22%3A%20%22evenodd%22%2C%20%22lineCap%22%3A%20%22round%22%2C%20%22lineJoin%22%3A%20%22round%22%2C%20%22opacity%22%3A%201.0%2C%20%22radius%22%3A%2010%2C%20%22stroke%22%3A%20true%2C%20%22weight%22%3A%203%7D%0A%20%20%20%20%20%20%20%20%20%20%20%20%29.addTo%28marker_cluster_c8dba0ead68d4ac78a1adc98eb432145%29%3B%0A%20%20%20%20%20%20%20%20%0A%20%20%20%20%0A%20%20%20%20%20%20%20%20var%20popup_20b713eea8b74db091d271a97caea6f4%20%3D%20L.popup%28%7B%22maxWidth%22%3A%20%22100%25%22%7D%29%3B%0A%0A%20%20%20%20%20%20%20%20%0A%20%20%20%20%20%20%20%20%20%20%20%20var%20html_ce290a94fcb44bd7a033fe2e75e759f1%20%3D%20%24%28%60%3Cdiv%20id%3D%22html_ce290a94fcb44bd7a033fe2e75e759f1%22%20style%3D%22width%3A%20100.0%25%3B%20height%3A%20100.0%25%3B%22%3EK.%20De%20Bruyne%2C%20Manchester%20City%20%20%20%20%20%20%20%20%20%20%20%20%20%20%20%20%20%20%20%20%20Rating%20%3A%2091%20%20%20%20%20%20%20%20%20%20%20%20%20%20%20%20%20%20%20%20%20%3C/div%3E%60%29%5B0%5D%3B%0A%20%20%20%20%20%20%20%20%20%20%20%20popup_20b713eea8b74db091d271a97caea6f4.setContent%28html_ce290a94fcb44bd7a033fe2e75e759f1%29%3B%0A%20%20%20%20%20%20%20%20%0A%0A%20%20%20%20%20%20%20%20circle_marker_a78566dd53a04e60a737cffd2343fa49.bindPopup%28popup_20b713eea8b74db091d271a97caea6f4%29%0A%20%20%20%20%20%20%20%20%3B%0A%0A%20%20%20%20%20%20%20%20%0A%20%20%20%20%0A%20%20%20%20%0A%20%20%20%20%20%20%20%20%20%20%20%20var%20circle_marker_080007a7265040c9b44e6fdf35e2b5e3%20%3D%20L.circleMarker%28%0A%20%20%20%20%20%20%20%20%20%20%20%20%20%20%20%20%5B51.0834196%2C%2010.4234469%5D%2C%0A%20%20%20%20%20%20%20%20%20%20%20%20%20%20%20%20%7B%22bubblingMouseEvents%22%3A%20true%2C%20%22color%22%3A%20%22%233388ff%22%2C%20%22dashArray%22%3A%20null%2C%20%22dashOffset%22%3A%20null%2C%20%22fill%22%3A%20true%2C%20%22fillColor%22%3A%20%22%233388ff%22%2C%20%22fillOpacity%22%3A%200.2%2C%20%22fillRule%22%3A%20%22evenodd%22%2C%20%22lineCap%22%3A%20%22round%22%2C%20%22lineJoin%22%3A%20%22round%22%2C%20%22opacity%22%3A%201.0%2C%20%22radius%22%3A%2010%2C%20%22stroke%22%3A%20true%2C%20%22weight%22%3A%203%7D%0A%20%20%20%20%20%20%20%20%20%20%20%20%29.addTo%28marker_cluster_c8dba0ead68d4ac78a1adc98eb432145%29%3B%0A%20%20%20%20%20%20%20%20%0A%20%20%20%20%0A%20%20%20%20%20%20%20%20var%20popup_6fa57290bab64bb7a8892c56be5539db%20%3D%20L.popup%28%7B%22maxWidth%22%3A%20%22100%25%22%7D%29%3B%0A%0A%20%20%20%20%20%20%20%20%0A%20%20%20%20%20%20%20%20%20%20%20%20var%20html_c59f2dfa786349e9a2d08b6126c16df1%20%3D%20%24%28%60%3Cdiv%20id%3D%22html_c59f2dfa786349e9a2d08b6126c16df1%22%20style%3D%22width%3A%20100.0%25%3B%20height%3A%20100.0%25%3B%22%3EJ.%20Kimmich%2C%20FC%20Bayern%20M%C3%BCnchen%20%20%20%20%20%20%20%20%20%20%20%20%20%20%20%20%20%20%20%20%20Rating%20%3A%2089%20%20%20%20%20%20%20%20%20%20%20%20%20%20%20%20%20%20%20%20%20%3C/div%3E%60%29%5B0%5D%3B%0A%20%20%20%20%20%20%20%20%20%20%20%20popup_6fa57290bab64bb7a8892c56be5539db.setContent%28html_c59f2dfa786349e9a2d08b6126c16df1%29%3B%0A%20%20%20%20%20%20%20%20%0A%0A%20%20%20%20%20%20%20%20circle_marker_080007a7265040c9b44e6fdf35e2b5e3.bindPopup%28popup_6fa57290bab64bb7a8892c56be5539db%29%0A%20%20%20%20%20%20%20%20%3B%0A%0A%20%20%20%20%20%20%20%20%0A%20%20%20%20%0A%20%20%20%20%0A%20%20%20%20%20%20%20%20%20%20%20%20var%20circle_marker_4e6f50d983fe4d05949894c8d1136f0d%20%3D%20L.circleMarker%28%0A%20%20%20%20%20%20%20%20%20%20%20%20%20%20%20%20%5B45.5643442%2C%2017.0118954%5D%2C%0A%20%20%20%20%20%20%20%20%20%20%20%20%20%20%20%20%7B%22bubblingMouseEvents%22%3A%20true%2C%20%22color%22%3A%20%22%233388ff%22%2C%20%22dashArray%22%3A%20null%2C%20%22dashOffset%22%3A%20null%2C%20%22fill%22%3A%20true%2C%20%22fillColor%22%3A%20%22%233388ff%22%2C%20%22fillOpacity%22%3A%200.2%2C%20%22fillRule%22%3A%20%22evenodd%22%2C%20%22lineCap%22%3A%20%22round%22%2C%20%22lineJoin%22%3A%20%22round%22%2C%20%22opacity%22%3A%201.0%2C%20%22radius%22%3A%2010%2C%20%22stroke%22%3A%20true%2C%20%22weight%22%3A%203%7D%0A%20%20%20%20%20%20%20%20%20%20%20%20%29.addTo%28marker_cluster_c8dba0ead68d4ac78a1adc98eb432145%29%3B%0A%20%20%20%20%20%20%20%20%0A%20%20%20%20%0A%20%20%20%20%20%20%20%20var%20popup_95c9621b2ffd4370b356a62c5519a855%20%3D%20L.popup%28%7B%22maxWidth%22%3A%20%22100%25%22%7D%29%3B%0A%0A%20%20%20%20%20%20%20%20%0A%20%20%20%20%20%20%20%20%20%20%20%20var%20html_58fca8d1754a45909b7e469c1b99017d%20%3D%20%24%28%60%3Cdiv%20id%3D%22html_58fca8d1754a45909b7e469c1b99017d%22%20style%3D%22width%3A%20100.0%25%3B%20height%3A%20100.0%25%3B%22%3EL.%20Modric%2C%20Real%20Madrid%20CF%20%20%20%20%20%20%20%20%20%20%20%20%20%20%20%20%20%20%20%20%20Rating%20%3A%2087%20%20%20%20%20%20%20%20%20%20%20%20%20%20%20%20%20%20%20%20%20%3C/div%3E%60%29%5B0%5D%3B%0A%20%20%20%20%20%20%20%20%20%20%20%20popup_95c9621b2ffd4370b356a62c5519a855.setContent%28html_58fca8d1754a45909b7e469c1b99017d%29%3B%0A%20%20%20%20%20%20%20%20%0A%0A%20%20%20%20%20%20%20%20circle_marker_4e6f50d983fe4d05949894c8d1136f0d.bindPopup%28popup_95c9621b2ffd4370b356a62c5519a855%29%0A%20%20%20%20%20%20%20%20%3B%0A%0A%20%20%20%20%20%20%20%20%0A%20%20%20%20%0A%20%20%20%20%0A%20%20%20%20%20%20%20%20%20%20%20%20var%20circle_marker_d461850ef5a743bd8dbb6585cb9bd8fd%20%3D%20L.circleMarker%28%0A%20%20%20%20%20%20%20%20%20%20%20%20%20%20%20%20%5B39.3260685%2C%20-4.8379791%5D%2C%0A%20%20%20%20%20%20%20%20%20%20%20%20%20%20%20%20%7B%22bubblingMouseEvents%22%3A%20true%2C%20%22color%22%3A%20%22%233388ff%22%2C%20%22dashArray%22%3A%20null%2C%20%22dashOffset%22%3A%20null%2C%20%22fill%22%3A%20true%2C%20%22fillColor%22%3A%20%22%233388ff%22%2C%20%22fillOpacity%22%3A%200.2%2C%20%22fillRule%22%3A%20%22evenodd%22%2C%20%22lineCap%22%3A%20%22round%22%2C%20%22lineJoin%22%3A%20%22round%22%2C%20%22opacity%22%3A%201.0%2C%20%22radius%22%3A%2010%2C%20%22stroke%22%3A%20true%2C%20%22weight%22%3A%203%7D%0A%20%20%20%20%20%20%20%20%20%20%20%20%29.addTo%28marker_cluster_c8dba0ead68d4ac78a1adc98eb432145%29%3B%0A%20%20%20%20%20%20%20%20%0A%20%20%20%20%0A%20%20%20%20%20%20%20%20var%20popup_672c0e3270f748ecba9df69435173cdd%20%3D%20L.popup%28%7B%22maxWidth%22%3A%20%22100%25%22%7D%29%3B%0A%0A%20%20%20%20%20%20%20%20%0A%20%20%20%20%20%20%20%20%20%20%20%20var%20html_1f22a7ad38f041de8069b731a7731e5c%20%3D%20%24%28%60%3Cdiv%20id%3D%22html_1f22a7ad38f041de8069b731a7731e5c%22%20style%3D%22width%3A%20100.0%25%3B%20height%3A%20100.0%25%3B%22%3EMarcos%20Llorente%2C%20Atl%C3%A9tico%20de%20Madrid%20%20%20%20%20%20%20%20%20%20%20%20%20%20%20%20%20%20%20%20%20Rating%20%3A%2086%20%20%20%20%20%20%20%20%20%20%20%20%20%20%20%20%20%20%20%20%20%3C/div%3E%60%29%5B0%5D%3B%0A%20%20%20%20%20%20%20%20%20%20%20%20popup_672c0e3270f748ecba9df69435173cdd.setContent%28html_1f22a7ad38f041de8069b731a7731e5c%29%3B%0A%20%20%20%20%20%20%20%20%0A%0A%20%20%20%20%20%20%20%20circle_marker_d461850ef5a743bd8dbb6585cb9bd8fd.bindPopup%28popup_672c0e3270f748ecba9df69435173cdd%29%0A%20%20%20%20%20%20%20%20%3B%0A%0A%20%20%20%20%20%20%20%20%0A%20%20%20%20%0A%20%20%20%20%0A%20%20%20%20%20%20%20%20%20%20%20%20var%20circle_marker_05e1c50baa4643998834016c82b042b6%20%3D%20L.circleMarker%28%0A%20%20%20%20%20%20%20%20%20%20%20%20%20%20%20%20%5B39.3260685%2C%20-4.8379791%5D%2C%0A%20%20%20%20%20%20%20%20%20%20%20%20%20%20%20%20%7B%22bubblingMouseEvents%22%3A%20true%2C%20%22color%22%3A%20%22%233388ff%22%2C%20%22dashArray%22%3A%20null%2C%20%22dashOffset%22%3A%20null%2C%20%22fill%22%3A%20true%2C%20%22fillColor%22%3A%20%22%233388ff%22%2C%20%22fillOpacity%22%3A%200.2%2C%20%22fillRule%22%3A%20%22evenodd%22%2C%20%22lineCap%22%3A%20%22round%22%2C%20%22lineJoin%22%3A%20%22round%22%2C%20%22opacity%22%3A%201.0%2C%20%22radius%22%3A%2010%2C%20%22stroke%22%3A%20true%2C%20%22weight%22%3A%203%7D%0A%20%20%20%20%20%20%20%20%20%20%20%20%29.addTo%28marker_cluster_c8dba0ead68d4ac78a1adc98eb432145%29%3B%0A%20%20%20%20%20%20%20%20%0A%20%20%20%20%0A%20%20%20%20%20%20%20%20var%20popup_09be3cbadfc54426b1f8fee2638b61fd%20%3D%20L.popup%28%7B%22maxWidth%22%3A%20%22100%25%22%7D%29%3B%0A%0A%20%20%20%20%20%20%20%20%0A%20%20%20%20%20%20%20%20%20%20%20%20var%20html_3bb2d41a18024bdab1768134388f32f4%20%3D%20%24%28%60%3Cdiv%20id%3D%22html_3bb2d41a18024bdab1768134388f32f4%22%20style%3D%22width%3A%20100.0%25%3B%20height%3A%20100.0%25%3B%22%3ESergio%20Ramos%2C%20Paris%20Saint-Germain%20%20%20%20%20%20%20%20%20%20%20%20%20%20%20%20%20%20%20%20%20Rating%20%3A%2088%20%20%20%20%20%20%20%20%20%20%20%20%20%20%20%20%20%20%20%20%20%3C/div%3E%60%29%5B0%5D%3B%0A%20%20%20%20%20%20%20%20%20%20%20%20popup_09be3cbadfc54426b1f8fee2638b61fd.setContent%28html_3bb2d41a18024bdab1768134388f32f4%29%3B%0A%20%20%20%20%20%20%20%20%0A%0A%20%20%20%20%20%20%20%20circle_marker_05e1c50baa4643998834016c82b042b6.bindPopup%28popup_09be3cbadfc54426b1f8fee2638b61fd%29%0A%20%20%20%20%20%20%20%20%3B%0A%0A%20%20%20%20%20%20%20%20%0A%20%20%20%20%0A%20%20%20%20%0A%20%20%20%20%20%20%20%20%20%20%20%20var%20circle_marker_7ad739b1b7d5462d8f21a38fca7154e8%20%3D%20L.circleMarker%28%0A%20%20%20%20%20%20%20%20%20%20%20%20%20%20%20%20%5B52.15517%2C%205.38721%5D%2C%0A%20%20%20%20%20%20%20%20%20%20%20%20%20%20%20%20%7B%22bubblingMouseEvents%22%3A%20true%2C%20%22color%22%3A%20%22%233388ff%22%2C%20%22dashArray%22%3A%20null%2C%20%22dashOffset%22%3A%20null%2C%20%22fill%22%3A%20true%2C%20%22fillColor%22%3A%20%22%233388ff%22%2C%20%22fillOpacity%22%3A%200.2%2C%20%22fillRule%22%3A%20%22evenodd%22%2C%20%22lineCap%22%3A%20%22round%22%2C%20%22lineJoin%22%3A%20%22round%22%2C%20%22opacity%22%3A%201.0%2C%20%22radius%22%3A%2010%2C%20%22stroke%22%3A%20true%2C%20%22weight%22%3A%203%7D%0A%20%20%20%20%20%20%20%20%20%20%20%20%29.addTo%28marker_cluster_c8dba0ead68d4ac78a1adc98eb432145%29%3B%0A%20%20%20%20%20%20%20%20%0A%20%20%20%20%0A%20%20%20%20%20%20%20%20var%20popup_77539c84766d415b957041635d38692e%20%3D%20L.popup%28%7B%22maxWidth%22%3A%20%22100%25%22%7D%29%3B%0A%0A%20%20%20%20%20%20%20%20%0A%20%20%20%20%20%20%20%20%20%20%20%20var%20html_179857e5a2b64458b15c271ed4fb85e1%20%3D%20%24%28%60%3Cdiv%20id%3D%22html_179857e5a2b64458b15c271ed4fb85e1%22%20style%3D%22width%3A%20100.0%25%3B%20height%3A%20100.0%25%3B%22%3EF.%20de%20Jong%2C%20FC%20Barcelona%20%20%20%20%20%20%20%20%20%20%20%20%20%20%20%20%20%20%20%20%20Rating%20%3A%2087%20%20%20%20%20%20%20%20%20%20%20%20%20%20%20%20%20%20%20%20%20%3C/div%3E%60%29%5B0%5D%3B%0A%20%20%20%20%20%20%20%20%20%20%20%20popup_77539c84766d415b957041635d38692e.setContent%28html_179857e5a2b64458b15c271ed4fb85e1%29%3B%0A%20%20%20%20%20%20%20%20%0A%0A%20%20%20%20%20%20%20%20circle_marker_7ad739b1b7d5462d8f21a38fca7154e8.bindPopup%28popup_77539c84766d415b957041635d38692e%29%0A%20%20%20%20%20%20%20%20%3B%0A%0A%20%20%20%20%20%20%20%20%0A%20%20%20%20%0A%20%20%20%20%0A%20%20%20%20%20%20%20%20%20%20%20%20var%20circle_marker_474ecf53942e4e90b29c559403c214f2%20%3D%20L.circleMarker%28%0A%20%20%20%20%20%20%20%20%20%20%20%20%20%20%20%20%5B40.0332629%2C%20-7.8896263%5D%2C%0A%20%20%20%20%20%20%20%20%20%20%20%20%20%20%20%20%7B%22bubblingMouseEvents%22%3A%20true%2C%20%22color%22%3A%20%22%233388ff%22%2C%20%22dashArray%22%3A%20null%2C%20%22dashOffset%22%3A%20null%2C%20%22fill%22%3A%20true%2C%20%22fillColor%22%3A%20%22%233388ff%22%2C%20%22fillOpacity%22%3A%200.2%2C%20%22fillRule%22%3A%20%22evenodd%22%2C%20%22lineCap%22%3A%20%22round%22%2C%20%22lineJoin%22%3A%20%22round%22%2C%20%22opacity%22%3A%201.0%2C%20%22radius%22%3A%2010%2C%20%22stroke%22%3A%20true%2C%20%22weight%22%3A%203%7D%0A%20%20%20%20%20%20%20%20%20%20%20%20%29.addTo%28marker_cluster_c8dba0ead68d4ac78a1adc98eb432145%29%3B%0A%20%20%20%20%20%20%20%20%0A%20%20%20%20%0A%20%20%20%20%20%20%20%20var%20popup_56787b801d734d4f87b2b414769a600c%20%3D%20L.popup%28%7B%22maxWidth%22%3A%20%22100%25%22%7D%29%3B%0A%0A%20%20%20%20%20%20%20%20%0A%20%20%20%20%20%20%20%20%20%20%20%20var%20html_2407a6d3d7964fa8b2a3219e6f65fa74%20%3D%20%24%28%60%3Cdiv%20id%3D%22html_2407a6d3d7964fa8b2a3219e6f65fa74%22%20style%3D%22width%3A%20100.0%25%3B%20height%3A%20100.0%25%3B%22%3EJoao%20Cancelo%2C%20Manchester%20City%20%20%20%20%20%20%20%20%20%20%20%20%20%20%20%20%20%20%20%20%20Rating%20%3A%2086%20%20%20%20%20%20%20%20%20%20%20%20%20%20%20%20%20%20%20%20%20%3C/div%3E%60%29%5B0%5D%3B%0A%20%20%20%20%20%20%20%20%20%20%20%20popup_56787b801d734d4f87b2b414769a600c.setContent%28html_2407a6d3d7964fa8b2a3219e6f65fa74%29%3B%0A%20%20%20%20%20%20%20%20%0A%0A%20%20%20%20%20%20%20%20circle_marker_474ecf53942e4e90b29c559403c214f2.bindPopup%28popup_56787b801d734d4f87b2b414769a600c%29%0A%20%20%20%20%20%20%20%20%3B%0A%0A%20%20%20%20%20%20%20%20%0A%20%20%20%20%0A%20%20%20%20%0A%20%20%20%20%20%20%20%20%20%20%20%20var%20circle_marker_23f0211b74934795818f44daee7e8595%20%3D%20L.circleMarker%28%0A%20%20%20%20%20%20%20%20%20%20%20%20%20%20%20%20%5B52.5310214%2C%20-1.2649062%5D%2C%0A%20%20%20%20%20%20%20%20%20%20%20%20%20%20%20%20%7B%22bubblingMouseEvents%22%3A%20true%2C%20%22color%22%3A%20%22%233388ff%22%2C%20%22dashArray%22%3A%20null%2C%20%22dashOffset%22%3A%20null%2C%20%22fill%22%3A%20true%2C%20%22fillColor%22%3A%20%22%233388ff%22%2C%20%22fillOpacity%22%3A%200.2%2C%20%22fillRule%22%3A%20%22evenodd%22%2C%20%22lineCap%22%3A%20%22round%22%2C%20%22lineJoin%22%3A%20%22round%22%2C%20%22opacity%22%3A%201.0%2C%20%22radius%22%3A%2010%2C%20%22stroke%22%3A%20true%2C%20%22weight%22%3A%203%7D%0A%20%20%20%20%20%20%20%20%20%20%20%20%29.addTo%28marker_cluster_c8dba0ead68d4ac78a1adc98eb432145%29%3B%0A%20%20%20%20%20%20%20%20%0A%20%20%20%20%0A%20%20%20%20%20%20%20%20var%20popup_b1a772f065b946fda30206a8b3efd7d9%20%3D%20L.popup%28%7B%22maxWidth%22%3A%20%22100%25%22%7D%29%3B%0A%0A%20%20%20%20%20%20%20%20%0A%20%20%20%20%20%20%20%20%20%20%20%20var%20html_3d206e199aab43f08e3660c6552dc124%20%3D%20%24%28%60%3Cdiv%20id%3D%22html_3d206e199aab43f08e3660c6552dc124%22%20style%3D%22width%3A%20100.0%25%3B%20height%3A%20100.0%25%3B%22%3ET.%20Alexander-Arnold%2C%20Liverpool%20%20%20%20%20%20%20%20%20%20%20%20%20%20%20%20%20%20%20%20%20Rating%20%3A%2087%20%20%20%20%20%20%20%20%20%20%20%20%20%20%20%20%20%20%20%20%20%3C/div%3E%60%29%5B0%5D%3B%0A%20%20%20%20%20%20%20%20%20%20%20%20popup_b1a772f065b946fda30206a8b3efd7d9.setContent%28html_3d206e199aab43f08e3660c6552dc124%29%3B%0A%20%20%20%20%20%20%20%20%0A%0A%20%20%20%20%20%20%20%20circle_marker_23f0211b74934795818f44daee7e8595.bindPopup%28popup_b1a772f065b946fda30206a8b3efd7d9%29%0A%20%20%20%20%20%20%20%20%3B%0A%0A%20%20%20%20%20%20%20%20%0A%20%20%20%20%0A%20%20%20%20%0A%20%20%20%20%20%20%20%20%20%20%20%20var%20circle_marker_36dfacfb7af54b2f9ba893516c4c0103%20%3D%20L.circleMarker%28%0A%20%20%20%20%20%20%20%20%20%20%20%20%20%20%20%20%5B46.603354%2C%201.8883335%5D%2C%0A%20%20%20%20%20%20%20%20%20%20%20%20%20%20%20%20%7B%22bubblingMouseEvents%22%3A%20true%2C%20%22color%22%3A%20%22%233388ff%22%2C%20%22dashArray%22%3A%20null%2C%20%22dashOffset%22%3A%20null%2C%20%22fill%22%3A%20true%2C%20%22fillColor%22%3A%20%22%233388ff%22%2C%20%22fillOpacity%22%3A%200.2%2C%20%22fillRule%22%3A%20%22evenodd%22%2C%20%22lineCap%22%3A%20%22round%22%2C%20%22lineJoin%22%3A%20%22round%22%2C%20%22opacity%22%3A%201.0%2C%20%22radius%22%3A%2010%2C%20%22stroke%22%3A%20true%2C%20%22weight%22%3A%203%7D%0A%20%20%20%20%20%20%20%20%20%20%20%20%29.addTo%28marker_cluster_c8dba0ead68d4ac78a1adc98eb432145%29%3B%0A%20%20%20%20%20%20%20%20%0A%20%20%20%20%0A%20%20%20%20%20%20%20%20var%20popup_e8395bc4838f4030b59158f7aab9f108%20%3D%20L.popup%28%7B%22maxWidth%22%3A%20%22100%25%22%7D%29%3B%0A%0A%20%20%20%20%20%20%20%20%0A%20%20%20%20%20%20%20%20%20%20%20%20var%20html_7e04d5ceae48409789abb7988f46d016%20%3D%20%24%28%60%3Cdiv%20id%3D%22html_7e04d5ceae48409789abb7988f46d016%22%20style%3D%22width%3A%20100.0%25%3B%20height%3A%20100.0%25%3B%22%3EP.%20Pogba%2C%20Manchester%20United%20%20%20%20%20%20%20%20%20%20%20%20%20%20%20%20%20%20%20%20%20Rating%20%3A%2087%20%20%20%20%20%20%20%20%20%20%20%20%20%20%20%20%20%20%20%20%20%3C/div%3E%60%29%5B0%5D%3B%0A%20%20%20%20%20%20%20%20%20%20%20%20popup_e8395bc4838f4030b59158f7aab9f108.setContent%28html_7e04d5ceae48409789abb7988f46d016%29%3B%0A%20%20%20%20%20%20%20%20%0A%0A%20%20%20%20%20%20%20%20circle_marker_36dfacfb7af54b2f9ba893516c4c0103.bindPopup%28popup_e8395bc4838f4030b59158f7aab9f108%29%0A%20%20%20%20%20%20%20%20%3B%0A%0A%20%20%20%20%20%20%20%20%0A%20%20%20%20%0A%20%20%20%20%0A%20%20%20%20%20%20%20%20%20%20%20%20var%20circle_marker_c16b1770e01c46779212b70e7246db52%20%3D%20L.circleMarker%28%0A%20%20%20%20%20%20%20%20%20%20%20%20%20%20%20%20%5B-10.3333333%2C%20-53.2%5D%2C%0A%20%20%20%20%20%20%20%20%20%20%20%20%20%20%20%20%7B%22bubblingMouseEvents%22%3A%20true%2C%20%22color%22%3A%20%22%233388ff%22%2C%20%22dashArray%22%3A%20null%2C%20%22dashOffset%22%3A%20null%2C%20%22fill%22%3A%20true%2C%20%22fillColor%22%3A%20%22%233388ff%22%2C%20%22fillOpacity%22%3A%200.2%2C%20%22fillRule%22%3A%20%22evenodd%22%2C%20%22lineCap%22%3A%20%22round%22%2C%20%22lineJoin%22%3A%20%22round%22%2C%20%22opacity%22%3A%201.0%2C%20%22radius%22%3A%2010%2C%20%22stroke%22%3A%20true%2C%20%22weight%22%3A%203%7D%0A%20%20%20%20%20%20%20%20%20%20%20%20%29.addTo%28marker_cluster_c8dba0ead68d4ac78a1adc98eb432145%29%3B%0A%20%20%20%20%20%20%20%20%0A%20%20%20%20%0A%20%20%20%20%20%20%20%20var%20popup_5bdd3f4496f54ae79a6cf3f07e22eaf1%20%3D%20L.popup%28%7B%22maxWidth%22%3A%20%22100%25%22%7D%29%3B%0A%0A%20%20%20%20%20%20%20%20%0A%20%20%20%20%20%20%20%20%20%20%20%20var%20html_4513fe386bc74af5a1f5d6b71bc6b218%20%3D%20%24%28%60%3Cdiv%20id%3D%22html_4513fe386bc74af5a1f5d6b71bc6b218%22%20style%3D%22width%3A%20100.0%25%3B%20height%3A%20100.0%25%3B%22%3ECasemiro%2C%20Real%20Madrid%20CF%20%20%20%20%20%20%20%20%20%20%20%20%20%20%20%20%20%20%20%20%20Rating%20%3A%2089%20%20%20%20%20%20%20%20%20%20%20%20%20%20%20%20%20%20%20%20%20%3C/div%3E%60%29%5B0%5D%3B%0A%20%20%20%20%20%20%20%20%20%20%20%20popup_5bdd3f4496f54ae79a6cf3f07e22eaf1.setContent%28html_4513fe386bc74af5a1f5d6b71bc6b218%29%3B%0A%20%20%20%20%20%20%20%20%0A%0A%20%20%20%20%20%20%20%20circle_marker_c16b1770e01c46779212b70e7246db52.bindPopup%28popup_5bdd3f4496f54ae79a6cf3f07e22eaf1%29%0A%20%20%20%20%20%20%20%20%3B%0A%0A%20%20%20%20%20%20%20%20%0A%20%20%20%20%0A%20%20%20%20%0A%20%20%20%20%20%20%20%20%20%20%20%20var%20circle_marker_a3a52ef2b38348b1858122c7f329a5f4%20%3D%20L.circleMarker%28%0A%20%20%20%20%20%20%20%20%20%20%20%20%20%20%20%20%5B-34.9964963%2C%20-64.9672817%5D%2C%0A%20%20%20%20%20%20%20%20%20%20%20%20%20%20%20%20%7B%22bubblingMouseEvents%22%3A%20true%2C%20%22color%22%3A%20%22%233388ff%22%2C%20%22dashArray%22%3A%20null%2C%20%22dashOffset%22%3A%20null%2C%20%22fill%22%3A%20true%2C%20%22fillColor%22%3A%20%22%233388ff%22%2C%20%22fillOpacity%22%3A%200.2%2C%20%22fillRule%22%3A%20%22evenodd%22%2C%20%22lineCap%22%3A%20%22round%22%2C%20%22lineJoin%22%3A%20%22round%22%2C%20%22opacity%22%3A%201.0%2C%20%22radius%22%3A%2010%2C%20%22stroke%22%3A%20true%2C%20%22weight%22%3A%203%7D%0A%20%20%20%20%20%20%20%20%20%20%20%20%29.addTo%28marker_cluster_c8dba0ead68d4ac78a1adc98eb432145%29%3B%0A%20%20%20%20%20%20%20%20%0A%20%20%20%20%0A%20%20%20%20%20%20%20%20var%20popup_b29a5dea423d4d839f268633354794d4%20%3D%20L.popup%28%7B%22maxWidth%22%3A%20%22100%25%22%7D%29%3B%0A%0A%20%20%20%20%20%20%20%20%0A%20%20%20%20%20%20%20%20%20%20%20%20var%20html_907411050c2241cb8e0aad3928d55f54%20%3D%20%24%28%60%3Cdiv%20id%3D%22html_907411050c2241cb8e0aad3928d55f54%22%20style%3D%22width%3A%20100.0%25%3B%20height%3A%20100.0%25%3B%22%3EL.%20Messi%2C%20Paris%20Saint-Germain%20%20%20%20%20%20%20%20%20%20%20%20%20%20%20%20%20%20%20%20%20Rating%20%3A%2093%20%20%20%20%20%20%20%20%20%20%20%20%20%20%20%20%20%20%20%20%20%3C/div%3E%60%29%5B0%5D%3B%0A%20%20%20%20%20%20%20%20%20%20%20%20popup_b29a5dea423d4d839f268633354794d4.setContent%28html_907411050c2241cb8e0aad3928d55f54%29%3B%0A%20%20%20%20%20%20%20%20%0A%0A%20%20%20%20%20%20%20%20circle_marker_a3a52ef2b38348b1858122c7f329a5f4.bindPopup%28popup_b29a5dea423d4d839f268633354794d4%29%0A%20%20%20%20%20%20%20%20%3B%0A%0A%20%20%20%20%20%20%20%20%0A%20%20%20%20%0A%20%20%20%20%0A%20%20%20%20%20%20%20%20%20%20%20%20var%20circle_marker_e543ac38daa24951aa41818140921c09%20%3D%20L.circleMarker%28%0A%20%20%20%20%20%20%20%20%20%20%20%20%20%20%20%20%5B39.3260685%2C%20-4.8379791%5D%2C%0A%20%20%20%20%20%20%20%20%20%20%20%20%20%20%20%20%7B%22bubblingMouseEvents%22%3A%20true%2C%20%22color%22%3A%20%22%233388ff%22%2C%20%22dashArray%22%3A%20null%2C%20%22dashOffset%22%3A%20null%2C%20%22fill%22%3A%20true%2C%20%22fillColor%22%3A%20%22%233388ff%22%2C%20%22fillOpacity%22%3A%200.2%2C%20%22fillRule%22%3A%20%22evenodd%22%2C%20%22lineCap%22%3A%20%22round%22%2C%20%22lineJoin%22%3A%20%22round%22%2C%20%22opacity%22%3A%201.0%2C%20%22radius%22%3A%2010%2C%20%22stroke%22%3A%20true%2C%20%22weight%22%3A%203%7D%0A%20%20%20%20%20%20%20%20%20%20%20%20%29.addTo%28marker_cluster_c8dba0ead68d4ac78a1adc98eb432145%29%3B%0A%20%20%20%20%20%20%20%20%0A%20%20%20%20%0A%20%20%20%20%20%20%20%20var%20popup_fb33181c3144463d8780f96bb34e94cf%20%3D%20L.popup%28%7B%22maxWidth%22%3A%20%22100%25%22%7D%29%3B%0A%0A%20%20%20%20%20%20%20%20%0A%20%20%20%20%20%20%20%20%20%20%20%20var%20html_1839175c28414245890b043a21a3d133%20%3D%20%24%28%60%3Cdiv%20id%3D%22html_1839175c28414245890b043a21a3d133%22%20style%3D%22width%3A%20100.0%25%3B%20height%3A%20100.0%25%3B%22%3EJordi%20Alba%2C%20FC%20Barcelona%20%20%20%20%20%20%20%20%20%20%20%20%20%20%20%20%20%20%20%20%20Rating%20%3A%2086%20%20%20%20%20%20%20%20%20%20%20%20%20%20%20%20%20%20%20%20%20%3C/div%3E%60%29%5B0%5D%3B%0A%20%20%20%20%20%20%20%20%20%20%20%20popup_fb33181c3144463d8780f96bb34e94cf.setContent%28html_1839175c28414245890b043a21a3d133%29%3B%0A%20%20%20%20%20%20%20%20%0A%0A%20%20%20%20%20%20%20%20circle_marker_e543ac38daa24951aa41818140921c09.bindPopup%28popup_fb33181c3144463d8780f96bb34e94cf%29%0A%20%20%20%20%20%20%20%20%3B%0A%0A%20%20%20%20%20%20%20%20%0A%20%20%20%20%0A%20%20%20%20%0A%20%20%20%20%20%20%20%20%20%20%20%20var%20circle_marker_abb0fc50e081460096e3c855f588915a%20%3D%20L.circleMarker%28%0A%20%20%20%20%20%20%20%20%20%20%20%20%20%20%20%20%5B52.215933%2C%2019.134422%5D%2C%0A%20%20%20%20%20%20%20%20%20%20%20%20%20%20%20%20%7B%22bubblingMouseEvents%22%3A%20true%2C%20%22color%22%3A%20%22%233388ff%22%2C%20%22dashArray%22%3A%20null%2C%20%22dashOffset%22%3A%20null%2C%20%22fill%22%3A%20true%2C%20%22fillColor%22%3A%20%22%233388ff%22%2C%20%22fillOpacity%22%3A%200.2%2C%20%22fillRule%22%3A%20%22evenodd%22%2C%20%22lineCap%22%3A%20%22round%22%2C%20%22lineJoin%22%3A%20%22round%22%2C%20%22opacity%22%3A%201.0%2C%20%22radius%22%3A%2010%2C%20%22stroke%22%3A%20true%2C%20%22weight%22%3A%203%7D%0A%20%20%20%20%20%20%20%20%20%20%20%20%29.addTo%28marker_cluster_c8dba0ead68d4ac78a1adc98eb432145%29%3B%0A%20%20%20%20%20%20%20%20%0A%20%20%20%20%0A%20%20%20%20%20%20%20%20var%20popup_e7d7fc7e55154bfa9d5fc5b6e12d7517%20%3D%20L.popup%28%7B%22maxWidth%22%3A%20%22100%25%22%7D%29%3B%0A%0A%20%20%20%20%20%20%20%20%0A%20%20%20%20%20%20%20%20%20%20%20%20var%20html_51f5c860b66347d781a345ab73c361d1%20%3D%20%24%28%60%3Cdiv%20id%3D%22html_51f5c860b66347d781a345ab73c361d1%22%20style%3D%22width%3A%20100.0%25%3B%20height%3A%20100.0%25%3B%22%3ER.%20Lewandowski%2C%20FC%20Bayern%20M%C3%BCnchen%20%20%20%20%20%20%20%20%20%20%20%20%20%20%20%20%20%20%20%20%20Rating%20%3A%2092%20%20%20%20%20%20%20%20%20%20%20%20%20%20%20%20%20%20%20%20%20%3C/div%3E%60%29%5B0%5D%3B%0A%20%20%20%20%20%20%20%20%20%20%20%20popup_e7d7fc7e55154bfa9d5fc5b6e12d7517.setContent%28html_51f5c860b66347d781a345ab73c361d1%29%3B%0A%20%20%20%20%20%20%20%20%0A%0A%20%20%20%20%20%20%20%20circle_marker_abb0fc50e081460096e3c855f588915a.bindPopup%28popup_e7d7fc7e55154bfa9d5fc5b6e12d7517%29%0A%20%20%20%20%20%20%20%20%3B%0A%0A%20%20%20%20%20%20%20%20%0A%20%20%20%20%0A%20%20%20%20%0A%20%20%20%20%20%20%20%20%20%20%20%20var%20circle_marker_ec5d73602c614f5496d65c11c5468032%20%3D%20L.circleMarker%28%0A%20%20%20%20%20%20%20%20%20%20%20%20%20%20%20%20%5B26.2540493%2C%2029.2675469%5D%2C%0A%20%20%20%20%20%20%20%20%20%20%20%20%20%20%20%20%7B%22bubblingMouseEvents%22%3A%20true%2C%20%22color%22%3A%20%22%233388ff%22%2C%20%22dashArray%22%3A%20null%2C%20%22dashOffset%22%3A%20null%2C%20%22fill%22%3A%20true%2C%20%22fillColor%22%3A%20%22%233388ff%22%2C%20%22fillOpacity%22%3A%200.2%2C%20%22fillRule%22%3A%20%22evenodd%22%2C%20%22lineCap%22%3A%20%22round%22%2C%20%22lineJoin%22%3A%20%22round%22%2C%20%22opacity%22%3A%201.0%2C%20%22radius%22%3A%2010%2C%20%22stroke%22%3A%20true%2C%20%22weight%22%3A%203%7D%0A%20%20%20%20%20%20%20%20%20%20%20%20%29.addTo%28marker_cluster_c8dba0ead68d4ac78a1adc98eb432145%29%3B%0A%20%20%20%20%20%20%20%20%0A%20%20%20%20%0A%20%20%20%20%20%20%20%20var%20popup_474a15a5e505471090337d4a0b5fcf1e%20%3D%20L.popup%28%7B%22maxWidth%22%3A%20%22100%25%22%7D%29%3B%0A%0A%20%20%20%20%20%20%20%20%0A%20%20%20%20%20%20%20%20%20%20%20%20var%20html_ca7da80ec8014e648033c65e7e2e14b4%20%3D%20%24%28%60%3Cdiv%20id%3D%22html_ca7da80ec8014e648033c65e7e2e14b4%22%20style%3D%22width%3A%20100.0%25%3B%20height%3A%20100.0%25%3B%22%3EM.%20Salah%2C%20Liverpool%20%20%20%20%20%20%20%20%20%20%20%20%20%20%20%20%20%20%20%20%20Rating%20%3A%2089%20%20%20%20%20%20%20%20%20%20%20%20%20%20%20%20%20%20%20%20%20%3C/div%3E%60%29%5B0%5D%3B%0A%20%20%20%20%20%20%20%20%20%20%20%20popup_474a15a5e505471090337d4a0b5fcf1e.setContent%28html_ca7da80ec8014e648033c65e7e2e14b4%29%3B%0A%20%20%20%20%20%20%20%20%0A%0A%20%20%20%20%20%20%20%20circle_marker_ec5d73602c614f5496d65c11c5468032.bindPopup%28popup_474a15a5e505471090337d4a0b5fcf1e%29%0A%20%20%20%20%20%20%20%20%3B%0A%0A%20%20%20%20%20%20%20%20%0A%20%20%20%20%0A%20%20%20%20%0A%20%20%20%20%20%20%20%20%20%20%20%20var%20circle_marker_5c321ce9a0cd4590b04f97e853c28225%20%3D%20L.circleMarker%28%0A%20%20%20%20%20%20%20%20%20%20%20%20%20%20%20%20%5B40.0332629%2C%20-7.8896263%5D%2C%0A%20%20%20%20%20%20%20%20%20%20%20%20%20%20%20%20%7B%22bubblingMouseEvents%22%3A%20true%2C%20%22color%22%3A%20%22%233388ff%22%2C%20%22dashArray%22%3A%20null%2C%20%22dashOffset%22%3A%20null%2C%20%22fill%22%3A%20true%2C%20%22fillColor%22%3A%20%22%233388ff%22%2C%20%22fillOpacity%22%3A%200.2%2C%20%22fillRule%22%3A%20%22evenodd%22%2C%20%22lineCap%22%3A%20%22round%22%2C%20%22lineJoin%22%3A%20%22round%22%2C%20%22opacity%22%3A%201.0%2C%20%22radius%22%3A%2010%2C%20%22stroke%22%3A%20true%2C%20%22weight%22%3A%203%7D%0A%20%20%20%20%20%20%20%20%20%20%20%20%29.addTo%28marker_cluster_c8dba0ead68d4ac78a1adc98eb432145%29%3B%0A%20%20%20%20%20%20%20%20%0A%20%20%20%20%0A%20%20%20%20%20%20%20%20var%20popup_ce4d279f7c8141d9844906e2b848749b%20%3D%20L.popup%28%7B%22maxWidth%22%3A%20%22100%25%22%7D%29%3B%0A%0A%20%20%20%20%20%20%20%20%0A%20%20%20%20%20%20%20%20%20%20%20%20var%20html_5992d51f07874805a836e5187c8b16f8%20%3D%20%24%28%60%3Cdiv%20id%3D%22html_5992d51f07874805a836e5187c8b16f8%22%20style%3D%22width%3A%20100.0%25%3B%20height%3A%20100.0%25%3B%22%3ECristiano%20Ronaldo%2C%20Manchester%20United%20%20%20%20%20%20%20%20%20%20%20%20%20%20%20%20%20%20%20%20%20Rating%20%3A%2091%20%20%20%20%20%20%20%20%20%20%20%20%20%20%20%20%20%20%20%20%20%3C/div%3E%60%29%5B0%5D%3B%0A%20%20%20%20%20%20%20%20%20%20%20%20popup_ce4d279f7c8141d9844906e2b848749b.setContent%28html_5992d51f07874805a836e5187c8b16f8%29%3B%0A%20%20%20%20%20%20%20%20%0A%0A%20%20%20%20%20%20%20%20circle_marker_5c321ce9a0cd4590b04f97e853c28225.bindPopup%28popup_ce4d279f7c8141d9844906e2b848749b%29%0A%20%20%20%20%20%20%20%20%3B%0A%0A%20%20%20%20%20%20%20%20%0A%20%20%20%20%0A%20%20%20%20%0A%20%20%20%20%20%20%20%20%20%20%20%20var%20circle_marker_90f488ecf8ae4cc8ab1d804e55172c3e%20%3D%20L.circleMarker%28%0A%20%20%20%20%20%20%20%20%20%20%20%20%20%20%20%20%5B52.5310214%2C%20-1.2649062%5D%2C%0A%20%20%20%20%20%20%20%20%20%20%20%20%20%20%20%20%7B%22bubblingMouseEvents%22%3A%20true%2C%20%22color%22%3A%20%22%233388ff%22%2C%20%22dashArray%22%3A%20null%2C%20%22dashOffset%22%3A%20null%2C%20%22fill%22%3A%20true%2C%20%22fillColor%22%3A%20%22%233388ff%22%2C%20%22fillOpacity%22%3A%200.2%2C%20%22fillRule%22%3A%20%22evenodd%22%2C%20%22lineCap%22%3A%20%22round%22%2C%20%22lineJoin%22%3A%20%22round%22%2C%20%22opacity%22%3A%201.0%2C%20%22radius%22%3A%2010%2C%20%22stroke%22%3A%20true%2C%20%22weight%22%3A%203%7D%0A%20%20%20%20%20%20%20%20%20%20%20%20%29.addTo%28marker_cluster_c8dba0ead68d4ac78a1adc98eb432145%29%3B%0A%20%20%20%20%20%20%20%20%0A%20%20%20%20%0A%20%20%20%20%20%20%20%20var%20popup_4cbf9d48507e4d69849d25b99dba4de0%20%3D%20L.popup%28%7B%22maxWidth%22%3A%20%22100%25%22%7D%29%3B%0A%0A%20%20%20%20%20%20%20%20%0A%20%20%20%20%20%20%20%20%20%20%20%20var%20html_dd989b3b9d50428e9762f948f0465002%20%3D%20%24%28%60%3Cdiv%20id%3D%22html_dd989b3b9d50428e9762f948f0465002%22%20style%3D%22width%3A%20100.0%25%3B%20height%3A%20100.0%25%3B%22%3EH.%20Kane%2C%20Tottenham%20Hotspur%20%20%20%20%20%20%20%20%20%20%20%20%20%20%20%20%20%20%20%20%20Rating%20%3A%2090%20%20%20%20%20%20%20%20%20%20%20%20%20%20%20%20%20%20%20%20%20%3C/div%3E%60%29%5B0%5D%3B%0A%20%20%20%20%20%20%20%20%20%20%20%20popup_4cbf9d48507e4d69849d25b99dba4de0.setContent%28html_dd989b3b9d50428e9762f948f0465002%29%3B%0A%20%20%20%20%20%20%20%20%0A%0A%20%20%20%20%20%20%20%20circle_marker_90f488ecf8ae4cc8ab1d804e55172c3e.bindPopup%28popup_4cbf9d48507e4d69849d25b99dba4de0%29%0A%20%20%20%20%20%20%20%20%3B%0A%0A%20%20%20%20%20%20%20%20%0A%20%20%20%20%0A%20%20%20%20%0A%20%20%20%20%20%20%20%20%20%20%20%20var%20circle_marker_a19923bd8ae54373be78de5c53712b8b%20%3D%20L.circleMarker%28%0A%20%20%20%20%20%20%20%20%20%20%20%20%20%20%20%20%5B42.6384261%2C%2012.674297%5D%2C%0A%20%20%20%20%20%20%20%20%20%20%20%20%20%20%20%20%7B%22bubblingMouseEvents%22%3A%20true%2C%20%22color%22%3A%20%22%233388ff%22%2C%20%22dashArray%22%3A%20null%2C%20%22dashOffset%22%3A%20null%2C%20%22fill%22%3A%20true%2C%20%22fillColor%22%3A%20%22%233388ff%22%2C%20%22fillOpacity%22%3A%200.2%2C%20%22fillRule%22%3A%20%22evenodd%22%2C%20%22lineCap%22%3A%20%22round%22%2C%20%22lineJoin%22%3A%20%22round%22%2C%20%22opacity%22%3A%201.0%2C%20%22radius%22%3A%2010%2C%20%22stroke%22%3A%20true%2C%20%22weight%22%3A%203%7D%0A%20%20%20%20%20%20%20%20%20%20%20%20%29.addTo%28marker_cluster_c8dba0ead68d4ac78a1adc98eb432145%29%3B%0A%20%20%20%20%20%20%20%20%0A%20%20%20%20%0A%20%20%20%20%20%20%20%20var%20popup_74486ec868a843848c98eb01f221e5d2%20%3D%20L.popup%28%7B%22maxWidth%22%3A%20%22100%25%22%7D%29%3B%0A%0A%20%20%20%20%20%20%20%20%0A%20%20%20%20%20%20%20%20%20%20%20%20var%20html_ac46a8cf3cb647bca22a4921dd67c4c6%20%3D%20%24%28%60%3Cdiv%20id%3D%22html_ac46a8cf3cb647bca22a4921dd67c4c6%22%20style%3D%22width%3A%20100.0%25%3B%20height%3A%20100.0%25%3B%22%3EM.%20Verratti%2C%20Paris%20Saint-Germain%20%20%20%20%20%20%20%20%20%20%20%20%20%20%20%20%20%20%20%20%20Rating%20%3A%2087%20%20%20%20%20%20%20%20%20%20%20%20%20%20%20%20%20%20%20%20%20%3C/div%3E%60%29%5B0%5D%3B%0A%20%20%20%20%20%20%20%20%20%20%20%20popup_74486ec868a843848c98eb01f221e5d2.setContent%28html_ac46a8cf3cb647bca22a4921dd67c4c6%29%3B%0A%20%20%20%20%20%20%20%20%0A%0A%20%20%20%20%20%20%20%20circle_marker_a19923bd8ae54373be78de5c53712b8b.bindPopup%28popup_74486ec868a843848c98eb01f221e5d2%29%0A%20%20%20%20%20%20%20%20%3B%0A%0A%20%20%20%20%20%20%20%20%0A%20%20%20%20%0A%20%20%20%20%0A%20%20%20%20%20%20%20%20%20%20%20%20var%20circle_marker_3bbd93d88f954fb0a8e59889135a5574%20%3D%20L.circleMarker%28%0A%20%20%20%20%20%20%20%20%20%20%20%20%20%20%20%20%5B39.3260685%2C%20-4.8379791%5D%2C%0A%20%20%20%20%20%20%20%20%20%20%20%20%20%20%20%20%7B%22bubblingMouseEvents%22%3A%20true%2C%20%22color%22%3A%20%22%233388ff%22%2C%20%22dashArray%22%3A%20null%2C%20%22dashOffset%22%3A%20null%2C%20%22fill%22%3A%20true%2C%20%22fillColor%22%3A%20%22%233388ff%22%2C%20%22fillOpacity%22%3A%200.2%2C%20%22fillRule%22%3A%20%22evenodd%22%2C%20%22lineCap%22%3A%20%22round%22%2C%20%22lineJoin%22%3A%20%22round%22%2C%20%22opacity%22%3A%201.0%2C%20%22radius%22%3A%2010%2C%20%22stroke%22%3A%20true%2C%20%22weight%22%3A%203%7D%0A%20%20%20%20%20%20%20%20%20%20%20%20%29.addTo%28marker_cluster_c8dba0ead68d4ac78a1adc98eb432145%29%3B%0A%20%20%20%20%20%20%20%20%0A%20%20%20%20%0A%20%20%20%20%20%20%20%20var%20popup_4ac9450af15c444798a6327dbc7baa1d%20%3D%20L.popup%28%7B%22maxWidth%22%3A%20%22100%25%22%7D%29%3B%0A%0A%20%20%20%20%20%20%20%20%0A%20%20%20%20%20%20%20%20%20%20%20%20var%20html_e96ea44f18ac45d287268f2b13b57530%20%3D%20%24%28%60%3Cdiv%20id%3D%22html_e96ea44f18ac45d287268f2b13b57530%22%20style%3D%22width%3A%20100.0%25%3B%20height%3A%20100.0%25%3B%22%3EThiago%2C%20Liverpool%20%20%20%20%20%20%20%20%20%20%20%20%20%20%20%20%20%20%20%20%20Rating%20%3A%2086%20%20%20%20%20%20%20%20%20%20%20%20%20%20%20%20%20%20%20%20%20%3C/div%3E%60%29%5B0%5D%3B%0A%20%20%20%20%20%20%20%20%20%20%20%20popup_4ac9450af15c444798a6327dbc7baa1d.setContent%28html_e96ea44f18ac45d287268f2b13b57530%29%3B%0A%20%20%20%20%20%20%20%20%0A%0A%20%20%20%20%20%20%20%20circle_marker_3bbd93d88f954fb0a8e59889135a5574.bindPopup%28popup_4ac9450af15c444798a6327dbc7baa1d%29%0A%20%20%20%20%20%20%20%20%3B%0A%0A%20%20%20%20%20%20%20%20%0A%20%20%20%20%0A%20%20%20%20%0A%20%20%20%20%20%20%20%20%20%20%20%20var%20circle_marker_44c57970435a4890be4c4d3a18571f24%20%3D%20L.circleMarker%28%0A%20%20%20%20%20%20%20%20%20%20%20%20%20%20%20%20%5B14.4750607%2C%20-14.4529612%5D%2C%0A%20%20%20%20%20%20%20%20%20%20%20%20%20%20%20%20%7B%22bubblingMouseEvents%22%3A%20true%2C%20%22color%22%3A%20%22%233388ff%22%2C%20%22dashArray%22%3A%20null%2C%20%22dashOffset%22%3A%20null%2C%20%22fill%22%3A%20true%2C%20%22fillColor%22%3A%20%22%233388ff%22%2C%20%22fillOpacity%22%3A%200.2%2C%20%22fillRule%22%3A%20%22evenodd%22%2C%20%22lineCap%22%3A%20%22round%22%2C%20%22lineJoin%22%3A%20%22round%22%2C%20%22opacity%22%3A%201.0%2C%20%22radius%22%3A%2010%2C%20%22stroke%22%3A%20true%2C%20%22weight%22%3A%203%7D%0A%20%20%20%20%20%20%20%20%20%20%20%20%29.addTo%28marker_cluster_c8dba0ead68d4ac78a1adc98eb432145%29%3B%0A%20%20%20%20%20%20%20%20%0A%20%20%20%20%0A%20%20%20%20%20%20%20%20var%20popup_95129473281f4b8bbdd470183c9c2084%20%3D%20L.popup%28%7B%22maxWidth%22%3A%20%22100%25%22%7D%29%3B%0A%0A%20%20%20%20%20%20%20%20%0A%20%20%20%20%20%20%20%20%20%20%20%20var%20html_47cefd0b6db4437087e6699f3d5e9d1f%20%3D%20%24%28%60%3Cdiv%20id%3D%22html_47cefd0b6db4437087e6699f3d5e9d1f%22%20style%3D%22width%3A%20100.0%25%3B%20height%3A%20100.0%25%3B%22%3ES.%20Mane%2C%20Liverpool%20%20%20%20%20%20%20%20%20%20%20%20%20%20%20%20%20%20%20%20%20Rating%20%3A%2089%20%20%20%20%20%20%20%20%20%20%20%20%20%20%20%20%20%20%20%20%20%3C/div%3E%60%29%5B0%5D%3B%0A%20%20%20%20%20%20%20%20%20%20%20%20popup_95129473281f4b8bbdd470183c9c2084.setContent%28html_47cefd0b6db4437087e6699f3d5e9d1f%29%3B%0A%20%20%20%20%20%20%20%20%0A%0A%20%20%20%20%20%20%20%20circle_marker_44c57970435a4890be4c4d3a18571f24.bindPopup%28popup_95129473281f4b8bbdd470183c9c2084%29%0A%20%20%20%20%20%20%20%20%3B%0A%0A%20%20%20%20%20%20%20%20%0A%20%20%20%20%0A%20%20%20%20%0A%20%20%20%20%20%20%20%20%20%20%20%20var%20circle_marker_6da94bcfa1cc4ff291e52b1fc54e0cbd%20%3D%20L.circleMarker%28%0A%20%20%20%20%20%20%20%20%20%20%20%20%20%20%20%20%5B-10.3333333%2C%20-53.2%5D%2C%0A%20%20%20%20%20%20%20%20%20%20%20%20%20%20%20%20%7B%22bubblingMouseEvents%22%3A%20true%2C%20%22color%22%3A%20%22%233388ff%22%2C%20%22dashArray%22%3A%20null%2C%20%22dashOffset%22%3A%20null%2C%20%22fill%22%3A%20true%2C%20%22fillColor%22%3A%20%22%233388ff%22%2C%20%22fillOpacity%22%3A%200.2%2C%20%22fillRule%22%3A%20%22evenodd%22%2C%20%22lineCap%22%3A%20%22round%22%2C%20%22lineJoin%22%3A%20%22round%22%2C%20%22opacity%22%3A%201.0%2C%20%22radius%22%3A%2010%2C%20%22stroke%22%3A%20true%2C%20%22weight%22%3A%203%7D%0A%20%20%20%20%20%20%20%20%20%20%20%20%29.addTo%28marker_cluster_c8dba0ead68d4ac78a1adc98eb432145%29%3B%0A%20%20%20%20%20%20%20%20%0A%20%20%20%20%0A%20%20%20%20%20%20%20%20var%20popup_b5fbcf10362e45048eb70779282e24d8%20%3D%20L.popup%28%7B%22maxWidth%22%3A%20%22100%25%22%7D%29%3B%0A%0A%20%20%20%20%20%20%20%20%0A%20%20%20%20%20%20%20%20%20%20%20%20var%20html_79f8ed223fec4b34bb96733da3e7c3fc%20%3D%20%24%28%60%3Cdiv%20id%3D%22html_79f8ed223fec4b34bb96733da3e7c3fc%22%20style%3D%22width%3A%20100.0%25%3B%20height%3A%20100.0%25%3B%22%3ENeymar%20Jr%2C%20Paris%20Saint-Germain%20%20%20%20%20%20%20%20%20%20%20%20%20%20%20%20%20%20%20%20%20Rating%20%3A%2091%20%20%20%20%20%20%20%20%20%20%20%20%20%20%20%20%20%20%20%20%20%3C/div%3E%60%29%5B0%5D%3B%0A%20%20%20%20%20%20%20%20%20%20%20%20popup_b5fbcf10362e45048eb70779282e24d8.setContent%28html_79f8ed223fec4b34bb96733da3e7c3fc%29%3B%0A%20%20%20%20%20%20%20%20%0A%0A%20%20%20%20%20%20%20%20circle_marker_6da94bcfa1cc4ff291e52b1fc54e0cbd.bindPopup%28popup_b5fbcf10362e45048eb70779282e24d8%29%0A%20%20%20%20%20%20%20%20%3B%0A%0A%20%20%20%20%20%20%20%20%0A%20%20%20%20%0A%20%20%20%20%0A%20%20%20%20%20%20%20%20%20%20%20%20var%20circle_marker_1105e26db7bc4a5dbc604282214e882a%20%3D%20L.circleMarker%28%0A%20%20%20%20%20%20%20%20%20%20%20%20%20%20%20%20%5B46.603354%2C%201.8883335%5D%2C%0A%20%20%20%20%20%20%20%20%20%20%20%20%20%20%20%20%7B%22bubblingMouseEvents%22%3A%20true%2C%20%22color%22%3A%20%22%233388ff%22%2C%20%22dashArray%22%3A%20null%2C%20%22dashOffset%22%3A%20null%2C%20%22fill%22%3A%20true%2C%20%22fillColor%22%3A%20%22%233388ff%22%2C%20%22fillOpacity%22%3A%200.2%2C%20%22fillRule%22%3A%20%22evenodd%22%2C%20%22lineCap%22%3A%20%22round%22%2C%20%22lineJoin%22%3A%20%22round%22%2C%20%22opacity%22%3A%201.0%2C%20%22radius%22%3A%2010%2C%20%22stroke%22%3A%20true%2C%20%22weight%22%3A%203%7D%0A%20%20%20%20%20%20%20%20%20%20%20%20%29.addTo%28marker_cluster_c8dba0ead68d4ac78a1adc98eb432145%29%3B%0A%20%20%20%20%20%20%20%20%0A%20%20%20%20%0A%20%20%20%20%20%20%20%20var%20popup_c9c9520e63954e7b9b77ea3ccfac7239%20%3D%20L.popup%28%7B%22maxWidth%22%3A%20%22100%25%22%7D%29%3B%0A%0A%20%20%20%20%20%20%20%20%0A%20%20%20%20%20%20%20%20%20%20%20%20var%20html_0306026d0882449ea865c40430ca80f9%20%3D%20%24%28%60%3Cdiv%20id%3D%22html_0306026d0882449ea865c40430ca80f9%22%20style%3D%22width%3A%20100.0%25%3B%20height%3A%20100.0%25%3B%22%3EN.%20Kante%2C%20Chelsea%20%20%20%20%20%20%20%20%20%20%20%20%20%20%20%20%20%20%20%20%20Rating%20%3A%2090%20%20%20%20%20%20%20%20%20%20%20%20%20%20%20%20%20%20%20%20%20%3C/div%3E%60%29%5B0%5D%3B%0A%20%20%20%20%20%20%20%20%20%20%20%20popup_c9c9520e63954e7b9b77ea3ccfac7239.setContent%28html_0306026d0882449ea865c40430ca80f9%29%3B%0A%20%20%20%20%20%20%20%20%0A%0A%20%20%20%20%20%20%20%20circle_marker_1105e26db7bc4a5dbc604282214e882a.bindPopup%28popup_c9c9520e63954e7b9b77ea3ccfac7239%29%0A%20%20%20%20%20%20%20%20%3B%0A%0A%20%20%20%20%20%20%20%20%0A%20%20%20%20%0A%20%20%20%20%0A%20%20%20%20%20%20%20%20%20%20%20%20var%20circle_marker_b279ee0b6e794224b53189985768e35d%20%3D%20L.circleMarker%28%0A%20%20%20%20%20%20%20%20%20%20%20%20%20%20%20%20%5B-34.9964963%2C%20-64.9672817%5D%2C%0A%20%20%20%20%20%20%20%20%20%20%20%20%20%20%20%20%7B%22bubblingMouseEvents%22%3A%20true%2C%20%22color%22%3A%20%22%233388ff%22%2C%20%22dashArray%22%3A%20null%2C%20%22dashOffset%22%3A%20null%2C%20%22fill%22%3A%20true%2C%20%22fillColor%22%3A%20%22%233388ff%22%2C%20%22fillOpacity%22%3A%200.2%2C%20%22fillRule%22%3A%20%22evenodd%22%2C%20%22lineCap%22%3A%20%22round%22%2C%20%22lineJoin%22%3A%20%22round%22%2C%20%22opacity%22%3A%201.0%2C%20%22radius%22%3A%2010%2C%20%22stroke%22%3A%20true%2C%20%22weight%22%3A%203%7D%0A%20%20%20%20%20%20%20%20%20%20%20%20%29.addTo%28marker_cluster_c8dba0ead68d4ac78a1adc98eb432145%29%3B%0A%20%20%20%20%20%20%20%20%0A%20%20%20%20%0A%20%20%20%20%20%20%20%20var%20popup_76ab5b64595d4985b848871563a2a0bb%20%3D%20L.popup%28%7B%22maxWidth%22%3A%20%22100%25%22%7D%29%3B%0A%0A%20%20%20%20%20%20%20%20%0A%20%20%20%20%20%20%20%20%20%20%20%20var%20html_deff1b2b5b104ede968534a6339583b1%20%3D%20%24%28%60%3Cdiv%20id%3D%22html_deff1b2b5b104ede968534a6339583b1%22%20style%3D%22width%3A%20100.0%25%3B%20height%3A%20100.0%25%3B%22%3EA.%20Di%20Maria%2C%20Paris%20Saint-Germain%20%20%20%20%20%20%20%20%20%20%20%20%20%20%20%20%20%20%20%20%20Rating%20%3A%2087%20%20%20%20%20%20%20%20%20%20%20%20%20%20%20%20%20%20%20%20%20%3C/div%3E%60%29%5B0%5D%3B%0A%20%20%20%20%20%20%20%20%20%20%20%20popup_76ab5b64595d4985b848871563a2a0bb.setContent%28html_deff1b2b5b104ede968534a6339583b1%29%3B%0A%20%20%20%20%20%20%20%20%0A%0A%20%20%20%20%20%20%20%20circle_marker_b279ee0b6e794224b53189985768e35d.bindPopup%28popup_76ab5b64595d4985b848871563a2a0bb%29%0A%20%20%20%20%20%20%20%20%3B%0A%0A%20%20%20%20%20%20%20%20%0A%20%20%20%20%0A%20%20%20%20%0A%20%20%20%20%20%20%20%20%20%20%20%20var%20circle_marker_bb725b8b239147d9866546bab0fbd12b%20%3D%20L.circleMarker%28%0A%20%20%20%20%20%20%20%20%20%20%20%20%20%20%20%20%5B46.603354%2C%201.8883335%5D%2C%0A%20%20%20%20%20%20%20%20%20%20%20%20%20%20%20%20%7B%22bubblingMouseEvents%22%3A%20true%2C%20%22color%22%3A%20%22%233388ff%22%2C%20%22dashArray%22%3A%20null%2C%20%22dashOffset%22%3A%20null%2C%20%22fill%22%3A%20true%2C%20%22fillColor%22%3A%20%22%233388ff%22%2C%20%22fillOpacity%22%3A%200.2%2C%20%22fillRule%22%3A%20%22evenodd%22%2C%20%22lineCap%22%3A%20%22round%22%2C%20%22lineJoin%22%3A%20%22round%22%2C%20%22opacity%22%3A%201.0%2C%20%22radius%22%3A%2010%2C%20%22stroke%22%3A%20true%2C%20%22weight%22%3A%203%7D%0A%20%20%20%20%20%20%20%20%20%20%20%20%29.addTo%28marker_cluster_c8dba0ead68d4ac78a1adc98eb432145%29%3B%0A%20%20%20%20%20%20%20%20%0A%20%20%20%20%0A%20%20%20%20%20%20%20%20var%20popup_cf357fcaf50b4eff986450c455c3209a%20%3D%20L.popup%28%7B%22maxWidth%22%3A%20%22100%25%22%7D%29%3B%0A%0A%20%20%20%20%20%20%20%20%0A%20%20%20%20%20%20%20%20%20%20%20%20var%20html_fcd73d30b48644b1aa8678c4a7357a3e%20%3D%20%24%28%60%3Cdiv%20id%3D%22html_fcd73d30b48644b1aa8678c4a7357a3e%22%20style%3D%22width%3A%20100.0%25%3B%20height%3A%20100.0%25%3B%22%3EK.%20Mbappe%2C%20Paris%20Saint-Germain%20%20%20%20%20%20%20%20%20%20%20%20%20%20%20%20%20%20%20%20%20Rating%20%3A%2091%20%20%20%20%20%20%20%20%20%20%20%20%20%20%20%20%20%20%20%20%20%3C/div%3E%60%29%5B0%5D%3B%0A%20%20%20%20%20%20%20%20%20%20%20%20popup_cf357fcaf50b4eff986450c455c3209a.setContent%28html_fcd73d30b48644b1aa8678c4a7357a3e%29%3B%0A%20%20%20%20%20%20%20%20%0A%0A%20%20%20%20%20%20%20%20circle_marker_bb725b8b239147d9866546bab0fbd12b.bindPopup%28popup_cf357fcaf50b4eff986450c455c3209a%29%0A%20%20%20%20%20%20%20%20%3B%0A%0A%20%20%20%20%20%20%20%20%0A%20%20%20%20%0A%20%20%20%20%0A%20%20%20%20%20%20%20%20%20%20%20%20var%20circle_marker_ff43c4a570034be2ba7847abd14e6a6e%20%3D%20L.circleMarker%28%0A%20%20%20%20%20%20%20%20%20%20%20%20%20%20%20%20%5B39.3260685%2C%20-4.8379791%5D%2C%0A%20%20%20%20%20%20%20%20%20%20%20%20%20%20%20%20%7B%22bubblingMouseEvents%22%3A%20true%2C%20%22color%22%3A%20%22%233388ff%22%2C%20%22dashArray%22%3A%20null%2C%20%22dashOffset%22%3A%20null%2C%20%22fill%22%3A%20true%2C%20%22fillColor%22%3A%20%22%233388ff%22%2C%20%22fillOpacity%22%3A%200.2%2C%20%22fillRule%22%3A%20%22evenodd%22%2C%20%22lineCap%22%3A%20%22round%22%2C%20%22lineJoin%22%3A%20%22round%22%2C%20%22opacity%22%3A%201.0%2C%20%22radius%22%3A%2010%2C%20%22stroke%22%3A%20true%2C%20%22weight%22%3A%203%7D%0A%20%20%20%20%20%20%20%20%20%20%20%20%29.addTo%28marker_cluster_c8dba0ead68d4ac78a1adc98eb432145%29%3B%0A%20%20%20%20%20%20%20%20%0A%20%20%20%20%0A%20%20%20%20%20%20%20%20var%20popup_72bd3406e02d4c4c937978d9b093977f%20%3D%20L.popup%28%7B%22maxWidth%22%3A%20%22100%25%22%7D%29%3B%0A%0A%20%20%20%20%20%20%20%20%0A%20%20%20%20%20%20%20%20%20%20%20%20var%20html_a946f955f40d4007a61f2ed0572913a0%20%3D%20%24%28%60%3Cdiv%20id%3D%22html_a946f955f40d4007a61f2ed0572913a0%22%20style%3D%22width%3A%20100.0%25%3B%20height%3A%20100.0%25%3B%22%3EParejo%2C%20Villarreal%20CF%20%20%20%20%20%20%20%20%20%20%20%20%20%20%20%20%20%20%20%20%20Rating%20%3A%2086%20%20%20%20%20%20%20%20%20%20%20%20%20%20%20%20%20%20%20%20%20%3C/div%3E%60%29%5B0%5D%3B%0A%20%20%20%20%20%20%20%20%20%20%20%20popup_72bd3406e02d4c4c937978d9b093977f.setContent%28html_a946f955f40d4007a61f2ed0572913a0%29%3B%0A%20%20%20%20%20%20%20%20%0A%0A%20%20%20%20%20%20%20%20circle_marker_ff43c4a570034be2ba7847abd14e6a6e.bindPopup%28popup_72bd3406e02d4c4c937978d9b093977f%29%0A%20%20%20%20%20%20%20%20%3B%0A%0A%20%20%20%20%20%20%20%20%0A%20%20%20%20%0A%20%20%20%20%0A%20%20%20%20%20%20%20%20%20%20%20%20var%20circle_marker_8cc29cf8e39b45debf8a9153b69afb4f%20%3D%20L.circleMarker%28%0A%20%20%20%20%20%20%20%20%20%20%20%20%20%20%20%20%5B-10.3333333%2C%20-53.2%5D%2C%0A%20%20%20%20%20%20%20%20%20%20%20%20%20%20%20%20%7B%22bubblingMouseEvents%22%3A%20true%2C%20%22color%22%3A%20%22%233388ff%22%2C%20%22dashArray%22%3A%20null%2C%20%22dashOffset%22%3A%20null%2C%20%22fill%22%3A%20true%2C%20%22fillColor%22%3A%20%22%233388ff%22%2C%20%22fillOpacity%22%3A%200.2%2C%20%22fillRule%22%3A%20%22evenodd%22%2C%20%22lineCap%22%3A%20%22round%22%2C%20%22lineJoin%22%3A%20%22round%22%2C%20%22opacity%22%3A%201.0%2C%20%22radius%22%3A%2010%2C%20%22stroke%22%3A%20true%2C%20%22weight%22%3A%203%7D%0A%20%20%20%20%20%20%20%20%20%20%20%20%29.addTo%28marker_cluster_c8dba0ead68d4ac78a1adc98eb432145%29%3B%0A%20%20%20%20%20%20%20%20%0A%20%20%20%20%0A%20%20%20%20%20%20%20%20var%20popup_9e1ac37edbd94288b13130130b0ce84b%20%3D%20L.popup%28%7B%22maxWidth%22%3A%20%22100%25%22%7D%29%3B%0A%0A%20%20%20%20%20%20%20%20%0A%20%20%20%20%20%20%20%20%20%20%20%20var%20html_265a2b9339af41aab7491fd4fe79cbe1%20%3D%20%24%28%60%3Cdiv%20id%3D%22html_265a2b9339af41aab7491fd4fe79cbe1%22%20style%3D%22width%3A%20100.0%25%3B%20height%3A%20100.0%25%3B%22%3EFabinho%2C%20Liverpool%20%20%20%20%20%20%20%20%20%20%20%20%20%20%20%20%20%20%20%20%20Rating%20%3A%2086%20%20%20%20%20%20%20%20%20%20%20%20%20%20%20%20%20%20%20%20%20%3C/div%3E%60%29%5B0%5D%3B%0A%20%20%20%20%20%20%20%20%20%20%20%20popup_9e1ac37edbd94288b13130130b0ce84b.setContent%28html_265a2b9339af41aab7491fd4fe79cbe1%29%3B%0A%20%20%20%20%20%20%20%20%0A%0A%20%20%20%20%20%20%20%20circle_marker_8cc29cf8e39b45debf8a9153b69afb4f.bindPopup%28popup_9e1ac37edbd94288b13130130b0ce84b%29%0A%20%20%20%20%20%20%20%20%3B%0A%0A%20%20%20%20%20%20%20%20%0A%20%20%20%20%0A%20%20%20%20%0A%20%20%20%20%20%20%20%20%20%20%20%20var%20circle_marker_fa88feac0a5941ff87aadeab4e587077%20%3D%20L.circleMarker%28%0A%20%20%20%20%20%20%20%20%20%20%20%20%20%20%20%20%5B56.7861112%2C%20-4.1140518%5D%2C%0A%20%20%20%20%20%20%20%20%20%20%20%20%20%20%20%20%7B%22bubblingMouseEvents%22%3A%20true%2C%20%22color%22%3A%20%22%233388ff%22%2C%20%22dashArray%22%3A%20null%2C%20%22dashOffset%22%3A%20null%2C%20%22fill%22%3A%20true%2C%20%22fillColor%22%3A%20%22%233388ff%22%2C%20%22fillOpacity%22%3A%200.2%2C%20%22fillRule%22%3A%20%22evenodd%22%2C%20%22lineCap%22%3A%20%22round%22%2C%20%22lineJoin%22%3A%20%22round%22%2C%20%22opacity%22%3A%201.0%2C%20%22radius%22%3A%2010%2C%20%22stroke%22%3A%20true%2C%20%22weight%22%3A%203%7D%0A%20%20%20%20%20%20%20%20%20%20%20%20%29.addTo%28marker_cluster_c8dba0ead68d4ac78a1adc98eb432145%29%3B%0A%20%20%20%20%20%20%20%20%0A%20%20%20%20%0A%20%20%20%20%20%20%20%20var%20popup_0e92a0300a0c46d799ad469e6df00b77%20%3D%20L.popup%28%7B%22maxWidth%22%3A%20%22100%25%22%7D%29%3B%0A%0A%20%20%20%20%20%20%20%20%0A%20%20%20%20%20%20%20%20%20%20%20%20var%20html_488b1acf16e64344aa0d33b390d14a28%20%3D%20%24%28%60%3Cdiv%20id%3D%22html_488b1acf16e64344aa0d33b390d14a28%22%20style%3D%22width%3A%20100.0%25%3B%20height%3A%20100.0%25%3B%22%3EA.%20Robertson%2C%20Liverpool%20%20%20%20%20%20%20%20%20%20%20%20%20%20%20%20%20%20%20%20%20Rating%20%3A%2087%20%20%20%20%20%20%20%20%20%20%20%20%20%20%20%20%20%20%20%20%20%3C/div%3E%60%29%5B0%5D%3B%0A%20%20%20%20%20%20%20%20%20%20%20%20popup_0e92a0300a0c46d799ad469e6df00b77.setContent%28html_488b1acf16e64344aa0d33b390d14a28%29%3B%0A%20%20%20%20%20%20%20%20%0A%0A%20%20%20%20%20%20%20%20circle_marker_fa88feac0a5941ff87aadeab4e587077.bindPopup%28popup_0e92a0300a0c46d799ad469e6df00b77%29%0A%20%20%20%20%20%20%20%20%3B%0A%0A%20%20%20%20%20%20%20%20%0A%20%20%20%20%0A%20%20%20%20%0A%20%20%20%20%20%20%20%20%20%20%20%20var%20circle_marker_e3ca1c25b7c74b8891bf3782da1bbbcd%20%3D%20L.circleMarker%28%0A%20%20%20%20%20%20%20%20%20%20%20%20%20%20%20%20%5B51.0834196%2C%2010.4234469%5D%2C%0A%20%20%20%20%20%20%20%20%20%20%20%20%20%20%20%20%7B%22bubblingMouseEvents%22%3A%20true%2C%20%22color%22%3A%20%22%233388ff%22%2C%20%22dashArray%22%3A%20null%2C%20%22dashOffset%22%3A%20null%2C%20%22fill%22%3A%20true%2C%20%22fillColor%22%3A%20%22%233388ff%22%2C%20%22fillOpacity%22%3A%200.2%2C%20%22fillRule%22%3A%20%22evenodd%22%2C%20%22lineCap%22%3A%20%22round%22%2C%20%22lineJoin%22%3A%20%22round%22%2C%20%22opacity%22%3A%201.0%2C%20%22radius%22%3A%2010%2C%20%22stroke%22%3A%20true%2C%20%22weight%22%3A%203%7D%0A%20%20%20%20%20%20%20%20%20%20%20%20%29.addTo%28marker_cluster_c8dba0ead68d4ac78a1adc98eb432145%29%3B%0A%20%20%20%20%20%20%20%20%0A%20%20%20%20%0A%20%20%20%20%20%20%20%20var%20popup_f2c9fe6b2f3845f0892b21c00b727ea4%20%3D%20L.popup%28%7B%22maxWidth%22%3A%20%22100%25%22%7D%29%3B%0A%0A%20%20%20%20%20%20%20%20%0A%20%20%20%20%20%20%20%20%20%20%20%20var%20html_e3825a10f96c49769bd789eb130e965f%20%3D%20%24%28%60%3Cdiv%20id%3D%22html_e3825a10f96c49769bd789eb130e965f%22%20style%3D%22width%3A%20100.0%25%3B%20height%3A%20100.0%25%3B%22%3ET.%20Kroos%2C%20Real%20Madrid%20CF%20%20%20%20%20%20%20%20%20%20%20%20%20%20%20%20%20%20%20%20%20Rating%20%3A%2088%20%20%20%20%20%20%20%20%20%20%20%20%20%20%20%20%20%20%20%20%20%3C/div%3E%60%29%5B0%5D%3B%0A%20%20%20%20%20%20%20%20%20%20%20%20popup_f2c9fe6b2f3845f0892b21c00b727ea4.setContent%28html_e3825a10f96c49769bd789eb130e965f%29%3B%0A%20%20%20%20%20%20%20%20%0A%0A%20%20%20%20%20%20%20%20circle_marker_e3ca1c25b7c74b8891bf3782da1bbbcd.bindPopup%28popup_f2c9fe6b2f3845f0892b21c00b727ea4%29%0A%20%20%20%20%20%20%20%20%3B%0A%0A%20%20%20%20%20%20%20%20%0A%20%20%20%20%0A%20%20%20%20%0A%20%20%20%20%20%20%20%20%20%20%20%20var%20circle_marker_47d8cd1753104faa8ad8269b54ed8160%20%3D%20L.circleMarker%28%0A%20%20%20%20%20%20%20%20%20%20%20%20%20%20%20%20%5B36.638392%2C%20127.6961188%5D%2C%0A%20%20%20%20%20%20%20%20%20%20%20%20%20%20%20%20%7B%22bubblingMouseEvents%22%3A%20true%2C%20%22color%22%3A%20%22%233388ff%22%2C%20%22dashArray%22%3A%20null%2C%20%22dashOffset%22%3A%20null%2C%20%22fill%22%3A%20true%2C%20%22fillColor%22%3A%20%22%233388ff%22%2C%20%22fillOpacity%22%3A%200.2%2C%20%22fillRule%22%3A%20%22evenodd%22%2C%20%22lineCap%22%3A%20%22round%22%2C%20%22lineJoin%22%3A%20%22round%22%2C%20%22opacity%22%3A%201.0%2C%20%22radius%22%3A%2010%2C%20%22stroke%22%3A%20true%2C%20%22weight%22%3A%203%7D%0A%20%20%20%20%20%20%20%20%20%20%20%20%29.addTo%28marker_cluster_c8dba0ead68d4ac78a1adc98eb432145%29%3B%0A%20%20%20%20%20%20%20%20%0A%20%20%20%20%0A%20%20%20%20%20%20%20%20var%20popup_af414f051c0e4867a1198de4020f9372%20%3D%20L.popup%28%7B%22maxWidth%22%3A%20%22100%25%22%7D%29%3B%0A%0A%20%20%20%20%20%20%20%20%0A%20%20%20%20%20%20%20%20%20%20%20%20var%20html_3f8b15c619b64367a9f76198ae1096a0%20%3D%20%24%28%60%3Cdiv%20id%3D%22html_3f8b15c619b64367a9f76198ae1096a0%22%20style%3D%22width%3A%20100.0%25%3B%20height%3A%20100.0%25%3B%22%3EH.%20Son%2C%20Tottenham%20Hotspur%20%20%20%20%20%20%20%20%20%20%20%20%20%20%20%20%20%20%20%20%20Rating%20%3A%2089%20%20%20%20%20%20%20%20%20%20%20%20%20%20%20%20%20%20%20%20%20%3C/div%3E%60%29%5B0%5D%3B%0A%20%20%20%20%20%20%20%20%20%20%20%20popup_af414f051c0e4867a1198de4020f9372.setContent%28html_3f8b15c619b64367a9f76198ae1096a0%29%3B%0A%20%20%20%20%20%20%20%20%0A%0A%20%20%20%20%20%20%20%20circle_marker_47d8cd1753104faa8ad8269b54ed8160.bindPopup%28popup_af414f051c0e4867a1198de4020f9372%29%0A%20%20%20%20%20%20%20%20%3B%0A%0A%20%20%20%20%20%20%20%20%0A%20%20%20%20%0A%20%20%20%20%0A%20%20%20%20%20%20%20%20%20%20%20%20var%20circle_marker_438b94b985c64cf385c3e6e75209ab57%20%3D%20L.circleMarker%28%0A%20%20%20%20%20%20%20%20%20%20%20%20%20%20%20%20%5B51.0834196%2C%2010.4234469%5D%2C%0A%20%20%20%20%20%20%20%20%20%20%20%20%20%20%20%20%7B%22bubblingMouseEvents%22%3A%20true%2C%20%22color%22%3A%20%22%233388ff%22%2C%20%22dashArray%22%3A%20null%2C%20%22dashOffset%22%3A%20null%2C%20%22fill%22%3A%20true%2C%20%22fillColor%22%3A%20%22%233388ff%22%2C%20%22fillOpacity%22%3A%200.2%2C%20%22fillRule%22%3A%20%22evenodd%22%2C%20%22lineCap%22%3A%20%22round%22%2C%20%22lineJoin%22%3A%20%22round%22%2C%20%22opacity%22%3A%201.0%2C%20%22radius%22%3A%2010%2C%20%22stroke%22%3A%20true%2C%20%22weight%22%3A%203%7D%0A%20%20%20%20%20%20%20%20%20%20%20%20%29.addTo%28marker_cluster_c8dba0ead68d4ac78a1adc98eb432145%29%3B%0A%20%20%20%20%20%20%20%20%0A%20%20%20%20%0A%20%20%20%20%20%20%20%20var%20popup_5db4750d56814e23b9524a76935570d0%20%3D%20L.popup%28%7B%22maxWidth%22%3A%20%22100%25%22%7D%29%3B%0A%0A%20%20%20%20%20%20%20%20%0A%20%20%20%20%20%20%20%20%20%20%20%20var%20html_b17c40dcb91241cbb2b72721b8e774a4%20%3D%20%24%28%60%3Cdiv%20id%3D%22html_b17c40dcb91241cbb2b72721b8e774a4%22%20style%3D%22width%3A%20100.0%25%3B%20height%3A%20100.0%25%3B%22%3ET.%20Muller%2C%20FC%20Bayern%20M%C3%BCnchen%20%20%20%20%20%20%20%20%20%20%20%20%20%20%20%20%20%20%20%20%20Rating%20%3A%2087%20%20%20%20%20%20%20%20%20%20%20%20%20%20%20%20%20%20%20%20%20%3C/div%3E%60%29%5B0%5D%3B%0A%20%20%20%20%20%20%20%20%20%20%20%20popup_5db4750d56814e23b9524a76935570d0.setContent%28html_b17c40dcb91241cbb2b72721b8e774a4%29%3B%0A%20%20%20%20%20%20%20%20%0A%0A%20%20%20%20%20%20%20%20circle_marker_438b94b985c64cf385c3e6e75209ab57.bindPopup%28popup_5db4750d56814e23b9524a76935570d0%29%0A%20%20%20%20%20%20%20%20%3B%0A%0A%20%20%20%20%20%20%20%20%0A%20%20%20%20%0A%20%20%20%20%0A%20%20%20%20%20%20%20%20%20%20%20%20var%20circle_marker_b321808bdb2b48708af825ab9bd97338%20%3D%20L.circleMarker%28%0A%20%20%20%20%20%20%20%20%20%20%20%20%20%20%20%20%5B52.5310214%2C%20-1.2649062%5D%2C%0A%20%20%20%20%20%20%20%20%20%20%20%20%20%20%20%20%7B%22bubblingMouseEvents%22%3A%20true%2C%20%22color%22%3A%20%22%233388ff%22%2C%20%22dashArray%22%3A%20null%2C%20%22dashOffset%22%3A%20null%2C%20%22fill%22%3A%20true%2C%20%22fillColor%22%3A%20%22%233388ff%22%2C%20%22fillOpacity%22%3A%200.2%2C%20%22fillRule%22%3A%20%22evenodd%22%2C%20%22lineCap%22%3A%20%22round%22%2C%20%22lineJoin%22%3A%20%22round%22%2C%20%22opacity%22%3A%201.0%2C%20%22radius%22%3A%2010%2C%20%22stroke%22%3A%20true%2C%20%22weight%22%3A%203%7D%0A%20%20%20%20%20%20%20%20%20%20%20%20%29.addTo%28marker_cluster_c8dba0ead68d4ac78a1adc98eb432145%29%3B%0A%20%20%20%20%20%20%20%20%0A%20%20%20%20%0A%20%20%20%20%20%20%20%20var%20popup_2ab86729c59640d2a75e0bdc9899c39c%20%3D%20L.popup%28%7B%22maxWidth%22%3A%20%22100%25%22%7D%29%3B%0A%0A%20%20%20%20%20%20%20%20%0A%20%20%20%20%20%20%20%20%20%20%20%20var%20html_4d3e2d3aa0fa49fba745d27f6ae62d67%20%3D%20%24%28%60%3Cdiv%20id%3D%22html_4d3e2d3aa0fa49fba745d27f6ae62d67%22%20style%3D%22width%3A%20100.0%25%3B%20height%3A%20100.0%25%3B%22%3EJ.%20Vardy%2C%20Leicester%20City%20%20%20%20%20%20%20%20%20%20%20%20%20%20%20%20%20%20%20%20%20Rating%20%3A%2086%20%20%20%20%20%20%20%20%20%20%20%20%20%20%20%20%20%20%20%20%20%3C/div%3E%60%29%5B0%5D%3B%0A%20%20%20%20%20%20%20%20%20%20%20%20popup_2ab86729c59640d2a75e0bdc9899c39c.setContent%28html_4d3e2d3aa0fa49fba745d27f6ae62d67%29%3B%0A%20%20%20%20%20%20%20%20%0A%0A%20%20%20%20%20%20%20%20circle_marker_b321808bdb2b48708af825ab9bd97338.bindPopup%28popup_2ab86729c59640d2a75e0bdc9899c39c%29%0A%20%20%20%20%20%20%20%20%3B%0A%0A%20%20%20%20%20%20%20%20%0A%20%20%20%20%0A%20%20%20%20%0A%20%20%20%20%20%20%20%20%20%20%20%20var%20circle_marker_c28de49c20454ae2a3316e02f38e900f%20%3D%20L.circleMarker%28%0A%20%20%20%20%20%20%20%20%20%20%20%20%20%20%20%20%5B-34.9964963%2C%20-64.9672817%5D%2C%0A%20%20%20%20%20%20%20%20%20%20%20%20%20%20%20%20%7B%22bubblingMouseEvents%22%3A%20true%2C%20%22color%22%3A%20%22%233388ff%22%2C%20%22dashArray%22%3A%20null%2C%20%22dashOffset%22%3A%20null%2C%20%22fill%22%3A%20true%2C%20%22fillColor%22%3A%20%22%233388ff%22%2C%20%22fillOpacity%22%3A%200.2%2C%20%22fillRule%22%3A%20%22evenodd%22%2C%20%22lineCap%22%3A%20%22round%22%2C%20%22lineJoin%22%3A%20%22round%22%2C%20%22opacity%22%3A%201.0%2C%20%22radius%22%3A%2010%2C%20%22stroke%22%3A%20true%2C%20%22weight%22%3A%203%7D%0A%20%20%20%20%20%20%20%20%20%20%20%20%29.addTo%28marker_cluster_c8dba0ead68d4ac78a1adc98eb432145%29%3B%0A%20%20%20%20%20%20%20%20%0A%20%20%20%20%0A%20%20%20%20%20%20%20%20var%20popup_2ed7b30a854b4b9b8d91aaa05be9f9e3%20%3D%20L.popup%28%7B%22maxWidth%22%3A%20%22100%25%22%7D%29%3B%0A%0A%20%20%20%20%20%20%20%20%0A%20%20%20%20%20%20%20%20%20%20%20%20var%20html_7302af27edf0409784603f8ecda15564%20%3D%20%24%28%60%3Cdiv%20id%3D%22html_7302af27edf0409784603f8ecda15564%22%20style%3D%22width%3A%20100.0%25%3B%20height%3A%20100.0%25%3B%22%3EP.%20Dybala%2C%20Juventus%20%20%20%20%20%20%20%20%20%20%20%20%20%20%20%20%20%20%20%20%20Rating%20%3A%2087%20%20%20%20%20%20%20%20%20%20%20%20%20%20%20%20%20%20%20%20%20%3C/div%3E%60%29%5B0%5D%3B%0A%20%20%20%20%20%20%20%20%20%20%20%20popup_2ed7b30a854b4b9b8d91aaa05be9f9e3.setContent%28html_7302af27edf0409784603f8ecda15564%29%3B%0A%20%20%20%20%20%20%20%20%0A%0A%20%20%20%20%20%20%20%20circle_marker_c28de49c20454ae2a3316e02f38e900f.bindPopup%28popup_2ed7b30a854b4b9b8d91aaa05be9f9e3%29%0A%20%20%20%20%20%20%20%20%3B%0A%0A%20%20%20%20%20%20%20%20%0A%20%20%20%20%0A%20%20%20%20%0A%20%20%20%20%20%20%20%20%20%20%20%20var%20circle_marker_93a36728736348eab9385cccc38dd0a8%20%3D%20L.circleMarker%28%0A%20%20%20%20%20%20%20%20%20%20%20%20%20%20%20%20%5B40.0332629%2C%20-7.8896263%5D%2C%0A%20%20%20%20%20%20%20%20%20%20%20%20%20%20%20%20%7B%22bubblingMouseEvents%22%3A%20true%2C%20%22color%22%3A%20%22%233388ff%22%2C%20%22dashArray%22%3A%20null%2C%20%22dashOffset%22%3A%20null%2C%20%22fill%22%3A%20true%2C%20%22fillColor%22%3A%20%22%233388ff%22%2C%20%22fillOpacity%22%3A%200.2%2C%20%22fillRule%22%3A%20%22evenodd%22%2C%20%22lineCap%22%3A%20%22round%22%2C%20%22lineJoin%22%3A%20%22round%22%2C%20%22opacity%22%3A%201.0%2C%20%22radius%22%3A%2010%2C%20%22stroke%22%3A%20true%2C%20%22weight%22%3A%203%7D%0A%20%20%20%20%20%20%20%20%20%20%20%20%29.addTo%28marker_cluster_c8dba0ead68d4ac78a1adc98eb432145%29%3B%0A%20%20%20%20%20%20%20%20%0A%20%20%20%20%0A%20%20%20%20%20%20%20%20var%20popup_06a8365cb71f4b82858311c1fe397cea%20%3D%20L.popup%28%7B%22maxWidth%22%3A%20%22100%25%22%7D%29%3B%0A%0A%20%20%20%20%20%20%20%20%0A%20%20%20%20%20%20%20%20%20%20%20%20var%20html_7083ff821861487daf63d00e1ff8eb5e%20%3D%20%24%28%60%3Cdiv%20id%3D%22html_7083ff821861487daf63d00e1ff8eb5e%22%20style%3D%22width%3A%20100.0%25%3B%20height%3A%20100.0%25%3B%22%3EBernardo%20Silva%2C%20Manchester%20City%20%20%20%20%20%20%20%20%20%20%20%20%20%20%20%20%20%20%20%20%20Rating%20%3A%2086%20%20%20%20%20%20%20%20%20%20%20%20%20%20%20%20%20%20%20%20%20%3C/div%3E%60%29%5B0%5D%3B%0A%20%20%20%20%20%20%20%20%20%20%20%20popup_06a8365cb71f4b82858311c1fe397cea.setContent%28html_7083ff821861487daf63d00e1ff8eb5e%29%3B%0A%20%20%20%20%20%20%20%20%0A%0A%20%20%20%20%20%20%20%20circle_marker_93a36728736348eab9385cccc38dd0a8.bindPopup%28popup_06a8365cb71f4b82858311c1fe397cea%29%0A%20%20%20%20%20%20%20%20%3B%0A%0A%20%20%20%20%20%20%20%20%0A%20%20%20%20%0A%20%20%20%20%0A%20%20%20%20%20%20%20%20%20%20%20%20var%20circle_marker_1149c35e7575448db4a54c9c0e6e8812%20%3D%20L.circleMarker%28%0A%20%20%20%20%20%20%20%20%20%20%20%20%20%20%20%20%5B39.3260685%2C%20-4.8379791%5D%2C%0A%20%20%20%20%20%20%20%20%20%20%20%20%20%20%20%20%7B%22bubblingMouseEvents%22%3A%20true%2C%20%22color%22%3A%20%22%233388ff%22%2C%20%22dashArray%22%3A%20null%2C%20%22dashOffset%22%3A%20null%2C%20%22fill%22%3A%20true%2C%20%22fillColor%22%3A%20%22%233388ff%22%2C%20%22fillOpacity%22%3A%200.2%2C%20%22fillRule%22%3A%20%22evenodd%22%2C%20%22lineCap%22%3A%20%22round%22%2C%20%22lineJoin%22%3A%20%22round%22%2C%20%22opacity%22%3A%201.0%2C%20%22radius%22%3A%2010%2C%20%22stroke%22%3A%20true%2C%20%22weight%22%3A%203%7D%0A%20%20%20%20%20%20%20%20%20%20%20%20%29.addTo%28marker_cluster_c8dba0ead68d4ac78a1adc98eb432145%29%3B%0A%20%20%20%20%20%20%20%20%0A%20%20%20%20%0A%20%20%20%20%20%20%20%20var%20popup_08b1af49acfb4fdc9322eef2c6f3a66d%20%3D%20L.popup%28%7B%22maxWidth%22%3A%20%22100%25%22%7D%29%3B%0A%0A%20%20%20%20%20%20%20%20%0A%20%20%20%20%20%20%20%20%20%20%20%20var%20html_49bc8b45413044b28e3acb95ca67dc87%20%3D%20%24%28%60%3Cdiv%20id%3D%22html_49bc8b45413044b28e3acb95ca67dc87%22%20style%3D%22width%3A%20100.0%25%3B%20height%3A%20100.0%25%3B%22%3EGerard%20Moreno%2C%20Villarreal%20CF%20%20%20%20%20%20%20%20%20%20%20%20%20%20%20%20%20%20%20%20%20Rating%20%3A%2086%20%20%20%20%20%20%20%20%20%20%20%20%20%20%20%20%20%20%20%20%20%3C/div%3E%60%29%5B0%5D%3B%0A%20%20%20%20%20%20%20%20%20%20%20%20popup_08b1af49acfb4fdc9322eef2c6f3a66d.setContent%28html_49bc8b45413044b28e3acb95ca67dc87%29%3B%0A%20%20%20%20%20%20%20%20%0A%0A%20%20%20%20%20%20%20%20circle_marker_1149c35e7575448db4a54c9c0e6e8812.bindPopup%28popup_08b1af49acfb4fdc9322eef2c6f3a66d%29%0A%20%20%20%20%20%20%20%20%3B%0A%0A%20%20%20%20%20%20%20%20%0A%20%20%20%20%0A%20%20%20%20%0A%20%20%20%20%20%20%20%20%20%20%20%20var%20circle_marker_f56ad59f3dea485d859004026610f427%20%3D%20L.circleMarker%28%0A%20%20%20%20%20%20%20%20%20%20%20%20%20%20%20%20%5B46.603354%2C%201.8883335%5D%2C%0A%20%20%20%20%20%20%20%20%20%20%20%20%20%20%20%20%7B%22bubblingMouseEvents%22%3A%20true%2C%20%22color%22%3A%20%22%233388ff%22%2C%20%22dashArray%22%3A%20null%2C%20%22dashOffset%22%3A%20null%2C%20%22fill%22%3A%20true%2C%20%22fillColor%22%3A%20%22%233388ff%22%2C%20%22fillOpacity%22%3A%200.2%2C%20%22fillRule%22%3A%20%22evenodd%22%2C%20%22lineCap%22%3A%20%22round%22%2C%20%22lineJoin%22%3A%20%22round%22%2C%20%22opacity%22%3A%201.0%2C%20%22radius%22%3A%2010%2C%20%22stroke%22%3A%20true%2C%20%22weight%22%3A%203%7D%0A%20%20%20%20%20%20%20%20%20%20%20%20%29.addTo%28marker_cluster_c8dba0ead68d4ac78a1adc98eb432145%29%3B%0A%20%20%20%20%20%20%20%20%0A%20%20%20%20%0A%20%20%20%20%20%20%20%20var%20popup_c0e09467af8042b79ce34cb1bc6877f4%20%3D%20L.popup%28%7B%22maxWidth%22%3A%20%22100%25%22%7D%29%3B%0A%0A%20%20%20%20%20%20%20%20%0A%20%20%20%20%20%20%20%20%20%20%20%20var%20html_3343f361219c4c299fe60584eb4586bf%20%3D%20%24%28%60%3Cdiv%20id%3D%22html_3343f361219c4c299fe60584eb4586bf%22%20style%3D%22width%3A%20100.0%25%3B%20height%3A%20100.0%25%3B%22%3EK.%20Benzema%2C%20Real%20Madrid%20CF%20%20%20%20%20%20%20%20%20%20%20%20%20%20%20%20%20%20%20%20%20Rating%20%3A%2089%20%20%20%20%20%20%20%20%20%20%20%20%20%20%20%20%20%20%20%20%20%3C/div%3E%60%29%5B0%5D%3B%0A%20%20%20%20%20%20%20%20%20%20%20%20popup_c0e09467af8042b79ce34cb1bc6877f4.setContent%28html_3343f361219c4c299fe60584eb4586bf%29%3B%0A%20%20%20%20%20%20%20%20%0A%0A%20%20%20%20%20%20%20%20circle_marker_f56ad59f3dea485d859004026610f427.bindPopup%28popup_c0e09467af8042b79ce34cb1bc6877f4%29%0A%20%20%20%20%20%20%20%20%3B%0A%0A%20%20%20%20%20%20%20%20%0A%20%20%20%20%0A%20%20%20%20%0A%20%20%20%20%20%20%20%20%20%20%20%20var%20circle_marker_205afb76c0014f0487997d8fb553d8af%20%3D%20L.circleMarker%28%0A%20%20%20%20%20%20%20%20%20%20%20%20%20%20%20%20%5B52.5310214%2C%20-1.2649062%5D%2C%0A%20%20%20%20%20%20%20%20%20%20%20%20%20%20%20%20%7B%22bubblingMouseEvents%22%3A%20true%2C%20%22color%22%3A%20%22%233388ff%22%2C%20%22dashArray%22%3A%20null%2C%20%22dashOffset%22%3A%20null%2C%20%22fill%22%3A%20true%2C%20%22fillColor%22%3A%20%22%233388ff%22%2C%20%22fillOpacity%22%3A%200.2%2C%20%22fillRule%22%3A%20%22evenodd%22%2C%20%22lineCap%22%3A%20%22round%22%2C%20%22lineJoin%22%3A%20%22round%22%2C%20%22opacity%22%3A%201.0%2C%20%22radius%22%3A%2010%2C%20%22stroke%22%3A%20true%2C%20%22weight%22%3A%203%7D%0A%20%20%20%20%20%20%20%20%20%20%20%20%29.addTo%28marker_cluster_c8dba0ead68d4ac78a1adc98eb432145%29%3B%0A%20%20%20%20%20%20%20%20%0A%20%20%20%20%0A%20%20%20%20%20%20%20%20var%20popup_9e75f89e36fd4d9ba2ba22d50cc397de%20%3D%20L.popup%28%7B%22maxWidth%22%3A%20%22100%25%22%7D%29%3B%0A%0A%20%20%20%20%20%20%20%20%0A%20%20%20%20%20%20%20%20%20%20%20%20var%20html_ad327aaedaf145b9a35c6eb6679c3c5d%20%3D%20%24%28%60%3Cdiv%20id%3D%22html_ad327aaedaf145b9a35c6eb6679c3c5d%22%20style%3D%22width%3A%20100.0%25%3B%20height%3A%20100.0%25%3B%22%3ER.%20Sterling%2C%20Manchester%20City%20%20%20%20%20%20%20%20%20%20%20%20%20%20%20%20%20%20%20%20%20Rating%20%3A%2088%20%20%20%20%20%20%20%20%20%20%20%20%20%20%20%20%20%20%20%20%20%3C/div%3E%60%29%5B0%5D%3B%0A%20%20%20%20%20%20%20%20%20%20%20%20popup_9e75f89e36fd4d9ba2ba22d50cc397de.setContent%28html_ad327aaedaf145b9a35c6eb6679c3c5d%29%3B%0A%20%20%20%20%20%20%20%20%0A%0A%20%20%20%20%20%20%20%20circle_marker_205afb76c0014f0487997d8fb553d8af.bindPopup%28popup_9e75f89e36fd4d9ba2ba22d50cc397de%29%0A%20%20%20%20%20%20%20%20%3B%0A%0A%20%20%20%20%20%20%20%20%0A%20%20%20%20%0A%20%20%20%20%0A%20%20%20%20%20%20%20%20%20%20%20%20var%20circle_marker_cb3a4b30355b49f299541a65204b8441%20%3D%20L.circleMarker%28%0A%20%20%20%20%20%20%20%20%20%20%20%20%20%20%20%20%5B52.15517%2C%205.38721%5D%2C%0A%20%20%20%20%20%20%20%20%20%20%20%20%20%20%20%20%7B%22bubblingMouseEvents%22%3A%20true%2C%20%22color%22%3A%20%22%233388ff%22%2C%20%22dashArray%22%3A%20null%2C%20%22dashOffset%22%3A%20null%2C%20%22fill%22%3A%20true%2C%20%22fillColor%22%3A%20%22%233388ff%22%2C%20%22fillOpacity%22%3A%200.2%2C%20%22fillRule%22%3A%20%22evenodd%22%2C%20%22lineCap%22%3A%20%22round%22%2C%20%22lineJoin%22%3A%20%22round%22%2C%20%22opacity%22%3A%201.0%2C%20%22radius%22%3A%2010%2C%20%22stroke%22%3A%20true%2C%20%22weight%22%3A%203%7D%0A%20%20%20%20%20%20%20%20%20%20%20%20%29.addTo%28marker_cluster_c8dba0ead68d4ac78a1adc98eb432145%29%3B%0A%20%20%20%20%20%20%20%20%0A%20%20%20%20%0A%20%20%20%20%20%20%20%20var%20popup_4d71d9545b144a5d9af84d22aca88c83%20%3D%20L.popup%28%7B%22maxWidth%22%3A%20%22100%25%22%7D%29%3B%0A%0A%20%20%20%20%20%20%20%20%0A%20%20%20%20%20%20%20%20%20%20%20%20var%20html_002fcf51a4904f0da81f063180755ea5%20%3D%20%24%28%60%3Cdiv%20id%3D%22html_002fcf51a4904f0da81f063180755ea5%22%20style%3D%22width%3A%20100.0%25%3B%20height%3A%20100.0%25%3B%22%3EV.%20van%20Dijk%2C%20Liverpool%20%20%20%20%20%20%20%20%20%20%20%20%20%20%20%20%20%20%20%20%20Rating%20%3A%2089%20%20%20%20%20%20%20%20%20%20%20%20%20%20%20%20%20%20%20%20%20%3C/div%3E%60%29%5B0%5D%3B%0A%20%20%20%20%20%20%20%20%20%20%20%20popup_4d71d9545b144a5d9af84d22aca88c83.setContent%28html_002fcf51a4904f0da81f063180755ea5%29%3B%0A%20%20%20%20%20%20%20%20%0A%0A%20%20%20%20%20%20%20%20circle_marker_cb3a4b30355b49f299541a65204b8441.bindPopup%28popup_4d71d9545b144a5d9af84d22aca88c83%29%0A%20%20%20%20%20%20%20%20%3B%0A%0A%20%20%20%20%20%20%20%20%0A%20%20%20%20%0A%20%20%20%20%0A%20%20%20%20%20%20%20%20%20%20%20%20var%20circle_marker_8a3e061ead874fcea2b21c6a640210b6%20%3D%20L.circleMarker%28%0A%20%20%20%20%20%20%20%20%20%20%20%20%20%20%20%20%5B60.5000209%2C%209.0999715%5D%2C%0A%20%20%20%20%20%20%20%20%20%20%20%20%20%20%20%20%7B%22bubblingMouseEvents%22%3A%20true%2C%20%22color%22%3A%20%22%233388ff%22%2C%20%22dashArray%22%3A%20null%2C%20%22dashOffset%22%3A%20null%2C%20%22fill%22%3A%20true%2C%20%22fillColor%22%3A%20%22%233388ff%22%2C%20%22fillOpacity%22%3A%200.2%2C%20%22fillRule%22%3A%20%22evenodd%22%2C%20%22lineCap%22%3A%20%22round%22%2C%20%22lineJoin%22%3A%20%22round%22%2C%20%22opacity%22%3A%201.0%2C%20%22radius%22%3A%2010%2C%20%22stroke%22%3A%20true%2C%20%22weight%22%3A%203%7D%0A%20%20%20%20%20%20%20%20%20%20%20%20%29.addTo%28marker_cluster_c8dba0ead68d4ac78a1adc98eb432145%29%3B%0A%20%20%20%20%20%20%20%20%0A%20%20%20%20%0A%20%20%20%20%20%20%20%20var%20popup_2caddb11e01146e6853cf938a1030a35%20%3D%20L.popup%28%7B%22maxWidth%22%3A%20%22100%25%22%7D%29%3B%0A%0A%20%20%20%20%20%20%20%20%0A%20%20%20%20%20%20%20%20%20%20%20%20var%20html_04f22c26949f420bad10ee8f85b43013%20%3D%20%24%28%60%3Cdiv%20id%3D%22html_04f22c26949f420bad10ee8f85b43013%22%20style%3D%22width%3A%20100.0%25%3B%20height%3A%20100.0%25%3B%22%3EE.%20Haaland%2C%20Borussia%20Dortmund%20%20%20%20%20%20%20%20%20%20%20%20%20%20%20%20%20%20%20%20%20Rating%20%3A%2088%20%20%20%20%20%20%20%20%20%20%20%20%20%20%20%20%20%20%20%20%20%3C/div%3E%60%29%5B0%5D%3B%0A%20%20%20%20%20%20%20%20%20%20%20%20popup_2caddb11e01146e6853cf938a1030a35.setContent%28html_04f22c26949f420bad10ee8f85b43013%29%3B%0A%20%20%20%20%20%20%20%20%0A%0A%20%20%20%20%20%20%20%20circle_marker_8a3e061ead874fcea2b21c6a640210b6.bindPopup%28popup_2caddb11e01146e6853cf938a1030a35%29%0A%20%20%20%20%20%20%20%20%3B%0A%0A%20%20%20%20%20%20%20%20%0A%20%20%20%20%0A%20%20%20%20%0A%20%20%20%20%20%20%20%20%20%20%20%20var%20circle_marker_8293601ff9f14229b60e55f8255b7362%20%3D%20L.circleMarker%28%0A%20%20%20%20%20%20%20%20%20%20%20%20%20%20%20%20%5B39.3260685%2C%20-4.8379791%5D%2C%0A%20%20%20%20%20%20%20%20%20%20%20%20%20%20%20%20%7B%22bubblingMouseEvents%22%3A%20true%2C%20%22color%22%3A%20%22%233388ff%22%2C%20%22dashArray%22%3A%20null%2C%20%22dashOffset%22%3A%20null%2C%20%22fill%22%3A%20true%2C%20%22fillColor%22%3A%20%22%233388ff%22%2C%20%22fillOpacity%22%3A%200.2%2C%20%22fillRule%22%3A%20%22evenodd%22%2C%20%22lineCap%22%3A%20%22round%22%2C%20%22lineJoin%22%3A%20%22round%22%2C%20%22opacity%22%3A%201.0%2C%20%22radius%22%3A%2010%2C%20%22stroke%22%3A%20true%2C%20%22weight%22%3A%203%7D%0A%20%20%20%20%20%20%20%20%20%20%20%20%29.addTo%28marker_cluster_c8dba0ead68d4ac78a1adc98eb432145%29%3B%0A%20%20%20%20%20%20%20%20%0A%20%20%20%20%0A%20%20%20%20%20%20%20%20var%20popup_d5e68924f58f4061b00307ba4dafaa1e%20%3D%20L.popup%28%7B%22maxWidth%22%3A%20%22100%25%22%7D%29%3B%0A%0A%20%20%20%20%20%20%20%20%0A%20%20%20%20%20%20%20%20%20%20%20%20var%20html_3847fa9f806b47b8a3f2a79dd8f7d028%20%3D%20%24%28%60%3Cdiv%20id%3D%22html_3847fa9f806b47b8a3f2a79dd8f7d028%22%20style%3D%22width%3A%20100.0%25%3B%20height%3A%20100.0%25%3B%22%3ERodri%2C%20Manchester%20City%20%20%20%20%20%20%20%20%20%20%20%20%20%20%20%20%20%20%20%20%20Rating%20%3A%2086%20%20%20%20%20%20%20%20%20%20%20%20%20%20%20%20%20%20%20%20%20%3C/div%3E%60%29%5B0%5D%3B%0A%20%20%20%20%20%20%20%20%20%20%20%20popup_d5e68924f58f4061b00307ba4dafaa1e.setContent%28html_3847fa9f806b47b8a3f2a79dd8f7d028%29%3B%0A%20%20%20%20%20%20%20%20%0A%0A%20%20%20%20%20%20%20%20circle_marker_8293601ff9f14229b60e55f8255b7362.bindPopup%28popup_d5e68924f58f4061b00307ba4dafaa1e%29%0A%20%20%20%20%20%20%20%20%3B%0A%0A%20%20%20%20%20%20%20%20%0A%20%20%20%20%0A%20%20%20%20%0A%20%20%20%20%20%20%20%20%20%20%20%20var%20circle_marker_92a743e09f634be28982236ef4e6cf0d%20%3D%20L.circleMarker%28%0A%20%20%20%20%20%20%20%20%20%20%20%20%20%20%20%20%5B-10.3333333%2C%20-53.2%5D%2C%0A%20%20%20%20%20%20%20%20%20%20%20%20%20%20%20%20%7B%22bubblingMouseEvents%22%3A%20true%2C%20%22color%22%3A%20%22%233388ff%22%2C%20%22dashArray%22%3A%20null%2C%20%22dashOffset%22%3A%20null%2C%20%22fill%22%3A%20true%2C%20%22fillColor%22%3A%20%22%233388ff%22%2C%20%22fillOpacity%22%3A%200.2%2C%20%22fillRule%22%3A%20%22evenodd%22%2C%20%22lineCap%22%3A%20%22round%22%2C%20%22lineJoin%22%3A%20%22round%22%2C%20%22opacity%22%3A%201.0%2C%20%22radius%22%3A%2010%2C%20%22stroke%22%3A%20true%2C%20%22weight%22%3A%203%7D%0A%20%20%20%20%20%20%20%20%20%20%20%20%29.addTo%28marker_cluster_c8dba0ead68d4ac78a1adc98eb432145%29%3B%0A%20%20%20%20%20%20%20%20%0A%20%20%20%20%0A%20%20%20%20%20%20%20%20var%20popup_a1be2ad077e14ce7ba9867d3ac8951c9%20%3D%20L.popup%28%7B%22maxWidth%22%3A%20%22100%25%22%7D%29%3B%0A%0A%20%20%20%20%20%20%20%20%0A%20%20%20%20%20%20%20%20%20%20%20%20var%20html_6987212ae86246759c448d4193157fab%20%3D%20%24%28%60%3Cdiv%20id%3D%22html_6987212ae86246759c448d4193157fab%22%20style%3D%22width%3A%20100.0%25%3B%20height%3A%20100.0%25%3B%22%3EMarquinhos%2C%20Paris%20Saint-Germain%20%20%20%20%20%20%20%20%20%20%20%20%20%20%20%20%20%20%20%20%20Rating%20%3A%2087%20%20%20%20%20%20%20%20%20%20%20%20%20%20%20%20%20%20%20%20%20%3C/div%3E%60%29%5B0%5D%3B%0A%20%20%20%20%20%20%20%20%20%20%20%20popup_a1be2ad077e14ce7ba9867d3ac8951c9.setContent%28html_6987212ae86246759c448d4193157fab%29%3B%0A%20%20%20%20%20%20%20%20%0A%0A%20%20%20%20%20%20%20%20circle_marker_92a743e09f634be28982236ef4e6cf0d.bindPopup%28popup_a1be2ad077e14ce7ba9867d3ac8951c9%29%0A%20%20%20%20%20%20%20%20%3B%0A%0A%20%20%20%20%20%20%20%20%0A%20%20%20%20%0A%20%20%20%20%0A%20%20%20%20%20%20%20%20%20%20%20%20var%20circle_marker_1052b586ca104150a70b7a02dcb6977e%20%3D%20L.circleMarker%28%0A%20%20%20%20%20%20%20%20%20%20%20%20%20%20%20%20%5B-34.9964963%2C%20-64.9672817%5D%2C%0A%20%20%20%20%20%20%20%20%20%20%20%20%20%20%20%20%7B%22bubblingMouseEvents%22%3A%20true%2C%20%22color%22%3A%20%22%233388ff%22%2C%20%22dashArray%22%3A%20null%2C%20%22dashOffset%22%3A%20null%2C%20%22fill%22%3A%20true%2C%20%22fillColor%22%3A%20%22%233388ff%22%2C%20%22fillOpacity%22%3A%200.2%2C%20%22fillRule%22%3A%20%22evenodd%22%2C%20%22lineCap%22%3A%20%22round%22%2C%20%22lineJoin%22%3A%20%22round%22%2C%20%22opacity%22%3A%201.0%2C%20%22radius%22%3A%2010%2C%20%22stroke%22%3A%20true%2C%20%22weight%22%3A%203%7D%0A%20%20%20%20%20%20%20%20%20%20%20%20%29.addTo%28marker_cluster_c8dba0ead68d4ac78a1adc98eb432145%29%3B%0A%20%20%20%20%20%20%20%20%0A%20%20%20%20%0A%20%20%20%20%20%20%20%20var%20popup_aa5160df04474ffdaf014debd380c490%20%3D%20L.popup%28%7B%22maxWidth%22%3A%20%22100%25%22%7D%29%3B%0A%0A%20%20%20%20%20%20%20%20%0A%20%20%20%20%20%20%20%20%20%20%20%20var%20html_5a20edd0dc8841ef9853c3e5a0815992%20%3D%20%24%28%60%3Cdiv%20id%3D%22html_5a20edd0dc8841ef9853c3e5a0815992%22%20style%3D%22width%3A%20100.0%25%3B%20height%3A%20100.0%25%3B%22%3ES.%20Aguero%2C%20FC%20Barcelona%20%20%20%20%20%20%20%20%20%20%20%20%20%20%20%20%20%20%20%20%20Rating%20%3A%2087%20%20%20%20%20%20%20%20%20%20%20%20%20%20%20%20%20%20%20%20%20%3C/div%3E%60%29%5B0%5D%3B%0A%20%20%20%20%20%20%20%20%20%20%20%20popup_aa5160df04474ffdaf014debd380c490.setContent%28html_5a20edd0dc8841ef9853c3e5a0815992%29%3B%0A%20%20%20%20%20%20%20%20%0A%0A%20%20%20%20%20%20%20%20circle_marker_1052b586ca104150a70b7a02dcb6977e.bindPopup%28popup_aa5160df04474ffdaf014debd380c490%29%0A%20%20%20%20%20%20%20%20%3B%0A%0A%20%20%20%20%20%20%20%20%0A%20%20%20%20%0A%20%20%20%20%0A%20%20%20%20%20%20%20%20%20%20%20%20var%20circle_marker_fe959615ee124ffc9d727dfe2e904201%20%3D%20L.circleMarker%28%0A%20%20%20%20%20%20%20%20%20%20%20%20%20%20%20%20%5B42.6384261%2C%2012.674297%5D%2C%0A%20%20%20%20%20%20%20%20%20%20%20%20%20%20%20%20%7B%22bubblingMouseEvents%22%3A%20true%2C%20%22color%22%3A%20%22%233388ff%22%2C%20%22dashArray%22%3A%20null%2C%20%22dashOffset%22%3A%20null%2C%20%22fill%22%3A%20true%2C%20%22fillColor%22%3A%20%22%233388ff%22%2C%20%22fillOpacity%22%3A%200.2%2C%20%22fillRule%22%3A%20%22evenodd%22%2C%20%22lineCap%22%3A%20%22round%22%2C%20%22lineJoin%22%3A%20%22round%22%2C%20%22opacity%22%3A%201.0%2C%20%22radius%22%3A%2010%2C%20%22stroke%22%3A%20true%2C%20%22weight%22%3A%203%7D%0A%20%20%20%20%20%20%20%20%20%20%20%20%29.addTo%28marker_cluster_c8dba0ead68d4ac78a1adc98eb432145%29%3B%0A%20%20%20%20%20%20%20%20%0A%20%20%20%20%0A%20%20%20%20%20%20%20%20var%20popup_fbd0217a2b74451a91bc5f3ce59fd343%20%3D%20L.popup%28%7B%22maxWidth%22%3A%20%22100%25%22%7D%29%3B%0A%0A%20%20%20%20%20%20%20%20%0A%20%20%20%20%20%20%20%20%20%20%20%20var%20html_ddf8500f977e4a86bcf317415fa099bd%20%3D%20%24%28%60%3Cdiv%20id%3D%22html_ddf8500f977e4a86bcf317415fa099bd%22%20style%3D%22width%3A%20100.0%25%3B%20height%3A%20100.0%25%3B%22%3EC.%20Immobile%2C%20Lazio%20%20%20%20%20%20%20%20%20%20%20%20%20%20%20%20%20%20%20%20%20Rating%20%3A%2087%20%20%20%20%20%20%20%20%20%20%20%20%20%20%20%20%20%20%20%20%20%3C/div%3E%60%29%5B0%5D%3B%0A%20%20%20%20%20%20%20%20%20%20%20%20popup_fbd0217a2b74451a91bc5f3ce59fd343.setContent%28html_ddf8500f977e4a86bcf317415fa099bd%29%3B%0A%20%20%20%20%20%20%20%20%0A%0A%20%20%20%20%20%20%20%20circle_marker_fe959615ee124ffc9d727dfe2e904201.bindPopup%28popup_fbd0217a2b74451a91bc5f3ce59fd343%29%0A%20%20%20%20%20%20%20%20%3B%0A%0A%20%20%20%20%20%20%20%20%0A%20%20%20%20%0A%20%20%20%20%0A%20%20%20%20%20%20%20%20%20%20%20%20var%20circle_marker_bec10647833a445c8a6aad0aa4d9d1df%20%3D%20L.circleMarker%28%0A%20%20%20%20%20%20%20%20%20%20%20%20%20%20%20%20%5B50.6402809%2C%204.6667145%5D%2C%0A%20%20%20%20%20%20%20%20%20%20%20%20%20%20%20%20%7B%22bubblingMouseEvents%22%3A%20true%2C%20%22color%22%3A%20%22%233388ff%22%2C%20%22dashArray%22%3A%20null%2C%20%22dashOffset%22%3A%20null%2C%20%22fill%22%3A%20true%2C%20%22fillColor%22%3A%20%22%233388ff%22%2C%20%22fillOpacity%22%3A%200.2%2C%20%22fillRule%22%3A%20%22evenodd%22%2C%20%22lineCap%22%3A%20%22round%22%2C%20%22lineJoin%22%3A%20%22round%22%2C%20%22opacity%22%3A%201.0%2C%20%22radius%22%3A%2010%2C%20%22stroke%22%3A%20true%2C%20%22weight%22%3A%203%7D%0A%20%20%20%20%20%20%20%20%20%20%20%20%29.addTo%28marker_cluster_c8dba0ead68d4ac78a1adc98eb432145%29%3B%0A%20%20%20%20%20%20%20%20%0A%20%20%20%20%0A%20%20%20%20%20%20%20%20var%20popup_87f9a8f884424352a7619cad74c61dbc%20%3D%20L.popup%28%7B%22maxWidth%22%3A%20%22100%25%22%7D%29%3B%0A%0A%20%20%20%20%20%20%20%20%0A%20%20%20%20%20%20%20%20%20%20%20%20var%20html_cdd20ec3d9134d029b42792791104d81%20%3D%20%24%28%60%3Cdiv%20id%3D%22html_cdd20ec3d9134d029b42792791104d81%22%20style%3D%22width%3A%20100.0%25%3B%20height%3A%20100.0%25%3B%22%3ER.%20Lukaku%2C%20Chelsea%20%20%20%20%20%20%20%20%20%20%20%20%20%20%20%20%20%20%20%20%20Rating%20%3A%2088%20%20%20%20%20%20%20%20%20%20%20%20%20%20%20%20%20%20%20%20%20%3C/div%3E%60%29%5B0%5D%3B%0A%20%20%20%20%20%20%20%20%20%20%20%20popup_87f9a8f884424352a7619cad74c61dbc.setContent%28html_cdd20ec3d9134d029b42792791104d81%29%3B%0A%20%20%20%20%20%20%20%20%0A%0A%20%20%20%20%20%20%20%20circle_marker_bec10647833a445c8a6aad0aa4d9d1df.bindPopup%28popup_87f9a8f884424352a7619cad74c61dbc%29%0A%20%20%20%20%20%20%20%20%3B%0A%0A%20%20%20%20%20%20%20%20%0A%20%20%20%20%0A%20%20%20%20%0A%20%20%20%20%20%20%20%20%20%20%20%20var%20circle_marker_49d05a71ed81471fa4db54483f01c081%20%3D%20L.circleMarker%28%0A%20%20%20%20%20%20%20%20%20%20%20%20%20%20%20%20%5B51.0834196%2C%2010.4234469%5D%2C%0A%20%20%20%20%20%20%20%20%20%20%20%20%20%20%20%20%7B%22bubblingMouseEvents%22%3A%20true%2C%20%22color%22%3A%20%22%233388ff%22%2C%20%22dashArray%22%3A%20null%2C%20%22dashOffset%22%3A%20null%2C%20%22fill%22%3A%20true%2C%20%22fillColor%22%3A%20%22%233388ff%22%2C%20%22fillOpacity%22%3A%200.2%2C%20%22fillRule%22%3A%20%22evenodd%22%2C%20%22lineCap%22%3A%20%22round%22%2C%20%22lineJoin%22%3A%20%22round%22%2C%20%22opacity%22%3A%201.0%2C%20%22radius%22%3A%2010%2C%20%22stroke%22%3A%20true%2C%20%22weight%22%3A%203%7D%0A%20%20%20%20%20%20%20%20%20%20%20%20%29.addTo%28marker_cluster_c8dba0ead68d4ac78a1adc98eb432145%29%3B%0A%20%20%20%20%20%20%20%20%0A%20%20%20%20%0A%20%20%20%20%20%20%20%20var%20popup_4b81a95675954e86907f55e11c25e6a5%20%3D%20L.popup%28%7B%22maxWidth%22%3A%20%22100%25%22%7D%29%3B%0A%0A%20%20%20%20%20%20%20%20%0A%20%20%20%20%20%20%20%20%20%20%20%20var%20html_98ff5ef40e5843ac9e3c8219fb2a3882%20%3D%20%24%28%60%3Cdiv%20id%3D%22html_98ff5ef40e5843ac9e3c8219fb2a3882%22%20style%3D%22width%3A%20100.0%25%3B%20height%3A%20100.0%25%3B%22%3EM.%20Hummels%2C%20Borussia%20Dortmund%20%20%20%20%20%20%20%20%20%20%20%20%20%20%20%20%20%20%20%20%20Rating%20%3A%2086%20%20%20%20%20%20%20%20%20%20%20%20%20%20%20%20%20%20%20%20%20%3C/div%3E%60%29%5B0%5D%3B%0A%20%20%20%20%20%20%20%20%20%20%20%20popup_4b81a95675954e86907f55e11c25e6a5.setContent%28html_98ff5ef40e5843ac9e3c8219fb2a3882%29%3B%0A%20%20%20%20%20%20%20%20%0A%0A%20%20%20%20%20%20%20%20circle_marker_49d05a71ed81471fa4db54483f01c081.bindPopup%28popup_4b81a95675954e86907f55e11c25e6a5%29%0A%20%20%20%20%20%20%20%20%3B%0A%0A%20%20%20%20%20%20%20%20%0A%20%20%20%20%0A%20%20%20%20%0A%20%20%20%20%20%20%20%20%20%20%20%20var%20circle_marker_58a7670ab09846e4975af5c7405c1dc4%20%3D%20L.circleMarker%28%0A%20%20%20%20%20%20%20%20%20%20%20%20%20%20%20%20%5B28.0000272%2C%202.9999825%5D%2C%0A%20%20%20%20%20%20%20%20%20%20%20%20%20%20%20%20%7B%22bubblingMouseEvents%22%3A%20true%2C%20%22color%22%3A%20%22%233388ff%22%2C%20%22dashArray%22%3A%20null%2C%20%22dashOffset%22%3A%20null%2C%20%22fill%22%3A%20true%2C%20%22fillColor%22%3A%20%22%233388ff%22%2C%20%22fillOpacity%22%3A%200.2%2C%20%22fillRule%22%3A%20%22evenodd%22%2C%20%22lineCap%22%3A%20%22round%22%2C%20%22lineJoin%22%3A%20%22round%22%2C%20%22opacity%22%3A%201.0%2C%20%22radius%22%3A%2010%2C%20%22stroke%22%3A%20true%2C%20%22weight%22%3A%203%7D%0A%20%20%20%20%20%20%20%20%20%20%20%20%29.addTo%28marker_cluster_c8dba0ead68d4ac78a1adc98eb432145%29%3B%0A%20%20%20%20%20%20%20%20%0A%20%20%20%20%0A%20%20%20%20%20%20%20%20var%20popup_aee4560eb0c8461c8b4adb062bb80345%20%3D%20L.popup%28%7B%22maxWidth%22%3A%20%22100%25%22%7D%29%3B%0A%0A%20%20%20%20%20%20%20%20%0A%20%20%20%20%20%20%20%20%20%20%20%20var%20html_52a1738a6c834dbdbfd1115971a7cc8d%20%3D%20%24%28%60%3Cdiv%20id%3D%22html_52a1738a6c834dbdbfd1115971a7cc8d%22%20style%3D%22width%3A%20100.0%25%3B%20height%3A%20100.0%25%3B%22%3ER.%20Mahrez%2C%20Manchester%20City%20%20%20%20%20%20%20%20%20%20%20%20%20%20%20%20%20%20%20%20%20Rating%20%3A%2086%20%20%20%20%20%20%20%20%20%20%20%20%20%20%20%20%20%20%20%20%20%3C/div%3E%60%29%5B0%5D%3B%0A%20%20%20%20%20%20%20%20%20%20%20%20popup_aee4560eb0c8461c8b4adb062bb80345.setContent%28html_52a1738a6c834dbdbfd1115971a7cc8d%29%3B%0A%20%20%20%20%20%20%20%20%0A%0A%20%20%20%20%20%20%20%20circle_marker_58a7670ab09846e4975af5c7405c1dc4.bindPopup%28popup_aee4560eb0c8461c8b4adb062bb80345%29%0A%20%20%20%20%20%20%20%20%3B%0A%0A%20%20%20%20%20%20%20%20%0A%20%20%20%20%0A%20%20%20%20%0A%20%20%20%20%20%20%20%20%20%20%20%20var%20circle_marker_b9c8ddf7ca0249e7876c9f3b594dce8c%20%3D%20L.circleMarker%28%0A%20%20%20%20%20%20%20%20%20%20%20%20%20%20%20%20%5B42.6384261%2C%2012.674297%5D%2C%0A%20%20%20%20%20%20%20%20%20%20%20%20%20%20%20%20%7B%22bubblingMouseEvents%22%3A%20true%2C%20%22color%22%3A%20%22%233388ff%22%2C%20%22dashArray%22%3A%20null%2C%20%22dashOffset%22%3A%20null%2C%20%22fill%22%3A%20true%2C%20%22fillColor%22%3A%20%22%233388ff%22%2C%20%22fillOpacity%22%3A%200.2%2C%20%22fillRule%22%3A%20%22evenodd%22%2C%20%22lineCap%22%3A%20%22round%22%2C%20%22lineJoin%22%3A%20%22round%22%2C%20%22opacity%22%3A%201.0%2C%20%22radius%22%3A%2010%2C%20%22stroke%22%3A%20true%2C%20%22weight%22%3A%203%7D%0A%20%20%20%20%20%20%20%20%20%20%20%20%29.addTo%28marker_cluster_c8dba0ead68d4ac78a1adc98eb432145%29%3B%0A%20%20%20%20%20%20%20%20%0A%20%20%20%20%0A%20%20%20%20%20%20%20%20var%20popup_8981765401cd4e5380cda6cce2d247c4%20%3D%20L.popup%28%7B%22maxWidth%22%3A%20%22100%25%22%7D%29%3B%0A%0A%20%20%20%20%20%20%20%20%0A%20%20%20%20%20%20%20%20%20%20%20%20var%20html_8dcf83dcd662411a86dcfff18000ee27%20%3D%20%24%28%60%3Cdiv%20id%3D%22html_8dcf83dcd662411a86dcfff18000ee27%22%20style%3D%22width%3A%20100.0%25%3B%20height%3A%20100.0%25%3B%22%3EL.%20Insigne%2C%20Napoli%20%20%20%20%20%20%20%20%20%20%20%20%20%20%20%20%20%20%20%20%20Rating%20%3A%2086%20%20%20%20%20%20%20%20%20%20%20%20%20%20%20%20%20%20%20%20%20%3C/div%3E%60%29%5B0%5D%3B%0A%20%20%20%20%20%20%20%20%20%20%20%20popup_8981765401cd4e5380cda6cce2d247c4.setContent%28html_8dcf83dcd662411a86dcfff18000ee27%29%3B%0A%20%20%20%20%20%20%20%20%0A%0A%20%20%20%20%20%20%20%20circle_marker_b9c8ddf7ca0249e7876c9f3b594dce8c.bindPopup%28popup_8981765401cd4e5380cda6cce2d247c4%29%0A%20%20%20%20%20%20%20%20%3B%0A%0A%20%20%20%20%20%20%20%20%0A%20%20%20%20%0A%20%20%20%20%0A%20%20%20%20%20%20%20%20%20%20%20%20var%20circle_marker_6edf7339db314c628237cdf75847435c%20%3D%20L.circleMarker%28%0A%20%20%20%20%20%20%20%20%20%20%20%20%20%20%20%20%5B39.3260685%2C%20-4.8379791%5D%2C%0A%20%20%20%20%20%20%20%20%20%20%20%20%20%20%20%20%7B%22bubblingMouseEvents%22%3A%20true%2C%20%22color%22%3A%20%22%233388ff%22%2C%20%22dashArray%22%3A%20null%2C%20%22dashOffset%22%3A%20null%2C%20%22fill%22%3A%20true%2C%20%22fillColor%22%3A%20%22%233388ff%22%2C%20%22fillOpacity%22%3A%200.2%2C%20%22fillRule%22%3A%20%22evenodd%22%2C%20%22lineCap%22%3A%20%22round%22%2C%20%22lineJoin%22%3A%20%22round%22%2C%20%22opacity%22%3A%201.0%2C%20%22radius%22%3A%2010%2C%20%22stroke%22%3A%20true%2C%20%22weight%22%3A%203%7D%0A%20%20%20%20%20%20%20%20%20%20%20%20%29.addTo%28marker_cluster_c8dba0ead68d4ac78a1adc98eb432145%29%3B%0A%20%20%20%20%20%20%20%20%0A%20%20%20%20%0A%20%20%20%20%20%20%20%20var%20popup_1975a1e8022640939b9eb490fbe8e1be%20%3D%20L.popup%28%7B%22maxWidth%22%3A%20%22100%25%22%7D%29%3B%0A%0A%20%20%20%20%20%20%20%20%0A%20%20%20%20%20%20%20%20%20%20%20%20var%20html_c9704b738a8c4ce2ae94be367e22c8c3%20%3D%20%24%28%60%3Cdiv%20id%3D%22html_c9704b738a8c4ce2ae94be367e22c8c3%22%20style%3D%22width%3A%20100.0%25%3B%20height%3A%20100.0%25%3B%22%3ESergio%20Busquets%2C%20FC%20Barcelona%20%20%20%20%20%20%20%20%20%20%20%20%20%20%20%20%20%20%20%20%20Rating%20%3A%2086%20%20%20%20%20%20%20%20%20%20%20%20%20%20%20%20%20%20%20%20%20%3C/div%3E%60%29%5B0%5D%3B%0A%20%20%20%20%20%20%20%20%20%20%20%20popup_1975a1e8022640939b9eb490fbe8e1be.setContent%28html_c9704b738a8c4ce2ae94be367e22c8c3%29%3B%0A%20%20%20%20%20%20%20%20%0A%0A%20%20%20%20%20%20%20%20circle_marker_6edf7339db314c628237cdf75847435c.bindPopup%28popup_1975a1e8022640939b9eb490fbe8e1be%29%0A%20%20%20%20%20%20%20%20%3B%0A%0A%20%20%20%20%20%20%20%20%0A%20%20%20%20%0A%20%20%20%20%0A%20%20%20%20%20%20%20%20%20%20%20%20var%20circle_marker_10a08b60f8a14789bc3c38059f005f0f%20%3D%20L.circleMarker%28%0A%20%20%20%20%20%20%20%20%20%20%20%20%20%20%20%20%5B52.5310214%2C%20-1.2649062%5D%2C%0A%20%20%20%20%20%20%20%20%20%20%20%20%20%20%20%20%7B%22bubblingMouseEvents%22%3A%20true%2C%20%22color%22%3A%20%22%233388ff%22%2C%20%22dashArray%22%3A%20null%2C%20%22dashOffset%22%3A%20null%2C%20%22fill%22%3A%20true%2C%20%22fillColor%22%3A%20%22%233388ff%22%2C%20%22fillOpacity%22%3A%200.2%2C%20%22fillRule%22%3A%20%22evenodd%22%2C%20%22lineCap%22%3A%20%22round%22%2C%20%22lineJoin%22%3A%20%22round%22%2C%20%22opacity%22%3A%201.0%2C%20%22radius%22%3A%2010%2C%20%22stroke%22%3A%20true%2C%20%22weight%22%3A%203%7D%0A%20%20%20%20%20%20%20%20%20%20%20%20%29.addTo%28marker_cluster_c8dba0ead68d4ac78a1adc98eb432145%29%3B%0A%20%20%20%20%20%20%20%20%0A%20%20%20%20%0A%20%20%20%20%20%20%20%20var%20popup_d6fbc25829e0465c8473bfbd3e483d9b%20%3D%20L.popup%28%7B%22maxWidth%22%3A%20%22100%25%22%7D%29%3B%0A%0A%20%20%20%20%20%20%20%20%0A%20%20%20%20%20%20%20%20%20%20%20%20var%20html_402196fee316468db4e9e5f5bcdb4815%20%3D%20%24%28%60%3Cdiv%20id%3D%22html_402196fee316468db4e9e5f5bcdb4815%22%20style%3D%22width%3A%20100.0%25%3B%20height%3A%20100.0%25%3B%22%3EJ.%20Sancho%2C%20Manchester%20United%20%20%20%20%20%20%20%20%20%20%20%20%20%20%20%20%20%20%20%20%20Rating%20%3A%2087%20%20%20%20%20%20%20%20%20%20%20%20%20%20%20%20%20%20%20%20%20%3C/div%3E%60%29%5B0%5D%3B%0A%20%20%20%20%20%20%20%20%20%20%20%20popup_d6fbc25829e0465c8473bfbd3e483d9b.setContent%28html_402196fee316468db4e9e5f5bcdb4815%29%3B%0A%20%20%20%20%20%20%20%20%0A%0A%20%20%20%20%20%20%20%20circle_marker_10a08b60f8a14789bc3c38059f005f0f.bindPopup%28popup_d6fbc25829e0465c8473bfbd3e483d9b%29%0A%20%20%20%20%20%20%20%20%3B%0A%0A%20%20%20%20%20%20%20%20%0A%20%20%20%20%0A%20%20%20%20%0A%20%20%20%20%20%20%20%20%20%20%20%20var%20circle_marker_27c43db2f33f4fb98b132c0bab7c57e2%20%3D%20L.circleMarker%28%0A%20%20%20%20%20%20%20%20%20%20%20%20%20%20%20%20%5B39.3260685%2C%20-4.8379791%5D%2C%0A%20%20%20%20%20%20%20%20%20%20%20%20%20%20%20%20%7B%22bubblingMouseEvents%22%3A%20true%2C%20%22color%22%3A%20%22%233388ff%22%2C%20%22dashArray%22%3A%20null%2C%20%22dashOffset%22%3A%20null%2C%20%22fill%22%3A%20true%2C%20%22fillColor%22%3A%20%22%233388ff%22%2C%20%22fillOpacity%22%3A%200.2%2C%20%22fillRule%22%3A%20%22evenodd%22%2C%20%22lineCap%22%3A%20%22round%22%2C%20%22lineJoin%22%3A%20%22round%22%2C%20%22opacity%22%3A%201.0%2C%20%22radius%22%3A%2010%2C%20%22stroke%22%3A%20true%2C%20%22weight%22%3A%203%7D%0A%20%20%20%20%20%20%20%20%20%20%20%20%29.addTo%28marker_cluster_c8dba0ead68d4ac78a1adc98eb432145%29%3B%0A%20%20%20%20%20%20%20%20%0A%20%20%20%20%0A%20%20%20%20%20%20%20%20var%20popup_1c9a9ef99d324cbba732e51508efa131%20%3D%20L.popup%28%7B%22maxWidth%22%3A%20%22100%25%22%7D%29%3B%0A%0A%20%20%20%20%20%20%20%20%0A%20%20%20%20%20%20%20%20%20%20%20%20var%20html_b069c9b4ae674c4abeaf4350adf0299a%20%3D%20%24%28%60%3Cdiv%20id%3D%22html_b069c9b4ae674c4abeaf4350adf0299a%22%20style%3D%22width%3A%20100.0%25%3B%20height%3A%20100.0%25%3B%22%3EA.%20Laporte%2C%20Manchester%20City%20%20%20%20%20%20%20%20%20%20%20%20%20%20%20%20%20%20%20%20%20Rating%20%3A%2086%20%20%20%20%20%20%20%20%20%20%20%20%20%20%20%20%20%20%20%20%20%3C/div%3E%60%29%5B0%5D%3B%0A%20%20%20%20%20%20%20%20%20%20%20%20popup_1c9a9ef99d324cbba732e51508efa131.setContent%28html_b069c9b4ae674c4abeaf4350adf0299a%29%3B%0A%20%20%20%20%20%20%20%20%0A%0A%20%20%20%20%20%20%20%20circle_marker_27c43db2f33f4fb98b132c0bab7c57e2.bindPopup%28popup_1c9a9ef99d324cbba732e51508efa131%29%0A%20%20%20%20%20%20%20%20%3B%0A%0A%20%20%20%20%20%20%20%20%0A%20%20%20%20%0A%20%20%20%20%0A%20%20%20%20%20%20%20%20%20%20%20%20var%20circle_marker_531c8e0da75a42e3b14c878246874862%20%3D%20L.circleMarker%28%0A%20%20%20%20%20%20%20%20%20%20%20%20%20%20%20%20%5B46.603354%2C%201.8883335%5D%2C%0A%20%20%20%20%20%20%20%20%20%20%20%20%20%20%20%20%7B%22bubblingMouseEvents%22%3A%20true%2C%20%22color%22%3A%20%22%233388ff%22%2C%20%22dashArray%22%3A%20null%2C%20%22dashOffset%22%3A%20null%2C%20%22fill%22%3A%20true%2C%20%22fillColor%22%3A%20%22%233388ff%22%2C%20%22fillOpacity%22%3A%200.2%2C%20%22fillRule%22%3A%20%22evenodd%22%2C%20%22lineCap%22%3A%20%22round%22%2C%20%22lineJoin%22%3A%20%22round%22%2C%20%22opacity%22%3A%201.0%2C%20%22radius%22%3A%2010%2C%20%22stroke%22%3A%20true%2C%20%22weight%22%3A%203%7D%0A%20%20%20%20%20%20%20%20%20%20%20%20%29.addTo%28marker_cluster_c8dba0ead68d4ac78a1adc98eb432145%29%3B%0A%20%20%20%20%20%20%20%20%0A%20%20%20%20%0A%20%20%20%20%20%20%20%20var%20popup_9b07cc891fe84fd99905dcf4a06fbd03%20%3D%20L.popup%28%7B%22maxWidth%22%3A%20%22100%25%22%7D%29%3B%0A%0A%20%20%20%20%20%20%20%20%0A%20%20%20%20%20%20%20%20%20%20%20%20var%20html_713780d176e34e48b566721f669c75d3%20%3D%20%24%28%60%3Cdiv%20id%3D%22html_713780d176e34e48b566721f669c75d3%22%20style%3D%22width%3A%20100.0%25%3B%20height%3A%20100.0%25%3B%22%3EK.%20Coman%2C%20FC%20Bayern%20M%C3%BCnchen%20%20%20%20%20%20%20%20%20%20%20%20%20%20%20%20%20%20%20%20%20Rating%20%3A%2086%20%20%20%20%20%20%20%20%20%20%20%20%20%20%20%20%20%20%20%20%20%3C/div%3E%60%29%5B0%5D%3B%0A%20%20%20%20%20%20%20%20%20%20%20%20popup_9b07cc891fe84fd99905dcf4a06fbd03.setContent%28html_713780d176e34e48b566721f669c75d3%29%3B%0A%20%20%20%20%20%20%20%20%0A%0A%20%20%20%20%20%20%20%20circle_marker_531c8e0da75a42e3b14c878246874862.bindPopup%28popup_9b07cc891fe84fd99905dcf4a06fbd03%29%0A%20%20%20%20%20%20%20%20%3B%0A%0A%20%20%20%20%20%20%20%20%0A%20%20%20%20%0A%20%20%20%20%0A%20%20%20%20%20%20%20%20%20%20%20%20var%20circle_marker_5e4a9c2b3e954e05bcb912b4c782fc34%20%3D%20L.circleMarker%28%0A%20%20%20%20%20%20%20%20%20%20%20%20%20%20%20%20%5B46.603354%2C%201.8883335%5D%2C%0A%20%20%20%20%20%20%20%20%20%20%20%20%20%20%20%20%7B%22bubblingMouseEvents%22%3A%20true%2C%20%22color%22%3A%20%22%233388ff%22%2C%20%22dashArray%22%3A%20null%2C%20%22dashOffset%22%3A%20null%2C%20%22fill%22%3A%20true%2C%20%22fillColor%22%3A%20%22%233388ff%22%2C%20%22fillOpacity%22%3A%200.2%2C%20%22fillRule%22%3A%20%22evenodd%22%2C%20%22lineCap%22%3A%20%22round%22%2C%20%22lineJoin%22%3A%20%22round%22%2C%20%22opacity%22%3A%201.0%2C%20%22radius%22%3A%2010%2C%20%22stroke%22%3A%20true%2C%20%22weight%22%3A%203%7D%0A%20%20%20%20%20%20%20%20%20%20%20%20%29.addTo%28marker_cluster_c8dba0ead68d4ac78a1adc98eb432145%29%3B%0A%20%20%20%20%20%20%20%20%0A%20%20%20%20%0A%20%20%20%20%20%20%20%20var%20popup_291ac97de5564ac5b69ab04e0cecd98b%20%3D%20L.popup%28%7B%22maxWidth%22%3A%20%22100%25%22%7D%29%3B%0A%0A%20%20%20%20%20%20%20%20%0A%20%20%20%20%20%20%20%20%20%20%20%20var%20html_e88b03cfba264f688f1d14e8c59a0297%20%3D%20%24%28%60%3Cdiv%20id%3D%22html_e88b03cfba264f688f1d14e8c59a0297%22%20style%3D%22width%3A%20100.0%25%3B%20height%3A%20100.0%25%3B%22%3ER.%20Varane%2C%20Manchester%20United%20%20%20%20%20%20%20%20%20%20%20%20%20%20%20%20%20%20%20%20%20Rating%20%3A%2086%20%20%20%20%20%20%20%20%20%20%20%20%20%20%20%20%20%20%20%20%20%3C/div%3E%60%29%5B0%5D%3B%0A%20%20%20%20%20%20%20%20%20%20%20%20popup_291ac97de5564ac5b69ab04e0cecd98b.setContent%28html_e88b03cfba264f688f1d14e8c59a0297%29%3B%0A%20%20%20%20%20%20%20%20%0A%0A%20%20%20%20%20%20%20%20circle_marker_5e4a9c2b3e954e05bcb912b4c782fc34.bindPopup%28popup_291ac97de5564ac5b69ab04e0cecd98b%29%0A%20%20%20%20%20%20%20%20%3B%0A%0A%20%20%20%20%20%20%20%20%0A%20%20%20%20%0A%20%20%20%20%0A%20%20%20%20%20%20%20%20%20%20%20%20var%20circle_marker_5b518521f1cc40febb9916d403a6944b%20%3D%20L.circleMarker%28%0A%20%20%20%20%20%20%20%20%20%20%20%20%20%20%20%20%5B40.0332629%2C%20-7.8896263%5D%2C%0A%20%20%20%20%20%20%20%20%20%20%20%20%20%20%20%20%7B%22bubblingMouseEvents%22%3A%20true%2C%20%22color%22%3A%20%22%233388ff%22%2C%20%22dashArray%22%3A%20null%2C%20%22dashOffset%22%3A%20null%2C%20%22fill%22%3A%20true%2C%20%22fillColor%22%3A%20%22%233388ff%22%2C%20%22fillOpacity%22%3A%200.2%2C%20%22fillRule%22%3A%20%22evenodd%22%2C%20%22lineCap%22%3A%20%22round%22%2C%20%22lineJoin%22%3A%20%22round%22%2C%20%22opacity%22%3A%201.0%2C%20%22radius%22%3A%2010%2C%20%22stroke%22%3A%20true%2C%20%22weight%22%3A%203%7D%0A%20%20%20%20%20%20%20%20%20%20%20%20%29.addTo%28marker_cluster_c8dba0ead68d4ac78a1adc98eb432145%29%3B%0A%20%20%20%20%20%20%20%20%0A%20%20%20%20%0A%20%20%20%20%20%20%20%20var%20popup_5c7ea742c70047baa848cb8f48659559%20%3D%20L.popup%28%7B%22maxWidth%22%3A%20%22100%25%22%7D%29%3B%0A%0A%20%20%20%20%20%20%20%20%0A%20%20%20%20%20%20%20%20%20%20%20%20var%20html_5dbde2c0337f4f54a0a0510a3d4827a1%20%3D%20%24%28%60%3Cdiv%20id%3D%22html_5dbde2c0337f4f54a0a0510a3d4827a1%22%20style%3D%22width%3A%20100.0%25%3B%20height%3A%20100.0%25%3B%22%3ERuben%20Dias%2C%20Manchester%20City%20%20%20%20%20%20%20%20%20%20%20%20%20%20%20%20%20%20%20%20%20Rating%20%3A%2087%20%20%20%20%20%20%20%20%20%20%20%20%20%20%20%20%20%20%20%20%20%3C/div%3E%60%29%5B0%5D%3B%0A%20%20%20%20%20%20%20%20%20%20%20%20popup_5c7ea742c70047baa848cb8f48659559.setContent%28html_5dbde2c0337f4f54a0a0510a3d4827a1%29%3B%0A%20%20%20%20%20%20%20%20%0A%0A%20%20%20%20%20%20%20%20circle_marker_5b518521f1cc40febb9916d403a6944b.bindPopup%28popup_5c7ea742c70047baa848cb8f48659559%29%0A%20%20%20%20%20%20%20%20%3B%0A%0A%20%20%20%20%20%20%20%20%0A%20%20%20%20%0A%20%20%20%20%0A%20%20%20%20%20%20%20%20%20%20%20%20var%20circle_marker_f2d8f28633fd4d0d8cfa73006d8b875c%20%3D%20L.circleMarker%28%0A%20%20%20%20%20%20%20%20%20%20%20%20%20%20%20%20%5B42.6384261%2C%2012.674297%5D%2C%0A%20%20%20%20%20%20%20%20%20%20%20%20%20%20%20%20%7B%22bubblingMouseEvents%22%3A%20true%2C%20%22color%22%3A%20%22%233388ff%22%2C%20%22dashArray%22%3A%20null%2C%20%22dashOffset%22%3A%20null%2C%20%22fill%22%3A%20true%2C%20%22fillColor%22%3A%20%22%233388ff%22%2C%20%22fillOpacity%22%3A%200.2%2C%20%22fillRule%22%3A%20%22evenodd%22%2C%20%22lineCap%22%3A%20%22round%22%2C%20%22lineJoin%22%3A%20%22round%22%2C%20%22opacity%22%3A%201.0%2C%20%22radius%22%3A%2010%2C%20%22stroke%22%3A%20true%2C%20%22weight%22%3A%203%7D%0A%20%20%20%20%20%20%20%20%20%20%20%20%29.addTo%28marker_cluster_c8dba0ead68d4ac78a1adc98eb432145%29%3B%0A%20%20%20%20%20%20%20%20%0A%20%20%20%20%0A%20%20%20%20%20%20%20%20var%20popup_d8468e6751ca4b3daec86638dc7ae616%20%3D%20L.popup%28%7B%22maxWidth%22%3A%20%22100%25%22%7D%29%3B%0A%0A%20%20%20%20%20%20%20%20%0A%20%20%20%20%20%20%20%20%20%20%20%20var%20html_4bc5d2b69cab45939ccaa010760c5d12%20%3D%20%24%28%60%3Cdiv%20id%3D%22html_4bc5d2b69cab45939ccaa010760c5d12%22%20style%3D%22width%3A%20100.0%25%3B%20height%3A%20100.0%25%3B%22%3EG.%20Chiellini%2C%20Juventus%20%20%20%20%20%20%20%20%20%20%20%20%20%20%20%20%20%20%20%20%20Rating%20%3A%2086%20%20%20%20%20%20%20%20%20%20%20%20%20%20%20%20%20%20%20%20%20%3C/div%3E%60%29%5B0%5D%3B%0A%20%20%20%20%20%20%20%20%20%20%20%20popup_d8468e6751ca4b3daec86638dc7ae616.setContent%28html_4bc5d2b69cab45939ccaa010760c5d12%29%3B%0A%20%20%20%20%20%20%20%20%0A%0A%20%20%20%20%20%20%20%20circle_marker_f2d8f28633fd4d0d8cfa73006d8b875c.bindPopup%28popup_d8468e6751ca4b3daec86638dc7ae616%29%0A%20%20%20%20%20%20%20%20%3B%0A%0A%20%20%20%20%20%20%20%20%0A%20%20%20%20%0A%20%20%20%20%0A%20%20%20%20%20%20%20%20%20%20%20%20var%20circle_marker_ca086ccea94a4c8eb200383c3fd7ed3d%20%3D%20L.circleMarker%28%0A%20%20%20%20%20%20%20%20%20%20%20%20%20%20%20%20%5B48.7411522%2C%2019.4528646%5D%2C%0A%20%20%20%20%20%20%20%20%20%20%20%20%20%20%20%20%7B%22bubblingMouseEvents%22%3A%20true%2C%20%22color%22%3A%20%22%233388ff%22%2C%20%22dashArray%22%3A%20null%2C%20%22dashOffset%22%3A%20null%2C%20%22fill%22%3A%20true%2C%20%22fillColor%22%3A%20%22%233388ff%22%2C%20%22fillOpacity%22%3A%200.2%2C%20%22fillRule%22%3A%20%22evenodd%22%2C%20%22lineCap%22%3A%20%22round%22%2C%20%22lineJoin%22%3A%20%22round%22%2C%20%22opacity%22%3A%201.0%2C%20%22radius%22%3A%2010%2C%20%22stroke%22%3A%20true%2C%20%22weight%22%3A%203%7D%0A%20%20%20%20%20%20%20%20%20%20%20%20%29.addTo%28marker_cluster_c8dba0ead68d4ac78a1adc98eb432145%29%3B%0A%20%20%20%20%20%20%20%20%0A%20%20%20%20%0A%20%20%20%20%20%20%20%20var%20popup_cf0a8546fbd34457a4817ce7d6ba20bc%20%3D%20L.popup%28%7B%22maxWidth%22%3A%20%22100%25%22%7D%29%3B%0A%0A%20%20%20%20%20%20%20%20%0A%20%20%20%20%20%20%20%20%20%20%20%20var%20html_4869125543bb4aee94c691eb4e226dd6%20%3D%20%24%28%60%3Cdiv%20id%3D%22html_4869125543bb4aee94c691eb4e226dd6%22%20style%3D%22width%3A%20100.0%25%3B%20height%3A%20100.0%25%3B%22%3EM.%20Skriniar%2C%20Inter%20%20%20%20%20%20%20%20%20%20%20%20%20%20%20%20%20%20%20%20%20Rating%20%3A%2086%20%20%20%20%20%20%20%20%20%20%20%20%20%20%20%20%20%20%20%20%20%3C/div%3E%60%29%5B0%5D%3B%0A%20%20%20%20%20%20%20%20%20%20%20%20popup_cf0a8546fbd34457a4817ce7d6ba20bc.setContent%28html_4869125543bb4aee94c691eb4e226dd6%29%3B%0A%20%20%20%20%20%20%20%20%0A%0A%20%20%20%20%20%20%20%20circle_marker_ca086ccea94a4c8eb200383c3fd7ed3d.bindPopup%28popup_cf0a8546fbd34457a4817ce7d6ba20bc%29%0A%20%20%20%20%20%20%20%20%3B%0A%0A%20%20%20%20%20%20%20%20%0A%20%20%20%20%0A%20%20%20%20%0A%20%20%20%20%20%20%20%20%20%20%20%20var%20circle_marker_22b1424110ad4429ad1260536808012e%20%3D%20L.circleMarker%28%0A%20%20%20%20%20%20%20%20%20%20%20%20%20%20%20%20%5B14.4750607%2C%20-14.4529612%5D%2C%0A%20%20%20%20%20%20%20%20%20%20%20%20%20%20%20%20%7B%22bubblingMouseEvents%22%3A%20true%2C%20%22color%22%3A%20%22%233388ff%22%2C%20%22dashArray%22%3A%20null%2C%20%22dashOffset%22%3A%20null%2C%20%22fill%22%3A%20true%2C%20%22fillColor%22%3A%20%22%233388ff%22%2C%20%22fillOpacity%22%3A%200.2%2C%20%22fillRule%22%3A%20%22evenodd%22%2C%20%22lineCap%22%3A%20%22round%22%2C%20%22lineJoin%22%3A%20%22round%22%2C%20%22opacity%22%3A%201.0%2C%20%22radius%22%3A%2010%2C%20%22stroke%22%3A%20true%2C%20%22weight%22%3A%203%7D%0A%20%20%20%20%20%20%20%20%20%20%20%20%29.addTo%28marker_cluster_c8dba0ead68d4ac78a1adc98eb432145%29%3B%0A%20%20%20%20%20%20%20%20%0A%20%20%20%20%0A%20%20%20%20%20%20%20%20var%20popup_3517149ad1f8455fa1011d3eeb2ceb85%20%3D%20L.popup%28%7B%22maxWidth%22%3A%20%22100%25%22%7D%29%3B%0A%0A%20%20%20%20%20%20%20%20%0A%20%20%20%20%20%20%20%20%20%20%20%20var%20html_d52eedf2690e4886ae5ac131f45d00b9%20%3D%20%24%28%60%3Cdiv%20id%3D%22html_d52eedf2690e4886ae5ac131f45d00b9%22%20style%3D%22width%3A%20100.0%25%3B%20height%3A%20100.0%25%3B%22%3EK.%20Koulibaly%2C%20Napoli%20%20%20%20%20%20%20%20%20%20%20%20%20%20%20%20%20%20%20%20%20Rating%20%3A%2086%20%20%20%20%20%20%20%20%20%20%20%20%20%20%20%20%20%20%20%20%20%3C/div%3E%60%29%5B0%5D%3B%0A%20%20%20%20%20%20%20%20%20%20%20%20popup_3517149ad1f8455fa1011d3eeb2ceb85.setContent%28html_d52eedf2690e4886ae5ac131f45d00b9%29%3B%0A%20%20%20%20%20%20%20%20%0A%0A%20%20%20%20%20%20%20%20circle_marker_22b1424110ad4429ad1260536808012e.bindPopup%28popup_3517149ad1f8455fa1011d3eeb2ceb85%29%0A%20%20%20%20%20%20%20%20%3B%0A%0A%20%20%20%20%20%20%20%20%0A%20%20%20%20%0A%20%20%20%20%0A%20%20%20%20%20%20%20%20%20%20%20%20var%20circle_marker_3d2219fc0a2d4067918c6b74dd11100c%20%3D%20L.circleMarker%28%0A%20%20%20%20%20%20%20%20%20%20%20%20%20%20%20%20%5B-10.3333333%2C%20-53.2%5D%2C%0A%20%20%20%20%20%20%20%20%20%20%20%20%20%20%20%20%7B%22bubblingMouseEvents%22%3A%20true%2C%20%22color%22%3A%20%22%233388ff%22%2C%20%22dashArray%22%3A%20null%2C%20%22dashOffset%22%3A%20null%2C%20%22fill%22%3A%20true%2C%20%22fillColor%22%3A%20%22%233388ff%22%2C%20%22fillOpacity%22%3A%200.2%2C%20%22fillRule%22%3A%20%22evenodd%22%2C%20%22lineCap%22%3A%20%22round%22%2C%20%22lineJoin%22%3A%20%22round%22%2C%20%22opacity%22%3A%201.0%2C%20%22radius%22%3A%2010%2C%20%22stroke%22%3A%20true%2C%20%22weight%22%3A%203%7D%0A%20%20%20%20%20%20%20%20%20%20%20%20%29.addTo%28marker_cluster_c8dba0ead68d4ac78a1adc98eb432145%29%3B%0A%20%20%20%20%20%20%20%20%0A%20%20%20%20%0A%20%20%20%20%20%20%20%20var%20popup_529fc9210a3c4ce7a866e694523e4cad%20%3D%20L.popup%28%7B%22maxWidth%22%3A%20%22100%25%22%7D%29%3B%0A%0A%20%20%20%20%20%20%20%20%0A%20%20%20%20%20%20%20%20%20%20%20%20var%20html_3f4f455ffd39430494d9c98e798ed0ed%20%3D%20%24%28%60%3Cdiv%20id%3D%22html_3f4f455ffd39430494d9c98e798ed0ed%22%20style%3D%22width%3A%20100.0%25%3B%20height%3A%20100.0%25%3B%22%3EEderson%2C%20Manchester%20City%20%20%20%20%20%20%20%20%20%20%20%20%20%20%20%20%20%20%20%20%20Rating%20%3A%2089%20%20%20%20%20%20%20%20%20%20%20%20%20%20%20%20%20%20%20%20%20%3C/div%3E%60%29%5B0%5D%3B%0A%20%20%20%20%20%20%20%20%20%20%20%20popup_529fc9210a3c4ce7a866e694523e4cad.setContent%28html_3f4f455ffd39430494d9c98e798ed0ed%29%3B%0A%20%20%20%20%20%20%20%20%0A%0A%20%20%20%20%20%20%20%20circle_marker_3d2219fc0a2d4067918c6b74dd11100c.bindPopup%28popup_529fc9210a3c4ce7a866e694523e4cad%29%0A%20%20%20%20%20%20%20%20%3B%0A%0A%20%20%20%20%20%20%20%20%0A%20%20%20%20%0A%20%20%20%20%0A%20%20%20%20%20%20%20%20%20%20%20%20var%20circle_marker_1198241934f44d31834b21572b929cee%20%3D%20L.circleMarker%28%0A%20%20%20%20%20%20%20%20%20%20%20%20%20%20%20%20%5B51.0834196%2C%2010.4234469%5D%2C%0A%20%20%20%20%20%20%20%20%20%20%20%20%20%20%20%20%7B%22bubblingMouseEvents%22%3A%20true%2C%20%22color%22%3A%20%22%233388ff%22%2C%20%22dashArray%22%3A%20null%2C%20%22dashOffset%22%3A%20null%2C%20%22fill%22%3A%20true%2C%20%22fillColor%22%3A%20%22%233388ff%22%2C%20%22fillOpacity%22%3A%200.2%2C%20%22fillRule%22%3A%20%22evenodd%22%2C%20%22lineCap%22%3A%20%22round%22%2C%20%22lineJoin%22%3A%20%22round%22%2C%20%22opacity%22%3A%201.0%2C%20%22radius%22%3A%2010%2C%20%22stroke%22%3A%20true%2C%20%22weight%22%3A%203%7D%0A%20%20%20%20%20%20%20%20%20%20%20%20%29.addTo%28marker_cluster_c8dba0ead68d4ac78a1adc98eb432145%29%3B%0A%20%20%20%20%20%20%20%20%0A%20%20%20%20%0A%20%20%20%20%20%20%20%20var%20popup_7a91e146f807402785868c9c5187ce7c%20%3D%20L.popup%28%7B%22maxWidth%22%3A%20%22100%25%22%7D%29%3B%0A%0A%20%20%20%20%20%20%20%20%0A%20%20%20%20%20%20%20%20%20%20%20%20var%20html_6615a8cbeb764c68b64dbf0d76c284c8%20%3D%20%24%28%60%3Cdiv%20id%3D%22html_6615a8cbeb764c68b64dbf0d76c284c8%22%20style%3D%22width%3A%20100.0%25%3B%20height%3A%20100.0%25%3B%22%3EM.%20Neuer%2C%20FC%20Bayern%20M%C3%BCnchen%20%20%20%20%20%20%20%20%20%20%20%20%20%20%20%20%20%20%20%20%20Rating%20%3A%2090%20%20%20%20%20%20%20%20%20%20%20%20%20%20%20%20%20%20%20%20%20%3C/div%3E%60%29%5B0%5D%3B%0A%20%20%20%20%20%20%20%20%20%20%20%20popup_7a91e146f807402785868c9c5187ce7c.setContent%28html_6615a8cbeb764c68b64dbf0d76c284c8%29%3B%0A%20%20%20%20%20%20%20%20%0A%0A%20%20%20%20%20%20%20%20circle_marker_1198241934f44d31834b21572b929cee.bindPopup%28popup_7a91e146f807402785868c9c5187ce7c%29%0A%20%20%20%20%20%20%20%20%3B%0A%0A%20%20%20%20%20%20%20%20%0A%20%20%20%20%0A%20%20%20%20%0A%20%20%20%20%20%20%20%20%20%20%20%20var%20circle_marker_1bdcfe0291f549c3ac4878cee54b9528%20%3D%20L.circleMarker%28%0A%20%20%20%20%20%20%20%20%20%20%20%20%20%20%20%20%5B51.0834196%2C%2010.4234469%5D%2C%0A%20%20%20%20%20%20%20%20%20%20%20%20%20%20%20%20%7B%22bubblingMouseEvents%22%3A%20true%2C%20%22color%22%3A%20%22%233388ff%22%2C%20%22dashArray%22%3A%20null%2C%20%22dashOffset%22%3A%20null%2C%20%22fill%22%3A%20true%2C%20%22fillColor%22%3A%20%22%233388ff%22%2C%20%22fillOpacity%22%3A%200.2%2C%20%22fillRule%22%3A%20%22evenodd%22%2C%20%22lineCap%22%3A%20%22round%22%2C%20%22lineJoin%22%3A%20%22round%22%2C%20%22opacity%22%3A%201.0%2C%20%22radius%22%3A%2010%2C%20%22stroke%22%3A%20true%2C%20%22weight%22%3A%203%7D%0A%20%20%20%20%20%20%20%20%20%20%20%20%29.addTo%28marker_cluster_c8dba0ead68d4ac78a1adc98eb432145%29%3B%0A%20%20%20%20%20%20%20%20%0A%20%20%20%20%0A%20%20%20%20%20%20%20%20var%20popup_c3dc92d23f114f139f04b4cd45a2adef%20%3D%20L.popup%28%7B%22maxWidth%22%3A%20%22100%25%22%7D%29%3B%0A%0A%20%20%20%20%20%20%20%20%0A%20%20%20%20%20%20%20%20%20%20%20%20var%20html_0d537f20e201479bb54544195daad38e%20%3D%20%24%28%60%3Cdiv%20id%3D%22html_0d537f20e201479bb54544195daad38e%22%20style%3D%22width%3A%20100.0%25%3B%20height%3A%20100.0%25%3B%22%3EM.%20ter%20Stegen%2C%20FC%20Barcelona%20%20%20%20%20%20%20%20%20%20%20%20%20%20%20%20%20%20%20%20%20Rating%20%3A%2090%20%20%20%20%20%20%20%20%20%20%20%20%20%20%20%20%20%20%20%20%20%3C/div%3E%60%29%5B0%5D%3B%0A%20%20%20%20%20%20%20%20%20%20%20%20popup_c3dc92d23f114f139f04b4cd45a2adef.setContent%28html_0d537f20e201479bb54544195daad38e%29%3B%0A%20%20%20%20%20%20%20%20%0A%0A%20%20%20%20%20%20%20%20circle_marker_1bdcfe0291f549c3ac4878cee54b9528.bindPopup%28popup_c3dc92d23f114f139f04b4cd45a2adef%29%0A%20%20%20%20%20%20%20%20%3B%0A%0A%20%20%20%20%20%20%20%20%0A%20%20%20%20%0A%20%20%20%20%0A%20%20%20%20%20%20%20%20%20%20%20%20var%20circle_marker_13a7dbdb214b49cd8d0640359e69777d%20%3D%20L.circleMarker%28%0A%20%20%20%20%20%20%20%20%20%20%20%20%20%20%20%20%5B10.2735633%2C%20-84.0739102%5D%2C%0A%20%20%20%20%20%20%20%20%20%20%20%20%20%20%20%20%7B%22bubblingMouseEvents%22%3A%20true%2C%20%22color%22%3A%20%22%233388ff%22%2C%20%22dashArray%22%3A%20null%2C%20%22dashOffset%22%3A%20null%2C%20%22fill%22%3A%20true%2C%20%22fillColor%22%3A%20%22%233388ff%22%2C%20%22fillOpacity%22%3A%200.2%2C%20%22fillRule%22%3A%20%22evenodd%22%2C%20%22lineCap%22%3A%20%22round%22%2C%20%22lineJoin%22%3A%20%22round%22%2C%20%22opacity%22%3A%201.0%2C%20%22radius%22%3A%2010%2C%20%22stroke%22%3A%20true%2C%20%22weight%22%3A%203%7D%0A%20%20%20%20%20%20%20%20%20%20%20%20%29.addTo%28marker_cluster_c8dba0ead68d4ac78a1adc98eb432145%29%3B%0A%20%20%20%20%20%20%20%20%0A%20%20%20%20%0A%20%20%20%20%20%20%20%20var%20popup_b6c95d95186640ea94a58912b083d8c2%20%3D%20L.popup%28%7B%22maxWidth%22%3A%20%22100%25%22%7D%29%3B%0A%0A%20%20%20%20%20%20%20%20%0A%20%20%20%20%20%20%20%20%20%20%20%20var%20html_010cd6fe677e42aeb8394cf9647e7729%20%3D%20%24%28%60%3Cdiv%20id%3D%22html_010cd6fe677e42aeb8394cf9647e7729%22%20style%3D%22width%3A%20100.0%25%3B%20height%3A%20100.0%25%3B%22%3EK.%20Navas%2C%20Paris%20Saint-Germain%20%20%20%20%20%20%20%20%20%20%20%20%20%20%20%20%20%20%20%20%20Rating%20%3A%2088%20%20%20%20%20%20%20%20%20%20%20%20%20%20%20%20%20%20%20%20%20%3C/div%3E%60%29%5B0%5D%3B%0A%20%20%20%20%20%20%20%20%20%20%20%20popup_b6c95d95186640ea94a58912b083d8c2.setContent%28html_010cd6fe677e42aeb8394cf9647e7729%29%3B%0A%20%20%20%20%20%20%20%20%0A%0A%20%20%20%20%20%20%20%20circle_marker_13a7dbdb214b49cd8d0640359e69777d.bindPopup%28popup_b6c95d95186640ea94a58912b083d8c2%29%0A%20%20%20%20%20%20%20%20%3B%0A%0A%20%20%20%20%20%20%20%20%0A%20%20%20%20%0A%20%20%20%20%0A%20%20%20%20%20%20%20%20%20%20%20%20var%20circle_marker_174cb8f24aa74876b84c39c1711f3bf7%20%3D%20L.circleMarker%28%0A%20%20%20%20%20%20%20%20%20%20%20%20%20%20%20%20%5B45.8133113%2C%2014.4808369%5D%2C%0A%20%20%20%20%20%20%20%20%20%20%20%20%20%20%20%20%7B%22bubblingMouseEvents%22%3A%20true%2C%20%22color%22%3A%20%22%233388ff%22%2C%20%22dashArray%22%3A%20null%2C%20%22dashOffset%22%3A%20null%2C%20%22fill%22%3A%20true%2C%20%22fillColor%22%3A%20%22%233388ff%22%2C%20%22fillOpacity%22%3A%200.2%2C%20%22fillRule%22%3A%20%22evenodd%22%2C%20%22lineCap%22%3A%20%22round%22%2C%20%22lineJoin%22%3A%20%22round%22%2C%20%22opacity%22%3A%201.0%2C%20%22radius%22%3A%2010%2C%20%22stroke%22%3A%20true%2C%20%22weight%22%3A%203%7D%0A%20%20%20%20%20%20%20%20%20%20%20%20%29.addTo%28marker_cluster_c8dba0ead68d4ac78a1adc98eb432145%29%3B%0A%20%20%20%20%20%20%20%20%0A%20%20%20%20%0A%20%20%20%20%20%20%20%20var%20popup_8a31170aaf4443dc8d297ed63fdbb501%20%3D%20L.popup%28%7B%22maxWidth%22%3A%20%22100%25%22%7D%29%3B%0A%0A%20%20%20%20%20%20%20%20%0A%20%20%20%20%20%20%20%20%20%20%20%20var%20html_da62d94ef6b043e1978d5b5cd3f8b05e%20%3D%20%24%28%60%3Cdiv%20id%3D%22html_da62d94ef6b043e1978d5b5cd3f8b05e%22%20style%3D%22width%3A%20100.0%25%3B%20height%3A%20100.0%25%3B%22%3EJ.%20Oblak%2C%20Atl%C3%A9tico%20de%20Madrid%20%20%20%20%20%20%20%20%20%20%20%20%20%20%20%20%20%20%20%20%20Rating%20%3A%2091%20%20%20%20%20%20%20%20%20%20%20%20%20%20%20%20%20%20%20%20%20%3C/div%3E%60%29%5B0%5D%3B%0A%20%20%20%20%20%20%20%20%20%20%20%20popup_8a31170aaf4443dc8d297ed63fdbb501.setContent%28html_da62d94ef6b043e1978d5b5cd3f8b05e%29%3B%0A%20%20%20%20%20%20%20%20%0A%0A%20%20%20%20%20%20%20%20circle_marker_174cb8f24aa74876b84c39c1711f3bf7.bindPopup%28popup_8a31170aaf4443dc8d297ed63fdbb501%29%0A%20%20%20%20%20%20%20%20%3B%0A%0A%20%20%20%20%20%20%20%20%0A%20%20%20%20%0A%20%20%20%20%0A%20%20%20%20%20%20%20%20%20%20%20%20var%20circle_marker_a31bc4a33e734177a90c34ac90d2d1fa%20%3D%20L.circleMarker%28%0A%20%20%20%20%20%20%20%20%20%20%20%20%20%20%20%20%5B-10.3333333%2C%20-53.2%5D%2C%0A%20%20%20%20%20%20%20%20%20%20%20%20%20%20%20%20%7B%22bubblingMouseEvents%22%3A%20true%2C%20%22color%22%3A%20%22%233388ff%22%2C%20%22dashArray%22%3A%20null%2C%20%22dashOffset%22%3A%20null%2C%20%22fill%22%3A%20true%2C%20%22fillColor%22%3A%20%22%233388ff%22%2C%20%22fillOpacity%22%3A%200.2%2C%20%22fillRule%22%3A%20%22evenodd%22%2C%20%22lineCap%22%3A%20%22round%22%2C%20%22lineJoin%22%3A%20%22round%22%2C%20%22opacity%22%3A%201.0%2C%20%22radius%22%3A%2010%2C%20%22stroke%22%3A%20true%2C%20%22weight%22%3A%203%7D%0A%20%20%20%20%20%20%20%20%20%20%20%20%29.addTo%28marker_cluster_c8dba0ead68d4ac78a1adc98eb432145%29%3B%0A%20%20%20%20%20%20%20%20%0A%20%20%20%20%0A%20%20%20%20%20%20%20%20var%20popup_53f998e3b6db4113a3779e943cca5771%20%3D%20L.popup%28%7B%22maxWidth%22%3A%20%22100%25%22%7D%29%3B%0A%0A%20%20%20%20%20%20%20%20%0A%20%20%20%20%20%20%20%20%20%20%20%20var%20html_4e4a275f7e9e4ddda3c225d585a02554%20%3D%20%24%28%60%3Cdiv%20id%3D%22html_4e4a275f7e9e4ddda3c225d585a02554%22%20style%3D%22width%3A%20100.0%25%3B%20height%3A%20100.0%25%3B%22%3EAlisson%2C%20Liverpool%20%20%20%20%20%20%20%20%20%20%20%20%20%20%20%20%20%20%20%20%20Rating%20%3A%2089%20%20%20%20%20%20%20%20%20%20%20%20%20%20%20%20%20%20%20%20%20%3C/div%3E%60%29%5B0%5D%3B%0A%20%20%20%20%20%20%20%20%20%20%20%20popup_53f998e3b6db4113a3779e943cca5771.setContent%28html_4e4a275f7e9e4ddda3c225d585a02554%29%3B%0A%20%20%20%20%20%20%20%20%0A%0A%20%20%20%20%20%20%20%20circle_marker_a31bc4a33e734177a90c34ac90d2d1fa.bindPopup%28popup_53f998e3b6db4113a3779e943cca5771%29%0A%20%20%20%20%20%20%20%20%3B%0A%0A%20%20%20%20%20%20%20%20%0A%20%20%20%20%0A%20%20%20%20%0A%20%20%20%20%20%20%20%20%20%20%20%20var%20circle_marker_1deaa33339614544af0824f8d5441ff3%20%3D%20L.circleMarker%28%0A%20%20%20%20%20%20%20%20%20%20%20%20%20%20%20%20%5B42.6384261%2C%2012.674297%5D%2C%0A%20%20%20%20%20%20%20%20%20%20%20%20%20%20%20%20%7B%22bubblingMouseEvents%22%3A%20true%2C%20%22color%22%3A%20%22%233388ff%22%2C%20%22dashArray%22%3A%20null%2C%20%22dashOffset%22%3A%20null%2C%20%22fill%22%3A%20true%2C%20%22fillColor%22%3A%20%22%233388ff%22%2C%20%22fillOpacity%22%3A%200.2%2C%20%22fillRule%22%3A%20%22evenodd%22%2C%20%22lineCap%22%3A%20%22round%22%2C%20%22lineJoin%22%3A%20%22round%22%2C%20%22opacity%22%3A%201.0%2C%20%22radius%22%3A%2010%2C%20%22stroke%22%3A%20true%2C%20%22weight%22%3A%203%7D%0A%20%20%20%20%20%20%20%20%20%20%20%20%29.addTo%28marker_cluster_c8dba0ead68d4ac78a1adc98eb432145%29%3B%0A%20%20%20%20%20%20%20%20%0A%20%20%20%20%0A%20%20%20%20%20%20%20%20var%20popup_09eb8f95e80e4b469e67cbf74ac0c94c%20%3D%20L.popup%28%7B%22maxWidth%22%3A%20%22100%25%22%7D%29%3B%0A%0A%20%20%20%20%20%20%20%20%0A%20%20%20%20%20%20%20%20%20%20%20%20var%20html_3512a9a117624bc194b5967ee3b9ac05%20%3D%20%24%28%60%3Cdiv%20id%3D%22html_3512a9a117624bc194b5967ee3b9ac05%22%20style%3D%22width%3A%20100.0%25%3B%20height%3A%20100.0%25%3B%22%3EG.%20Donnarumma%2C%20Paris%20Saint-Germain%20%20%20%20%20%20%20%20%20%20%20%20%20%20%20%20%20%20%20%20%20Rating%20%3A%2089%20%20%20%20%20%20%20%20%20%20%20%20%20%20%20%20%20%20%20%20%20%3C/div%3E%60%29%5B0%5D%3B%0A%20%20%20%20%20%20%20%20%20%20%20%20popup_09eb8f95e80e4b469e67cbf74ac0c94c.setContent%28html_3512a9a117624bc194b5967ee3b9ac05%29%3B%0A%20%20%20%20%20%20%20%20%0A%0A%20%20%20%20%20%20%20%20circle_marker_1deaa33339614544af0824f8d5441ff3.bindPopup%28popup_09eb8f95e80e4b469e67cbf74ac0c94c%29%0A%20%20%20%20%20%20%20%20%3B%0A%0A%20%20%20%20%20%20%20%20%0A%20%20%20%20%0A%20%20%20%20%0A%20%20%20%20%20%20%20%20%20%20%20%20var%20circle_marker_3ffeda8d644f4d3d86c6e76193dc2e50%20%3D%20L.circleMarker%28%0A%20%20%20%20%20%20%20%20%20%20%20%20%20%20%20%20%5B46.603354%2C%201.8883335%5D%2C%0A%20%20%20%20%20%20%20%20%20%20%20%20%20%20%20%20%7B%22bubblingMouseEvents%22%3A%20true%2C%20%22color%22%3A%20%22%233388ff%22%2C%20%22dashArray%22%3A%20null%2C%20%22dashOffset%22%3A%20null%2C%20%22fill%22%3A%20true%2C%20%22fillColor%22%3A%20%22%233388ff%22%2C%20%22fillOpacity%22%3A%200.2%2C%20%22fillRule%22%3A%20%22evenodd%22%2C%20%22lineCap%22%3A%20%22round%22%2C%20%22lineJoin%22%3A%20%22round%22%2C%20%22opacity%22%3A%201.0%2C%20%22radius%22%3A%2010%2C%20%22stroke%22%3A%20true%2C%20%22weight%22%3A%203%7D%0A%20%20%20%20%20%20%20%20%20%20%20%20%29.addTo%28marker_cluster_c8dba0ead68d4ac78a1adc98eb432145%29%3B%0A%20%20%20%20%20%20%20%20%0A%20%20%20%20%0A%20%20%20%20%20%20%20%20var%20popup_40f75a02a417461a83e37e739214cdfb%20%3D%20L.popup%28%7B%22maxWidth%22%3A%20%22100%25%22%7D%29%3B%0A%0A%20%20%20%20%20%20%20%20%0A%20%20%20%20%20%20%20%20%20%20%20%20var%20html_f339467f52d04979a537243635b97061%20%3D%20%24%28%60%3Cdiv%20id%3D%22html_f339467f52d04979a537243635b97061%22%20style%3D%22width%3A%20100.0%25%3B%20height%3A%20100.0%25%3B%22%3EH.%20Lloris%2C%20Tottenham%20Hotspur%20%20%20%20%20%20%20%20%20%20%20%20%20%20%20%20%20%20%20%20%20Rating%20%3A%2087%20%20%20%20%20%20%20%20%20%20%20%20%20%20%20%20%20%20%20%20%20%3C/div%3E%60%29%5B0%5D%3B%0A%20%20%20%20%20%20%20%20%20%20%20%20popup_40f75a02a417461a83e37e739214cdfb.setContent%28html_f339467f52d04979a537243635b97061%29%3B%0A%20%20%20%20%20%20%20%20%0A%0A%20%20%20%20%20%20%20%20circle_marker_3ffeda8d644f4d3d86c6e76193dc2e50.bindPopup%28popup_40f75a02a417461a83e37e739214cdfb%29%0A%20%20%20%20%20%20%20%20%3B%0A%0A%20%20%20%20%20%20%20%20%0A%20%20%20%20%0A%20%20%20%20%0A%20%20%20%20%20%20%20%20%20%20%20%20var%20circle_marker_da3adc04263044db8ad634f53ef1cfb0%20%3D%20L.circleMarker%28%0A%20%20%20%20%20%20%20%20%20%20%20%20%20%20%20%20%5B50.6402809%2C%204.6667145%5D%2C%0A%20%20%20%20%20%20%20%20%20%20%20%20%20%20%20%20%7B%22bubblingMouseEvents%22%3A%20true%2C%20%22color%22%3A%20%22%233388ff%22%2C%20%22dashArray%22%3A%20null%2C%20%22dashOffset%22%3A%20null%2C%20%22fill%22%3A%20true%2C%20%22fillColor%22%3A%20%22%233388ff%22%2C%20%22fillOpacity%22%3A%200.2%2C%20%22fillRule%22%3A%20%22evenodd%22%2C%20%22lineCap%22%3A%20%22round%22%2C%20%22lineJoin%22%3A%20%22round%22%2C%20%22opacity%22%3A%201.0%2C%20%22radius%22%3A%2010%2C%20%22stroke%22%3A%20true%2C%20%22weight%22%3A%203%7D%0A%20%20%20%20%20%20%20%20%20%20%20%20%29.addTo%28marker_cluster_c8dba0ead68d4ac78a1adc98eb432145%29%3B%0A%20%20%20%20%20%20%20%20%0A%20%20%20%20%0A%20%20%20%20%20%20%20%20var%20popup_cee09aa3cff94c69b0ab621d9a61a96c%20%3D%20L.popup%28%7B%22maxWidth%22%3A%20%22100%25%22%7D%29%3B%0A%0A%20%20%20%20%20%20%20%20%0A%20%20%20%20%20%20%20%20%20%20%20%20var%20html_f83675e43c4247d79967b8cf8488ac13%20%3D%20%24%28%60%3Cdiv%20id%3D%22html_f83675e43c4247d79967b8cf8488ac13%22%20style%3D%22width%3A%20100.0%25%3B%20height%3A%20100.0%25%3B%22%3ET.%20Courtois%2C%20Real%20Madrid%20CF%20%20%20%20%20%20%20%20%20%20%20%20%20%20%20%20%20%20%20%20%20Rating%20%3A%2089%20%20%20%20%20%20%20%20%20%20%20%20%20%20%20%20%20%20%20%20%20%3C/div%3E%60%29%5B0%5D%3B%0A%20%20%20%20%20%20%20%20%20%20%20%20popup_cee09aa3cff94c69b0ab621d9a61a96c.setContent%28html_f83675e43c4247d79967b8cf8488ac13%29%3B%0A%20%20%20%20%20%20%20%20%0A%0A%20%20%20%20%20%20%20%20circle_marker_da3adc04263044db8ad634f53ef1cfb0.bindPopup%28popup_cee09aa3cff94c69b0ab621d9a61a96c%29%0A%20%20%20%20%20%20%20%20%3B%0A%0A%20%20%20%20%20%20%20%20%0A%20%20%20%20%0A%20%20%20%20%0A%20%20%20%20%20%20%20%20%20%20%20%20var%20circle_marker_2fc0bda19c16472d8604dc637ef3cfee%20%3D%20L.circleMarker%28%0A%20%20%20%20%20%20%20%20%20%20%20%20%20%20%20%20%5B52.215933%2C%2019.134422%5D%2C%0A%20%20%20%20%20%20%20%20%20%20%20%20%20%20%20%20%7B%22bubblingMouseEvents%22%3A%20true%2C%20%22color%22%3A%20%22%233388ff%22%2C%20%22dashArray%22%3A%20null%2C%20%22dashOffset%22%3A%20null%2C%20%22fill%22%3A%20true%2C%20%22fillColor%22%3A%20%22%233388ff%22%2C%20%22fillOpacity%22%3A%200.2%2C%20%22fillRule%22%3A%20%22evenodd%22%2C%20%22lineCap%22%3A%20%22round%22%2C%20%22lineJoin%22%3A%20%22round%22%2C%20%22opacity%22%3A%201.0%2C%20%22radius%22%3A%2010%2C%20%22stroke%22%3A%20true%2C%20%22weight%22%3A%203%7D%0A%20%20%20%20%20%20%20%20%20%20%20%20%29.addTo%28marker_cluster_c8dba0ead68d4ac78a1adc98eb432145%29%3B%0A%20%20%20%20%20%20%20%20%0A%20%20%20%20%0A%20%20%20%20%20%20%20%20var%20popup_704453250ee340719904c8e21729339d%20%3D%20L.popup%28%7B%22maxWidth%22%3A%20%22100%25%22%7D%29%3B%0A%0A%20%20%20%20%20%20%20%20%0A%20%20%20%20%20%20%20%20%20%20%20%20var%20html_8fa9e274eec444c68e55153edb0e1d3d%20%3D%20%24%28%60%3Cdiv%20id%3D%22html_8fa9e274eec444c68e55153edb0e1d3d%22%20style%3D%22width%3A%20100.0%25%3B%20height%3A%20100.0%25%3B%22%3EW.%20Szczesny%2C%20Juventus%20%20%20%20%20%20%20%20%20%20%20%20%20%20%20%20%20%20%20%20%20Rating%20%3A%2087%20%20%20%20%20%20%20%20%20%20%20%20%20%20%20%20%20%20%20%20%20%3C/div%3E%60%29%5B0%5D%3B%0A%20%20%20%20%20%20%20%20%20%20%20%20popup_704453250ee340719904c8e21729339d.setContent%28html_8fa9e274eec444c68e55153edb0e1d3d%29%3B%0A%20%20%20%20%20%20%20%20%0A%0A%20%20%20%20%20%20%20%20circle_marker_2fc0bda19c16472d8604dc637ef3cfee.bindPopup%28popup_704453250ee340719904c8e21729339d%29%0A%20%20%20%20%20%20%20%20%3B%0A%0A%20%20%20%20%20%20%20%20%0A%20%20%20%20%0A%20%20%20%20%0A%20%20%20%20%20%20%20%20%20%20%20%20var%20circle_marker_18e335873c994d9987958608693396c6%20%3D%20L.circleMarker%28%0A%20%20%20%20%20%20%20%20%20%20%20%20%20%20%20%20%5B50.6402809%2C%204.6667145%5D%2C%0A%20%20%20%20%20%20%20%20%20%20%20%20%20%20%20%20%7B%22bubblingMouseEvents%22%3A%20true%2C%20%22color%22%3A%20%22%233388ff%22%2C%20%22dashArray%22%3A%20null%2C%20%22dashOffset%22%3A%20null%2C%20%22fill%22%3A%20true%2C%20%22fillColor%22%3A%20%22%233388ff%22%2C%20%22fillOpacity%22%3A%200.2%2C%20%22fillRule%22%3A%20%22evenodd%22%2C%20%22lineCap%22%3A%20%22round%22%2C%20%22lineJoin%22%3A%20%22round%22%2C%20%22opacity%22%3A%201.0%2C%20%22radius%22%3A%2010%2C%20%22stroke%22%3A%20true%2C%20%22weight%22%3A%203%7D%0A%20%20%20%20%20%20%20%20%20%20%20%20%29.addTo%28marker_cluster_c8dba0ead68d4ac78a1adc98eb432145%29%3B%0A%20%20%20%20%20%20%20%20%0A%20%20%20%20%0A%20%20%20%20%20%20%20%20var%20popup_6253b540e6e144098a687d8dde761867%20%3D%20L.popup%28%7B%22maxWidth%22%3A%20%22100%25%22%7D%29%3B%0A%0A%20%20%20%20%20%20%20%20%0A%20%20%20%20%20%20%20%20%20%20%20%20var%20html_aed7085065ed48a59b05169fb8354e39%20%3D%20%24%28%60%3Cdiv%20id%3D%22html_aed7085065ed48a59b05169fb8354e39%22%20style%3D%22width%3A%20100.0%25%3B%20height%3A%20100.0%25%3B%22%3EK.%20Casteels%2C%20VfL%20Wolfsburg%20%20%20%20%20%20%20%20%20%20%20%20%20%20%20%20%20%20%20%20%20Rating%20%3A%2086%20%20%20%20%20%20%20%20%20%20%20%20%20%20%20%20%20%20%20%20%20%3C/div%3E%60%29%5B0%5D%3B%0A%20%20%20%20%20%20%20%20%20%20%20%20popup_6253b540e6e144098a687d8dde761867.setContent%28html_aed7085065ed48a59b05169fb8354e39%29%3B%0A%20%20%20%20%20%20%20%20%0A%0A%20%20%20%20%20%20%20%20circle_marker_18e335873c994d9987958608693396c6.bindPopup%28popup_6253b540e6e144098a687d8dde761867%29%0A%20%20%20%20%20%20%20%20%3B%0A%0A%20%20%20%20%20%20%20%20%0A%20%20%20%20%0A%20%20%20%20%0A%20%20%20%20%20%20%20%20%20%20%20%20var%20circle_marker_43a5ba9f77464382874e01f36e654cec%20%3D%20L.circleMarker%28%0A%20%20%20%20%20%20%20%20%20%20%20%20%20%20%20%20%5B45.8133113%2C%2014.4808369%5D%2C%0A%20%20%20%20%20%20%20%20%20%20%20%20%20%20%20%20%7B%22bubblingMouseEvents%22%3A%20true%2C%20%22color%22%3A%20%22%233388ff%22%2C%20%22dashArray%22%3A%20null%2C%20%22dashOffset%22%3A%20null%2C%20%22fill%22%3A%20true%2C%20%22fillColor%22%3A%20%22%233388ff%22%2C%20%22fillOpacity%22%3A%200.2%2C%20%22fillRule%22%3A%20%22evenodd%22%2C%20%22lineCap%22%3A%20%22round%22%2C%20%22lineJoin%22%3A%20%22round%22%2C%20%22opacity%22%3A%201.0%2C%20%22radius%22%3A%2010%2C%20%22stroke%22%3A%20true%2C%20%22weight%22%3A%203%7D%0A%20%20%20%20%20%20%20%20%20%20%20%20%29.addTo%28marker_cluster_c8dba0ead68d4ac78a1adc98eb432145%29%3B%0A%20%20%20%20%20%20%20%20%0A%20%20%20%20%0A%20%20%20%20%20%20%20%20var%20popup_30da15c1e35d4347a77f2f58b2d741fe%20%3D%20L.popup%28%7B%22maxWidth%22%3A%20%22100%25%22%7D%29%3B%0A%0A%20%20%20%20%20%20%20%20%0A%20%20%20%20%20%20%20%20%20%20%20%20var%20html_77a8a91b76be484c863d70e8ceacf992%20%3D%20%24%28%60%3Cdiv%20id%3D%22html_77a8a91b76be484c863d70e8ceacf992%22%20style%3D%22width%3A%20100.0%25%3B%20height%3A%20100.0%25%3B%22%3ES.%20Handanovic%2C%20Inter%20%20%20%20%20%20%20%20%20%20%20%20%20%20%20%20%20%20%20%20%20Rating%20%3A%2086%20%20%20%20%20%20%20%20%20%20%20%20%20%20%20%20%20%20%20%20%20%3C/div%3E%60%29%5B0%5D%3B%0A%20%20%20%20%20%20%20%20%20%20%20%20popup_30da15c1e35d4347a77f2f58b2d741fe.setContent%28html_77a8a91b76be484c863d70e8ceacf992%29%3B%0A%20%20%20%20%20%20%20%20%0A%0A%20%20%20%20%20%20%20%20circle_marker_43a5ba9f77464382874e01f36e654cec.bindPopup%28popup_30da15c1e35d4347a77f2f58b2d741fe%29%0A%20%20%20%20%20%20%20%20%3B%0A%0A%20%20%20%20%20%20%20%20%0A%20%20%20%20%0A%3C/script%3E onload=\"this.contentDocument.open();this.contentDocument.write(    decodeURIComponent(this.getAttribute('data-html')));this.contentDocument.close();\" allowfullscreen webkitallowfullscreen mozallowfullscreen></iframe></div></div>"
      ],
      "text/plain": [
       "<folium.folium.Map at 0x258c6f1b340>"
      ]
     },
     "execution_count": 47,
     "metadata": {},
     "output_type": "execute_result"
    }
   ],
   "source": [
    "# Create a world map to show distributions of top 75 players\n",
    "import folium\n",
    "from folium.plugins import MarkerCluster\n",
    "#empty map\n",
    "world_map= folium.Map(tiles=\"cartodbpositron\")\n",
    "marker_cluster = MarkerCluster().add_to(world_map)\n",
    "#for each coordinate, create circlemarker of user percent\n",
    "for i in range(len(top75_bestplayers)):\n",
    "        lat = top75_bestplayers.iloc[i]['latitude']\n",
    "        long = top75_bestplayers.iloc[i]['longitude']\n",
    "        radius=10\n",
    "        popup_text = \"\"\"{}, {}\n",
    "                    Rating : {}\n",
    "                    \"\"\"\n",
    "        popup_text = popup_text.format(top75_bestplayers.iloc[i]['Name'],top75_bestplayers.iloc[i]['Club'],\n",
    "                                   top75_bestplayers.iloc[i]['Overall']\n",
    "                                   )\n",
    "        folium.CircleMarker(location = [lat, long], radius=radius, popup= popup_text, fill =True).add_to(marker_cluster)\n",
    "#show the map\n",
    "world_map"
   ]
  },
  {
   "cell_type": "markdown",
   "metadata": {},
   "source": [
    "## Meilleurs talents"
   ]
  },
  {
   "cell_type": "code",
   "execution_count": 48,
   "metadata": {},
   "outputs": [],
   "source": [
    "df['Evolution']=df['Potential']-df['Overall']"
   ]
  },
  {
   "cell_type": "code",
   "execution_count": 49,
   "metadata": {
    "scrolled": false
   },
   "outputs": [
    {
     "data": {
      "text/html": [
       "<style  type=\"text/css\" >\n",
       "#T_6514f959_9e7b_11ec_950e_e02be9f13799row0_col5,#T_6514f959_9e7b_11ec_950e_e02be9f13799row13_col6{\n",
       "            background-color:  #ff0000;\n",
       "            color:  #f1f1f1;\n",
       "        }#T_6514f959_9e7b_11ec_950e_e02be9f13799row0_col6{\n",
       "            background-color:  #f79d9d;\n",
       "            color:  #000000;\n",
       "        }#T_6514f959_9e7b_11ec_950e_e02be9f13799row1_col5,#T_6514f959_9e7b_11ec_950e_e02be9f13799row2_col5,#T_6514f959_9e7b_11ec_950e_e02be9f13799row3_col5,#T_6514f959_9e7b_11ec_950e_e02be9f13799row4_col5,#T_6514f959_9e7b_11ec_950e_e02be9f13799row5_col5{\n",
       "            background-color:  #fb5050;\n",
       "            color:  #000000;\n",
       "        }#T_6514f959_9e7b_11ec_950e_e02be9f13799row1_col6,#T_6514f959_9e7b_11ec_950e_e02be9f13799row3_col6,#T_6514f959_9e7b_11ec_950e_e02be9f13799row7_col6,#T_6514f959_9e7b_11ec_950e_e02be9f13799row8_col6,#T_6514f959_9e7b_11ec_950e_e02be9f13799row11_col6{\n",
       "            background-color:  #f3e8e8;\n",
       "            color:  #000000;\n",
       "        }#T_6514f959_9e7b_11ec_950e_e02be9f13799row2_col6,#T_6514f959_9e7b_11ec_950e_e02be9f13799row4_col6{\n",
       "            background-color:  #f6b8b7;\n",
       "            color:  #000000;\n",
       "        }#T_6514f959_9e7b_11ec_950e_e02be9f13799row5_col6{\n",
       "            background-color:  #f6b0b0;\n",
       "            color:  #000000;\n",
       "        }#T_6514f959_9e7b_11ec_950e_e02be9f13799row6_col5,#T_6514f959_9e7b_11ec_950e_e02be9f13799row7_col5,#T_6514f959_9e7b_11ec_950e_e02be9f13799row8_col5,#T_6514f959_9e7b_11ec_950e_e02be9f13799row9_col5,#T_6514f959_9e7b_11ec_950e_e02be9f13799row10_col5,#T_6514f959_9e7b_11ec_950e_e02be9f13799row11_col5,#T_6514f959_9e7b_11ec_950e_e02be9f13799row12_col5,#T_6514f959_9e7b_11ec_950e_e02be9f13799row13_col5{\n",
       "            background-color:  #f7a0a0;\n",
       "            color:  #000000;\n",
       "        }#T_6514f959_9e7b_11ec_950e_e02be9f13799row6_col6{\n",
       "            background-color:  #f6bbbb;\n",
       "            color:  #000000;\n",
       "        }#T_6514f959_9e7b_11ec_950e_e02be9f13799row9_col6{\n",
       "            background-color:  #f97f7f;\n",
       "            color:  #000000;\n",
       "        }#T_6514f959_9e7b_11ec_950e_e02be9f13799row10_col6,#T_6514f959_9e7b_11ec_950e_e02be9f13799row14_col5{\n",
       "            background-color:  #f3f0f0;\n",
       "            color:  #000000;\n",
       "        }#T_6514f959_9e7b_11ec_950e_e02be9f13799row12_col6{\n",
       "            background-color:  #fc3838;\n",
       "            color:  #f1f1f1;\n",
       "        }#T_6514f959_9e7b_11ec_950e_e02be9f13799row14_col6{\n",
       "            background-color:  #fa6c6c;\n",
       "            color:  #000000;\n",
       "        }</style><table id=\"T_6514f959_9e7b_11ec_950e_e02be9f13799\" ><thead>    <tr>        <th class=\"blank level0\" ></th>        <th class=\"col_heading level0 col0\" >Name</th>        <th class=\"col_heading level0 col1\" >Age</th>        <th class=\"col_heading level0 col2\" >Club</th>        <th class=\"col_heading level0 col3\" >Overall</th>        <th class=\"col_heading level0 col4\" >Potential</th>        <th class=\"col_heading level0 col5\" >Evolution</th>        <th class=\"col_heading level0 col6\" >Value (€)</th>    </tr></thead><tbody>\n",
       "                <tr>\n",
       "                        <th id=\"T_6514f959_9e7b_11ec_950e_e02be9f13799level0_row0\" class=\"row_heading level0 row0\" >373</th>\n",
       "                        <td id=\"T_6514f959_9e7b_11ec_950e_e02be9f13799row0_col0\" class=\"data row0 col0\" >R. Gravenberch</td>\n",
       "                        <td id=\"T_6514f959_9e7b_11ec_950e_e02be9f13799row0_col1\" class=\"data row0 col1\" >19</td>\n",
       "                        <td id=\"T_6514f959_9e7b_11ec_950e_e02be9f13799row0_col2\" class=\"data row0 col2\" >Ajax</td>\n",
       "                        <td id=\"T_6514f959_9e7b_11ec_950e_e02be9f13799row0_col3\" class=\"data row0 col3\" >78</td>\n",
       "                        <td id=\"T_6514f959_9e7b_11ec_950e_e02be9f13799row0_col4\" class=\"data row0 col4\" >90</td>\n",
       "                        <td id=\"T_6514f959_9e7b_11ec_950e_e02be9f13799row0_col5\" class=\"data row0 col5\" >12</td>\n",
       "                        <td id=\"T_6514f959_9e7b_11ec_950e_e02be9f13799row0_col6\" class=\"data row0 col6\" >33000000</td>\n",
       "            </tr>\n",
       "            <tr>\n",
       "                        <th id=\"T_6514f959_9e7b_11ec_950e_e02be9f13799level0_row1\" class=\"row_heading level0 row1\" >4568</th>\n",
       "                        <td id=\"T_6514f959_9e7b_11ec_950e_e02be9f13799row1_col0\" class=\"data row1 col0\" >J. Doku</td>\n",
       "                        <td id=\"T_6514f959_9e7b_11ec_950e_e02be9f13799row1_col1\" class=\"data row1 col1\" >19</td>\n",
       "                        <td id=\"T_6514f959_9e7b_11ec_950e_e02be9f13799row1_col2\" class=\"data row1 col2\" >Stade Rennais FC</td>\n",
       "                        <td id=\"T_6514f959_9e7b_11ec_950e_e02be9f13799row1_col3\" class=\"data row1 col3\" >77</td>\n",
       "                        <td id=\"T_6514f959_9e7b_11ec_950e_e02be9f13799row1_col4\" class=\"data row1 col4\" >88</td>\n",
       "                        <td id=\"T_6514f959_9e7b_11ec_950e_e02be9f13799row1_col5\" class=\"data row1 col5\" >11</td>\n",
       "                        <td id=\"T_6514f959_9e7b_11ec_950e_e02be9f13799row1_col6\" class=\"data row1 col6\" >23000000</td>\n",
       "            </tr>\n",
       "            <tr>\n",
       "                        <th id=\"T_6514f959_9e7b_11ec_950e_e02be9f13799level0_row2\" class=\"row_heading level0 row2\" >300</th>\n",
       "                        <td id=\"T_6514f959_9e7b_11ec_950e_e02be9f13799row2_col0\" class=\"data row2 col0\" >E. Camavinga</td>\n",
       "                        <td id=\"T_6514f959_9e7b_11ec_950e_e02be9f13799row2_col1\" class=\"data row2 col1\" >18</td>\n",
       "                        <td id=\"T_6514f959_9e7b_11ec_950e_e02be9f13799row2_col2\" class=\"data row2 col2\" >Real Madrid CF</td>\n",
       "                        <td id=\"T_6514f959_9e7b_11ec_950e_e02be9f13799row2_col3\" class=\"data row2 col3\" >78</td>\n",
       "                        <td id=\"T_6514f959_9e7b_11ec_950e_e02be9f13799row2_col4\" class=\"data row2 col4\" >89</td>\n",
       "                        <td id=\"T_6514f959_9e7b_11ec_950e_e02be9f13799row2_col5\" class=\"data row2 col5\" >11</td>\n",
       "                        <td id=\"T_6514f959_9e7b_11ec_950e_e02be9f13799row2_col6\" class=\"data row2 col6\" >29500000</td>\n",
       "            </tr>\n",
       "            <tr>\n",
       "                        <th id=\"T_6514f959_9e7b_11ec_950e_e02be9f13799level0_row3\" class=\"row_heading level0 row3\" >2517</th>\n",
       "                        <td id=\"T_6514f959_9e7b_11ec_950e_e02be9f13799row3_col0\" class=\"data row3 col0\" >N. Madueke</td>\n",
       "                        <td id=\"T_6514f959_9e7b_11ec_950e_e02be9f13799row3_col1\" class=\"data row3 col1\" >19</td>\n",
       "                        <td id=\"T_6514f959_9e7b_11ec_950e_e02be9f13799row3_col2\" class=\"data row3 col2\" >PSV</td>\n",
       "                        <td id=\"T_6514f959_9e7b_11ec_950e_e02be9f13799row3_col3\" class=\"data row3 col3\" >77</td>\n",
       "                        <td id=\"T_6514f959_9e7b_11ec_950e_e02be9f13799row3_col4\" class=\"data row3 col4\" >88</td>\n",
       "                        <td id=\"T_6514f959_9e7b_11ec_950e_e02be9f13799row3_col5\" class=\"data row3 col5\" >11</td>\n",
       "                        <td id=\"T_6514f959_9e7b_11ec_950e_e02be9f13799row3_col6\" class=\"data row3 col6\" >23000000</td>\n",
       "            </tr>\n",
       "            <tr>\n",
       "                        <th id=\"T_6514f959_9e7b_11ec_950e_e02be9f13799level0_row4\" class=\"row_heading level0 row4\" >1822</th>\n",
       "                        <td id=\"T_6514f959_9e7b_11ec_950e_e02be9f13799row4_col0\" class=\"data row4 col0\" >F. Wirtz</td>\n",
       "                        <td id=\"T_6514f959_9e7b_11ec_950e_e02be9f13799row4_col1\" class=\"data row4 col1\" >18</td>\n",
       "                        <td id=\"T_6514f959_9e7b_11ec_950e_e02be9f13799row4_col2\" class=\"data row4 col2\" >Bayer 04 Leverkusen</td>\n",
       "                        <td id=\"T_6514f959_9e7b_11ec_950e_e02be9f13799row4_col3\" class=\"data row4 col3\" >78</td>\n",
       "                        <td id=\"T_6514f959_9e7b_11ec_950e_e02be9f13799row4_col4\" class=\"data row4 col4\" >89</td>\n",
       "                        <td id=\"T_6514f959_9e7b_11ec_950e_e02be9f13799row4_col5\" class=\"data row4 col5\" >11</td>\n",
       "                        <td id=\"T_6514f959_9e7b_11ec_950e_e02be9f13799row4_col6\" class=\"data row4 col6\" >29500000</td>\n",
       "            </tr>\n",
       "            <tr>\n",
       "                        <th id=\"T_6514f959_9e7b_11ec_950e_e02be9f13799level0_row5\" class=\"row_heading level0 row5\" >1582</th>\n",
       "                        <td id=\"T_6514f959_9e7b_11ec_950e_e02be9f13799row5_col0\" class=\"data row5 col0\" >M. Greenwood</td>\n",
       "                        <td id=\"T_6514f959_9e7b_11ec_950e_e02be9f13799row5_col1\" class=\"data row5 col1\" >19</td>\n",
       "                        <td id=\"T_6514f959_9e7b_11ec_950e_e02be9f13799row5_col2\" class=\"data row5 col2\" >Manchester United</td>\n",
       "                        <td id=\"T_6514f959_9e7b_11ec_950e_e02be9f13799row5_col3\" class=\"data row5 col3\" >78</td>\n",
       "                        <td id=\"T_6514f959_9e7b_11ec_950e_e02be9f13799row5_col4\" class=\"data row5 col4\" >89</td>\n",
       "                        <td id=\"T_6514f959_9e7b_11ec_950e_e02be9f13799row5_col5\" class=\"data row5 col5\" >11</td>\n",
       "                        <td id=\"T_6514f959_9e7b_11ec_950e_e02be9f13799row5_col6\" class=\"data row5 col6\" >30500000</td>\n",
       "            </tr>\n",
       "            <tr>\n",
       "                        <th id=\"T_6514f959_9e7b_11ec_950e_e02be9f13799level0_row6\" class=\"row_heading level0 row6\" >835</th>\n",
       "                        <td id=\"T_6514f959_9e7b_11ec_950e_e02be9f13799row6_col0\" class=\"data row6 col0\" >Nuno Mendes</td>\n",
       "                        <td id=\"T_6514f959_9e7b_11ec_950e_e02be9f13799row6_col1\" class=\"data row6 col1\" >19</td>\n",
       "                        <td id=\"T_6514f959_9e7b_11ec_950e_e02be9f13799row6_col2\" class=\"data row6 col2\" >Paris Saint-Germain</td>\n",
       "                        <td id=\"T_6514f959_9e7b_11ec_950e_e02be9f13799row6_col3\" class=\"data row6 col3\" >78</td>\n",
       "                        <td id=\"T_6514f959_9e7b_11ec_950e_e02be9f13799row6_col4\" class=\"data row6 col4\" >88</td>\n",
       "                        <td id=\"T_6514f959_9e7b_11ec_950e_e02be9f13799row6_col5\" class=\"data row6 col5\" >10</td>\n",
       "                        <td id=\"T_6514f959_9e7b_11ec_950e_e02be9f13799row6_col6\" class=\"data row6 col6\" >29000000</td>\n",
       "            </tr>\n",
       "            <tr>\n",
       "                        <th id=\"T_6514f959_9e7b_11ec_950e_e02be9f13799level0_row7\" class=\"row_heading level0 row7\" >1424</th>\n",
       "                        <td id=\"T_6514f959_9e7b_11ec_950e_e02be9f13799row7_col0\" class=\"data row7 col0\" >D. Szoboszlai</td>\n",
       "                        <td id=\"T_6514f959_9e7b_11ec_950e_e02be9f13799row7_col1\" class=\"data row7 col1\" >20</td>\n",
       "                        <td id=\"T_6514f959_9e7b_11ec_950e_e02be9f13799row7_col2\" class=\"data row7 col2\" >RB Leipzig</td>\n",
       "                        <td id=\"T_6514f959_9e7b_11ec_950e_e02be9f13799row7_col3\" class=\"data row7 col3\" >77</td>\n",
       "                        <td id=\"T_6514f959_9e7b_11ec_950e_e02be9f13799row7_col4\" class=\"data row7 col4\" >87</td>\n",
       "                        <td id=\"T_6514f959_9e7b_11ec_950e_e02be9f13799row7_col5\" class=\"data row7 col5\" >10</td>\n",
       "                        <td id=\"T_6514f959_9e7b_11ec_950e_e02be9f13799row7_col6\" class=\"data row7 col6\" >23000000</td>\n",
       "            </tr>\n",
       "            <tr>\n",
       "                        <th id=\"T_6514f959_9e7b_11ec_950e_e02be9f13799level0_row8\" class=\"row_heading level0 row8\" >2753</th>\n",
       "                        <td id=\"T_6514f959_9e7b_11ec_950e_e02be9f13799row8_col0\" class=\"data row8 col0\" >C. Hudson-Odoi</td>\n",
       "                        <td id=\"T_6514f959_9e7b_11ec_950e_e02be9f13799row8_col1\" class=\"data row8 col1\" >20</td>\n",
       "                        <td id=\"T_6514f959_9e7b_11ec_950e_e02be9f13799row8_col2\" class=\"data row8 col2\" >Chelsea</td>\n",
       "                        <td id=\"T_6514f959_9e7b_11ec_950e_e02be9f13799row8_col3\" class=\"data row8 col3\" >77</td>\n",
       "                        <td id=\"T_6514f959_9e7b_11ec_950e_e02be9f13799row8_col4\" class=\"data row8 col4\" >87</td>\n",
       "                        <td id=\"T_6514f959_9e7b_11ec_950e_e02be9f13799row8_col5\" class=\"data row8 col5\" >10</td>\n",
       "                        <td id=\"T_6514f959_9e7b_11ec_950e_e02be9f13799row8_col6\" class=\"data row8 col6\" >23000000</td>\n",
       "            </tr>\n",
       "            <tr>\n",
       "                        <th id=\"T_6514f959_9e7b_11ec_950e_e02be9f13799level0_row9\" class=\"row_heading level0 row9\" >358</th>\n",
       "                        <td id=\"T_6514f959_9e7b_11ec_950e_e02be9f13799row9_col0\" class=\"data row9 col0\" >J. Bellingham</td>\n",
       "                        <td id=\"T_6514f959_9e7b_11ec_950e_e02be9f13799row9_col1\" class=\"data row9 col1\" >18</td>\n",
       "                        <td id=\"T_6514f959_9e7b_11ec_950e_e02be9f13799row9_col2\" class=\"data row9 col2\" >Borussia Dortmund</td>\n",
       "                        <td id=\"T_6514f959_9e7b_11ec_950e_e02be9f13799row9_col3\" class=\"data row9 col3\" >79</td>\n",
       "                        <td id=\"T_6514f959_9e7b_11ec_950e_e02be9f13799row9_col4\" class=\"data row9 col4\" >89</td>\n",
       "                        <td id=\"T_6514f959_9e7b_11ec_950e_e02be9f13799row9_col5\" class=\"data row9 col5\" >10</td>\n",
       "                        <td id=\"T_6514f959_9e7b_11ec_950e_e02be9f13799row9_col6\" class=\"data row9 col6\" >37000000</td>\n",
       "            </tr>\n",
       "            <tr>\n",
       "                        <th id=\"T_6514f959_9e7b_11ec_950e_e02be9f13799level0_row10\" class=\"row_heading level0 row10\" >2098</th>\n",
       "                        <td id=\"T_6514f959_9e7b_11ec_950e_e02be9f13799row10_col0\" class=\"data row10 col0\" >G. Reyna</td>\n",
       "                        <td id=\"T_6514f959_9e7b_11ec_950e_e02be9f13799row10_col1\" class=\"data row10 col1\" >18</td>\n",
       "                        <td id=\"T_6514f959_9e7b_11ec_950e_e02be9f13799row10_col2\" class=\"data row10 col2\" >Borussia Dortmund</td>\n",
       "                        <td id=\"T_6514f959_9e7b_11ec_950e_e02be9f13799row10_col3\" class=\"data row10 col3\" >77</td>\n",
       "                        <td id=\"T_6514f959_9e7b_11ec_950e_e02be9f13799row10_col4\" class=\"data row10 col4\" >87</td>\n",
       "                        <td id=\"T_6514f959_9e7b_11ec_950e_e02be9f13799row10_col5\" class=\"data row10 col5\" >10</td>\n",
       "                        <td id=\"T_6514f959_9e7b_11ec_950e_e02be9f13799row10_col6\" class=\"data row10 col6\" >22000000</td>\n",
       "            </tr>\n",
       "            <tr>\n",
       "                        <th id=\"T_6514f959_9e7b_11ec_950e_e02be9f13799level0_row11\" class=\"row_heading level0 row11\" >1664</th>\n",
       "                        <td id=\"T_6514f959_9e7b_11ec_950e_e02be9f13799row11_col0\" class=\"data row11 col0\" >M. Damsgaard</td>\n",
       "                        <td id=\"T_6514f959_9e7b_11ec_950e_e02be9f13799row11_col1\" class=\"data row11 col1\" >20</td>\n",
       "                        <td id=\"T_6514f959_9e7b_11ec_950e_e02be9f13799row11_col2\" class=\"data row11 col2\" >U.C. Sampdoria</td>\n",
       "                        <td id=\"T_6514f959_9e7b_11ec_950e_e02be9f13799row11_col3\" class=\"data row11 col3\" >77</td>\n",
       "                        <td id=\"T_6514f959_9e7b_11ec_950e_e02be9f13799row11_col4\" class=\"data row11 col4\" >87</td>\n",
       "                        <td id=\"T_6514f959_9e7b_11ec_950e_e02be9f13799row11_col5\" class=\"data row11 col5\" >10</td>\n",
       "                        <td id=\"T_6514f959_9e7b_11ec_950e_e02be9f13799row11_col6\" class=\"data row11 col6\" >23000000</td>\n",
       "            </tr>\n",
       "            <tr>\n",
       "                        <th id=\"T_6514f959_9e7b_11ec_950e_e02be9f13799level0_row12\" class=\"row_heading level0 row12\" >2101</th>\n",
       "                        <td id=\"T_6514f959_9e7b_11ec_950e_e02be9f13799row12_col0\" class=\"data row12 col0\" >Vinicius Jr.</td>\n",
       "                        <td id=\"T_6514f959_9e7b_11ec_950e_e02be9f13799row12_col1\" class=\"data row12 col1\" >20</td>\n",
       "                        <td id=\"T_6514f959_9e7b_11ec_950e_e02be9f13799row12_col2\" class=\"data row12 col2\" >Real Madrid CF</td>\n",
       "                        <td id=\"T_6514f959_9e7b_11ec_950e_e02be9f13799row12_col3\" class=\"data row12 col3\" >80</td>\n",
       "                        <td id=\"T_6514f959_9e7b_11ec_950e_e02be9f13799row12_col4\" class=\"data row12 col4\" >90</td>\n",
       "                        <td id=\"T_6514f959_9e7b_11ec_950e_e02be9f13799row12_col5\" class=\"data row12 col5\" >10</td>\n",
       "                        <td id=\"T_6514f959_9e7b_11ec_950e_e02be9f13799row12_col6\" class=\"data row12 col6\" >46500000</td>\n",
       "            </tr>\n",
       "            <tr>\n",
       "                        <th id=\"T_6514f959_9e7b_11ec_950e_e02be9f13799level0_row13\" class=\"row_heading level0 row13\" >703</th>\n",
       "                        <td id=\"T_6514f959_9e7b_11ec_950e_e02be9f13799row13_col0\" class=\"data row13 col0\" >Pedri</td>\n",
       "                        <td id=\"T_6514f959_9e7b_11ec_950e_e02be9f13799row13_col1\" class=\"data row13 col1\" >18</td>\n",
       "                        <td id=\"T_6514f959_9e7b_11ec_950e_e02be9f13799row13_col2\" class=\"data row13 col2\" >FC Barcelona</td>\n",
       "                        <td id=\"T_6514f959_9e7b_11ec_950e_e02be9f13799row13_col3\" class=\"data row13 col3\" >81</td>\n",
       "                        <td id=\"T_6514f959_9e7b_11ec_950e_e02be9f13799row13_col4\" class=\"data row13 col4\" >91</td>\n",
       "                        <td id=\"T_6514f959_9e7b_11ec_950e_e02be9f13799row13_col5\" class=\"data row13 col5\" >10</td>\n",
       "                        <td id=\"T_6514f959_9e7b_11ec_950e_e02be9f13799row13_col6\" class=\"data row13 col6\" >54000000</td>\n",
       "            </tr>\n",
       "            <tr>\n",
       "                        <th id=\"T_6514f959_9e7b_11ec_950e_e02be9f13799level0_row14\" class=\"row_heading level0 row14\" >1585</th>\n",
       "                        <td id=\"T_6514f959_9e7b_11ec_950e_e02be9f13799row14_col0\" class=\"data row14 col0\" >Antony</td>\n",
       "                        <td id=\"T_6514f959_9e7b_11ec_950e_e02be9f13799row14_col1\" class=\"data row14 col1\" >21</td>\n",
       "                        <td id=\"T_6514f959_9e7b_11ec_950e_e02be9f13799row14_col2\" class=\"data row14 col2\" >Ajax</td>\n",
       "                        <td id=\"T_6514f959_9e7b_11ec_950e_e02be9f13799row14_col3\" class=\"data row14 col3\" >79</td>\n",
       "                        <td id=\"T_6514f959_9e7b_11ec_950e_e02be9f13799row14_col4\" class=\"data row14 col4\" >88</td>\n",
       "                        <td id=\"T_6514f959_9e7b_11ec_950e_e02be9f13799row14_col5\" class=\"data row14 col5\" >9</td>\n",
       "                        <td id=\"T_6514f959_9e7b_11ec_950e_e02be9f13799row14_col6\" class=\"data row14 col6\" >39500000</td>\n",
       "            </tr>\n",
       "    </tbody></table>"
      ],
      "text/plain": [
       "<pandas.io.formats.style.Styler at 0x258c68fd880>"
      ]
     },
     "execution_count": 49,
     "metadata": {},
     "output_type": "execute_result"
    }
   ],
   "source": [
    "# Nous enlevons les joueurs qui ont un salaire = 0 car ce sont les légendes du jeu qui ont un potentiel important\n",
    "a=df[df['Wage (€)']!=0].sort_values('Evolution',ascending=False)[['Name','Age','Club','Overall','Potential','Evolution','Value (€)']].head(15)\n",
    "a.style.background_gradient(cmap=sns.light_palette(\"red\", as_cmap=True),subset=['Evolution','Value (€)'])"
   ]
  },
  {
   "cell_type": "code",
   "execution_count": 50,
   "metadata": {
    "scrolled": true
   },
   "outputs": [
    {
     "data": {
      "text/plain": [
       "Text(0.5, 1.0, 'Best possible evolutions of players')"
      ]
     },
     "execution_count": 50,
     "metadata": {},
     "output_type": "execute_result"
    },
    {
     "data": {
      "image/png": "[encoded data removed]",
      "text/plain": [
       "<Figure size 1224x504 with 1 Axes>"
      ]
     },
     "metadata": {
      "needs_background": "light"
     },
     "output_type": "display_data"
    }
   ],
   "source": [
    "f, ax = plt.subplots(figsize=(17, 7))\n",
    "sns.barplot(x=a['Evolution'],y=a.Name,data=a, palette='Spectral')\n",
    "plt.title('Best possible evolutions of players')"
   ]
  },
  {
   "cell_type": "markdown",
   "metadata": {},
   "source": [
    "### Les pieds des meilleurs joueurs"
   ]
  },
  {
   "cell_type": "code",
   "execution_count": 51,
   "metadata": {},
   "outputs": [
    {
     "data": {
      "text/plain": [
       "Text(0.5, 1.0, 'Top 75 best players preferred foot')"
      ]
     },
     "execution_count": 51,
     "metadata": {},
     "output_type": "execute_result"
    },
    {
     "data": {
      "image/png": "[encoded data removed]",
      "text/plain": [
       "<Figure size 432x288 with 1 Axes>"
      ]
     },
     "metadata": {},
     "output_type": "display_data"
    }
   ],
   "source": [
    "top75_bestplayers['Preferred Foot'].value_counts().plot(kind='pie',autopct='%1.0f%%', pctdistance=0.5, labeldistance=1.1)\n",
    "plt.title('Top 75 best players preferred foot')"
   ]
  },
  {
   "cell_type": "markdown",
   "metadata": {},
   "source": [
    "### Répartition des tailles et poids des 75 meilleurs"
   ]
  },
  {
   "cell_type": "code",
   "execution_count": 52,
   "metadata": {},
   "outputs": [
    {
     "data": {
      "text/plain": [
       "Text(0.5, 1.0, 'Repartition of Height and Weight of the top 75')"
      ]
     },
     "execution_count": 52,
     "metadata": {},
     "output_type": "execute_result"
    },
    {
     "data": {
      "image/png": "[encoded data removed]",
      "text/plain": [
       "<Figure size 432x288 with 1 Axes>"
      ]
     },
     "metadata": {
      "needs_background": "light"
     },
     "output_type": "display_data"
    }
   ],
   "source": [
    "top75_bestplayers=top75_bestplayers.rename(columns={'Height':'Height (cm)','Weight':'Weight (kg)'})\n",
    "\n",
    "top75_bestplayers['Height (cm)'].plot.kde()\n",
    "top75_bestplayers['Weight (kg)'].plot.kde()\n",
    "plt.legend()\n",
    "plt.title('Repartition of Height and Weight of the top 75')"
   ]
  },
  {
   "cell_type": "markdown",
   "metadata": {},
   "source": [
    "## Etude des clubs"
   ]
  },
  {
   "cell_type": "markdown",
   "metadata": {},
   "source": [
    "### Clubs ayant les équipes les plus chères"
   ]
  },
  {
   "cell_type": "code",
   "execution_count": 53,
   "metadata": {},
   "outputs": [],
   "source": [
    "a=pd.DataFrame(df.groupby(['Club']).sum()['Value (€)'].sort_values(ascending=False)).head(20)"
   ]
  },
  {
   "cell_type": "code",
   "execution_count": 54,
   "metadata": {
    "scrolled": true
   },
   "outputs": [
    {
     "data": {
      "text/plain": [
       "Text(0.5, 1.0, 'Ranking of club having the most valuables players')"
      ]
     },
     "execution_count": 54,
     "metadata": {},
     "output_type": "execute_result"
    },
    {
     "data": {
      "image/png": "[encoded data removed]",
      "text/plain": [
       "<Figure size 1224x504 with 1 Axes>"
      ]
     },
     "metadata": {
      "needs_background": "light"
     },
     "output_type": "display_data"
    }
   ],
   "source": [
    "f, ax = plt.subplots(figsize=(17, 7))\n",
    "sns.barplot(x=a['Value (€)'],y=a.index,data=a, palette='Spectral')\n",
    "plt.title('Ranking of club having the most valuables players')"
   ]
  },
  {
   "cell_type": "markdown",
   "metadata": {},
   "source": [
    "### Clubs ayant les meilleurs espoirs"
   ]
  },
  {
   "cell_type": "code",
   "execution_count": 55,
   "metadata": {},
   "outputs": [],
   "source": [
    "a=pd.DataFrame(df.groupby(['Club']).sum()['Evolution'].sort_values(ascending=False)).head(20)"
   ]
  },
  {
   "cell_type": "code",
   "execution_count": 56,
   "metadata": {
    "scrolled": false
   },
   "outputs": [
    {
     "data": {
      "text/plain": [
       "Text(0.5, 1.0, 'Ranking of club having the most talented players')"
      ]
     },
     "execution_count": 56,
     "metadata": {},
     "output_type": "execute_result"
    },
    {
     "data": {
      "image/png": "[encoded data removed]",
      "text/plain": [
       "<Figure size 1224x504 with 1 Axes>"
      ]
     },
     "metadata": {
      "needs_background": "light"
     },
     "output_type": "display_data"
    }
   ],
   "source": [
    "f, ax = plt.subplots(figsize=(17, 7))\n",
    "sns.barplot(x=a['Evolution'],y=a.index,data=a, palette='Spectral')\n",
    "plt.title('Ranking of club having the most talented players')"
   ]
  },
  {
   "cell_type": "markdown",
   "metadata": {},
   "source": [
    "### Clubs ayant les joueurs les plus grands"
   ]
  },
  {
   "cell_type": "code",
   "execution_count": 57,
   "metadata": {},
   "outputs": [],
   "source": [
    "a=pd.DataFrame(df.groupby(['Club']).mean()['Height'].sort_values(ascending=False)).head(20)"
   ]
  },
  {
   "cell_type": "code",
   "execution_count": 58,
   "metadata": {
    "scrolled": true
   },
   "outputs": [
    {
     "data": {
      "text/plain": [
       "Text(0.5, 1.0, 'Ranking of club having the tallest players')"
      ]
     },
     "execution_count": 58,
     "metadata": {},
     "output_type": "execute_result"
    },
    {
     "data": {
      "image/png": "[encoded data removed]",
      "text/plain": [
       "<Figure size 1224x504 with 1 Axes>"
      ]
     },
     "metadata": {
      "needs_background": "light"
     },
     "output_type": "display_data"
    }
   ],
   "source": [
    "f, ax = plt.subplots(figsize=(17, 7))\n",
    "sns.barplot(x=a['Height'],y=a.index,data=a, palette='Spectral')\n",
    "plt.title('Ranking of club having the tallest players')"
   ]
  },
  {
   "cell_type": "markdown",
   "metadata": {},
   "source": [
    "### Clubs ayant les joueurs les plus lourds"
   ]
  },
  {
   "cell_type": "code",
   "execution_count": 59,
   "metadata": {},
   "outputs": [],
   "source": [
    "a=pd.DataFrame(df.groupby(['Club']).mean()['Weight'].sort_values(ascending=False)).head(20)"
   ]
  },
  {
   "cell_type": "code",
   "execution_count": 60,
   "metadata": {},
   "outputs": [
    {
     "data": {
      "text/plain": [
       "Text(0.5, 1.0, 'Ranking of club having the heaviest players')"
      ]
     },
     "execution_count": 60,
     "metadata": {},
     "output_type": "execute_result"
    },
    {
     "data": {
      "image/png": "[encoded data removed]",
      "text/plain": [
       "<Figure size 1224x504 with 1 Axes>"
      ]
     },
     "metadata": {
      "needs_background": "light"
     },
     "output_type": "display_data"
    }
   ],
   "source": [
    "f, ax = plt.subplots(figsize=(17, 7))\n",
    "sns.barplot(x=a['Weight'],y=a.index,data=a, palette='Spectral')\n",
    "plt.title('Ranking of club having the heaviest players')"
   ]
  },
  {
   "cell_type": "markdown",
   "metadata": {},
   "source": [
    "## Data Visualisation"
   ]
  },
  {
   "cell_type": "markdown",
   "metadata": {},
   "source": [
    "### Radar chart joueurs "
   ]
  },
  {
   "cell_type": "code",
   "execution_count": 61,
   "metadata": {},
   "outputs": [
    {
     "name": "stdout",
     "output_type": "stream",
     "text": [
      "Name: Thiago Silva\n",
      "Age: 36\n",
      "Nation: Brazil\n",
      "Club: Chelsea\n",
      "Overall Rating: 85\n"
     ]
    }
   ],
   "source": [
    "import matplotlib.patches as mpatches\n",
    "import matplotlib.pyplot as plt\n",
    "plt.style.use('seaborn')\n",
    "\n",
    "color1=(0,152/255,158/255,0.8)\n",
    "color2=(180/255,215/255,141/255,0.8)\n",
    "color3=(255/255,230/255,122/255,0.8)\n",
    "color4=(246/255,172/255,26/255,0.8)\n",
    "color5=(216/255,34/255,13/255,0.8)\n",
    "colors=[color1,color2,color3,color4,color5]\n",
    "\n",
    "def base_info(player):\n",
    "    if player.empty:\n",
    "        print(\"Can't find a player with sofifa_id = \"+str(sofifa_id))\n",
    "    else:\n",
    "        player=player.reset_index()\n",
    "        print('Name: '+player['Name'][0])\n",
    "        print('Age: '+str(player['Age'][0]))\n",
    "        print('Nation: '+player['Nationality'][0])\n",
    "        print('Club: '+player['Club'][0])\n",
    "        print('Overall Rating: '+str(player['Overall'][0]))\n",
    "        \n",
    "\n",
    "base_info(df[df['Name']==\"Thiago Silva\"])\n"
   ]
  },
  {
   "cell_type": "code",
   "execution_count": 62,
   "metadata": {},
   "outputs": [],
   "source": [
    "def radar_plot(player):\n",
    "\n",
    "    player=player.reset_index()\n",
    "\n",
    "    angles=np.linspace(0,2*np.pi,6,endpoint=False)\n",
    "    angles=np.concatenate((angles, [0]))\n",
    "\n",
    "    #Detect if GoalKeeper or not\n",
    "    if player['GKDiving'].values[0]<30:\n",
    "        attributes=player.loc[0,['Acceleration','Finishing','Agility','Dribbling','StandingTackle','Strength','BallControl']]\n",
    "        labels=('ACCELERATION\\n{:d}'.format(int(player.loc[0,'Acceleration'])),\n",
    "                'FINISHING\\n{:d}\\n'.format(int(player.loc[0,'Finishing'])),\n",
    "                'AGILITY\\n{:d}\\n'.format(int(player.loc[0,'Agility'])),\n",
    "                'DRIBBLING\\n{:d}'.format(int(player.loc[0,'Dribbling'])),\n",
    "                '\\nTACKLE\\n{:d}'.format(int(player.loc[0,'StandingTackle'])),\n",
    "                '\\nPHYSIC\\n{:d}'.format(int(player.loc[0,'Strength'])),\n",
    "                'CONTROL\\n{:d}'.format(int(player.loc[0,'BallControl'])))\n",
    "    else:\n",
    "        attributes=player.loc[0,['GKDiving','GKHandling','GKKicking','GKReflexes','Reactions','GKPositioning','GKDiving']]\n",
    "        labels=('DIV\\n{:d}'.format(int(player.loc[0,'GKDiving'])),\n",
    "                'HAN\\n{:d}\\n'.format(int(player.loc[0,'GKHandling'])),\n",
    "                'KIC\\n{:d}\\n'.format(int(player.loc[0,'GKKicking'])),\n",
    "                'REF\\n{:d}'.format(int(player.loc[0,'GKReflexes'])),\n",
    "                '\\nREACTIONS\\n{:d}'.format(int(player.loc[0,'Reactions'])),\n",
    "                '\\nPOS\\n{:d}'.format(int(player.loc[0,'GKPositioning'])),\n",
    "                'DIV\\n{:d}'.format(int(player.loc[0,'GKDiving'])))\n",
    "\n",
    "    fig=plt.figure(figsize=(5,5))\n",
    "    rect0 = [0, 0, 1, 1]\n",
    "    rect1 = [0.00005, 0.00005, 0.9999, 0.9999]\n",
    "    rect2 = [0.1, 0.1, 0.8, 0.8]\n",
    "    rect3 = [0.2, 0.2, 0.6, 0.6]\n",
    "    rect4 = [0.3, 0.3, 0.4, 0.4]\n",
    "    rect5 = [0.4, 0.4, 0.2, 0.2]\n",
    "\n",
    "    rects=[rect1,rect2,rect3,rect4,rect5]\n",
    "\n",
    "    for rect,col in zip(rects,colors):\n",
    "        bk=plt.axes(rect,projection='polar')\n",
    "        bk.fill(angles,[1,1,1,1,1,1,1],color=col)\n",
    "        bk.set_ylim(0,1)\n",
    "        bk.axis('off')\n",
    "\n",
    "    rdp=plt.axes(rect0,projection='polar')\n",
    "    rdp.plot(angles,attributes,color='#222222',linestyle=\"-\",lw=2)\n",
    "    rdp.fill(angles,attributes,color='#222222',alpha=0.3)\n",
    "    rdp.set_thetagrids(angles/np.pi*180,labels,fontsize=13)\n",
    "    rdp.set_title(player.Name[0],fontsize=20)\n",
    "    rdp.patch.set_alpha(0)\n",
    "    rdp.set_rticks([])\n",
    "    rdp.set_ylim(0,100)\n",
    "    #rdp.axis('off')\n",
    "    plt.show()"
   ]
  },
  {
   "cell_type": "code",
   "execution_count": 63,
   "metadata": {},
   "outputs": [
    {
     "data": {
      "image/png": "[encoded data removed]",
      "text/plain": [
       "<Figure size 360x360 with 6 Axes>"
      ]
     },
     "metadata": {},
     "output_type": "display_data"
    }
   ],
   "source": [
    "radar_plot(df[df['Name'].str.contains('Marquinhos')])"
   ]
  }
 ],
 "metadata": {
  "kernelspec": {
   "display_name": "Python 3",
   "language": "python",
   "name": "python3"
  },
  "language_info": {
   "codemirror_mode": {
    "name": "ipython",
    "version": 3
   },
   "file_extension": ".py",
   "mimetype": "text/x-python",
   "name": "python",
   "nbconvert_exporter": "python",
   "pygments_lexer": "ipython3",
   "version": "3.8.5"
  }
 },
 "nbformat": 4,
 "nbformat_minor": 4
}
