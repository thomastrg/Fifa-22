{
 "cells": [
  {
   "cell_type": "markdown",
   "metadata": {
    "heading_collapsed": true
   },
   "source": [
    "# Import libraries"
   ]
  },
  {
   "cell_type": "code",
   "execution_count": 1,
   "metadata": {
    "hidden": true
   },
   "outputs": [],
   "source": [
    "import pandas as pd\n",
    "import numpy as np\n",
    "\n",
    "import re\n",
    "import requests\n",
    "import base64\n",
    "from unidecode import unidecode\n",
    "\n",
    "import seaborn as sns\n",
    "import matplotlib.pyplot as plt\n",
    "import streamlit as st\n",
    "\n",
    "from annoy import AnnoyIndex"
   ]
  },
  {
   "cell_type": "markdown",
   "metadata": {
    "heading_collapsed": true
   },
   "source": [
    "# Data Importation"
   ]
  },
  {
   "cell_type": "markdown",
   "metadata": {
    "heading_collapsed": true,
    "hidden": true
   },
   "source": [
    "## Fifa 2022"
   ]
  },
  {
   "cell_type": "code",
   "execution_count": 2,
   "metadata": {
    "hidden": true
   },
   "outputs": [],
   "source": [
    "df=pd.read_csv('FIFA22_official_data.csv')"
   ]
  },
  {
   "cell_type": "code",
   "execution_count": 3,
   "metadata": {
    "hidden": true,
    "scrolled": true
   },
   "outputs": [
    {
     "data": {
      "text/html": [
       "<div>\n",
       "<style scoped>\n",
       "    .dataframe tbody tr th:only-of-type {\n",
       "        vertical-align: middle;\n",
       "    }\n",
       "\n",
       "    .dataframe tbody tr th {\n",
       "        vertical-align: top;\n",
       "    }\n",
       "\n",
       "    .dataframe thead th {\n",
       "        text-align: right;\n",
       "    }\n",
       "</style>\n",
       "<table border=\"1\" class=\"dataframe\">\n",
       "  <thead>\n",
       "    <tr style=\"text-align: right;\">\n",
       "      <th></th>\n",
       "      <th>ID</th>\n",
       "      <th>Name</th>\n",
       "      <th>Age</th>\n",
       "      <th>Photo</th>\n",
       "      <th>Nationality</th>\n",
       "      <th>Flag</th>\n",
       "      <th>Overall</th>\n",
       "      <th>Potential</th>\n",
       "      <th>Club</th>\n",
       "      <th>Club Logo</th>\n",
       "      <th>...</th>\n",
       "      <th>SlidingTackle</th>\n",
       "      <th>GKDiving</th>\n",
       "      <th>GKHandling</th>\n",
       "      <th>GKKicking</th>\n",
       "      <th>GKPositioning</th>\n",
       "      <th>GKReflexes</th>\n",
       "      <th>Best Position</th>\n",
       "      <th>Best Overall Rating</th>\n",
       "      <th>Release Clause</th>\n",
       "      <th>DefensiveAwareness</th>\n",
       "    </tr>\n",
       "  </thead>\n",
       "  <tbody>\n",
       "    <tr>\n",
       "      <th>0</th>\n",
       "      <td>212198</td>\n",
       "      <td>Bruno Fernandes</td>\n",
       "      <td>26</td>\n",
       "      <td>https://cdn.sofifa.com/players/212/198/22_60.png</td>\n",
       "      <td>Portugal</td>\n",
       "      <td>https://cdn.sofifa.com/flags/pt.png</td>\n",
       "      <td>88</td>\n",
       "      <td>89</td>\n",
       "      <td>Manchester United</td>\n",
       "      <td>https://cdn.sofifa.com/teams/11/30.png</td>\n",
       "      <td>...</td>\n",
       "      <td>65.0</td>\n",
       "      <td>12.0</td>\n",
       "      <td>14.0</td>\n",
       "      <td>15.0</td>\n",
       "      <td>8.0</td>\n",
       "      <td>14.0</td>\n",
       "      <td>CAM</td>\n",
       "      <td>88.0</td>\n",
       "      <td>€206.9M</td>\n",
       "      <td>72.0</td>\n",
       "    </tr>\n",
       "    <tr>\n",
       "      <th>1</th>\n",
       "      <td>209658</td>\n",
       "      <td>L. Goretzka</td>\n",
       "      <td>26</td>\n",
       "      <td>https://cdn.sofifa.com/players/209/658/22_60.png</td>\n",
       "      <td>Germany</td>\n",
       "      <td>https://cdn.sofifa.com/flags/de.png</td>\n",
       "      <td>87</td>\n",
       "      <td>88</td>\n",
       "      <td>FC Bayern München</td>\n",
       "      <td>https://cdn.sofifa.com/teams/21/30.png</td>\n",
       "      <td>...</td>\n",
       "      <td>77.0</td>\n",
       "      <td>13.0</td>\n",
       "      <td>8.0</td>\n",
       "      <td>15.0</td>\n",
       "      <td>11.0</td>\n",
       "      <td>9.0</td>\n",
       "      <td>CM</td>\n",
       "      <td>87.0</td>\n",
       "      <td>€160.4M</td>\n",
       "      <td>74.0</td>\n",
       "    </tr>\n",
       "    <tr>\n",
       "      <th>2</th>\n",
       "      <td>176580</td>\n",
       "      <td>L. Suárez</td>\n",
       "      <td>34</td>\n",
       "      <td>https://cdn.sofifa.com/players/176/580/22_60.png</td>\n",
       "      <td>Uruguay</td>\n",
       "      <td>https://cdn.sofifa.com/flags/uy.png</td>\n",
       "      <td>88</td>\n",
       "      <td>88</td>\n",
       "      <td>Atlético de Madrid</td>\n",
       "      <td>https://cdn.sofifa.com/teams/240/30.png</td>\n",
       "      <td>...</td>\n",
       "      <td>38.0</td>\n",
       "      <td>27.0</td>\n",
       "      <td>25.0</td>\n",
       "      <td>31.0</td>\n",
       "      <td>33.0</td>\n",
       "      <td>37.0</td>\n",
       "      <td>ST</td>\n",
       "      <td>88.0</td>\n",
       "      <td>€91.2M</td>\n",
       "      <td>42.0</td>\n",
       "    </tr>\n",
       "    <tr>\n",
       "      <th>3</th>\n",
       "      <td>192985</td>\n",
       "      <td>K. De Bruyne</td>\n",
       "      <td>30</td>\n",
       "      <td>https://cdn.sofifa.com/players/192/985/22_60.png</td>\n",
       "      <td>Belgium</td>\n",
       "      <td>https://cdn.sofifa.com/flags/be.png</td>\n",
       "      <td>91</td>\n",
       "      <td>91</td>\n",
       "      <td>Manchester City</td>\n",
       "      <td>https://cdn.sofifa.com/teams/10/30.png</td>\n",
       "      <td>...</td>\n",
       "      <td>53.0</td>\n",
       "      <td>15.0</td>\n",
       "      <td>13.0</td>\n",
       "      <td>5.0</td>\n",
       "      <td>10.0</td>\n",
       "      <td>13.0</td>\n",
       "      <td>CM</td>\n",
       "      <td>91.0</td>\n",
       "      <td>€232.2M</td>\n",
       "      <td>68.0</td>\n",
       "    </tr>\n",
       "    <tr>\n",
       "      <th>4</th>\n",
       "      <td>224334</td>\n",
       "      <td>M. Acuña</td>\n",
       "      <td>29</td>\n",
       "      <td>https://cdn.sofifa.com/players/224/334/22_60.png</td>\n",
       "      <td>Argentina</td>\n",
       "      <td>https://cdn.sofifa.com/flags/ar.png</td>\n",
       "      <td>84</td>\n",
       "      <td>84</td>\n",
       "      <td>Sevilla FC</td>\n",
       "      <td>https://cdn.sofifa.com/teams/481/30.png</td>\n",
       "      <td>...</td>\n",
       "      <td>82.0</td>\n",
       "      <td>8.0</td>\n",
       "      <td>14.0</td>\n",
       "      <td>13.0</td>\n",
       "      <td>13.0</td>\n",
       "      <td>14.0</td>\n",
       "      <td>LB</td>\n",
       "      <td>84.0</td>\n",
       "      <td>€77.7M</td>\n",
       "      <td>80.0</td>\n",
       "    </tr>\n",
       "    <tr>\n",
       "      <th>5</th>\n",
       "      <td>212622</td>\n",
       "      <td>J. Kimmich</td>\n",
       "      <td>26</td>\n",
       "      <td>https://cdn.sofifa.com/players/212/622/22_60.png</td>\n",
       "      <td>Germany</td>\n",
       "      <td>https://cdn.sofifa.com/flags/de.png</td>\n",
       "      <td>89</td>\n",
       "      <td>90</td>\n",
       "      <td>FC Bayern München</td>\n",
       "      <td>https://cdn.sofifa.com/teams/21/30.png</td>\n",
       "      <td>...</td>\n",
       "      <td>79.0</td>\n",
       "      <td>8.0</td>\n",
       "      <td>15.0</td>\n",
       "      <td>7.0</td>\n",
       "      <td>15.0</td>\n",
       "      <td>15.0</td>\n",
       "      <td>CDM</td>\n",
       "      <td>89.0</td>\n",
       "      <td>€186.3M</td>\n",
       "      <td>85.0</td>\n",
       "    </tr>\n",
       "    <tr>\n",
       "      <th>6</th>\n",
       "      <td>187961</td>\n",
       "      <td>Paulinho</td>\n",
       "      <td>32</td>\n",
       "      <td>https://cdn.sofifa.com/players/187/961/22_60.png</td>\n",
       "      <td>Brazil</td>\n",
       "      <td>https://cdn.sofifa.com/flags/br.png</td>\n",
       "      <td>83</td>\n",
       "      <td>83</td>\n",
       "      <td>Al Ahli</td>\n",
       "      <td>https://cdn.sofifa.com/teams/112387/30.png</td>\n",
       "      <td>...</td>\n",
       "      <td>75.0</td>\n",
       "      <td>16.0</td>\n",
       "      <td>16.0</td>\n",
       "      <td>11.0</td>\n",
       "      <td>6.0</td>\n",
       "      <td>8.0</td>\n",
       "      <td>CM</td>\n",
       "      <td>83.0</td>\n",
       "      <td>€48.5M</td>\n",
       "      <td>80.0</td>\n",
       "    </tr>\n",
       "    <tr>\n",
       "      <th>7</th>\n",
       "      <td>181291</td>\n",
       "      <td>G. Wijnaldum</td>\n",
       "      <td>30</td>\n",
       "      <td>https://cdn.sofifa.com/players/181/291/22_60.png</td>\n",
       "      <td>Netherlands</td>\n",
       "      <td>https://cdn.sofifa.com/flags/nl.png</td>\n",
       "      <td>84</td>\n",
       "      <td>84</td>\n",
       "      <td>Paris Saint-Germain</td>\n",
       "      <td>https://cdn.sofifa.com/teams/73/30.png</td>\n",
       "      <td>...</td>\n",
       "      <td>70.0</td>\n",
       "      <td>16.0</td>\n",
       "      <td>6.0</td>\n",
       "      <td>14.0</td>\n",
       "      <td>12.0</td>\n",
       "      <td>6.0</td>\n",
       "      <td>CM</td>\n",
       "      <td>84.0</td>\n",
       "      <td>€74.9M</td>\n",
       "      <td>79.0</td>\n",
       "    </tr>\n",
       "    <tr>\n",
       "      <th>8</th>\n",
       "      <td>208333</td>\n",
       "      <td>E. Can</td>\n",
       "      <td>27</td>\n",
       "      <td>https://cdn.sofifa.com/players/208/333/22_60.png</td>\n",
       "      <td>Germany</td>\n",
       "      <td>https://cdn.sofifa.com/flags/de.png</td>\n",
       "      <td>82</td>\n",
       "      <td>83</td>\n",
       "      <td>Borussia Dortmund</td>\n",
       "      <td>https://cdn.sofifa.com/teams/22/30.png</td>\n",
       "      <td>...</td>\n",
       "      <td>86.0</td>\n",
       "      <td>14.0</td>\n",
       "      <td>8.0</td>\n",
       "      <td>8.0</td>\n",
       "      <td>13.0</td>\n",
       "      <td>11.0</td>\n",
       "      <td>CDM</td>\n",
       "      <td>85.0</td>\n",
       "      <td>€62.1M</td>\n",
       "      <td>81.0</td>\n",
       "    </tr>\n",
       "    <tr>\n",
       "      <th>9</th>\n",
       "      <td>194765</td>\n",
       "      <td>A. Griezmann</td>\n",
       "      <td>30</td>\n",
       "      <td>https://cdn.sofifa.com/players/194/765/22_60.png</td>\n",
       "      <td>France</td>\n",
       "      <td>https://cdn.sofifa.com/flags/fr.png</td>\n",
       "      <td>85</td>\n",
       "      <td>85</td>\n",
       "      <td>Atlético de Madrid</td>\n",
       "      <td>https://cdn.sofifa.com/teams/240/30.png</td>\n",
       "      <td>...</td>\n",
       "      <td>49.0</td>\n",
       "      <td>14.0</td>\n",
       "      <td>8.0</td>\n",
       "      <td>14.0</td>\n",
       "      <td>13.0</td>\n",
       "      <td>14.0</td>\n",
       "      <td>CAM</td>\n",
       "      <td>86.0</td>\n",
       "      <td>NaN</td>\n",
       "      <td>43.0</td>\n",
       "    </tr>\n",
       "  </tbody>\n",
       "</table>\n",
       "<p>10 rows × 65 columns</p>\n",
       "</div>"
      ],
      "text/plain": [
       "       ID             Name  Age  \\\n",
       "0  212198  Bruno Fernandes   26   \n",
       "1  209658      L. Goretzka   26   \n",
       "2  176580        L. Suárez   34   \n",
       "3  192985     K. De Bruyne   30   \n",
       "4  224334         M. Acuña   29   \n",
       "5  212622       J. Kimmich   26   \n",
       "6  187961         Paulinho   32   \n",
       "7  181291     G. Wijnaldum   30   \n",
       "8  208333           E. Can   27   \n",
       "9  194765     A. Griezmann   30   \n",
       "\n",
       "                                              Photo  Nationality  \\\n",
       "0  https://cdn.sofifa.com/players/212/198/22_60.png     Portugal   \n",
       "1  https://cdn.sofifa.com/players/209/658/22_60.png      Germany   \n",
       "2  https://cdn.sofifa.com/players/176/580/22_60.png      Uruguay   \n",
       "3  https://cdn.sofifa.com/players/192/985/22_60.png      Belgium   \n",
       "4  https://cdn.sofifa.com/players/224/334/22_60.png    Argentina   \n",
       "5  https://cdn.sofifa.com/players/212/622/22_60.png      Germany   \n",
       "6  https://cdn.sofifa.com/players/187/961/22_60.png       Brazil   \n",
       "7  https://cdn.sofifa.com/players/181/291/22_60.png  Netherlands   \n",
       "8  https://cdn.sofifa.com/players/208/333/22_60.png      Germany   \n",
       "9  https://cdn.sofifa.com/players/194/765/22_60.png       France   \n",
       "\n",
       "                                  Flag  Overall  Potential  \\\n",
       "0  https://cdn.sofifa.com/flags/pt.png       88         89   \n",
       "1  https://cdn.sofifa.com/flags/de.png       87         88   \n",
       "2  https://cdn.sofifa.com/flags/uy.png       88         88   \n",
       "3  https://cdn.sofifa.com/flags/be.png       91         91   \n",
       "4  https://cdn.sofifa.com/flags/ar.png       84         84   \n",
       "5  https://cdn.sofifa.com/flags/de.png       89         90   \n",
       "6  https://cdn.sofifa.com/flags/br.png       83         83   \n",
       "7  https://cdn.sofifa.com/flags/nl.png       84         84   \n",
       "8  https://cdn.sofifa.com/flags/de.png       82         83   \n",
       "9  https://cdn.sofifa.com/flags/fr.png       85         85   \n",
       "\n",
       "                  Club                                   Club Logo  ...  \\\n",
       "0    Manchester United      https://cdn.sofifa.com/teams/11/30.png  ...   \n",
       "1    FC Bayern München      https://cdn.sofifa.com/teams/21/30.png  ...   \n",
       "2   Atlético de Madrid     https://cdn.sofifa.com/teams/240/30.png  ...   \n",
       "3      Manchester City      https://cdn.sofifa.com/teams/10/30.png  ...   \n",
       "4           Sevilla FC     https://cdn.sofifa.com/teams/481/30.png  ...   \n",
       "5    FC Bayern München      https://cdn.sofifa.com/teams/21/30.png  ...   \n",
       "6              Al Ahli  https://cdn.sofifa.com/teams/112387/30.png  ...   \n",
       "7  Paris Saint-Germain      https://cdn.sofifa.com/teams/73/30.png  ...   \n",
       "8    Borussia Dortmund      https://cdn.sofifa.com/teams/22/30.png  ...   \n",
       "9   Atlético de Madrid     https://cdn.sofifa.com/teams/240/30.png  ...   \n",
       "\n",
       "  SlidingTackle GKDiving  GKHandling GKKicking  GKPositioning  GKReflexes  \\\n",
       "0          65.0     12.0        14.0      15.0            8.0        14.0   \n",
       "1          77.0     13.0         8.0      15.0           11.0         9.0   \n",
       "2          38.0     27.0        25.0      31.0           33.0        37.0   \n",
       "3          53.0     15.0        13.0       5.0           10.0        13.0   \n",
       "4          82.0      8.0        14.0      13.0           13.0        14.0   \n",
       "5          79.0      8.0        15.0       7.0           15.0        15.0   \n",
       "6          75.0     16.0        16.0      11.0            6.0         8.0   \n",
       "7          70.0     16.0         6.0      14.0           12.0         6.0   \n",
       "8          86.0     14.0         8.0       8.0           13.0        11.0   \n",
       "9          49.0     14.0         8.0      14.0           13.0        14.0   \n",
       "\n",
       "   Best Position Best Overall Rating Release Clause DefensiveAwareness  \n",
       "0            CAM                88.0        €206.9M               72.0  \n",
       "1             CM                87.0        €160.4M               74.0  \n",
       "2             ST                88.0         €91.2M               42.0  \n",
       "3             CM                91.0        €232.2M               68.0  \n",
       "4             LB                84.0         €77.7M               80.0  \n",
       "5            CDM                89.0        €186.3M               85.0  \n",
       "6             CM                83.0         €48.5M               80.0  \n",
       "7             CM                84.0         €74.9M               79.0  \n",
       "8            CDM                85.0         €62.1M               81.0  \n",
       "9            CAM                86.0            NaN               43.0  \n",
       "\n",
       "[10 rows x 65 columns]"
      ]
     },
     "execution_count": 3,
     "metadata": {},
     "output_type": "execute_result"
    }
   ],
   "source": [
    "df.head(10)"
   ]
  },
  {
   "cell_type": "code",
   "execution_count": 4,
   "metadata": {
    "hidden": true
   },
   "outputs": [],
   "source": [
    "df[\"Name\"]=df[\"Name\"].apply(lambda name: unidecode(name))"
   ]
  },
  {
   "cell_type": "code",
   "execution_count": 5,
   "metadata": {
    "hidden": true
   },
   "outputs": [
    {
     "data": {
      "text/plain": [
       "Index(['ID', 'Name', 'Age', 'Photo', 'Nationality', 'Flag', 'Overall',\n",
       "       'Potential', 'Club', 'Club Logo', 'Value', 'Wage', 'Special',\n",
       "       'Preferred Foot', 'International Reputation', 'Weak Foot',\n",
       "       'Skill Moves', 'Work Rate', 'Body Type', 'Real Face', 'Position',\n",
       "       'Jersey Number', 'Joined', 'Loaned From', 'Contract Valid Until',\n",
       "       'Height', 'Weight', 'Crossing', 'Finishing', 'HeadingAccuracy',\n",
       "       'ShortPassing', 'Volleys', 'Dribbling', 'Curve', 'FKAccuracy',\n",
       "       'LongPassing', 'BallControl', 'Acceleration', 'SprintSpeed', 'Agility',\n",
       "       'Reactions', 'Balance', 'ShotPower', 'Jumping', 'Stamina', 'Strength',\n",
       "       'LongShots', 'Aggression', 'Interceptions', 'Positioning', 'Vision',\n",
       "       'Penalties', 'Composure', 'Marking', 'StandingTackle', 'SlidingTackle',\n",
       "       'GKDiving', 'GKHandling', 'GKKicking', 'GKPositioning', 'GKReflexes',\n",
       "       'Best Position', 'Best Overall Rating', 'Release Clause',\n",
       "       'DefensiveAwareness'],\n",
       "      dtype='object')"
      ]
     },
     "execution_count": 5,
     "metadata": {},
     "output_type": "execute_result"
    }
   ],
   "source": [
    "df.columns"
   ]
  },
  {
   "cell_type": "markdown",
   "metadata": {
    "heading_collapsed": true,
    "hidden": true
   },
   "source": [
    "## Comparer au fifa 2020 pour voir quelles données on garde"
   ]
  },
  {
   "cell_type": "code",
   "execution_count": 6,
   "metadata": {
    "hidden": true
   },
   "outputs": [],
   "source": [
    "df_fifa20=pd.read_csv('sofifa2020.csv')"
   ]
  },
  {
   "cell_type": "code",
   "execution_count": 7,
   "metadata": {
    "hidden": true,
    "scrolled": true
   },
   "outputs": [
    {
     "data": {
      "text/html": [
       "<div>\n",
       "<style scoped>\n",
       "    .dataframe tbody tr th:only-of-type {\n",
       "        vertical-align: middle;\n",
       "    }\n",
       "\n",
       "    .dataframe tbody tr th {\n",
       "        vertical-align: top;\n",
       "    }\n",
       "\n",
       "    .dataframe thead th {\n",
       "        text-align: right;\n",
       "    }\n",
       "</style>\n",
       "<table border=\"1\" class=\"dataframe\">\n",
       "  <thead>\n",
       "    <tr style=\"text-align: right;\">\n",
       "      <th></th>\n",
       "      <th>name</th>\n",
       "      <th>photo_url</th>\n",
       "      <th>teams</th>\n",
       "      <th>league</th>\n",
       "      <th>contract</th>\n",
       "      <th>positions</th>\n",
       "      <th>age</th>\n",
       "      <th>height</th>\n",
       "      <th>weight</th>\n",
       "      <th>Overall Rating</th>\n",
       "      <th>...</th>\n",
       "      <th>DefensiveAwareness</th>\n",
       "      <th>StandingTackle</th>\n",
       "      <th>SlidingTackle</th>\n",
       "      <th>GKDiving</th>\n",
       "      <th>GKHandling</th>\n",
       "      <th>GKKicking</th>\n",
       "      <th>GKPositioning</th>\n",
       "      <th>GKReflexes</th>\n",
       "      <th>player_traits</th>\n",
       "      <th>player_hashtags</th>\n",
       "    </tr>\n",
       "  </thead>\n",
       "  <tbody>\n",
       "    <tr>\n",
       "      <th>0</th>\n",
       "      <td>Lionel Andrés Messi Cuccittini</td>\n",
       "      <td>https://cdn.sofifa.com/players/158/023/21_120.png</td>\n",
       "      <td>FC Barcelona, Argentina</td>\n",
       "      <td>Spain Primera Division</td>\n",
       "      <td>2021.0</td>\n",
       "      <td>['RW', 'ST', 'CF']</td>\n",
       "      <td>33</td>\n",
       "      <td>170</td>\n",
       "      <td>72</td>\n",
       "      <td>93</td>\n",
       "      <td>...</td>\n",
       "      <td>32</td>\n",
       "      <td>35</td>\n",
       "      <td>24</td>\n",
       "      <td>6</td>\n",
       "      <td>11</td>\n",
       "      <td>15</td>\n",
       "      <td>14</td>\n",
       "      <td>8</td>\n",
       "      <td>['Finesse Shot', 'Long Shot Taker (AI)', 'Spee...</td>\n",
       "      <td>['#Dribbler', '#Distance Shooter', '#FK Specia...</td>\n",
       "    </tr>\n",
       "    <tr>\n",
       "      <th>1</th>\n",
       "      <td>Cristiano Ronaldo dos Santos Aveiro</td>\n",
       "      <td>https://cdn.sofifa.com/players/020/801/21_120.png</td>\n",
       "      <td>Juventus, Portugal</td>\n",
       "      <td>Italian Serie A</td>\n",
       "      <td>2022.0</td>\n",
       "      <td>['ST', 'LW']</td>\n",
       "      <td>35</td>\n",
       "      <td>187</td>\n",
       "      <td>83</td>\n",
       "      <td>92</td>\n",
       "      <td>...</td>\n",
       "      <td>28</td>\n",
       "      <td>32</td>\n",
       "      <td>24</td>\n",
       "      <td>7</td>\n",
       "      <td>11</td>\n",
       "      <td>15</td>\n",
       "      <td>14</td>\n",
       "      <td>11</td>\n",
       "      <td>['Power Free-Kick', 'Flair', 'Long Shot Taker ...</td>\n",
       "      <td>['#Aerial Threat', '#Dribbler', '#Distance Sho...</td>\n",
       "    </tr>\n",
       "    <tr>\n",
       "      <th>2</th>\n",
       "      <td>Jan Oblak</td>\n",
       "      <td>https://cdn.sofifa.com/players/200/389/21_120.png</td>\n",
       "      <td>Atlético Madrid, Slovenia</td>\n",
       "      <td>Spain Primera Division</td>\n",
       "      <td>2023.0</td>\n",
       "      <td>['GK']</td>\n",
       "      <td>27</td>\n",
       "      <td>188</td>\n",
       "      <td>87</td>\n",
       "      <td>91</td>\n",
       "      <td>...</td>\n",
       "      <td>27</td>\n",
       "      <td>12</td>\n",
       "      <td>18</td>\n",
       "      <td>87</td>\n",
       "      <td>92</td>\n",
       "      <td>78</td>\n",
       "      <td>90</td>\n",
       "      <td>90</td>\n",
       "      <td>['GK Long Throw', 'Comes For Crosses']</td>\n",
       "      <td>[]</td>\n",
       "    </tr>\n",
       "    <tr>\n",
       "      <th>3</th>\n",
       "      <td>Kevin De Bruyne</td>\n",
       "      <td>https://cdn.sofifa.com/players/192/985/21_120.png</td>\n",
       "      <td>Manchester City, Belgium</td>\n",
       "      <td>English Premier League</td>\n",
       "      <td>2023.0</td>\n",
       "      <td>['CM', 'CAM']</td>\n",
       "      <td>29</td>\n",
       "      <td>181</td>\n",
       "      <td>70</td>\n",
       "      <td>91</td>\n",
       "      <td>...</td>\n",
       "      <td>68</td>\n",
       "      <td>65</td>\n",
       "      <td>53</td>\n",
       "      <td>15</td>\n",
       "      <td>13</td>\n",
       "      <td>5</td>\n",
       "      <td>10</td>\n",
       "      <td>13</td>\n",
       "      <td>['Injury Prone', 'Leadership', 'Early Crosser'...</td>\n",
       "      <td>['#Dribbler', '#Playmaker', '#Engine', '#Dista...</td>\n",
       "    </tr>\n",
       "    <tr>\n",
       "      <th>4</th>\n",
       "      <td>Neymar da Silva Santos Júnior</td>\n",
       "      <td>https://cdn.sofifa.com/players/190/871/21_120.png</td>\n",
       "      <td>Paris Saint-Germain</td>\n",
       "      <td>French Ligue 1</td>\n",
       "      <td>2022.0</td>\n",
       "      <td>['LW', 'CAM']</td>\n",
       "      <td>28</td>\n",
       "      <td>175</td>\n",
       "      <td>68</td>\n",
       "      <td>91</td>\n",
       "      <td>...</td>\n",
       "      <td>35</td>\n",
       "      <td>30</td>\n",
       "      <td>29</td>\n",
       "      <td>9</td>\n",
       "      <td>9</td>\n",
       "      <td>15</td>\n",
       "      <td>15</td>\n",
       "      <td>11</td>\n",
       "      <td>['Injury Prone', 'Flair', 'Speed Dribbler (AI)...</td>\n",
       "      <td>['#Speedster', '#Dribbler', '#Playmaker', '#FK...</td>\n",
       "    </tr>\n",
       "  </tbody>\n",
       "</table>\n",
       "<p>5 rows × 51 columns</p>\n",
       "</div>"
      ],
      "text/plain": [
       "                                  name  \\\n",
       "0       Lionel Andrés Messi Cuccittini   \n",
       "1  Cristiano Ronaldo dos Santos Aveiro   \n",
       "2                            Jan Oblak   \n",
       "3                      Kevin De Bruyne   \n",
       "4        Neymar da Silva Santos Júnior   \n",
       "\n",
       "                                           photo_url  \\\n",
       "0  https://cdn.sofifa.com/players/158/023/21_120.png   \n",
       "1  https://cdn.sofifa.com/players/020/801/21_120.png   \n",
       "2  https://cdn.sofifa.com/players/200/389/21_120.png   \n",
       "3  https://cdn.sofifa.com/players/192/985/21_120.png   \n",
       "4  https://cdn.sofifa.com/players/190/871/21_120.png   \n",
       "\n",
       "                       teams                  league  contract  \\\n",
       "0    FC Barcelona, Argentina  Spain Primera Division    2021.0   \n",
       "1         Juventus, Portugal         Italian Serie A    2022.0   \n",
       "2  Atlético Madrid, Slovenia  Spain Primera Division    2023.0   \n",
       "3   Manchester City, Belgium  English Premier League    2023.0   \n",
       "4        Paris Saint-Germain          French Ligue 1    2022.0   \n",
       "\n",
       "            positions  age  height  weight  Overall Rating  ...  \\\n",
       "0  ['RW', 'ST', 'CF']   33     170      72              93  ...   \n",
       "1        ['ST', 'LW']   35     187      83              92  ...   \n",
       "2              ['GK']   27     188      87              91  ...   \n",
       "3       ['CM', 'CAM']   29     181      70              91  ...   \n",
       "4       ['LW', 'CAM']   28     175      68              91  ...   \n",
       "\n",
       "   DefensiveAwareness  StandingTackle  SlidingTackle  GKDiving GKHandling  \\\n",
       "0                  32              35             24         6         11   \n",
       "1                  28              32             24         7         11   \n",
       "2                  27              12             18        87         92   \n",
       "3                  68              65             53        15         13   \n",
       "4                  35              30             29         9          9   \n",
       "\n",
       "   GKKicking  GKPositioning  GKReflexes  \\\n",
       "0         15             14           8   \n",
       "1         15             14          11   \n",
       "2         78             90          90   \n",
       "3          5             10          13   \n",
       "4         15             15          11   \n",
       "\n",
       "                                       player_traits  \\\n",
       "0  ['Finesse Shot', 'Long Shot Taker (AI)', 'Spee...   \n",
       "1  ['Power Free-Kick', 'Flair', 'Long Shot Taker ...   \n",
       "2             ['GK Long Throw', 'Comes For Crosses']   \n",
       "3  ['Injury Prone', 'Leadership', 'Early Crosser'...   \n",
       "4  ['Injury Prone', 'Flair', 'Speed Dribbler (AI)...   \n",
       "\n",
       "                                     player_hashtags  \n",
       "0  ['#Dribbler', '#Distance Shooter', '#FK Specia...  \n",
       "1  ['#Aerial Threat', '#Dribbler', '#Distance Sho...  \n",
       "2                                                 []  \n",
       "3  ['#Dribbler', '#Playmaker', '#Engine', '#Dista...  \n",
       "4  ['#Speedster', '#Dribbler', '#Playmaker', '#FK...  \n",
       "\n",
       "[5 rows x 51 columns]"
      ]
     },
     "execution_count": 7,
     "metadata": {},
     "output_type": "execute_result"
    }
   ],
   "source": [
    "df_fifa20.head(5)"
   ]
  },
  {
   "cell_type": "markdown",
   "metadata": {
    "heading_collapsed": true,
    "hidden": true
   },
   "source": [
    "## Gardons uniquement les joueurs de niveau supérieur (>76 général)"
   ]
  },
  {
   "cell_type": "code",
   "execution_count": 8,
   "metadata": {
    "hidden": true
   },
   "outputs": [
    {
     "name": "stderr",
     "output_type": "stream",
     "text": [
      "2022-03-06 22:59:28.716 INFO    numexpr.utils: NumExpr defaulting to 8 threads.\n"
     ]
    }
   ],
   "source": [
    "df=df[df['Overall']>76]"
   ]
  },
  {
   "cell_type": "markdown",
   "metadata": {
    "heading_collapsed": true,
    "hidden": true
   },
   "source": [
    "## Sélection de la donnée "
   ]
  },
  {
   "cell_type": "code",
   "execution_count": 9,
   "metadata": {
    "hidden": true
   },
   "outputs": [],
   "source": [
    "#Colonnes communes entre fifa 22 et fifa 20\n",
    "cols_to_keep=list(set(df.columns).intersection(df_fifa20.columns))"
   ]
  },
  {
   "cell_type": "code",
   "execution_count": 10,
   "metadata": {
    "hidden": true,
    "scrolled": true
   },
   "outputs": [
    {
     "data": {
      "text/plain": [
       "['BallControl',\n",
       " 'Penalties',\n",
       " 'LongPassing',\n",
       " 'GKKicking',\n",
       " 'Potential',\n",
       " 'Agility',\n",
       " 'Balance',\n",
       " 'Vision',\n",
       " 'FKAccuracy',\n",
       " 'Positioning',\n",
       " 'LongShots',\n",
       " 'Wage',\n",
       " 'DefensiveAwareness',\n",
       " 'Release Clause',\n",
       " 'Aggression',\n",
       " 'Crossing',\n",
       " 'ShortPassing',\n",
       " 'Stamina',\n",
       " 'Interceptions',\n",
       " 'Acceleration',\n",
       " 'Value',\n",
       " 'Strength',\n",
       " 'Volleys',\n",
       " 'Reactions',\n",
       " 'SlidingTackle',\n",
       " 'Jumping',\n",
       " 'GKHandling',\n",
       " 'GKReflexes',\n",
       " 'GKDiving',\n",
       " 'StandingTackle',\n",
       " 'GKPositioning',\n",
       " 'Preferred Foot',\n",
       " 'SprintSpeed',\n",
       " 'ShotPower',\n",
       " 'Composure',\n",
       " 'Finishing',\n",
       " 'Dribbling',\n",
       " 'Curve',\n",
       " 'HeadingAccuracy']"
      ]
     },
     "execution_count": 10,
     "metadata": {},
     "output_type": "execute_result"
    }
   ],
   "source": [
    "cols_to_keep"
   ]
  },
  {
   "cell_type": "code",
   "execution_count": 11,
   "metadata": {
    "hidden": true
   },
   "outputs": [
    {
     "data": {
      "text/plain": [
       "Index(['name', 'photo_url', 'teams', 'league', 'contract', 'positions', 'age',\n",
       "       'height', 'weight', 'Overall Rating', 'Potential', 'Value', 'Wage',\n",
       "       'Release Clause', 'Preferred Foot', 'Crossing', 'Finishing',\n",
       "       'HeadingAccuracy', 'ShortPassing', 'Volleys', 'Dribbling', 'Curve',\n",
       "       'FKAccuracy', 'LongPassing', 'BallControl', 'Acceleration',\n",
       "       'SprintSpeed', 'Agility', 'Reactions', 'Balance', 'ShotPower',\n",
       "       'Jumping', 'Stamina', 'Strength', 'LongShots', 'Aggression',\n",
       "       'Interceptions', 'Positioning', 'Vision', 'Penalties', 'Composure',\n",
       "       'DefensiveAwareness', 'StandingTackle', 'SlidingTackle', 'GKDiving',\n",
       "       'GKHandling', 'GKKicking', 'GKPositioning', 'GKReflexes',\n",
       "       'player_traits', 'player_hashtags'],\n",
       "      dtype='object')"
      ]
     },
     "execution_count": 11,
     "metadata": {},
     "output_type": "execute_result"
    }
   ],
   "source": [
    "df_fifa20.columns # fifa 20"
   ]
  },
  {
   "cell_type": "code",
   "execution_count": 12,
   "metadata": {
    "hidden": true,
    "scrolled": true
   },
   "outputs": [
    {
     "data": {
      "text/plain": [
       "Index(['ID', 'Name', 'Age', 'Photo', 'Nationality', 'Flag', 'Overall',\n",
       "       'Potential', 'Club', 'Club Logo', 'Value', 'Wage', 'Special',\n",
       "       'Preferred Foot', 'International Reputation', 'Weak Foot',\n",
       "       'Skill Moves', 'Work Rate', 'Body Type', 'Real Face', 'Position',\n",
       "       'Jersey Number', 'Joined', 'Loaned From', 'Contract Valid Until',\n",
       "       'Height', 'Weight', 'Crossing', 'Finishing', 'HeadingAccuracy',\n",
       "       'ShortPassing', 'Volleys', 'Dribbling', 'Curve', 'FKAccuracy',\n",
       "       'LongPassing', 'BallControl', 'Acceleration', 'SprintSpeed', 'Agility',\n",
       "       'Reactions', 'Balance', 'ShotPower', 'Jumping', 'Stamina', 'Strength',\n",
       "       'LongShots', 'Aggression', 'Interceptions', 'Positioning', 'Vision',\n",
       "       'Penalties', 'Composure', 'Marking', 'StandingTackle', 'SlidingTackle',\n",
       "       'GKDiving', 'GKHandling', 'GKKicking', 'GKPositioning', 'GKReflexes',\n",
       "       'Best Position', 'Best Overall Rating', 'Release Clause',\n",
       "       'DefensiveAwareness'],\n",
       "      dtype='object')"
      ]
     },
     "execution_count": 12,
     "metadata": {},
     "output_type": "execute_result"
    }
   ],
   "source": [
    "df.columns # fifa 22"
   ]
  },
  {
   "cell_type": "code",
   "execution_count": 13,
   "metadata": {
    "hidden": true,
    "scrolled": true
   },
   "outputs": [
    {
     "name": "stdout",
     "output_type": "stream",
     "text": [
      "name : Cristiano Ronaldo dos Santos Aveiro\n",
      "photo_url : https://cdn.sofifa.com/players/020/801/21_120.png\n",
      "teams : Juventus, Portugal\n",
      "league : Italian Serie A\n",
      "contract : 2022.0\n",
      "positions : ['ST', 'LW']\n",
      "age : 35\n",
      "height : 187\n",
      "weight : 83\n",
      "Overall Rating : 92\n",
      "player_traits : ['Power Free-Kick', 'Flair', 'Long Shot Taker (AI)', 'Speed Dribbler (AI)', 'Outside Foot Shot']\n",
      "player_hashtags : ['#Aerial Threat', '#Dribbler', '#Distance Shooter', '#Acrobat', '#Clinical Finisher', '#Complete Forward']\n"
     ]
    }
   ],
   "source": [
    "# Colonnes de fifa 20 qui ne sont pas dans le dataset fifa 22 (exemple sur Cristiano Ronaldo)\n",
    "col_names=[]\n",
    "for x in df_fifa20.columns:\n",
    "    if x not in cols_to_keep:\n",
    "        col_names.append(x)\n",
    "for i in col_names:\n",
    "    print(str(i)+\" : \"+str(df_fifa20.loc[1][i]))      "
   ]
  },
  {
   "cell_type": "code",
   "execution_count": 14,
   "metadata": {
    "hidden": true,
    "scrolled": true
   },
   "outputs": [
    {
     "name": "stdout",
     "output_type": "stream",
     "text": [
      "ID : 209658\n",
      "Name : L. Goretzka\n",
      "Age : 26\n",
      "Photo : https://cdn.sofifa.com/players/209/658/22_60.png\n",
      "Nationality : Germany\n",
      "Flag : https://cdn.sofifa.com/flags/de.png\n",
      "Overall : 87\n",
      "Club : FC Bayern München\n",
      "Club Logo : https://cdn.sofifa.com/teams/21/30.png\n",
      "Special : 2314\n",
      "International Reputation : 4.0\n",
      "Weak Foot : 4.0\n",
      "Skill Moves : 3.0\n",
      "Work Rate : High/ Medium\n",
      "Body Type : Unique\n",
      "Real Face : Yes\n",
      "Position : <span class=\"pos pos11\">LDM\n",
      "Jersey Number : 8.0\n",
      "Joined : Jul 1, 2018\n",
      "Loaned From : nan\n",
      "Contract Valid Until : 2026\n",
      "Height : 189cm\n",
      "Weight : 82kg\n",
      "Marking : nan\n",
      "Best Position : CM\n",
      "Best Overall Rating : 87.0\n"
     ]
    }
   ],
   "source": [
    "# Colonnes de fifa 22 qui ne sont pas dans fifa 20\n",
    "col_names=[]\n",
    "for x in df.columns:\n",
    "    if x not in cols_to_keep:\n",
    "        col_names.append(x)\n",
    "for i in col_names:\n",
    "    print(str(i)+\" : \"+str(df.loc[1][i]))      "
   ]
  },
  {
   "cell_type": "code",
   "execution_count": 15,
   "metadata": {
    "hidden": true,
    "scrolled": true
   },
   "outputs": [
    {
     "name": "stdout",
     "output_type": "stream",
     "text": [
      "ID : 187961\n",
      "Name : Paulinho\n",
      "Age : 32\n",
      "Photo : https://cdn.sofifa.com/players/187/961/22_60.png\n",
      "Nationality : Brazil\n",
      "Flag : https://cdn.sofifa.com/flags/br.png\n",
      "Overall : 83\n",
      "Potential : 83\n",
      "Club : Al Ahli\n",
      "Club Logo : https://cdn.sofifa.com/teams/112387/30.png\n",
      "Value : €28.5M\n",
      "Wage : €61K\n",
      "Special : 2273\n",
      "Preferred Foot : Right\n",
      "International Reputation : 3.0\n",
      "Weak Foot : 4.0\n",
      "Skill Moves : 4.0\n",
      "Work Rate : High/ High\n",
      "Body Type : Normal (170-185)\n",
      "Real Face : Yes\n",
      "Position : <span class=\"pos pos15\">LCM\n",
      "Jersey Number : 15.0\n",
      "Joined : Jul 22, 2021\n",
      "Loaned From : nan\n",
      "Contract Valid Until : 2024\n",
      "Height : 183cm\n",
      "Weight : 80kg\n",
      "Crossing : 67.0\n",
      "Finishing : 83.0\n",
      "HeadingAccuracy : 85.0\n",
      "ShortPassing : 82.0\n",
      "Volleys : 75.0\n",
      "Dribbling : 82.0\n",
      "Curve : 66.0\n",
      "FKAccuracy : 75.0\n",
      "LongPassing : 76.0\n",
      "BallControl : 83.0\n",
      "Acceleration : 73.0\n",
      "SprintSpeed : 71.0\n",
      "Agility : 72.0\n",
      "Reactions : 82.0\n",
      "Balance : 85.0\n",
      "ShotPower : 83.0\n",
      "Jumping : 92.0\n",
      "Stamina : 91.0\n",
      "Strength : 82.0\n",
      "LongShots : 80.0\n",
      "Aggression : 81.0\n",
      "Interceptions : 80.0\n",
      "Positioning : 83.0\n",
      "Vision : 82.0\n",
      "Penalties : 71.0\n",
      "Composure : 81.0\n",
      "Marking : nan\n",
      "StandingTackle : 79.0\n",
      "SlidingTackle : 75.0\n",
      "GKDiving : 16.0\n",
      "GKHandling : 16.0\n",
      "GKKicking : 11.0\n",
      "GKPositioning : 6.0\n",
      "GKReflexes : 8.0\n",
      "Best Position : CM\n",
      "Best Overall Rating : 83.0\n",
      "Release Clause : €48.5M\n",
      "DefensiveAwareness : 80.0\n"
     ]
    }
   ],
   "source": [
    "# Affichage des colonnes et valeurs pour une ligne dans fifa 22\n",
    "col_names=[]\n",
    "for x in df.columns:\n",
    "    col_names.append(x)\n",
    "    index=0\n",
    "for i in (df.loc[6]):\n",
    "    print(str(col_names[index])+\" : \"+str(i))\n",
    "    index+=1"
   ]
  },
  {
   "cell_type": "code",
   "execution_count": 16,
   "metadata": {
    "hidden": true
   },
   "outputs": [],
   "source": [
    "# Ajout des colonnes intéressantes qui ne sont pas en commun entre fifa 20 et 22\n",
    "index=0\n",
    "for i in ['Name', 'Age', 'Photo', 'Nationality',\"Best Position\",'Flag','Club','Club Logo','Jersey Number','Overall','Height','Weight']:\n",
    "    cols_to_keep.insert(index,i)\n",
    "    index+=1"
   ]
  },
  {
   "cell_type": "code",
   "execution_count": 17,
   "metadata": {
    "hidden": true,
    "scrolled": true
   },
   "outputs": [
    {
     "data": {
      "text/plain": [
       "['Name',\n",
       " 'Age',\n",
       " 'Photo',\n",
       " 'Nationality',\n",
       " 'Best Position',\n",
       " 'Flag',\n",
       " 'Club',\n",
       " 'Club Logo',\n",
       " 'Jersey Number',\n",
       " 'Overall',\n",
       " 'Height',\n",
       " 'Weight',\n",
       " 'BallControl',\n",
       " 'Penalties',\n",
       " 'LongPassing',\n",
       " 'GKKicking',\n",
       " 'Potential',\n",
       " 'Agility',\n",
       " 'Balance',\n",
       " 'Vision',\n",
       " 'FKAccuracy',\n",
       " 'Positioning',\n",
       " 'LongShots',\n",
       " 'Wage',\n",
       " 'DefensiveAwareness',\n",
       " 'Release Clause',\n",
       " 'Aggression',\n",
       " 'Crossing',\n",
       " 'ShortPassing',\n",
       " 'Stamina',\n",
       " 'Interceptions',\n",
       " 'Acceleration',\n",
       " 'Value',\n",
       " 'Strength',\n",
       " 'Volleys',\n",
       " 'Reactions',\n",
       " 'SlidingTackle',\n",
       " 'Jumping',\n",
       " 'GKHandling',\n",
       " 'GKReflexes',\n",
       " 'GKDiving',\n",
       " 'StandingTackle',\n",
       " 'GKPositioning',\n",
       " 'Preferred Foot',\n",
       " 'SprintSpeed',\n",
       " 'ShotPower',\n",
       " 'Composure',\n",
       " 'Finishing',\n",
       " 'Dribbling',\n",
       " 'Curve',\n",
       " 'HeadingAccuracy']"
      ]
     },
     "execution_count": 17,
     "metadata": {},
     "output_type": "execute_result"
    }
   ],
   "source": [
    "# Colonne gardées\n",
    "cols_to_keep"
   ]
  },
  {
   "cell_type": "markdown",
   "metadata": {
    "heading_collapsed": true,
    "hidden": true
   },
   "source": [
    "## Création nouveau dataframe"
   ]
  },
  {
   "cell_type": "code",
   "execution_count": 18,
   "metadata": {
    "hidden": true,
    "scrolled": true
   },
   "outputs": [],
   "source": [
    "df=df[cols_to_keep]"
   ]
  },
  {
   "cell_type": "code",
   "execution_count": 19,
   "metadata": {
    "hidden": true
   },
   "outputs": [],
   "source": [
    "#df.to_csv('df_final.csv')"
   ]
  },
  {
   "cell_type": "markdown",
   "metadata": {
    "heading_collapsed": true
   },
   "source": [
    "# Data processing "
   ]
  },
  {
   "cell_type": "markdown",
   "metadata": {
    "hidden": true
   },
   "source": [
    "## Encoder les clubs et pays\n"
   ]
  },
  {
   "cell_type": "code",
   "execution_count": 20,
   "metadata": {
    "hidden": true,
    "scrolled": true
   },
   "outputs": [],
   "source": [
    "df['Club_cat']=df['Club'].astype('category').cat.codes"
   ]
  },
  {
   "cell_type": "code",
   "execution_count": 21,
   "metadata": {
    "hidden": true
   },
   "outputs": [],
   "source": [
    "df['Nationality_cat']=df['Nationality'].astype('category').cat.codes"
   ]
  },
  {
   "cell_type": "code",
   "execution_count": 22,
   "metadata": {
    "hidden": true
   },
   "outputs": [
    {
     "data": {
      "text/plain": [
       "217"
      ]
     },
     "execution_count": 22,
     "metadata": {},
     "output_type": "execute_result"
    }
   ],
   "source": [
    "#Nombre de clubs différents\n",
    "len(df['Club'].unique())"
   ]
  },
  {
   "cell_type": "markdown",
   "metadata": {
    "hidden": true
   },
   "source": [
    "## Process le format prix"
   ]
  },
  {
   "cell_type": "code",
   "execution_count": 23,
   "metadata": {
    "hidden": true,
    "scrolled": true
   },
   "outputs": [
    {
     "data": {
      "text/plain": [
       "Name                   object\n",
       "Age                     int64\n",
       "Photo                  object\n",
       "Nationality            object\n",
       "Best Position          object\n",
       "Flag                   object\n",
       "Club                   object\n",
       "Club Logo              object\n",
       "Jersey Number         float64\n",
       "Overall                 int64\n",
       "Height                 object\n",
       "Weight                 object\n",
       "BallControl           float64\n",
       "Penalties             float64\n",
       "LongPassing           float64\n",
       "GKKicking             float64\n",
       "Potential               int64\n",
       "Agility               float64\n",
       "Balance               float64\n",
       "Vision                float64\n",
       "FKAccuracy            float64\n",
       "Positioning           float64\n",
       "LongShots             float64\n",
       "Wage                   object\n",
       "DefensiveAwareness    float64\n",
       "Release Clause         object\n",
       "Aggression            float64\n",
       "Crossing              float64\n",
       "ShortPassing          float64\n",
       "Stamina               float64\n",
       "Interceptions         float64\n",
       "Acceleration          float64\n",
       "Value                  object\n",
       "Strength              float64\n",
       "Volleys               float64\n",
       "Reactions             float64\n",
       "SlidingTackle         float64\n",
       "Jumping               float64\n",
       "GKHandling            float64\n",
       "GKReflexes            float64\n",
       "GKDiving              float64\n",
       "StandingTackle        float64\n",
       "GKPositioning         float64\n",
       "Preferred Foot         object\n",
       "SprintSpeed           float64\n",
       "ShotPower             float64\n",
       "Composure             float64\n",
       "Finishing             float64\n",
       "Dribbling             float64\n",
       "Curve                 float64\n",
       "HeadingAccuracy       float64\n",
       "Club_cat                int16\n",
       "Nationality_cat          int8\n",
       "dtype: object"
      ]
     },
     "execution_count": 23,
     "metadata": {},
     "output_type": "execute_result"
    }
   ],
   "source": [
    "df.dtypes"
   ]
  },
  {
   "cell_type": "code",
   "execution_count": 24,
   "metadata": {
    "hidden": true
   },
   "outputs": [],
   "source": [
    "def value_to_float(x):\n",
    "    if type(x) == float or type(x) == int:\n",
    "        return x\n",
    "    if 'K' in x:\n",
    "        if len(x) > 1:\n",
    "            return float(x.replace('K', '')) * 1000\n",
    "        return 1000.0\n",
    "    if 'M' in x:\n",
    "        if len(x) > 1:\n",
    "            return float(x.replace('M', '')) * 1000000\n",
    "        return 1000000.0\n",
    "    if 'B' in x:\n",
    "        return float(x.replace('B', '')) * 1000000000\n",
    "    return x"
   ]
  },
  {
   "cell_type": "code",
   "execution_count": 25,
   "metadata": {
    "hidden": true,
    "scrolled": false
   },
   "outputs": [],
   "source": [
    "df['Wage']=df['Wage'].str.replace('€', '').apply(value_to_float)"
   ]
  },
  {
   "cell_type": "code",
   "execution_count": 26,
   "metadata": {
    "hidden": true
   },
   "outputs": [],
   "source": [
    "df['Value']=df['Value'].str.replace('€', '').apply(value_to_float)"
   ]
  },
  {
   "cell_type": "code",
   "execution_count": 27,
   "metadata": {
    "hidden": true
   },
   "outputs": [],
   "source": [
    "df['Height']=df['Height'].str.replace('[dA-Za-z]', '').astype('int')"
   ]
  },
  {
   "cell_type": "code",
   "execution_count": 28,
   "metadata": {
    "hidden": true
   },
   "outputs": [],
   "source": [
    "df['Weight']=df['Weight'].str.replace('[dA-Za-z]', '').astype('int')"
   ]
  },
  {
   "cell_type": "code",
   "execution_count": 29,
   "metadata": {
    "hidden": true
   },
   "outputs": [],
   "source": [
    "#rename Value en value in M€ and wage in wage in \n",
    "df=df.rename(columns={\"Value\": \"Value (€)\", \"Wage\": \"Wage (€)\"})"
   ]
  },
  {
   "cell_type": "code",
   "execution_count": 30,
   "metadata": {
    "hidden": true
   },
   "outputs": [],
   "source": [
    "df['Value (€)']=df['Value (€)'].astype('int64')\n",
    "df['Wage (€)']=df['Wage (€)'].astype('int64')\n",
    "df=df[~df['Name'].str.contains(r'\\d')]"
   ]
  },
  {
   "cell_type": "markdown",
   "metadata": {},
   "source": [
    "# Data Exploration"
   ]
  },
  {
   "cell_type": "markdown",
   "metadata": {
    "heading_collapsed": true
   },
   "source": [
    "## Taux de remplissage des colonnes"
   ]
  },
  {
   "cell_type": "code",
   "execution_count": 31,
   "metadata": {
    "hidden": true
   },
   "outputs": [
    {
     "name": "stdout",
     "output_type": "stream",
     "text": [
      "The DataFrame contains 1138 lines and 53 columns.\n"
     ]
    }
   ],
   "source": [
    "print('The DataFrame contains {} lines and {} columns.'.format(df.shape[0],df.shape[1]))"
   ]
  },
  {
   "cell_type": "code",
   "execution_count": 32,
   "metadata": {
    "hidden": true,
    "scrolled": true
   },
   "outputs": [
    {
     "name": "stdout",
     "output_type": "stream",
     "text": [
      "Pourcentage de valeurs Null > 0.5 % par colonne :\n",
      "\n",
      "\n",
      "Nombre colonnes ayant plus de 0.5 % de valeurs nulles : 0\n",
      "Les 53 autres colonnes sont remplies à plus de 99.5%\n"
     ]
    }
   ],
   "source": [
    "seuil=0.5\n",
    "print('Pourcentage de valeurs Null > {} % par colonne :\\n'.format(seuil))\n",
    "i=0\n",
    "\n",
    "col_to_check = []\n",
    "\n",
    "for col in df.columns:\n",
    "    res = (df[col].isnull().sum() / len(df)) * 100\n",
    "    res = round(res,2)\n",
    "    if col =='Best Position': # car STR\n",
    "        break\n",
    "    if res > 0.5:\n",
    "        col_to_check.append(col)\n",
    "        i += 1\n",
    "        print(f'   - {col} : {res}%')\n",
    "        \n",
    "print(\"\\nNombre colonnes ayant plus de {} % de valeurs nulles : {}\" .format(seuil,i))\n",
    "print('Les {} autres colonnes sont remplies à plus de {}%'.format(df.shape[1]-len(col_to_check),100-seuil))"
   ]
  },
  {
   "cell_type": "markdown",
   "metadata": {},
   "source": [
    "## Exploration de la donnée selon la nationalité\n"
   ]
  },
  {
   "cell_type": "markdown",
   "metadata": {},
   "source": [
    "### Le joueur le plus cher de chaque pays parmi les 100 joueurs les plus chers"
   ]
  },
  {
   "cell_type": "code",
   "execution_count": null,
   "metadata": {},
   "outputs": [],
   "source": []
  },
  {
   "cell_type": "code",
   "execution_count": 66,
   "metadata": {},
   "outputs": [],
   "source": [
    "top100_valuable_players=df.sort_values('Value (€)',ascending=False).head(200)"
   ]
  },
  {
   "cell_type": "code",
   "execution_count": 83,
   "metadata": {},
   "outputs": [
    {
     "data": {
      "text/html": [
       "<div>\n",
       "<style scoped>\n",
       "    .dataframe tbody tr th:only-of-type {\n",
       "        vertical-align: middle;\n",
       "    }\n",
       "\n",
       "    .dataframe tbody tr th {\n",
       "        vertical-align: top;\n",
       "    }\n",
       "\n",
       "    .dataframe thead th {\n",
       "        text-align: right;\n",
       "    }\n",
       "</style>\n",
       "<table border=\"1\" class=\"dataframe\">\n",
       "  <thead>\n",
       "    <tr style=\"text-align: right;\">\n",
       "      <th></th>\n",
       "      <th>Name</th>\n",
       "      <th>Age</th>\n",
       "      <th>Photo</th>\n",
       "      <th>Nationality</th>\n",
       "      <th>Best Position</th>\n",
       "      <th>Flag</th>\n",
       "      <th>Club</th>\n",
       "      <th>Club Logo</th>\n",
       "      <th>Jersey Number</th>\n",
       "      <th>Overall</th>\n",
       "      <th>...</th>\n",
       "      <th>SprintSpeed</th>\n",
       "      <th>ShotPower</th>\n",
       "      <th>Composure</th>\n",
       "      <th>Finishing</th>\n",
       "      <th>Dribbling</th>\n",
       "      <th>Curve</th>\n",
       "      <th>HeadingAccuracy</th>\n",
       "      <th>Club_cat</th>\n",
       "      <th>Nationality_cat</th>\n",
       "      <th>Evolution</th>\n",
       "    </tr>\n",
       "  </thead>\n",
       "  <tbody>\n",
       "    <tr>\n",
       "      <th>82</th>\n",
       "      <td>K. Mbappe</td>\n",
       "      <td>22</td>\n",
       "      <td>https://cdn.sofifa.com/players/231/747/22_60.png</td>\n",
       "      <td>France</td>\n",
       "      <td>ST</td>\n",
       "      <td>https://cdn.sofifa.com/flags/fr.png</td>\n",
       "      <td>Paris Saint-Germain</td>\n",
       "      <td>https://cdn.sofifa.com/teams/73/30.png</td>\n",
       "      <td>7.0</td>\n",
       "      <td>91</td>\n",
       "      <td>...</td>\n",
       "      <td>97.0</td>\n",
       "      <td>86.0</td>\n",
       "      <td>88.0</td>\n",
       "      <td>93.0</td>\n",
       "      <td>93.0</td>\n",
       "      <td>80.0</td>\n",
       "      <td>72.0</td>\n",
       "      <td>138</td>\n",
       "      <td>29</td>\n",
       "      <td>4</td>\n",
       "    </tr>\n",
       "    <tr>\n",
       "      <th>251</th>\n",
       "      <td>E. Haaland</td>\n",
       "      <td>20</td>\n",
       "      <td>https://cdn.sofifa.com/players/239/085/22_60.png</td>\n",
       "      <td>Norway</td>\n",
       "      <td>ST</td>\n",
       "      <td>https://cdn.sofifa.com/flags/no.png</td>\n",
       "      <td>Borussia Dortmund</td>\n",
       "      <td>https://cdn.sofifa.com/teams/22/30.png</td>\n",
       "      <td>9.0</td>\n",
       "      <td>88</td>\n",
       "      <td>...</td>\n",
       "      <td>94.0</td>\n",
       "      <td>94.0</td>\n",
       "      <td>84.0</td>\n",
       "      <td>94.0</td>\n",
       "      <td>78.0</td>\n",
       "      <td>77.0</td>\n",
       "      <td>69.0</td>\n",
       "      <td>31</td>\n",
       "      <td>55</td>\n",
       "      <td>5</td>\n",
       "    </tr>\n",
       "    <tr>\n",
       "      <th>39</th>\n",
       "      <td>H. Kane</td>\n",
       "      <td>27</td>\n",
       "      <td>https://cdn.sofifa.com/players/202/126/22_60.png</td>\n",
       "      <td>England</td>\n",
       "      <td>ST</td>\n",
       "      <td>https://cdn.sofifa.com/flags/gb-eng.png</td>\n",
       "      <td>Tottenham Hotspur</td>\n",
       "      <td>https://cdn.sofifa.com/teams/18/30.png</td>\n",
       "      <td>10.0</td>\n",
       "      <td>90</td>\n",
       "      <td>...</td>\n",
       "      <td>74.0</td>\n",
       "      <td>91.0</td>\n",
       "      <td>91.0</td>\n",
       "      <td>94.0</td>\n",
       "      <td>83.0</td>\n",
       "      <td>83.0</td>\n",
       "      <td>86.0</td>\n",
       "      <td>194</td>\n",
       "      <td>27</td>\n",
       "      <td>0</td>\n",
       "    </tr>\n",
       "    <tr>\n",
       "      <th>64</th>\n",
       "      <td>Neymar Jr</td>\n",
       "      <td>29</td>\n",
       "      <td>https://cdn.sofifa.com/players/190/871/22_60.png</td>\n",
       "      <td>Brazil</td>\n",
       "      <td>LW</td>\n",
       "      <td>https://cdn.sofifa.com/flags/br.png</td>\n",
       "      <td>Paris Saint-Germain</td>\n",
       "      <td>https://cdn.sofifa.com/teams/73/30.png</td>\n",
       "      <td>10.0</td>\n",
       "      <td>91</td>\n",
       "      <td>...</td>\n",
       "      <td>89.0</td>\n",
       "      <td>80.0</td>\n",
       "      <td>93.0</td>\n",
       "      <td>83.0</td>\n",
       "      <td>95.0</td>\n",
       "      <td>88.0</td>\n",
       "      <td>63.0</td>\n",
       "      <td>138</td>\n",
       "      <td>9</td>\n",
       "      <td>0</td>\n",
       "    </tr>\n",
       "    <tr>\n",
       "      <th>3</th>\n",
       "      <td>K. De Bruyne</td>\n",
       "      <td>30</td>\n",
       "      <td>https://cdn.sofifa.com/players/192/985/22_60.png</td>\n",
       "      <td>Belgium</td>\n",
       "      <td>CM</td>\n",
       "      <td>https://cdn.sofifa.com/flags/be.png</td>\n",
       "      <td>Manchester City</td>\n",
       "      <td>https://cdn.sofifa.com/teams/10/30.png</td>\n",
       "      <td>17.0</td>\n",
       "      <td>91</td>\n",
       "      <td>...</td>\n",
       "      <td>76.0</td>\n",
       "      <td>91.0</td>\n",
       "      <td>89.0</td>\n",
       "      <td>82.0</td>\n",
       "      <td>88.0</td>\n",
       "      <td>85.0</td>\n",
       "      <td>55.0</td>\n",
       "      <td>118</td>\n",
       "      <td>7</td>\n",
       "      <td>0</td>\n",
       "    </tr>\n",
       "    <tr>\n",
       "      <th>...</th>\n",
       "      <td>...</td>\n",
       "      <td>...</td>\n",
       "      <td>...</td>\n",
       "      <td>...</td>\n",
       "      <td>...</td>\n",
       "      <td>...</td>\n",
       "      <td>...</td>\n",
       "      <td>...</td>\n",
       "      <td>...</td>\n",
       "      <td>...</td>\n",
       "      <td>...</td>\n",
       "      <td>...</td>\n",
       "      <td>...</td>\n",
       "      <td>...</td>\n",
       "      <td>...</td>\n",
       "      <td>...</td>\n",
       "      <td>...</td>\n",
       "      <td>...</td>\n",
       "      <td>...</td>\n",
       "      <td>...</td>\n",
       "      <td>...</td>\n",
       "    </tr>\n",
       "    <tr>\n",
       "      <th>264</th>\n",
       "      <td>Ronaldo Cabrais</td>\n",
       "      <td>29</td>\n",
       "      <td>https://cdn.sofifa.com/players/230/481/22_60.png</td>\n",
       "      <td>Brazil</td>\n",
       "      <td>RM</td>\n",
       "      <td>https://cdn.sofifa.com/flags/br.png</td>\n",
       "      <td>Grêmio</td>\n",
       "      <td>https://cdn.sofifa.com/teams/1629/30.png</td>\n",
       "      <td>7.0</td>\n",
       "      <td>83</td>\n",
       "      <td>...</td>\n",
       "      <td>87.0</td>\n",
       "      <td>82.0</td>\n",
       "      <td>81.0</td>\n",
       "      <td>74.0</td>\n",
       "      <td>85.0</td>\n",
       "      <td>86.0</td>\n",
       "      <td>64.0</td>\n",
       "      <td>95</td>\n",
       "      <td>9</td>\n",
       "      <td>0</td>\n",
       "    </tr>\n",
       "    <tr>\n",
       "      <th>464</th>\n",
       "      <td>A. Kramaric</td>\n",
       "      <td>30</td>\n",
       "      <td>https://cdn.sofifa.com/players/216/354/22_60.png</td>\n",
       "      <td>Croatia</td>\n",
       "      <td>ST</td>\n",
       "      <td>https://cdn.sofifa.com/flags/hr.png</td>\n",
       "      <td>TSG Hoffenheim</td>\n",
       "      <td>https://cdn.sofifa.com/teams/10029/30.png</td>\n",
       "      <td>27.0</td>\n",
       "      <td>83</td>\n",
       "      <td>...</td>\n",
       "      <td>67.0</td>\n",
       "      <td>84.0</td>\n",
       "      <td>83.0</td>\n",
       "      <td>87.0</td>\n",
       "      <td>87.0</td>\n",
       "      <td>79.0</td>\n",
       "      <td>69.0</td>\n",
       "      <td>189</td>\n",
       "      <td>21</td>\n",
       "      <td>0</td>\n",
       "    </tr>\n",
       "    <tr>\n",
       "      <th>853</th>\n",
       "      <td>Mario Hermoso</td>\n",
       "      <td>26</td>\n",
       "      <td>https://cdn.sofifa.com/players/229/668/22_60.png</td>\n",
       "      <td>Spain</td>\n",
       "      <td>CB</td>\n",
       "      <td>https://cdn.sofifa.com/flags/es.png</td>\n",
       "      <td>Atlético de Madrid</td>\n",
       "      <td>https://cdn.sofifa.com/teams/240/30.png</td>\n",
       "      <td>22.0</td>\n",
       "      <td>82</td>\n",
       "      <td>...</td>\n",
       "      <td>79.0</td>\n",
       "      <td>65.0</td>\n",
       "      <td>79.0</td>\n",
       "      <td>42.0</td>\n",
       "      <td>66.0</td>\n",
       "      <td>68.0</td>\n",
       "      <td>79.0</td>\n",
       "      <td>24</td>\n",
       "      <td>68</td>\n",
       "      <td>3</td>\n",
       "    </tr>\n",
       "    <tr>\n",
       "      <th>13</th>\n",
       "      <td>D. Alaba</td>\n",
       "      <td>29</td>\n",
       "      <td>https://cdn.sofifa.com/players/197/445/22_60.png</td>\n",
       "      <td>Austria</td>\n",
       "      <td>CB</td>\n",
       "      <td>https://cdn.sofifa.com/flags/at.png</td>\n",
       "      <td>Real Madrid CF</td>\n",
       "      <td>https://cdn.sofifa.com/teams/243/30.png</td>\n",
       "      <td>4.0</td>\n",
       "      <td>84</td>\n",
       "      <td>...</td>\n",
       "      <td>77.0</td>\n",
       "      <td>82.0</td>\n",
       "      <td>85.0</td>\n",
       "      <td>60.0</td>\n",
       "      <td>77.0</td>\n",
       "      <td>77.0</td>\n",
       "      <td>74.0</td>\n",
       "      <td>154</td>\n",
       "      <td>6</td>\n",
       "      <td>0</td>\n",
       "    </tr>\n",
       "    <tr>\n",
       "      <th>2419</th>\n",
       "      <td>D. Zapata</td>\n",
       "      <td>30</td>\n",
       "      <td>https://cdn.sofifa.com/players/215/333/22_60.png</td>\n",
       "      <td>Colombia</td>\n",
       "      <td>ST</td>\n",
       "      <td>https://cdn.sofifa.com/flags/co.png</td>\n",
       "      <td>Atalanta</td>\n",
       "      <td>https://cdn.sofifa.com/teams/39/30.png</td>\n",
       "      <td>91.0</td>\n",
       "      <td>83</td>\n",
       "      <td>...</td>\n",
       "      <td>81.0</td>\n",
       "      <td>86.0</td>\n",
       "      <td>82.0</td>\n",
       "      <td>88.0</td>\n",
       "      <td>79.0</td>\n",
       "      <td>55.0</td>\n",
       "      <td>83.0</td>\n",
       "      <td>21</td>\n",
       "      <td>18</td>\n",
       "      <td>0</td>\n",
       "    </tr>\n",
       "  </tbody>\n",
       "</table>\n",
       "<p>200 rows × 54 columns</p>\n",
       "</div>"
      ],
      "text/plain": [
       "                 Name  Age                                             Photo  \\\n",
       "82          K. Mbappe   22  https://cdn.sofifa.com/players/231/747/22_60.png   \n",
       "251        E. Haaland   20  https://cdn.sofifa.com/players/239/085/22_60.png   \n",
       "39            H. Kane   27  https://cdn.sofifa.com/players/202/126/22_60.png   \n",
       "64          Neymar Jr   29  https://cdn.sofifa.com/players/190/871/22_60.png   \n",
       "3        K. De Bruyne   30  https://cdn.sofifa.com/players/192/985/22_60.png   \n",
       "...               ...  ...                                               ...   \n",
       "264   Ronaldo Cabrais   29  https://cdn.sofifa.com/players/230/481/22_60.png   \n",
       "464       A. Kramaric   30  https://cdn.sofifa.com/players/216/354/22_60.png   \n",
       "853     Mario Hermoso   26  https://cdn.sofifa.com/players/229/668/22_60.png   \n",
       "13           D. Alaba   29  https://cdn.sofifa.com/players/197/445/22_60.png   \n",
       "2419        D. Zapata   30  https://cdn.sofifa.com/players/215/333/22_60.png   \n",
       "\n",
       "     Nationality Best Position                                     Flag  \\\n",
       "82        France            ST      https://cdn.sofifa.com/flags/fr.png   \n",
       "251       Norway            ST      https://cdn.sofifa.com/flags/no.png   \n",
       "39       England            ST  https://cdn.sofifa.com/flags/gb-eng.png   \n",
       "64        Brazil            LW      https://cdn.sofifa.com/flags/br.png   \n",
       "3        Belgium            CM      https://cdn.sofifa.com/flags/be.png   \n",
       "...          ...           ...                                      ...   \n",
       "264       Brazil            RM      https://cdn.sofifa.com/flags/br.png   \n",
       "464      Croatia            ST      https://cdn.sofifa.com/flags/hr.png   \n",
       "853        Spain            CB      https://cdn.sofifa.com/flags/es.png   \n",
       "13       Austria            CB      https://cdn.sofifa.com/flags/at.png   \n",
       "2419    Colombia            ST      https://cdn.sofifa.com/flags/co.png   \n",
       "\n",
       "                     Club                                  Club Logo  \\\n",
       "82    Paris Saint-Germain     https://cdn.sofifa.com/teams/73/30.png   \n",
       "251     Borussia Dortmund     https://cdn.sofifa.com/teams/22/30.png   \n",
       "39      Tottenham Hotspur     https://cdn.sofifa.com/teams/18/30.png   \n",
       "64    Paris Saint-Germain     https://cdn.sofifa.com/teams/73/30.png   \n",
       "3         Manchester City     https://cdn.sofifa.com/teams/10/30.png   \n",
       "...                   ...                                        ...   \n",
       "264                Grêmio   https://cdn.sofifa.com/teams/1629/30.png   \n",
       "464        TSG Hoffenheim  https://cdn.sofifa.com/teams/10029/30.png   \n",
       "853    Atlético de Madrid    https://cdn.sofifa.com/teams/240/30.png   \n",
       "13         Real Madrid CF    https://cdn.sofifa.com/teams/243/30.png   \n",
       "2419             Atalanta     https://cdn.sofifa.com/teams/39/30.png   \n",
       "\n",
       "      Jersey Number  Overall  ...  SprintSpeed  ShotPower  Composure  \\\n",
       "82              7.0       91  ...         97.0       86.0       88.0   \n",
       "251             9.0       88  ...         94.0       94.0       84.0   \n",
       "39             10.0       90  ...         74.0       91.0       91.0   \n",
       "64             10.0       91  ...         89.0       80.0       93.0   \n",
       "3              17.0       91  ...         76.0       91.0       89.0   \n",
       "...             ...      ...  ...          ...        ...        ...   \n",
       "264             7.0       83  ...         87.0       82.0       81.0   \n",
       "464            27.0       83  ...         67.0       84.0       83.0   \n",
       "853            22.0       82  ...         79.0       65.0       79.0   \n",
       "13              4.0       84  ...         77.0       82.0       85.0   \n",
       "2419           91.0       83  ...         81.0       86.0       82.0   \n",
       "\n",
       "      Finishing  Dribbling  Curve  HeadingAccuracy  Club_cat  Nationality_cat  \\\n",
       "82         93.0       93.0   80.0             72.0       138               29   \n",
       "251        94.0       78.0   77.0             69.0        31               55   \n",
       "39         94.0       83.0   83.0             86.0       194               27   \n",
       "64         83.0       95.0   88.0             63.0       138                9   \n",
       "3          82.0       88.0   85.0             55.0       118                7   \n",
       "...         ...        ...    ...              ...       ...              ...   \n",
       "264        74.0       85.0   86.0             64.0        95                9   \n",
       "464        87.0       87.0   79.0             69.0       189               21   \n",
       "853        42.0       66.0   68.0             79.0        24               68   \n",
       "13         60.0       77.0   77.0             74.0       154                6   \n",
       "2419       88.0       79.0   55.0             83.0        21               18   \n",
       "\n",
       "      Evolution  \n",
       "82            4  \n",
       "251           5  \n",
       "39            0  \n",
       "64            0  \n",
       "3             0  \n",
       "...         ...  \n",
       "264           0  \n",
       "464           0  \n",
       "853           3  \n",
       "13            0  \n",
       "2419          0  \n",
       "\n",
       "[200 rows x 54 columns]"
      ]
     },
     "execution_count": 83,
     "metadata": {},
     "output_type": "execute_result"
    }
   ],
   "source": [
    "top100_valuable_players"
   ]
  },
  {
   "cell_type": "code",
   "execution_count": 108,
   "metadata": {},
   "outputs": [],
   "source": [
    "df_agg = top100_valuable_players.groupby([\"Nationality\",'Name']).agg({'Value (€)':sum})"
   ]
  },
  {
   "cell_type": "code",
   "execution_count": 109,
   "metadata": {},
   "outputs": [],
   "source": [
    "g = df_agg['Value (€)'].groupby('Nationality', group_keys=False)"
   ]
  },
  {
   "cell_type": "code",
   "execution_count": 110,
   "metadata": {},
   "outputs": [],
   "source": [
    "res = g.apply(lambda x: x.sort_values(ascending=False).head(1))"
   ]
  },
  {
   "cell_type": "code",
   "execution_count": 111,
   "metadata": {},
   "outputs": [],
   "source": [
    "res=pd.DataFrame(res).sort_values('Value (€)',ascending=False)"
   ]
  },
  {
   "cell_type": "code",
   "execution_count": 112,
   "metadata": {
    "scrolled": true
   },
   "outputs": [
    {
     "data": {
      "text/html": [
       "<style  type=\"text/css\" >\n",
       "#T_db565102_9da1_11ec_bc8a_e02be9f13799row0_col0{\n",
       "            background-color:  #ff0000;\n",
       "            color:  #f1f1f1;\n",
       "        }#T_db565102_9da1_11ec_bc8a_e02be9f13799row1_col0{\n",
       "            background-color:  #fb5656;\n",
       "            color:  #000000;\n",
       "        }#T_db565102_9da1_11ec_bc8a_e02be9f13799row2_col0,#T_db565102_9da1_11ec_bc8a_e02be9f13799row3_col0{\n",
       "            background-color:  #fa6262;\n",
       "            color:  #000000;\n",
       "        }#T_db565102_9da1_11ec_bc8a_e02be9f13799row4_col0{\n",
       "            background-color:  #fa6868;\n",
       "            color:  #000000;\n",
       "        }#T_db565102_9da1_11ec_bc8a_e02be9f13799row5_col0,#T_db565102_9da1_11ec_bc8a_e02be9f13799row6_col0,#T_db565102_9da1_11ec_bc8a_e02be9f13799row7_col0{\n",
       "            background-color:  #f97171;\n",
       "            color:  #000000;\n",
       "        }#T_db565102_9da1_11ec_bc8a_e02be9f13799row8_col0{\n",
       "            background-color:  #f97c7c;\n",
       "            color:  #000000;\n",
       "        }#T_db565102_9da1_11ec_bc8a_e02be9f13799row9_col0{\n",
       "            background-color:  #f88282;\n",
       "            color:  #000000;\n",
       "        }#T_db565102_9da1_11ec_bc8a_e02be9f13799row10_col0{\n",
       "            background-color:  #f88383;\n",
       "            color:  #000000;\n",
       "        }#T_db565102_9da1_11ec_bc8a_e02be9f13799row11_col0{\n",
       "            background-color:  #f88888;\n",
       "            color:  #000000;\n",
       "        }#T_db565102_9da1_11ec_bc8a_e02be9f13799row12_col0,#T_db565102_9da1_11ec_bc8a_e02be9f13799row13_col0{\n",
       "            background-color:  #f88d8d;\n",
       "            color:  #000000;\n",
       "        }#T_db565102_9da1_11ec_bc8a_e02be9f13799row14_col0{\n",
       "            background-color:  #f79999;\n",
       "            color:  #000000;\n",
       "        }#T_db565102_9da1_11ec_bc8a_e02be9f13799row15_col0{\n",
       "            background-color:  #f7a1a1;\n",
       "            color:  #000000;\n",
       "        }#T_db565102_9da1_11ec_bc8a_e02be9f13799row16_col0{\n",
       "            background-color:  #f7a8a7;\n",
       "            color:  #000000;\n",
       "        }#T_db565102_9da1_11ec_bc8a_e02be9f13799row17_col0{\n",
       "            background-color:  #f6b6b6;\n",
       "            color:  #000000;\n",
       "        }#T_db565102_9da1_11ec_bc8a_e02be9f13799row18_col0{\n",
       "            background-color:  #f5bdbd;\n",
       "            color:  #000000;\n",
       "        }#T_db565102_9da1_11ec_bc8a_e02be9f13799row19_col0{\n",
       "            background-color:  #f5c1c1;\n",
       "            color:  #000000;\n",
       "        }#T_db565102_9da1_11ec_bc8a_e02be9f13799row20_col0{\n",
       "            background-color:  #f5c2c2;\n",
       "            color:  #000000;\n",
       "        }#T_db565102_9da1_11ec_bc8a_e02be9f13799row21_col0{\n",
       "            background-color:  #f5c3c3;\n",
       "            color:  #000000;\n",
       "        }#T_db565102_9da1_11ec_bc8a_e02be9f13799row22_col0,#T_db565102_9da1_11ec_bc8a_e02be9f13799row23_col0{\n",
       "            background-color:  #f5cece;\n",
       "            color:  #000000;\n",
       "        }#T_db565102_9da1_11ec_bc8a_e02be9f13799row24_col0{\n",
       "            background-color:  #f4d0d0;\n",
       "            color:  #000000;\n",
       "        }#T_db565102_9da1_11ec_bc8a_e02be9f13799row25_col0{\n",
       "            background-color:  #f4dbdb;\n",
       "            color:  #000000;\n",
       "        }#T_db565102_9da1_11ec_bc8a_e02be9f13799row26_col0{\n",
       "            background-color:  #f4dcdc;\n",
       "            color:  #000000;\n",
       "        }#T_db565102_9da1_11ec_bc8a_e02be9f13799row27_col0,#T_db565102_9da1_11ec_bc8a_e02be9f13799row28_col0{\n",
       "            background-color:  #f4dddd;\n",
       "            color:  #000000;\n",
       "        }#T_db565102_9da1_11ec_bc8a_e02be9f13799row29_col0,#T_db565102_9da1_11ec_bc8a_e02be9f13799row30_col0,#T_db565102_9da1_11ec_bc8a_e02be9f13799row31_col0{\n",
       "            background-color:  #f3e5e5;\n",
       "            color:  #000000;\n",
       "        }#T_db565102_9da1_11ec_bc8a_e02be9f13799row32_col0{\n",
       "            background-color:  #f3e8e7;\n",
       "            color:  #000000;\n",
       "        }#T_db565102_9da1_11ec_bc8a_e02be9f13799row33_col0{\n",
       "            background-color:  #f3efef;\n",
       "            color:  #000000;\n",
       "        }#T_db565102_9da1_11ec_bc8a_e02be9f13799row34_col0,#T_db565102_9da1_11ec_bc8a_e02be9f13799row35_col0{\n",
       "            background-color:  #f3f0f0;\n",
       "            color:  #000000;\n",
       "        }</style><table id=\"T_db565102_9da1_11ec_bc8a_e02be9f13799\" ><thead>    <tr>        <th class=\"blank\" ></th>        <th class=\"blank level0\" ></th>        <th class=\"col_heading level0 col0\" >Value (€)</th>    </tr>    <tr>        <th class=\"index_name level0\" >Nationality</th>        <th class=\"index_name level1\" >Name</th>        <th class=\"blank\" ></th>    </tr></thead><tbody>\n",
       "                <tr>\n",
       "                        <th id=\"T_db565102_9da1_11ec_bc8a_e02be9f13799level0_row0\" class=\"row_heading level0 row0\" >France</th>\n",
       "                        <th id=\"T_db565102_9da1_11ec_bc8a_e02be9f13799level1_row0\" class=\"row_heading level1 row0\" >K. Mbappe</th>\n",
       "                        <td id=\"T_db565102_9da1_11ec_bc8a_e02be9f13799row0_col0\" class=\"data row0 col0\" >194000000</td>\n",
       "            </tr>\n",
       "            <tr>\n",
       "                        <th id=\"T_db565102_9da1_11ec_bc8a_e02be9f13799level0_row1\" class=\"row_heading level0 row1\" >Norway</th>\n",
       "                        <th id=\"T_db565102_9da1_11ec_bc8a_e02be9f13799level1_row1\" class=\"row_heading level1 row1\" >E. Haaland</th>\n",
       "                        <td id=\"T_db565102_9da1_11ec_bc8a_e02be9f13799row1_col0\" class=\"data row1 col0\" >137500000</td>\n",
       "            </tr>\n",
       "            <tr>\n",
       "                        <th id=\"T_db565102_9da1_11ec_bc8a_e02be9f13799level0_row2\" class=\"row_heading level0 row2\" >England</th>\n",
       "                        <th id=\"T_db565102_9da1_11ec_bc8a_e02be9f13799level1_row2\" class=\"row_heading level1 row2\" >H. Kane</th>\n",
       "                        <td id=\"T_db565102_9da1_11ec_bc8a_e02be9f13799row2_col0\" class=\"data row2 col0\" >129500000</td>\n",
       "            </tr>\n",
       "            <tr>\n",
       "                        <th id=\"T_db565102_9da1_11ec_bc8a_e02be9f13799level0_row3\" class=\"row_heading level0 row3\" >Brazil</th>\n",
       "                        <th id=\"T_db565102_9da1_11ec_bc8a_e02be9f13799level1_row3\" class=\"row_heading level1 row3\" >Neymar Jr</th>\n",
       "                        <td id=\"T_db565102_9da1_11ec_bc8a_e02be9f13799row3_col0\" class=\"data row3 col0\" >129000000</td>\n",
       "            </tr>\n",
       "            <tr>\n",
       "                        <th id=\"T_db565102_9da1_11ec_bc8a_e02be9f13799level0_row4\" class=\"row_heading level0 row4\" >Belgium</th>\n",
       "                        <th id=\"T_db565102_9da1_11ec_bc8a_e02be9f13799level1_row4\" class=\"row_heading level1 row4\" >K. De Bruyne</th>\n",
       "                        <td id=\"T_db565102_9da1_11ec_bc8a_e02be9f13799row4_col0\" class=\"data row4 col0\" >125500000</td>\n",
       "            </tr>\n",
       "            <tr>\n",
       "                        <th id=\"T_db565102_9da1_11ec_bc8a_e02be9f13799level0_row5\" class=\"row_heading level0 row5\" >Italy</th>\n",
       "                        <th id=\"T_db565102_9da1_11ec_bc8a_e02be9f13799level1_row5\" class=\"row_heading level1 row5\" >G. Donnarumma</th>\n",
       "                        <td id=\"T_db565102_9da1_11ec_bc8a_e02be9f13799row5_col0\" class=\"data row5 col0\" >119500000</td>\n",
       "            </tr>\n",
       "            <tr>\n",
       "                        <th id=\"T_db565102_9da1_11ec_bc8a_e02be9f13799level0_row6\" class=\"row_heading level0 row6\" >Poland</th>\n",
       "                        <th id=\"T_db565102_9da1_11ec_bc8a_e02be9f13799level1_row6\" class=\"row_heading level1 row6\" >R. Lewandowski</th>\n",
       "                        <td id=\"T_db565102_9da1_11ec_bc8a_e02be9f13799row6_col0\" class=\"data row6 col0\" >119500000</td>\n",
       "            </tr>\n",
       "            <tr>\n",
       "                        <th id=\"T_db565102_9da1_11ec_bc8a_e02be9f13799level0_row7\" class=\"row_heading level0 row7\" >Netherlands</th>\n",
       "                        <th id=\"T_db565102_9da1_11ec_bc8a_e02be9f13799level1_row7\" class=\"row_heading level1 row7\" >F. de Jong</th>\n",
       "                        <td id=\"T_db565102_9da1_11ec_bc8a_e02be9f13799row7_col0\" class=\"data row7 col0\" >119500000</td>\n",
       "            </tr>\n",
       "            <tr>\n",
       "                        <th id=\"T_db565102_9da1_11ec_bc8a_e02be9f13799level0_row8\" class=\"row_heading level0 row8\" >Slovenia</th>\n",
       "                        <th id=\"T_db565102_9da1_11ec_bc8a_e02be9f13799level1_row8\" class=\"row_heading level1 row8\" >J. Oblak</th>\n",
       "                        <td id=\"T_db565102_9da1_11ec_bc8a_e02be9f13799row8_col0\" class=\"data row8 col0\" >112000000</td>\n",
       "            </tr>\n",
       "            <tr>\n",
       "                        <th id=\"T_db565102_9da1_11ec_bc8a_e02be9f13799level0_row9\" class=\"row_heading level0 row9\" >Germany</th>\n",
       "                        <th id=\"T_db565102_9da1_11ec_bc8a_e02be9f13799level1_row9\" class=\"row_heading level1 row9\" >J. Kimmich</th>\n",
       "                        <td id=\"T_db565102_9da1_11ec_bc8a_e02be9f13799row9_col0\" class=\"data row9 col0\" >108000000</td>\n",
       "            </tr>\n",
       "            <tr>\n",
       "                        <th id=\"T_db565102_9da1_11ec_bc8a_e02be9f13799level0_row10\" class=\"row_heading level0 row10\" >Portugal</th>\n",
       "                        <th id=\"T_db565102_9da1_11ec_bc8a_e02be9f13799level1_row10\" class=\"row_heading level1 row10\" >Bruno Fernandes</th>\n",
       "                        <td id=\"T_db565102_9da1_11ec_bc8a_e02be9f13799row10_col0\" class=\"data row10 col0\" >107500000</td>\n",
       "            </tr>\n",
       "            <tr>\n",
       "                        <th id=\"T_db565102_9da1_11ec_bc8a_e02be9f13799level0_row11\" class=\"row_heading level0 row11\" >Korea</th>\n",
       "                        <th id=\"T_db565102_9da1_11ec_bc8a_e02be9f13799level1_row11\" class=\"row_heading level1 row11\" >H. Son</th>\n",
       "                        <td id=\"T_db565102_9da1_11ec_bc8a_e02be9f13799row11_col0\" class=\"data row11 col0\" >104000000</td>\n",
       "            </tr>\n",
       "            <tr>\n",
       "                        <th id=\"T_db565102_9da1_11ec_bc8a_e02be9f13799level0_row12\" class=\"row_heading level0 row12\" >Egypt</th>\n",
       "                        <th id=\"T_db565102_9da1_11ec_bc8a_e02be9f13799level1_row12\" class=\"row_heading level1 row12\" >M. Salah</th>\n",
       "                        <td id=\"T_db565102_9da1_11ec_bc8a_e02be9f13799row12_col0\" class=\"data row12 col0\" >101000000</td>\n",
       "            </tr>\n",
       "            <tr>\n",
       "                        <th id=\"T_db565102_9da1_11ec_bc8a_e02be9f13799level0_row13\" class=\"row_heading level0 row13\" >Senegal</th>\n",
       "                        <th id=\"T_db565102_9da1_11ec_bc8a_e02be9f13799level1_row13\" class=\"row_heading level1 row13\" >S. Mane</th>\n",
       "                        <td id=\"T_db565102_9da1_11ec_bc8a_e02be9f13799row13_col0\" class=\"data row13 col0\" >101000000</td>\n",
       "            </tr>\n",
       "            <tr>\n",
       "                        <th id=\"T_db565102_9da1_11ec_bc8a_e02be9f13799level0_row14\" class=\"row_heading level0 row14\" >Argentina</th>\n",
       "                        <th id=\"T_db565102_9da1_11ec_bc8a_e02be9f13799level1_row14\" class=\"row_heading level1 row14\" >P. Dybala</th>\n",
       "                        <td id=\"T_db565102_9da1_11ec_bc8a_e02be9f13799row14_col0\" class=\"data row14 col0\" >93000000</td>\n",
       "            </tr>\n",
       "            <tr>\n",
       "                        <th id=\"T_db565102_9da1_11ec_bc8a_e02be9f13799level0_row15\" class=\"row_heading level0 row15\" >Spain</th>\n",
       "                        <th id=\"T_db565102_9da1_11ec_bc8a_e02be9f13799level1_row15\" class=\"row_heading level1 row15\" >Marcos Llorente</th>\n",
       "                        <td id=\"T_db565102_9da1_11ec_bc8a_e02be9f13799row15_col0\" class=\"data row15 col0\" >88000000</td>\n",
       "            </tr>\n",
       "            <tr>\n",
       "                        <th id=\"T_db565102_9da1_11ec_bc8a_e02be9f13799level0_row16\" class=\"row_heading level0 row16\" >Scotland</th>\n",
       "                        <th id=\"T_db565102_9da1_11ec_bc8a_e02be9f13799level1_row16\" class=\"row_heading level1 row16\" >A. Robertson</th>\n",
       "                        <td id=\"T_db565102_9da1_11ec_bc8a_e02be9f13799row16_col0\" class=\"data row16 col0\" >83500000</td>\n",
       "            </tr>\n",
       "            <tr>\n",
       "                        <th id=\"T_db565102_9da1_11ec_bc8a_e02be9f13799level0_row17\" class=\"row_heading level0 row17\" >Slovakia</th>\n",
       "                        <th id=\"T_db565102_9da1_11ec_bc8a_e02be9f13799level1_row17\" class=\"row_heading level1 row17\" >M. Skriniar</th>\n",
       "                        <td id=\"T_db565102_9da1_11ec_bc8a_e02be9f13799row17_col0\" class=\"data row17 col0\" >74000000</td>\n",
       "            </tr>\n",
       "            <tr>\n",
       "                        <th id=\"T_db565102_9da1_11ec_bc8a_e02be9f13799level0_row18\" class=\"row_heading level0 row18\" >Morocco</th>\n",
       "                        <th id=\"T_db565102_9da1_11ec_bc8a_e02be9f13799level1_row18\" class=\"row_heading level1 row18\" >A. Hakimi</th>\n",
       "                        <td id=\"T_db565102_9da1_11ec_bc8a_e02be9f13799row18_col0\" class=\"data row18 col0\" >69500000</td>\n",
       "            </tr>\n",
       "            <tr>\n",
       "                        <th id=\"T_db565102_9da1_11ec_bc8a_e02be9f13799level0_row19\" class=\"row_heading level0 row19\" >Nigeria</th>\n",
       "                        <th id=\"T_db565102_9da1_11ec_bc8a_e02be9f13799level1_row19\" class=\"row_heading level1 row19\" >W. Ndidi</th>\n",
       "                        <td id=\"T_db565102_9da1_11ec_bc8a_e02be9f13799row19_col0\" class=\"data row19 col0\" >66500000</td>\n",
       "            </tr>\n",
       "            <tr>\n",
       "                        <th id=\"T_db565102_9da1_11ec_bc8a_e02be9f13799level0_row20\" class=\"row_heading level0 row20\" >Serbia</th>\n",
       "                        <th id=\"T_db565102_9da1_11ec_bc8a_e02be9f13799level1_row20\" class=\"row_heading level1 row20\" >S. Milinkovic-Savic</th>\n",
       "                        <td id=\"T_db565102_9da1_11ec_bc8a_e02be9f13799row20_col0\" class=\"data row20 col0\" >66000000</td>\n",
       "            </tr>\n",
       "            <tr>\n",
       "                        <th id=\"T_db565102_9da1_11ec_bc8a_e02be9f13799level0_row21\" class=\"row_heading level0 row21\" >Algeria</th>\n",
       "                        <th id=\"T_db565102_9da1_11ec_bc8a_e02be9f13799level1_row21\" class=\"row_heading level1 row21\" >R. Mahrez</th>\n",
       "                        <td id=\"T_db565102_9da1_11ec_bc8a_e02be9f13799row21_col0\" class=\"data row21 col0\" >65500000</td>\n",
       "            </tr>\n",
       "            <tr>\n",
       "                        <th id=\"T_db565102_9da1_11ec_bc8a_e02be9f13799level0_row22\" class=\"row_heading level0 row22\" >Sweden</th>\n",
       "                        <th id=\"T_db565102_9da1_11ec_bc8a_e02be9f13799level1_row22\" class=\"row_heading level1 row22\" >D. Kulusevski</th>\n",
       "                        <td id=\"T_db565102_9da1_11ec_bc8a_e02be9f13799row22_col0\" class=\"data row22 col0\" >58000000</td>\n",
       "            </tr>\n",
       "            <tr>\n",
       "                        <th id=\"T_db565102_9da1_11ec_bc8a_e02be9f13799level0_row23\" class=\"row_heading level0 row23\" >Uruguay</th>\n",
       "                        <th id=\"T_db565102_9da1_11ec_bc8a_e02be9f13799level1_row23\" class=\"row_heading level1 row23\" >F. Valverde</th>\n",
       "                        <td id=\"T_db565102_9da1_11ec_bc8a_e02be9f13799row23_col0\" class=\"data row23 col0\" >58000000</td>\n",
       "            </tr>\n",
       "            <tr>\n",
       "                        <th id=\"T_db565102_9da1_11ec_bc8a_e02be9f13799level0_row24\" class=\"row_heading level0 row24\" >Canada</th>\n",
       "                        <th id=\"T_db565102_9da1_11ec_bc8a_e02be9f13799level1_row24\" class=\"row_heading level1 row24\" >A. Davies</th>\n",
       "                        <td id=\"T_db565102_9da1_11ec_bc8a_e02be9f13799row24_col0\" class=\"data row24 col0\" >57000000</td>\n",
       "            </tr>\n",
       "            <tr>\n",
       "                        <th id=\"T_db565102_9da1_11ec_bc8a_e02be9f13799level0_row25\" class=\"row_heading level0 row25\" >Côte d'Ivoire</th>\n",
       "                        <th id=\"T_db565102_9da1_11ec_bc8a_e02be9f13799level1_row25\" class=\"row_heading level1 row25\" >F. Kessie</th>\n",
       "                        <td id=\"T_db565102_9da1_11ec_bc8a_e02be9f13799row25_col0\" class=\"data row25 col0\" >49500000</td>\n",
       "            </tr>\n",
       "            <tr>\n",
       "                        <th id=\"T_db565102_9da1_11ec_bc8a_e02be9f13799level0_row26\" class=\"row_heading level0 row26\" >United States</th>\n",
       "                        <th id=\"T_db565102_9da1_11ec_bc8a_e02be9f13799level1_row26\" class=\"row_heading level1 row26\" >C. Pulisic</th>\n",
       "                        <td id=\"T_db565102_9da1_11ec_bc8a_e02be9f13799row26_col0\" class=\"data row26 col0\" >49000000</td>\n",
       "            </tr>\n",
       "            <tr>\n",
       "                        <th id=\"T_db565102_9da1_11ec_bc8a_e02be9f13799level0_row27\" class=\"row_heading level0 row27\" >Burkina Faso</th>\n",
       "                        <th id=\"T_db565102_9da1_11ec_bc8a_e02be9f13799level1_row27\" class=\"row_heading level1 row27\" >E. Tapsoba</th>\n",
       "                        <td id=\"T_db565102_9da1_11ec_bc8a_e02be9f13799row27_col0\" class=\"data row27 col0\" >48500000</td>\n",
       "            </tr>\n",
       "            <tr>\n",
       "                        <th id=\"T_db565102_9da1_11ec_bc8a_e02be9f13799level0_row28\" class=\"row_heading level0 row28\" >Austria</th>\n",
       "                        <th id=\"T_db565102_9da1_11ec_bc8a_e02be9f13799level1_row28\" class=\"row_heading level1 row28\" >M. Sabitzer</th>\n",
       "                        <td id=\"T_db565102_9da1_11ec_bc8a_e02be9f13799row28_col0\" class=\"data row28 col0\" >48000000</td>\n",
       "            </tr>\n",
       "            <tr>\n",
       "                        <th id=\"T_db565102_9da1_11ec_bc8a_e02be9f13799level0_row29\" class=\"row_heading level0 row29\" >Jamaica</th>\n",
       "                        <th id=\"T_db565102_9da1_11ec_bc8a_e02be9f13799level1_row29\" class=\"row_heading level1 row29\" >L. Bailey</th>\n",
       "                        <td id=\"T_db565102_9da1_11ec_bc8a_e02be9f13799row29_col0\" class=\"data row29 col0\" >43500000</td>\n",
       "            </tr>\n",
       "            <tr>\n",
       "                        <th id=\"T_db565102_9da1_11ec_bc8a_e02be9f13799level0_row30\" class=\"row_heading level0 row30\" >Gabon</th>\n",
       "                        <th id=\"T_db565102_9da1_11ec_bc8a_e02be9f13799level1_row30\" class=\"row_heading level1 row30\" >P. Aubameyang</th>\n",
       "                        <td id=\"T_db565102_9da1_11ec_bc8a_e02be9f13799row30_col0\" class=\"data row30 col0\" >43500000</td>\n",
       "            </tr>\n",
       "            <tr>\n",
       "                        <th id=\"T_db565102_9da1_11ec_bc8a_e02be9f13799level0_row31\" class=\"row_heading level0 row31\" >Denmark</th>\n",
       "                        <th id=\"T_db565102_9da1_11ec_bc8a_e02be9f13799level1_row31\" class=\"row_heading level1 row31\" >P. Hojbjerg</th>\n",
       "                        <td id=\"T_db565102_9da1_11ec_bc8a_e02be9f13799row31_col0\" class=\"data row31 col0\" >43500000</td>\n",
       "            </tr>\n",
       "            <tr>\n",
       "                        <th id=\"T_db565102_9da1_11ec_bc8a_e02be9f13799level0_row32\" class=\"row_heading level0 row32\" >Croatia</th>\n",
       "                        <th id=\"T_db565102_9da1_11ec_bc8a_e02be9f13799level1_row32\" class=\"row_heading level1 row32\" >M. Kovacic</th>\n",
       "                        <td id=\"T_db565102_9da1_11ec_bc8a_e02be9f13799row32_col0\" class=\"data row32 col0\" >41500000</td>\n",
       "            </tr>\n",
       "            <tr>\n",
       "                        <th id=\"T_db565102_9da1_11ec_bc8a_e02be9f13799level0_row33\" class=\"row_heading level0 row33\" >Ghana</th>\n",
       "                        <th id=\"T_db565102_9da1_11ec_bc8a_e02be9f13799level1_row33\" class=\"row_heading level1 row33\" >T. Partey</th>\n",
       "                        <td id=\"T_db565102_9da1_11ec_bc8a_e02be9f13799row33_col0\" class=\"data row33 col0\" >36500000</td>\n",
       "            </tr>\n",
       "            <tr>\n",
       "                        <th id=\"T_db565102_9da1_11ec_bc8a_e02be9f13799level0_row34\" class=\"row_heading level0 row34\" >Czech Republic</th>\n",
       "                        <th id=\"T_db565102_9da1_11ec_bc8a_e02be9f13799level1_row34\" class=\"row_heading level1 row34\" >T. Soucek</th>\n",
       "                        <td id=\"T_db565102_9da1_11ec_bc8a_e02be9f13799row34_col0\" class=\"data row34 col0\" >36000000</td>\n",
       "            </tr>\n",
       "            <tr>\n",
       "                        <th id=\"T_db565102_9da1_11ec_bc8a_e02be9f13799level0_row35\" class=\"row_heading level0 row35\" >Colombia</th>\n",
       "                        <th id=\"T_db565102_9da1_11ec_bc8a_e02be9f13799level1_row35\" class=\"row_heading level1 row35\" >D. Zapata</th>\n",
       "                        <td id=\"T_db565102_9da1_11ec_bc8a_e02be9f13799row35_col0\" class=\"data row35 col0\" >35500000</td>\n",
       "            </tr>\n",
       "    </tbody></table>"
      ],
      "text/plain": [
       "<pandas.io.formats.style.Styler at 0x24474701340>"
      ]
     },
     "execution_count": 112,
     "metadata": {},
     "output_type": "execute_result"
    }
   ],
   "source": [
    "pd.DataFrame(res).sort_values('Value (€)',ascending=False).style.background_gradient(cmap=sns.light_palette(\"red\", as_cmap=True))"
   ]
  },
  {
   "cell_type": "markdown",
   "metadata": {},
   "source": [
    "### Parmi les meilleurs, voir si la nationalité joue sur le prix"
   ]
  },
  {
   "cell_type": "code",
   "execution_count": 72,
   "metadata": {
    "scrolled": true
   },
   "outputs": [],
   "source": [
    "a=pd.DataFrame(top100_valuable_players.groupby([\"Nationality\"]).sum()['Value (€)'].sort_values(ascending=False))"
   ]
  },
  {
   "cell_type": "code",
   "execution_count": 73,
   "metadata": {},
   "outputs": [
    {
     "name": "stdout",
     "output_type": "stream",
     "text": [
      "WE CAN SEE THAT NATIONALITY HAVE AN IMPACT ON PLAYERS PRICE\n"
     ]
    },
    {
     "data": {
      "image/png": "[encoded data removed]",
      "text/plain": [
       "<Figure size 1224x504 with 1 Axes>"
      ]
     },
     "metadata": {},
     "output_type": "display_data"
    }
   ],
   "source": [
    "f, ax = plt.subplots(figsize=(17, 7))\n",
    "sns.barplot(x=a['Value (€)'],y=a.index,data=a, palette='Spectral')\n",
    "plt.title('Sum of top 100 valuables players by nationality')\n",
    "print('WE CAN SEE THAT NATIONALITY HAVE AN IMPACT ON PLAYERS PRICE')"
   ]
  },
  {
   "cell_type": "markdown",
   "metadata": {},
   "source": [
    "### Meilleurs joueurs par equipe\n",
    "\n",
    "df.columns"
   ]
  },
  {
   "cell_type": "code",
   "execution_count": 128,
   "metadata": {},
   "outputs": [
    {
     "ename": "NameError",
     "evalue": "name 'clubs' is not defined",
     "output_type": "error",
     "traceback": [
      "\u001b[1;31m---------------------------------------------------------------------------\u001b[0m",
      "\u001b[1;31mNameError\u001b[0m                                 Traceback (most recent call last)",
      "\u001b[1;32m<ipython-input-128-ad3662c06450>\u001b[0m in \u001b[0;36m<module>\u001b[1;34m\u001b[0m\n\u001b[1;32m----> 1\u001b[1;33m \u001b[0mdf\u001b[0m\u001b[1;33m[\u001b[0m\u001b[0mdf\u001b[0m\u001b[1;33m[\u001b[0m\u001b[1;34m'Club'\u001b[0m\u001b[1;33m]\u001b[0m\u001b[1;33m.\u001b[0m\u001b[0misin\u001b[0m\u001b[1;33m(\u001b[0m\u001b[0mclubs\u001b[0m\u001b[1;33m)\u001b[0m\u001b[1;33m]\u001b[0m\u001b[1;33m.\u001b[0m\u001b[0msort_values\u001b[0m\u001b[1;33m(\u001b[0m\u001b[1;34m'Overall'\u001b[0m\u001b[1;33m,\u001b[0m\u001b[0mascending\u001b[0m\u001b[1;33m=\u001b[0m\u001b[1;32mFalse\u001b[0m\u001b[1;33m)\u001b[0m\u001b[1;33m[\u001b[0m\u001b[1;33m[\u001b[0m\u001b[1;34m'Photo'\u001b[0m\u001b[1;33m,\u001b[0m\u001b[1;34m'Country'\u001b[0m\u001b[1;33m,\u001b[0m\u001b[1;34m'Name'\u001b[0m\u001b[1;33m,\u001b[0m\u001b[1;34m'Age'\u001b[0m\u001b[1;33m,\u001b[0m\u001b[1;34m'Overall'\u001b[0m\u001b[1;33m,\u001b[0m\u001b[1;34m\"Club Logo\"\u001b[0m\u001b[1;33m,\u001b[0m\u001b[1;34m\"Flag\"\u001b[0m\u001b[1;33m,\u001b[0m\u001b[1;34m'Best Position'\u001b[0m\u001b[1;33m,\u001b[0m\u001b[1;34m'Value (€)'\u001b[0m\u001b[1;33m]\u001b[0m\u001b[1;33m]\u001b[0m\u001b[1;33m\u001b[0m\u001b[1;33m\u001b[0m\u001b[0m\n\u001b[0m",
      "\u001b[1;31mNameError\u001b[0m: name 'clubs' is not defined"
     ]
    }
   ],
   "source": [
    "df[df['Club'].isin(clubs)].sort_values('Overall',ascending=False)[['Photo','Country','Name','Age','Overall',\"Club Logo\",\"Flag\",'Best Position','Value (€)']]"
   ]
  },
  {
   "cell_type": "code",
   "execution_count": 130,
   "metadata": {},
   "outputs": [
    {
     "data": {
      "text/plain": [
       "Index(['Name', 'Age', 'Photo', 'Nationality', 'Best Position', 'Flag', 'Club',\n",
       "       'Club Logo', 'Jersey Number', 'Overall', 'Height', 'Weight',\n",
       "       'BallControl', 'Penalties', 'LongPassing', 'GKKicking', 'Potential',\n",
       "       'Agility', 'Balance', 'Vision', 'FKAccuracy', 'Positioning',\n",
       "       'LongShots', 'Wage (€)', 'DefensiveAwareness', 'Release Clause',\n",
       "       'Aggression', 'Crossing', 'ShortPassing', 'Stamina', 'Interceptions',\n",
       "       'Acceleration', 'Value (€)', 'Strength', 'Volleys', 'Reactions',\n",
       "       'SlidingTackle', 'Jumping', 'GKHandling', 'GKReflexes', 'GKDiving',\n",
       "       'StandingTackle', 'GKPositioning', 'Preferred Foot', 'SprintSpeed',\n",
       "       'ShotPower', 'Composure', 'Finishing', 'Dribbling', 'Curve',\n",
       "       'HeadingAccuracy', 'Club_cat', 'Nationality_cat', 'Evolution'],\n",
       "      dtype='object')"
      ]
     },
     "execution_count": 130,
     "metadata": {},
     "output_type": "execute_result"
    }
   ],
   "source": [
    "df.columns"
   ]
  },
  {
   "cell_type": "markdown",
   "metadata": {},
   "source": [
    "## Visualiser les meilleurs joueurs par pays\n"
   ]
  },
  {
   "cell_type": "markdown",
   "metadata": {},
   "source": [
    "### Récupération des Latitudes et Longitudes des pays"
   ]
  },
  {
   "cell_type": "code",
   "execution_count": 40,
   "metadata": {},
   "outputs": [],
   "source": [
    "#Changement pour d'intitulé pour la Corée du Sud car il n'est pas reconnu par la librairie\n",
    "df['Nationality']=df['Nationality'].replace(['Korea Republic'],'Korea')"
   ]
  },
  {
   "cell_type": "code",
   "execution_count": 41,
   "metadata": {
    "scrolled": true
   },
   "outputs": [
    {
     "data": {
      "text/html": [
       "<div>\n",
       "<style scoped>\n",
       "    .dataframe tbody tr th:only-of-type {\n",
       "        vertical-align: middle;\n",
       "    }\n",
       "\n",
       "    .dataframe tbody tr th {\n",
       "        vertical-align: top;\n",
       "    }\n",
       "\n",
       "    .dataframe thead th {\n",
       "        text-align: right;\n",
       "    }\n",
       "</style>\n",
       "<table border=\"1\" class=\"dataframe\">\n",
       "  <thead>\n",
       "    <tr style=\"text-align: right;\">\n",
       "      <th></th>\n",
       "      <th>Name</th>\n",
       "      <th>Age</th>\n",
       "      <th>Photo</th>\n",
       "      <th>Nationality</th>\n",
       "      <th>Best Position</th>\n",
       "      <th>Flag</th>\n",
       "      <th>Club</th>\n",
       "      <th>Club Logo</th>\n",
       "      <th>Jersey Number</th>\n",
       "      <th>Overall</th>\n",
       "      <th>...</th>\n",
       "      <th>Preferred Foot</th>\n",
       "      <th>SprintSpeed</th>\n",
       "      <th>ShotPower</th>\n",
       "      <th>Composure</th>\n",
       "      <th>Finishing</th>\n",
       "      <th>Dribbling</th>\n",
       "      <th>Curve</th>\n",
       "      <th>HeadingAccuracy</th>\n",
       "      <th>Club_cat</th>\n",
       "      <th>Nationality_cat</th>\n",
       "    </tr>\n",
       "  </thead>\n",
       "  <tbody>\n",
       "    <tr>\n",
       "      <th>0</th>\n",
       "      <td>Bruno Fernandes</td>\n",
       "      <td>26</td>\n",
       "      <td>https://cdn.sofifa.com/players/212/198/22_60.png</td>\n",
       "      <td>Portugal</td>\n",
       "      <td>CAM</td>\n",
       "      <td>https://cdn.sofifa.com/flags/pt.png</td>\n",
       "      <td>Manchester United</td>\n",
       "      <td>https://cdn.sofifa.com/teams/11/30.png</td>\n",
       "      <td>18.0</td>\n",
       "      <td>88</td>\n",
       "      <td>...</td>\n",
       "      <td>Right</td>\n",
       "      <td>73.0</td>\n",
       "      <td>89.0</td>\n",
       "      <td>87.0</td>\n",
       "      <td>83.0</td>\n",
       "      <td>83.0</td>\n",
       "      <td>87.0</td>\n",
       "      <td>64.0</td>\n",
       "      <td>119</td>\n",
       "      <td>59</td>\n",
       "    </tr>\n",
       "    <tr>\n",
       "      <th>1</th>\n",
       "      <td>L. Goretzka</td>\n",
       "      <td>26</td>\n",
       "      <td>https://cdn.sofifa.com/players/209/658/22_60.png</td>\n",
       "      <td>Germany</td>\n",
       "      <td>CM</td>\n",
       "      <td>https://cdn.sofifa.com/flags/de.png</td>\n",
       "      <td>FC Bayern München</td>\n",
       "      <td>https://cdn.sofifa.com/teams/21/30.png</td>\n",
       "      <td>8.0</td>\n",
       "      <td>87</td>\n",
       "      <td>...</td>\n",
       "      <td>Right</td>\n",
       "      <td>83.0</td>\n",
       "      <td>85.0</td>\n",
       "      <td>82.0</td>\n",
       "      <td>82.0</td>\n",
       "      <td>84.0</td>\n",
       "      <td>76.0</td>\n",
       "      <td>86.0</td>\n",
       "      <td>72</td>\n",
       "      <td>31</td>\n",
       "    </tr>\n",
       "    <tr>\n",
       "      <th>2</th>\n",
       "      <td>L. Suarez</td>\n",
       "      <td>34</td>\n",
       "      <td>https://cdn.sofifa.com/players/176/580/22_60.png</td>\n",
       "      <td>Uruguay</td>\n",
       "      <td>ST</td>\n",
       "      <td>https://cdn.sofifa.com/flags/uy.png</td>\n",
       "      <td>Atlético de Madrid</td>\n",
       "      <td>https://cdn.sofifa.com/teams/240/30.png</td>\n",
       "      <td>9.0</td>\n",
       "      <td>88</td>\n",
       "      <td>...</td>\n",
       "      <td>Right</td>\n",
       "      <td>69.0</td>\n",
       "      <td>89.0</td>\n",
       "      <td>87.0</td>\n",
       "      <td>93.0</td>\n",
       "      <td>83.0</td>\n",
       "      <td>86.0</td>\n",
       "      <td>84.0</td>\n",
       "      <td>24</td>\n",
       "      <td>77</td>\n",
       "    </tr>\n",
       "    <tr>\n",
       "      <th>3</th>\n",
       "      <td>K. De Bruyne</td>\n",
       "      <td>30</td>\n",
       "      <td>https://cdn.sofifa.com/players/192/985/22_60.png</td>\n",
       "      <td>Belgium</td>\n",
       "      <td>CM</td>\n",
       "      <td>https://cdn.sofifa.com/flags/be.png</td>\n",
       "      <td>Manchester City</td>\n",
       "      <td>https://cdn.sofifa.com/teams/10/30.png</td>\n",
       "      <td>17.0</td>\n",
       "      <td>91</td>\n",
       "      <td>...</td>\n",
       "      <td>Right</td>\n",
       "      <td>76.0</td>\n",
       "      <td>91.0</td>\n",
       "      <td>89.0</td>\n",
       "      <td>82.0</td>\n",
       "      <td>88.0</td>\n",
       "      <td>85.0</td>\n",
       "      <td>55.0</td>\n",
       "      <td>118</td>\n",
       "      <td>7</td>\n",
       "    </tr>\n",
       "    <tr>\n",
       "      <th>5</th>\n",
       "      <td>J. Kimmich</td>\n",
       "      <td>26</td>\n",
       "      <td>https://cdn.sofifa.com/players/212/622/22_60.png</td>\n",
       "      <td>Germany</td>\n",
       "      <td>CDM</td>\n",
       "      <td>https://cdn.sofifa.com/flags/de.png</td>\n",
       "      <td>FC Bayern München</td>\n",
       "      <td>https://cdn.sofifa.com/teams/21/30.png</td>\n",
       "      <td>6.0</td>\n",
       "      <td>89</td>\n",
       "      <td>...</td>\n",
       "      <td>Right</td>\n",
       "      <td>65.0</td>\n",
       "      <td>78.0</td>\n",
       "      <td>85.0</td>\n",
       "      <td>68.0</td>\n",
       "      <td>83.0</td>\n",
       "      <td>85.0</td>\n",
       "      <td>72.0</td>\n",
       "      <td>72</td>\n",
       "      <td>31</td>\n",
       "    </tr>\n",
       "  </tbody>\n",
       "</table>\n",
       "<p>5 rows × 53 columns</p>\n",
       "</div>"
      ],
      "text/plain": [
       "              Name  Age                                             Photo  \\\n",
       "0  Bruno Fernandes   26  https://cdn.sofifa.com/players/212/198/22_60.png   \n",
       "1      L. Goretzka   26  https://cdn.sofifa.com/players/209/658/22_60.png   \n",
       "2        L. Suarez   34  https://cdn.sofifa.com/players/176/580/22_60.png   \n",
       "3     K. De Bruyne   30  https://cdn.sofifa.com/players/192/985/22_60.png   \n",
       "5       J. Kimmich   26  https://cdn.sofifa.com/players/212/622/22_60.png   \n",
       "\n",
       "  Nationality Best Position                                 Flag  \\\n",
       "0    Portugal           CAM  https://cdn.sofifa.com/flags/pt.png   \n",
       "1     Germany            CM  https://cdn.sofifa.com/flags/de.png   \n",
       "2     Uruguay            ST  https://cdn.sofifa.com/flags/uy.png   \n",
       "3     Belgium            CM  https://cdn.sofifa.com/flags/be.png   \n",
       "5     Germany           CDM  https://cdn.sofifa.com/flags/de.png   \n",
       "\n",
       "                 Club                                Club Logo  Jersey Number  \\\n",
       "0   Manchester United   https://cdn.sofifa.com/teams/11/30.png           18.0   \n",
       "1   FC Bayern München   https://cdn.sofifa.com/teams/21/30.png            8.0   \n",
       "2  Atlético de Madrid  https://cdn.sofifa.com/teams/240/30.png            9.0   \n",
       "3     Manchester City   https://cdn.sofifa.com/teams/10/30.png           17.0   \n",
       "5   FC Bayern München   https://cdn.sofifa.com/teams/21/30.png            6.0   \n",
       "\n",
       "   Overall  ...  Preferred Foot  SprintSpeed  ShotPower  Composure  Finishing  \\\n",
       "0       88  ...           Right         73.0       89.0       87.0       83.0   \n",
       "1       87  ...           Right         83.0       85.0       82.0       82.0   \n",
       "2       88  ...           Right         69.0       89.0       87.0       93.0   \n",
       "3       91  ...           Right         76.0       91.0       89.0       82.0   \n",
       "5       89  ...           Right         65.0       78.0       85.0       68.0   \n",
       "\n",
       "   Dribbling  Curve  HeadingAccuracy  Club_cat  Nationality_cat  \n",
       "0       83.0   87.0             64.0       119               59  \n",
       "1       84.0   76.0             86.0        72               31  \n",
       "2       83.0   86.0             84.0        24               77  \n",
       "3       88.0   85.0             55.0       118                7  \n",
       "5       83.0   85.0             72.0        72               31  \n",
       "\n",
       "[5 rows x 53 columns]"
      ]
     },
     "execution_count": 41,
     "metadata": {},
     "output_type": "execute_result"
    }
   ],
   "source": [
    "top75_bestplayers=df[df['Overall']>85]\n",
    "top75_bestplayers.head(5)"
   ]
  },
  {
   "cell_type": "code",
   "execution_count": 42,
   "metadata": {},
   "outputs": [],
   "source": [
    "#function to get longitude and latitude data from country name\n",
    "from geopy.geocoders import Nominatim\n",
    "from geopy.extra.rate_limiter import RateLimiter\n",
    "\n",
    "geolocator = Nominatim(user_agent=\"knn_similar_players.ipynb\")\n",
    "\n",
    "def geolocate(country):\n",
    "    try:\n",
    "        geocode = RateLimiter(geolocator.geocode, min_delay_seconds=4)\n",
    "        # Geolocate the center of the country\n",
    "        loc = geolocator.geocode(country)\n",
    "        # And return latitude and longitude\n",
    "        return (loc.latitude, loc.longitude)\n",
    "    except:\n",
    "        # Return missing value\n",
    "        return None\n",
    "        "
   ]
  },
  {
   "cell_type": "code",
   "execution_count": 43,
   "metadata": {},
   "outputs": [
    {
     "name": "stderr",
     "output_type": "stream",
     "text": [
      "<ipython-input-43-ec5a2ec00414>:1: SettingWithCopyWarning: \n",
      "A value is trying to be set on a copy of a slice from a DataFrame.\n",
      "Try using .loc[row_indexer,col_indexer] = value instead\n",
      "\n",
      "See the caveats in the documentation: https://pandas.pydata.org/pandas-docs/stable/user_guide/indexing.html#returning-a-view-versus-a-copy\n",
      "  top75_bestplayers['geolocate']=top75_bestplayers['Nationality'].apply(geolocate)\n"
     ]
    }
   ],
   "source": [
    "top75_bestplayers['geolocate']=top75_bestplayers['Nationality'].apply(geolocate)"
   ]
  },
  {
   "cell_type": "code",
   "execution_count": 44,
   "metadata": {},
   "outputs": [
    {
     "name": "stderr",
     "output_type": "stream",
     "text": [
      "C:\\Users\\thoma\\anaconda3\\lib\\site-packages\\pandas\\core\\frame.py:3065: SettingWithCopyWarning: \n",
      "A value is trying to be set on a copy of a slice from a DataFrame.\n",
      "Try using .loc[row_indexer,col_indexer] = value instead\n",
      "\n",
      "See the caveats in the documentation: https://pandas.pydata.org/pandas-docs/stable/user_guide/indexing.html#returning-a-view-versus-a-copy\n",
      "  self[k1] = value[k2]\n"
     ]
    }
   ],
   "source": [
    "top75_bestplayers[['latitude', 'longitude']]=pd.DataFrame(top75_bestplayers['geolocate'].tolist(), index=top75_bestplayers.index)\n",
    "#df.to_csv('df_final.csv')"
   ]
  },
  {
   "cell_type": "code",
   "execution_count": 45,
   "metadata": {},
   "outputs": [
    {
     "data": {
      "text/html": [
       "<div style=\"width:100%;\"><div style=\"position:relative;width:100%;height:0;padding-bottom:60%;\"><span style=\"color:#565656\">Make this Notebook Trusted to load map: File -> Trust Notebook</span><iframe src=\"about:blank\" style=\"position:absolute;width:100%;height:100%;left:0;top:0;border:none !important;\" data-html=%3C%21DOCTYPE%20html%3E%0A%3Chead%3E%20%20%20%20%0A%20%20%20%20%3Cmeta%20http-equiv%3D%22content-type%22%20content%3D%22text/html%3B%20charset%3DUTF-8%22%20/%3E%0A%20%20%20%20%0A%20%20%20%20%20%20%20%20%3Cscript%3E%0A%20%20%20%20%20%20%20%20%20%20%20%20L_NO_TOUCH%20%3D%20false%3B%0A%20%20%20%20%20%20%20%20%20%20%20%20L_DISABLE_3D%20%3D%20false%3B%0A%20%20%20%20%20%20%20%20%3C/script%3E%0A%20%20%20%20%0A%20%20%20%20%3Cstyle%3Ehtml%2C%20body%20%7Bwidth%3A%20100%25%3Bheight%3A%20100%25%3Bmargin%3A%200%3Bpadding%3A%200%3B%7D%3C/style%3E%0A%20%20%20%20%3Cstyle%3E%23map%20%7Bposition%3Aabsolute%3Btop%3A0%3Bbottom%3A0%3Bright%3A0%3Bleft%3A0%3B%7D%3C/style%3E%0A%20%20%20%20%3Cscript%20src%3D%22https%3A//cdn.jsdelivr.net/npm/leaflet%401.6.0/dist/leaflet.js%22%3E%3C/script%3E%0A%20%20%20%20%3Cscript%20src%3D%22https%3A//code.jquery.com/jquery-1.12.4.min.js%22%3E%3C/script%3E%0A%20%20%20%20%3Cscript%20src%3D%22https%3A//maxcdn.bootstrapcdn.com/bootstrap/3.2.0/js/bootstrap.min.js%22%3E%3C/script%3E%0A%20%20%20%20%3Cscript%20src%3D%22https%3A//cdnjs.cloudflare.com/ajax/libs/Leaflet.awesome-markers/2.0.2/leaflet.awesome-markers.js%22%3E%3C/script%3E%0A%20%20%20%20%3Clink%20rel%3D%22stylesheet%22%20href%3D%22https%3A//cdn.jsdelivr.net/npm/leaflet%401.6.0/dist/leaflet.css%22/%3E%0A%20%20%20%20%3Clink%20rel%3D%22stylesheet%22%20href%3D%22https%3A//maxcdn.bootstrapcdn.com/bootstrap/3.2.0/css/bootstrap.min.css%22/%3E%0A%20%20%20%20%3Clink%20rel%3D%22stylesheet%22%20href%3D%22https%3A//maxcdn.bootstrapcdn.com/bootstrap/3.2.0/css/bootstrap-theme.min.css%22/%3E%0A%20%20%20%20%3Clink%20rel%3D%22stylesheet%22%20href%3D%22https%3A//maxcdn.bootstrapcdn.com/font-awesome/4.6.3/css/font-awesome.min.css%22/%3E%0A%20%20%20%20%3Clink%20rel%3D%22stylesheet%22%20href%3D%22https%3A//cdnjs.cloudflare.com/ajax/libs/Leaflet.awesome-markers/2.0.2/leaflet.awesome-markers.css%22/%3E%0A%20%20%20%20%3Clink%20rel%3D%22stylesheet%22%20href%3D%22https%3A//cdn.jsdelivr.net/gh/python-visualization/folium/folium/templates/leaflet.awesome.rotate.min.css%22/%3E%0A%20%20%20%20%0A%20%20%20%20%20%20%20%20%20%20%20%20%3Cmeta%20name%3D%22viewport%22%20content%3D%22width%3Ddevice-width%2C%0A%20%20%20%20%20%20%20%20%20%20%20%20%20%20%20%20initial-scale%3D1.0%2C%20maximum-scale%3D1.0%2C%20user-scalable%3Dno%22%20/%3E%0A%20%20%20%20%20%20%20%20%20%20%20%20%3Cstyle%3E%0A%20%20%20%20%20%20%20%20%20%20%20%20%20%20%20%20%23map_cfe36b34428f4fe8a0ae0676ac7a4bf2%20%7B%0A%20%20%20%20%20%20%20%20%20%20%20%20%20%20%20%20%20%20%20%20position%3A%20relative%3B%0A%20%20%20%20%20%20%20%20%20%20%20%20%20%20%20%20%20%20%20%20width%3A%20100.0%25%3B%0A%20%20%20%20%20%20%20%20%20%20%20%20%20%20%20%20%20%20%20%20height%3A%20100.0%25%3B%0A%20%20%20%20%20%20%20%20%20%20%20%20%20%20%20%20%20%20%20%20left%3A%200.0%25%3B%0A%20%20%20%20%20%20%20%20%20%20%20%20%20%20%20%20%20%20%20%20top%3A%200.0%25%3B%0A%20%20%20%20%20%20%20%20%20%20%20%20%20%20%20%20%7D%0A%20%20%20%20%20%20%20%20%20%20%20%20%3C/style%3E%0A%20%20%20%20%20%20%20%20%0A%20%20%20%20%3Cscript%20src%3D%22https%3A//cdnjs.cloudflare.com/ajax/libs/leaflet.markercluster/1.1.0/leaflet.markercluster.js%22%3E%3C/script%3E%0A%20%20%20%20%3Clink%20rel%3D%22stylesheet%22%20href%3D%22https%3A//cdnjs.cloudflare.com/ajax/libs/leaflet.markercluster/1.1.0/MarkerCluster.css%22/%3E%0A%20%20%20%20%3Clink%20rel%3D%22stylesheet%22%20href%3D%22https%3A//cdnjs.cloudflare.com/ajax/libs/leaflet.markercluster/1.1.0/MarkerCluster.Default.css%22/%3E%0A%3C/head%3E%0A%3Cbody%3E%20%20%20%20%0A%20%20%20%20%0A%20%20%20%20%20%20%20%20%20%20%20%20%3Cdiv%20class%3D%22folium-map%22%20id%3D%22map_cfe36b34428f4fe8a0ae0676ac7a4bf2%22%20%3E%3C/div%3E%0A%20%20%20%20%20%20%20%20%0A%3C/body%3E%0A%3Cscript%3E%20%20%20%20%0A%20%20%20%20%0A%20%20%20%20%20%20%20%20%20%20%20%20var%20map_cfe36b34428f4fe8a0ae0676ac7a4bf2%20%3D%20L.map%28%0A%20%20%20%20%20%20%20%20%20%20%20%20%20%20%20%20%22map_cfe36b34428f4fe8a0ae0676ac7a4bf2%22%2C%0A%20%20%20%20%20%20%20%20%20%20%20%20%20%20%20%20%7B%0A%20%20%20%20%20%20%20%20%20%20%20%20%20%20%20%20%20%20%20%20center%3A%20%5B0%2C%200%5D%2C%0A%20%20%20%20%20%20%20%20%20%20%20%20%20%20%20%20%20%20%20%20crs%3A%20L.CRS.EPSG3857%2C%0A%20%20%20%20%20%20%20%20%20%20%20%20%20%20%20%20%20%20%20%20zoom%3A%201%2C%0A%20%20%20%20%20%20%20%20%20%20%20%20%20%20%20%20%20%20%20%20zoomControl%3A%20true%2C%0A%20%20%20%20%20%20%20%20%20%20%20%20%20%20%20%20%20%20%20%20preferCanvas%3A%20false%2C%0A%20%20%20%20%20%20%20%20%20%20%20%20%20%20%20%20%7D%0A%20%20%20%20%20%20%20%20%20%20%20%20%29%3B%0A%0A%20%20%20%20%20%20%20%20%20%20%20%20%0A%0A%20%20%20%20%20%20%20%20%0A%20%20%20%20%0A%20%20%20%20%20%20%20%20%20%20%20%20var%20tile_layer_f0e17ed4f1404db7928cf7415fdd108e%20%3D%20L.tileLayer%28%0A%20%20%20%20%20%20%20%20%20%20%20%20%20%20%20%20%22https%3A//cartodb-basemaps-%7Bs%7D.global.ssl.fastly.net/light_all/%7Bz%7D/%7Bx%7D/%7By%7D.png%22%2C%0A%20%20%20%20%20%20%20%20%20%20%20%20%20%20%20%20%7B%22attribution%22%3A%20%22%5Cu0026copy%3B%20%5Cu003ca%20href%3D%5C%22http%3A//www.openstreetmap.org/copyright%5C%22%5Cu003eOpenStreetMap%5Cu003c/a%5Cu003e%20contributors%20%5Cu0026copy%3B%20%5Cu003ca%20href%3D%5C%22http%3A//cartodb.com/attributions%5C%22%5Cu003eCartoDB%5Cu003c/a%5Cu003e%2C%20CartoDB%20%5Cu003ca%20href%20%3D%5C%22http%3A//cartodb.com/attributions%5C%22%5Cu003eattributions%5Cu003c/a%5Cu003e%22%2C%20%22detectRetina%22%3A%20false%2C%20%22maxNativeZoom%22%3A%2018%2C%20%22maxZoom%22%3A%2018%2C%20%22minZoom%22%3A%200%2C%20%22noWrap%22%3A%20false%2C%20%22opacity%22%3A%201%2C%20%22subdomains%22%3A%20%22abc%22%2C%20%22tms%22%3A%20false%7D%0A%20%20%20%20%20%20%20%20%20%20%20%20%29.addTo%28map_cfe36b34428f4fe8a0ae0676ac7a4bf2%29%3B%0A%20%20%20%20%20%20%20%20%0A%20%20%20%20%0A%20%20%20%20%20%20%20%20%20%20%20%20var%20marker_cluster_39ce51d6bd904fc8a93475e13c65a25b%20%3D%20L.markerClusterGroup%28%0A%20%20%20%20%20%20%20%20%20%20%20%20%20%20%20%20%7B%7D%0A%20%20%20%20%20%20%20%20%20%20%20%20%29%3B%0A%20%20%20%20%20%20%20%20%20%20%20%20map_cfe36b34428f4fe8a0ae0676ac7a4bf2.addLayer%28marker_cluster_39ce51d6bd904fc8a93475e13c65a25b%29%3B%0A%20%20%20%20%20%20%20%20%0A%20%20%20%20%0A%20%20%20%20%20%20%20%20%20%20%20%20var%20circle_marker_1faa9b6b239d4b2c988f20260e108c51%20%3D%20L.circleMarker%28%0A%20%20%20%20%20%20%20%20%20%20%20%20%20%20%20%20%5B40.0332629%2C%20-7.8896263%5D%2C%0A%20%20%20%20%20%20%20%20%20%20%20%20%20%20%20%20%7B%22bubblingMouseEvents%22%3A%20true%2C%20%22color%22%3A%20%22%233388ff%22%2C%20%22dashArray%22%3A%20null%2C%20%22dashOffset%22%3A%20null%2C%20%22fill%22%3A%20true%2C%20%22fillColor%22%3A%20%22%233388ff%22%2C%20%22fillOpacity%22%3A%200.2%2C%20%22fillRule%22%3A%20%22evenodd%22%2C%20%22lineCap%22%3A%20%22round%22%2C%20%22lineJoin%22%3A%20%22round%22%2C%20%22opacity%22%3A%201.0%2C%20%22radius%22%3A%2010%2C%20%22stroke%22%3A%20true%2C%20%22weight%22%3A%203%7D%0A%20%20%20%20%20%20%20%20%20%20%20%20%29.addTo%28marker_cluster_39ce51d6bd904fc8a93475e13c65a25b%29%3B%0A%20%20%20%20%20%20%20%20%0A%20%20%20%20%0A%20%20%20%20%20%20%20%20var%20popup_da33280106d446da92cd627e6d89c8a8%20%3D%20L.popup%28%7B%22maxWidth%22%3A%20%22100%25%22%7D%29%3B%0A%0A%20%20%20%20%20%20%20%20%0A%20%20%20%20%20%20%20%20%20%20%20%20var%20html_737f4ec2dcd24ff08fabf63813c8b414%20%3D%20%24%28%60%3Cdiv%20id%3D%22html_737f4ec2dcd24ff08fabf63813c8b414%22%20style%3D%22width%3A%20100.0%25%3B%20height%3A%20100.0%25%3B%22%3EBruno%20Fernandes%2C%20Manchester%20United%20%20%20%20%20%20%20%20%20%20%20%20%20%20%20%20%20%20%20%20%20Rating%20%3A%2088%20%20%20%20%20%20%20%20%20%20%20%20%20%20%20%20%20%20%20%20%20%3C/div%3E%60%29%5B0%5D%3B%0A%20%20%20%20%20%20%20%20%20%20%20%20popup_da33280106d446da92cd627e6d89c8a8.setContent%28html_737f4ec2dcd24ff08fabf63813c8b414%29%3B%0A%20%20%20%20%20%20%20%20%0A%0A%20%20%20%20%20%20%20%20circle_marker_1faa9b6b239d4b2c988f20260e108c51.bindPopup%28popup_da33280106d446da92cd627e6d89c8a8%29%0A%20%20%20%20%20%20%20%20%3B%0A%0A%20%20%20%20%20%20%20%20%0A%20%20%20%20%0A%20%20%20%20%0A%20%20%20%20%20%20%20%20%20%20%20%20var%20circle_marker_78f9eae2648444f68931372d259a4b2d%20%3D%20L.circleMarker%28%0A%20%20%20%20%20%20%20%20%20%20%20%20%20%20%20%20%5B51.0834196%2C%2010.4234469%5D%2C%0A%20%20%20%20%20%20%20%20%20%20%20%20%20%20%20%20%7B%22bubblingMouseEvents%22%3A%20true%2C%20%22color%22%3A%20%22%233388ff%22%2C%20%22dashArray%22%3A%20null%2C%20%22dashOffset%22%3A%20null%2C%20%22fill%22%3A%20true%2C%20%22fillColor%22%3A%20%22%233388ff%22%2C%20%22fillOpacity%22%3A%200.2%2C%20%22fillRule%22%3A%20%22evenodd%22%2C%20%22lineCap%22%3A%20%22round%22%2C%20%22lineJoin%22%3A%20%22round%22%2C%20%22opacity%22%3A%201.0%2C%20%22radius%22%3A%2010%2C%20%22stroke%22%3A%20true%2C%20%22weight%22%3A%203%7D%0A%20%20%20%20%20%20%20%20%20%20%20%20%29.addTo%28marker_cluster_39ce51d6bd904fc8a93475e13c65a25b%29%3B%0A%20%20%20%20%20%20%20%20%0A%20%20%20%20%0A%20%20%20%20%20%20%20%20var%20popup_6cda073d7abc4bbba7d1873ecc831440%20%3D%20L.popup%28%7B%22maxWidth%22%3A%20%22100%25%22%7D%29%3B%0A%0A%20%20%20%20%20%20%20%20%0A%20%20%20%20%20%20%20%20%20%20%20%20var%20html_2ca80e6ffab74315bf07b31ab9209cf0%20%3D%20%24%28%60%3Cdiv%20id%3D%22html_2ca80e6ffab74315bf07b31ab9209cf0%22%20style%3D%22width%3A%20100.0%25%3B%20height%3A%20100.0%25%3B%22%3EL.%20Goretzka%2C%20FC%20Bayern%20M%C3%BCnchen%20%20%20%20%20%20%20%20%20%20%20%20%20%20%20%20%20%20%20%20%20Rating%20%3A%2087%20%20%20%20%20%20%20%20%20%20%20%20%20%20%20%20%20%20%20%20%20%3C/div%3E%60%29%5B0%5D%3B%0A%20%20%20%20%20%20%20%20%20%20%20%20popup_6cda073d7abc4bbba7d1873ecc831440.setContent%28html_2ca80e6ffab74315bf07b31ab9209cf0%29%3B%0A%20%20%20%20%20%20%20%20%0A%0A%20%20%20%20%20%20%20%20circle_marker_78f9eae2648444f68931372d259a4b2d.bindPopup%28popup_6cda073d7abc4bbba7d1873ecc831440%29%0A%20%20%20%20%20%20%20%20%3B%0A%0A%20%20%20%20%20%20%20%20%0A%20%20%20%20%0A%20%20%20%20%0A%20%20%20%20%20%20%20%20%20%20%20%20var%20circle_marker_bbd5ff6f78934be791805bb9ad803466%20%3D%20L.circleMarker%28%0A%20%20%20%20%20%20%20%20%20%20%20%20%20%20%20%20%5B-32.8755548%2C%20-56.0201525%5D%2C%0A%20%20%20%20%20%20%20%20%20%20%20%20%20%20%20%20%7B%22bubblingMouseEvents%22%3A%20true%2C%20%22color%22%3A%20%22%233388ff%22%2C%20%22dashArray%22%3A%20null%2C%20%22dashOffset%22%3A%20null%2C%20%22fill%22%3A%20true%2C%20%22fillColor%22%3A%20%22%233388ff%22%2C%20%22fillOpacity%22%3A%200.2%2C%20%22fillRule%22%3A%20%22evenodd%22%2C%20%22lineCap%22%3A%20%22round%22%2C%20%22lineJoin%22%3A%20%22round%22%2C%20%22opacity%22%3A%201.0%2C%20%22radius%22%3A%2010%2C%20%22stroke%22%3A%20true%2C%20%22weight%22%3A%203%7D%0A%20%20%20%20%20%20%20%20%20%20%20%20%29.addTo%28marker_cluster_39ce51d6bd904fc8a93475e13c65a25b%29%3B%0A%20%20%20%20%20%20%20%20%0A%20%20%20%20%0A%20%20%20%20%20%20%20%20var%20popup_bb15fc108d784f82ace16524843fcc95%20%3D%20L.popup%28%7B%22maxWidth%22%3A%20%22100%25%22%7D%29%3B%0A%0A%20%20%20%20%20%20%20%20%0A%20%20%20%20%20%20%20%20%20%20%20%20var%20html_6d9b87fbef9645bcb320f097b1c3c403%20%3D%20%24%28%60%3Cdiv%20id%3D%22html_6d9b87fbef9645bcb320f097b1c3c403%22%20style%3D%22width%3A%20100.0%25%3B%20height%3A%20100.0%25%3B%22%3EL.%20Suarez%2C%20Atl%C3%A9tico%20de%20Madrid%20%20%20%20%20%20%20%20%20%20%20%20%20%20%20%20%20%20%20%20%20Rating%20%3A%2088%20%20%20%20%20%20%20%20%20%20%20%20%20%20%20%20%20%20%20%20%20%3C/div%3E%60%29%5B0%5D%3B%0A%20%20%20%20%20%20%20%20%20%20%20%20popup_bb15fc108d784f82ace16524843fcc95.setContent%28html_6d9b87fbef9645bcb320f097b1c3c403%29%3B%0A%20%20%20%20%20%20%20%20%0A%0A%20%20%20%20%20%20%20%20circle_marker_bbd5ff6f78934be791805bb9ad803466.bindPopup%28popup_bb15fc108d784f82ace16524843fcc95%29%0A%20%20%20%20%20%20%20%20%3B%0A%0A%20%20%20%20%20%20%20%20%0A%20%20%20%20%0A%20%20%20%20%0A%20%20%20%20%20%20%20%20%20%20%20%20var%20circle_marker_00aced0d3d414b1fb638e88deb9539a0%20%3D%20L.circleMarker%28%0A%20%20%20%20%20%20%20%20%20%20%20%20%20%20%20%20%5B50.6402809%2C%204.6667145%5D%2C%0A%20%20%20%20%20%20%20%20%20%20%20%20%20%20%20%20%7B%22bubblingMouseEvents%22%3A%20true%2C%20%22color%22%3A%20%22%233388ff%22%2C%20%22dashArray%22%3A%20null%2C%20%22dashOffset%22%3A%20null%2C%20%22fill%22%3A%20true%2C%20%22fillColor%22%3A%20%22%233388ff%22%2C%20%22fillOpacity%22%3A%200.2%2C%20%22fillRule%22%3A%20%22evenodd%22%2C%20%22lineCap%22%3A%20%22round%22%2C%20%22lineJoin%22%3A%20%22round%22%2C%20%22opacity%22%3A%201.0%2C%20%22radius%22%3A%2010%2C%20%22stroke%22%3A%20true%2C%20%22weight%22%3A%203%7D%0A%20%20%20%20%20%20%20%20%20%20%20%20%29.addTo%28marker_cluster_39ce51d6bd904fc8a93475e13c65a25b%29%3B%0A%20%20%20%20%20%20%20%20%0A%20%20%20%20%0A%20%20%20%20%20%20%20%20var%20popup_26f83daaef0f43ac9c469fe27ed8bc16%20%3D%20L.popup%28%7B%22maxWidth%22%3A%20%22100%25%22%7D%29%3B%0A%0A%20%20%20%20%20%20%20%20%0A%20%20%20%20%20%20%20%20%20%20%20%20var%20html_23803b646a3541dea2d1b325ecf08fc9%20%3D%20%24%28%60%3Cdiv%20id%3D%22html_23803b646a3541dea2d1b325ecf08fc9%22%20style%3D%22width%3A%20100.0%25%3B%20height%3A%20100.0%25%3B%22%3EK.%20De%20Bruyne%2C%20Manchester%20City%20%20%20%20%20%20%20%20%20%20%20%20%20%20%20%20%20%20%20%20%20Rating%20%3A%2091%20%20%20%20%20%20%20%20%20%20%20%20%20%20%20%20%20%20%20%20%20%3C/div%3E%60%29%5B0%5D%3B%0A%20%20%20%20%20%20%20%20%20%20%20%20popup_26f83daaef0f43ac9c469fe27ed8bc16.setContent%28html_23803b646a3541dea2d1b325ecf08fc9%29%3B%0A%20%20%20%20%20%20%20%20%0A%0A%20%20%20%20%20%20%20%20circle_marker_00aced0d3d414b1fb638e88deb9539a0.bindPopup%28popup_26f83daaef0f43ac9c469fe27ed8bc16%29%0A%20%20%20%20%20%20%20%20%3B%0A%0A%20%20%20%20%20%20%20%20%0A%20%20%20%20%0A%20%20%20%20%0A%20%20%20%20%20%20%20%20%20%20%20%20var%20circle_marker_043ecb6fe05d4b90865aa30d367881e7%20%3D%20L.circleMarker%28%0A%20%20%20%20%20%20%20%20%20%20%20%20%20%20%20%20%5B51.0834196%2C%2010.4234469%5D%2C%0A%20%20%20%20%20%20%20%20%20%20%20%20%20%20%20%20%7B%22bubblingMouseEvents%22%3A%20true%2C%20%22color%22%3A%20%22%233388ff%22%2C%20%22dashArray%22%3A%20null%2C%20%22dashOffset%22%3A%20null%2C%20%22fill%22%3A%20true%2C%20%22fillColor%22%3A%20%22%233388ff%22%2C%20%22fillOpacity%22%3A%200.2%2C%20%22fillRule%22%3A%20%22evenodd%22%2C%20%22lineCap%22%3A%20%22round%22%2C%20%22lineJoin%22%3A%20%22round%22%2C%20%22opacity%22%3A%201.0%2C%20%22radius%22%3A%2010%2C%20%22stroke%22%3A%20true%2C%20%22weight%22%3A%203%7D%0A%20%20%20%20%20%20%20%20%20%20%20%20%29.addTo%28marker_cluster_39ce51d6bd904fc8a93475e13c65a25b%29%3B%0A%20%20%20%20%20%20%20%20%0A%20%20%20%20%0A%20%20%20%20%20%20%20%20var%20popup_6a9ce0eb2e5c4997a8b111ae06f8912b%20%3D%20L.popup%28%7B%22maxWidth%22%3A%20%22100%25%22%7D%29%3B%0A%0A%20%20%20%20%20%20%20%20%0A%20%20%20%20%20%20%20%20%20%20%20%20var%20html_497ca28c2c704bf2990268a84fdabc08%20%3D%20%24%28%60%3Cdiv%20id%3D%22html_497ca28c2c704bf2990268a84fdabc08%22%20style%3D%22width%3A%20100.0%25%3B%20height%3A%20100.0%25%3B%22%3EJ.%20Kimmich%2C%20FC%20Bayern%20M%C3%BCnchen%20%20%20%20%20%20%20%20%20%20%20%20%20%20%20%20%20%20%20%20%20Rating%20%3A%2089%20%20%20%20%20%20%20%20%20%20%20%20%20%20%20%20%20%20%20%20%20%3C/div%3E%60%29%5B0%5D%3B%0A%20%20%20%20%20%20%20%20%20%20%20%20popup_6a9ce0eb2e5c4997a8b111ae06f8912b.setContent%28html_497ca28c2c704bf2990268a84fdabc08%29%3B%0A%20%20%20%20%20%20%20%20%0A%0A%20%20%20%20%20%20%20%20circle_marker_043ecb6fe05d4b90865aa30d367881e7.bindPopup%28popup_6a9ce0eb2e5c4997a8b111ae06f8912b%29%0A%20%20%20%20%20%20%20%20%3B%0A%0A%20%20%20%20%20%20%20%20%0A%20%20%20%20%0A%20%20%20%20%0A%20%20%20%20%20%20%20%20%20%20%20%20var%20circle_marker_1f052d56f0e14193a5397608a255cac7%20%3D%20L.circleMarker%28%0A%20%20%20%20%20%20%20%20%20%20%20%20%20%20%20%20%5B45.5643442%2C%2017.0118954%5D%2C%0A%20%20%20%20%20%20%20%20%20%20%20%20%20%20%20%20%7B%22bubblingMouseEvents%22%3A%20true%2C%20%22color%22%3A%20%22%233388ff%22%2C%20%22dashArray%22%3A%20null%2C%20%22dashOffset%22%3A%20null%2C%20%22fill%22%3A%20true%2C%20%22fillColor%22%3A%20%22%233388ff%22%2C%20%22fillOpacity%22%3A%200.2%2C%20%22fillRule%22%3A%20%22evenodd%22%2C%20%22lineCap%22%3A%20%22round%22%2C%20%22lineJoin%22%3A%20%22round%22%2C%20%22opacity%22%3A%201.0%2C%20%22radius%22%3A%2010%2C%20%22stroke%22%3A%20true%2C%20%22weight%22%3A%203%7D%0A%20%20%20%20%20%20%20%20%20%20%20%20%29.addTo%28marker_cluster_39ce51d6bd904fc8a93475e13c65a25b%29%3B%0A%20%20%20%20%20%20%20%20%0A%20%20%20%20%0A%20%20%20%20%20%20%20%20var%20popup_993c9b78fdd94b64b0e2468c038d9845%20%3D%20L.popup%28%7B%22maxWidth%22%3A%20%22100%25%22%7D%29%3B%0A%0A%20%20%20%20%20%20%20%20%0A%20%20%20%20%20%20%20%20%20%20%20%20var%20html_07404d27ba6b42e48822009debf0ff1e%20%3D%20%24%28%60%3Cdiv%20id%3D%22html_07404d27ba6b42e48822009debf0ff1e%22%20style%3D%22width%3A%20100.0%25%3B%20height%3A%20100.0%25%3B%22%3EL.%20Modric%2C%20Real%20Madrid%20CF%20%20%20%20%20%20%20%20%20%20%20%20%20%20%20%20%20%20%20%20%20Rating%20%3A%2087%20%20%20%20%20%20%20%20%20%20%20%20%20%20%20%20%20%20%20%20%20%3C/div%3E%60%29%5B0%5D%3B%0A%20%20%20%20%20%20%20%20%20%20%20%20popup_993c9b78fdd94b64b0e2468c038d9845.setContent%28html_07404d27ba6b42e48822009debf0ff1e%29%3B%0A%20%20%20%20%20%20%20%20%0A%0A%20%20%20%20%20%20%20%20circle_marker_1f052d56f0e14193a5397608a255cac7.bindPopup%28popup_993c9b78fdd94b64b0e2468c038d9845%29%0A%20%20%20%20%20%20%20%20%3B%0A%0A%20%20%20%20%20%20%20%20%0A%20%20%20%20%0A%20%20%20%20%0A%20%20%20%20%20%20%20%20%20%20%20%20var%20circle_marker_51cc7dffe85f427ba118a70e604fbbaa%20%3D%20L.circleMarker%28%0A%20%20%20%20%20%20%20%20%20%20%20%20%20%20%20%20%5B39.3260685%2C%20-4.8379791%5D%2C%0A%20%20%20%20%20%20%20%20%20%20%20%20%20%20%20%20%7B%22bubblingMouseEvents%22%3A%20true%2C%20%22color%22%3A%20%22%233388ff%22%2C%20%22dashArray%22%3A%20null%2C%20%22dashOffset%22%3A%20null%2C%20%22fill%22%3A%20true%2C%20%22fillColor%22%3A%20%22%233388ff%22%2C%20%22fillOpacity%22%3A%200.2%2C%20%22fillRule%22%3A%20%22evenodd%22%2C%20%22lineCap%22%3A%20%22round%22%2C%20%22lineJoin%22%3A%20%22round%22%2C%20%22opacity%22%3A%201.0%2C%20%22radius%22%3A%2010%2C%20%22stroke%22%3A%20true%2C%20%22weight%22%3A%203%7D%0A%20%20%20%20%20%20%20%20%20%20%20%20%29.addTo%28marker_cluster_39ce51d6bd904fc8a93475e13c65a25b%29%3B%0A%20%20%20%20%20%20%20%20%0A%20%20%20%20%0A%20%20%20%20%20%20%20%20var%20popup_6b0c71e280d643e8b7f9e166675a33a4%20%3D%20L.popup%28%7B%22maxWidth%22%3A%20%22100%25%22%7D%29%3B%0A%0A%20%20%20%20%20%20%20%20%0A%20%20%20%20%20%20%20%20%20%20%20%20var%20html_9a7733205f5d4962845cd58e92685dcb%20%3D%20%24%28%60%3Cdiv%20id%3D%22html_9a7733205f5d4962845cd58e92685dcb%22%20style%3D%22width%3A%20100.0%25%3B%20height%3A%20100.0%25%3B%22%3EMarcos%20Llorente%2C%20Atl%C3%A9tico%20de%20Madrid%20%20%20%20%20%20%20%20%20%20%20%20%20%20%20%20%20%20%20%20%20Rating%20%3A%2086%20%20%20%20%20%20%20%20%20%20%20%20%20%20%20%20%20%20%20%20%20%3C/div%3E%60%29%5B0%5D%3B%0A%20%20%20%20%20%20%20%20%20%20%20%20popup_6b0c71e280d643e8b7f9e166675a33a4.setContent%28html_9a7733205f5d4962845cd58e92685dcb%29%3B%0A%20%20%20%20%20%20%20%20%0A%0A%20%20%20%20%20%20%20%20circle_marker_51cc7dffe85f427ba118a70e604fbbaa.bindPopup%28popup_6b0c71e280d643e8b7f9e166675a33a4%29%0A%20%20%20%20%20%20%20%20%3B%0A%0A%20%20%20%20%20%20%20%20%0A%20%20%20%20%0A%20%20%20%20%0A%20%20%20%20%20%20%20%20%20%20%20%20var%20circle_marker_d291cbbfb8f84e2cb9c5932175eec6da%20%3D%20L.circleMarker%28%0A%20%20%20%20%20%20%20%20%20%20%20%20%20%20%20%20%5B39.3260685%2C%20-4.8379791%5D%2C%0A%20%20%20%20%20%20%20%20%20%20%20%20%20%20%20%20%7B%22bubblingMouseEvents%22%3A%20true%2C%20%22color%22%3A%20%22%233388ff%22%2C%20%22dashArray%22%3A%20null%2C%20%22dashOffset%22%3A%20null%2C%20%22fill%22%3A%20true%2C%20%22fillColor%22%3A%20%22%233388ff%22%2C%20%22fillOpacity%22%3A%200.2%2C%20%22fillRule%22%3A%20%22evenodd%22%2C%20%22lineCap%22%3A%20%22round%22%2C%20%22lineJoin%22%3A%20%22round%22%2C%20%22opacity%22%3A%201.0%2C%20%22radius%22%3A%2010%2C%20%22stroke%22%3A%20true%2C%20%22weight%22%3A%203%7D%0A%20%20%20%20%20%20%20%20%20%20%20%20%29.addTo%28marker_cluster_39ce51d6bd904fc8a93475e13c65a25b%29%3B%0A%20%20%20%20%20%20%20%20%0A%20%20%20%20%0A%20%20%20%20%20%20%20%20var%20popup_d9ab210515e54e879c7fc9c2bee9d337%20%3D%20L.popup%28%7B%22maxWidth%22%3A%20%22100%25%22%7D%29%3B%0A%0A%20%20%20%20%20%20%20%20%0A%20%20%20%20%20%20%20%20%20%20%20%20var%20html_6f1f0108b53b4574a0af264bd441345d%20%3D%20%24%28%60%3Cdiv%20id%3D%22html_6f1f0108b53b4574a0af264bd441345d%22%20style%3D%22width%3A%20100.0%25%3B%20height%3A%20100.0%25%3B%22%3ESergio%20Ramos%2C%20Paris%20Saint-Germain%20%20%20%20%20%20%20%20%20%20%20%20%20%20%20%20%20%20%20%20%20Rating%20%3A%2088%20%20%20%20%20%20%20%20%20%20%20%20%20%20%20%20%20%20%20%20%20%3C/div%3E%60%29%5B0%5D%3B%0A%20%20%20%20%20%20%20%20%20%20%20%20popup_d9ab210515e54e879c7fc9c2bee9d337.setContent%28html_6f1f0108b53b4574a0af264bd441345d%29%3B%0A%20%20%20%20%20%20%20%20%0A%0A%20%20%20%20%20%20%20%20circle_marker_d291cbbfb8f84e2cb9c5932175eec6da.bindPopup%28popup_d9ab210515e54e879c7fc9c2bee9d337%29%0A%20%20%20%20%20%20%20%20%3B%0A%0A%20%20%20%20%20%20%20%20%0A%20%20%20%20%0A%20%20%20%20%0A%20%20%20%20%20%20%20%20%20%20%20%20var%20circle_marker_db4b6a38e0604dacb1491e493dbce4af%20%3D%20L.circleMarker%28%0A%20%20%20%20%20%20%20%20%20%20%20%20%20%20%20%20%5B52.15517%2C%205.38721%5D%2C%0A%20%20%20%20%20%20%20%20%20%20%20%20%20%20%20%20%7B%22bubblingMouseEvents%22%3A%20true%2C%20%22color%22%3A%20%22%233388ff%22%2C%20%22dashArray%22%3A%20null%2C%20%22dashOffset%22%3A%20null%2C%20%22fill%22%3A%20true%2C%20%22fillColor%22%3A%20%22%233388ff%22%2C%20%22fillOpacity%22%3A%200.2%2C%20%22fillRule%22%3A%20%22evenodd%22%2C%20%22lineCap%22%3A%20%22round%22%2C%20%22lineJoin%22%3A%20%22round%22%2C%20%22opacity%22%3A%201.0%2C%20%22radius%22%3A%2010%2C%20%22stroke%22%3A%20true%2C%20%22weight%22%3A%203%7D%0A%20%20%20%20%20%20%20%20%20%20%20%20%29.addTo%28marker_cluster_39ce51d6bd904fc8a93475e13c65a25b%29%3B%0A%20%20%20%20%20%20%20%20%0A%20%20%20%20%0A%20%20%20%20%20%20%20%20var%20popup_1e27aa048b5143d3b8ad4ecb819e0659%20%3D%20L.popup%28%7B%22maxWidth%22%3A%20%22100%25%22%7D%29%3B%0A%0A%20%20%20%20%20%20%20%20%0A%20%20%20%20%20%20%20%20%20%20%20%20var%20html_76c12f87c9ce475dbdd9dfb017fc7930%20%3D%20%24%28%60%3Cdiv%20id%3D%22html_76c12f87c9ce475dbdd9dfb017fc7930%22%20style%3D%22width%3A%20100.0%25%3B%20height%3A%20100.0%25%3B%22%3EF.%20de%20Jong%2C%20FC%20Barcelona%20%20%20%20%20%20%20%20%20%20%20%20%20%20%20%20%20%20%20%20%20Rating%20%3A%2087%20%20%20%20%20%20%20%20%20%20%20%20%20%20%20%20%20%20%20%20%20%3C/div%3E%60%29%5B0%5D%3B%0A%20%20%20%20%20%20%20%20%20%20%20%20popup_1e27aa048b5143d3b8ad4ecb819e0659.setContent%28html_76c12f87c9ce475dbdd9dfb017fc7930%29%3B%0A%20%20%20%20%20%20%20%20%0A%0A%20%20%20%20%20%20%20%20circle_marker_db4b6a38e0604dacb1491e493dbce4af.bindPopup%28popup_1e27aa048b5143d3b8ad4ecb819e0659%29%0A%20%20%20%20%20%20%20%20%3B%0A%0A%20%20%20%20%20%20%20%20%0A%20%20%20%20%0A%20%20%20%20%0A%20%20%20%20%20%20%20%20%20%20%20%20var%20circle_marker_962dbb0719814fd689aa5cf45162b151%20%3D%20L.circleMarker%28%0A%20%20%20%20%20%20%20%20%20%20%20%20%20%20%20%20%5B40.0332629%2C%20-7.8896263%5D%2C%0A%20%20%20%20%20%20%20%20%20%20%20%20%20%20%20%20%7B%22bubblingMouseEvents%22%3A%20true%2C%20%22color%22%3A%20%22%233388ff%22%2C%20%22dashArray%22%3A%20null%2C%20%22dashOffset%22%3A%20null%2C%20%22fill%22%3A%20true%2C%20%22fillColor%22%3A%20%22%233388ff%22%2C%20%22fillOpacity%22%3A%200.2%2C%20%22fillRule%22%3A%20%22evenodd%22%2C%20%22lineCap%22%3A%20%22round%22%2C%20%22lineJoin%22%3A%20%22round%22%2C%20%22opacity%22%3A%201.0%2C%20%22radius%22%3A%2010%2C%20%22stroke%22%3A%20true%2C%20%22weight%22%3A%203%7D%0A%20%20%20%20%20%20%20%20%20%20%20%20%29.addTo%28marker_cluster_39ce51d6bd904fc8a93475e13c65a25b%29%3B%0A%20%20%20%20%20%20%20%20%0A%20%20%20%20%0A%20%20%20%20%20%20%20%20var%20popup_64c02c96d5c44843bfc6fdf7d31c9d42%20%3D%20L.popup%28%7B%22maxWidth%22%3A%20%22100%25%22%7D%29%3B%0A%0A%20%20%20%20%20%20%20%20%0A%20%20%20%20%20%20%20%20%20%20%20%20var%20html_293358fd758242d7a0ab8d1f581d1cd4%20%3D%20%24%28%60%3Cdiv%20id%3D%22html_293358fd758242d7a0ab8d1f581d1cd4%22%20style%3D%22width%3A%20100.0%25%3B%20height%3A%20100.0%25%3B%22%3EJoao%20Cancelo%2C%20Manchester%20City%20%20%20%20%20%20%20%20%20%20%20%20%20%20%20%20%20%20%20%20%20Rating%20%3A%2086%20%20%20%20%20%20%20%20%20%20%20%20%20%20%20%20%20%20%20%20%20%3C/div%3E%60%29%5B0%5D%3B%0A%20%20%20%20%20%20%20%20%20%20%20%20popup_64c02c96d5c44843bfc6fdf7d31c9d42.setContent%28html_293358fd758242d7a0ab8d1f581d1cd4%29%3B%0A%20%20%20%20%20%20%20%20%0A%0A%20%20%20%20%20%20%20%20circle_marker_962dbb0719814fd689aa5cf45162b151.bindPopup%28popup_64c02c96d5c44843bfc6fdf7d31c9d42%29%0A%20%20%20%20%20%20%20%20%3B%0A%0A%20%20%20%20%20%20%20%20%0A%20%20%20%20%0A%20%20%20%20%0A%20%20%20%20%20%20%20%20%20%20%20%20var%20circle_marker_4534536782ca40f6845e21adeff73341%20%3D%20L.circleMarker%28%0A%20%20%20%20%20%20%20%20%20%20%20%20%20%20%20%20%5B52.5310214%2C%20-1.2649062%5D%2C%0A%20%20%20%20%20%20%20%20%20%20%20%20%20%20%20%20%7B%22bubblingMouseEvents%22%3A%20true%2C%20%22color%22%3A%20%22%233388ff%22%2C%20%22dashArray%22%3A%20null%2C%20%22dashOffset%22%3A%20null%2C%20%22fill%22%3A%20true%2C%20%22fillColor%22%3A%20%22%233388ff%22%2C%20%22fillOpacity%22%3A%200.2%2C%20%22fillRule%22%3A%20%22evenodd%22%2C%20%22lineCap%22%3A%20%22round%22%2C%20%22lineJoin%22%3A%20%22round%22%2C%20%22opacity%22%3A%201.0%2C%20%22radius%22%3A%2010%2C%20%22stroke%22%3A%20true%2C%20%22weight%22%3A%203%7D%0A%20%20%20%20%20%20%20%20%20%20%20%20%29.addTo%28marker_cluster_39ce51d6bd904fc8a93475e13c65a25b%29%3B%0A%20%20%20%20%20%20%20%20%0A%20%20%20%20%0A%20%20%20%20%20%20%20%20var%20popup_3152d7544c6e40019556ee84d5e014d6%20%3D%20L.popup%28%7B%22maxWidth%22%3A%20%22100%25%22%7D%29%3B%0A%0A%20%20%20%20%20%20%20%20%0A%20%20%20%20%20%20%20%20%20%20%20%20var%20html_a42d8f4577614118b89698868edd912e%20%3D%20%24%28%60%3Cdiv%20id%3D%22html_a42d8f4577614118b89698868edd912e%22%20style%3D%22width%3A%20100.0%25%3B%20height%3A%20100.0%25%3B%22%3ET.%20Alexander-Arnold%2C%20Liverpool%20%20%20%20%20%20%20%20%20%20%20%20%20%20%20%20%20%20%20%20%20Rating%20%3A%2087%20%20%20%20%20%20%20%20%20%20%20%20%20%20%20%20%20%20%20%20%20%3C/div%3E%60%29%5B0%5D%3B%0A%20%20%20%20%20%20%20%20%20%20%20%20popup_3152d7544c6e40019556ee84d5e014d6.setContent%28html_a42d8f4577614118b89698868edd912e%29%3B%0A%20%20%20%20%20%20%20%20%0A%0A%20%20%20%20%20%20%20%20circle_marker_4534536782ca40f6845e21adeff73341.bindPopup%28popup_3152d7544c6e40019556ee84d5e014d6%29%0A%20%20%20%20%20%20%20%20%3B%0A%0A%20%20%20%20%20%20%20%20%0A%20%20%20%20%0A%20%20%20%20%0A%20%20%20%20%20%20%20%20%20%20%20%20var%20circle_marker_5cefb91410b04b6f8b4fce43404c3e1f%20%3D%20L.circleMarker%28%0A%20%20%20%20%20%20%20%20%20%20%20%20%20%20%20%20%5B46.603354%2C%201.8883335%5D%2C%0A%20%20%20%20%20%20%20%20%20%20%20%20%20%20%20%20%7B%22bubblingMouseEvents%22%3A%20true%2C%20%22color%22%3A%20%22%233388ff%22%2C%20%22dashArray%22%3A%20null%2C%20%22dashOffset%22%3A%20null%2C%20%22fill%22%3A%20true%2C%20%22fillColor%22%3A%20%22%233388ff%22%2C%20%22fillOpacity%22%3A%200.2%2C%20%22fillRule%22%3A%20%22evenodd%22%2C%20%22lineCap%22%3A%20%22round%22%2C%20%22lineJoin%22%3A%20%22round%22%2C%20%22opacity%22%3A%201.0%2C%20%22radius%22%3A%2010%2C%20%22stroke%22%3A%20true%2C%20%22weight%22%3A%203%7D%0A%20%20%20%20%20%20%20%20%20%20%20%20%29.addTo%28marker_cluster_39ce51d6bd904fc8a93475e13c65a25b%29%3B%0A%20%20%20%20%20%20%20%20%0A%20%20%20%20%0A%20%20%20%20%20%20%20%20var%20popup_63898c92a89d4f9d95e0ec184fa46017%20%3D%20L.popup%28%7B%22maxWidth%22%3A%20%22100%25%22%7D%29%3B%0A%0A%20%20%20%20%20%20%20%20%0A%20%20%20%20%20%20%20%20%20%20%20%20var%20html_deb4c3473aeb47aca9f92352ab72ba89%20%3D%20%24%28%60%3Cdiv%20id%3D%22html_deb4c3473aeb47aca9f92352ab72ba89%22%20style%3D%22width%3A%20100.0%25%3B%20height%3A%20100.0%25%3B%22%3EP.%20Pogba%2C%20Manchester%20United%20%20%20%20%20%20%20%20%20%20%20%20%20%20%20%20%20%20%20%20%20Rating%20%3A%2087%20%20%20%20%20%20%20%20%20%20%20%20%20%20%20%20%20%20%20%20%20%3C/div%3E%60%29%5B0%5D%3B%0A%20%20%20%20%20%20%20%20%20%20%20%20popup_63898c92a89d4f9d95e0ec184fa46017.setContent%28html_deb4c3473aeb47aca9f92352ab72ba89%29%3B%0A%20%20%20%20%20%20%20%20%0A%0A%20%20%20%20%20%20%20%20circle_marker_5cefb91410b04b6f8b4fce43404c3e1f.bindPopup%28popup_63898c92a89d4f9d95e0ec184fa46017%29%0A%20%20%20%20%20%20%20%20%3B%0A%0A%20%20%20%20%20%20%20%20%0A%20%20%20%20%0A%20%20%20%20%0A%20%20%20%20%20%20%20%20%20%20%20%20var%20circle_marker_11f302fb7986451fb77acd562e8675d5%20%3D%20L.circleMarker%28%0A%20%20%20%20%20%20%20%20%20%20%20%20%20%20%20%20%5B-10.3333333%2C%20-53.2%5D%2C%0A%20%20%20%20%20%20%20%20%20%20%20%20%20%20%20%20%7B%22bubblingMouseEvents%22%3A%20true%2C%20%22color%22%3A%20%22%233388ff%22%2C%20%22dashArray%22%3A%20null%2C%20%22dashOffset%22%3A%20null%2C%20%22fill%22%3A%20true%2C%20%22fillColor%22%3A%20%22%233388ff%22%2C%20%22fillOpacity%22%3A%200.2%2C%20%22fillRule%22%3A%20%22evenodd%22%2C%20%22lineCap%22%3A%20%22round%22%2C%20%22lineJoin%22%3A%20%22round%22%2C%20%22opacity%22%3A%201.0%2C%20%22radius%22%3A%2010%2C%20%22stroke%22%3A%20true%2C%20%22weight%22%3A%203%7D%0A%20%20%20%20%20%20%20%20%20%20%20%20%29.addTo%28marker_cluster_39ce51d6bd904fc8a93475e13c65a25b%29%3B%0A%20%20%20%20%20%20%20%20%0A%20%20%20%20%0A%20%20%20%20%20%20%20%20var%20popup_f196b2c2b525467785769361326208db%20%3D%20L.popup%28%7B%22maxWidth%22%3A%20%22100%25%22%7D%29%3B%0A%0A%20%20%20%20%20%20%20%20%0A%20%20%20%20%20%20%20%20%20%20%20%20var%20html_89ad939527214e17944a988a7c5f786f%20%3D%20%24%28%60%3Cdiv%20id%3D%22html_89ad939527214e17944a988a7c5f786f%22%20style%3D%22width%3A%20100.0%25%3B%20height%3A%20100.0%25%3B%22%3ECasemiro%2C%20Real%20Madrid%20CF%20%20%20%20%20%20%20%20%20%20%20%20%20%20%20%20%20%20%20%20%20Rating%20%3A%2089%20%20%20%20%20%20%20%20%20%20%20%20%20%20%20%20%20%20%20%20%20%3C/div%3E%60%29%5B0%5D%3B%0A%20%20%20%20%20%20%20%20%20%20%20%20popup_f196b2c2b525467785769361326208db.setContent%28html_89ad939527214e17944a988a7c5f786f%29%3B%0A%20%20%20%20%20%20%20%20%0A%0A%20%20%20%20%20%20%20%20circle_marker_11f302fb7986451fb77acd562e8675d5.bindPopup%28popup_f196b2c2b525467785769361326208db%29%0A%20%20%20%20%20%20%20%20%3B%0A%0A%20%20%20%20%20%20%20%20%0A%20%20%20%20%0A%20%20%20%20%0A%20%20%20%20%20%20%20%20%20%20%20%20var%20circle_marker_5f36f79c2609468f96945a4c07230767%20%3D%20L.circleMarker%28%0A%20%20%20%20%20%20%20%20%20%20%20%20%20%20%20%20%5B-34.9964963%2C%20-64.9672817%5D%2C%0A%20%20%20%20%20%20%20%20%20%20%20%20%20%20%20%20%7B%22bubblingMouseEvents%22%3A%20true%2C%20%22color%22%3A%20%22%233388ff%22%2C%20%22dashArray%22%3A%20null%2C%20%22dashOffset%22%3A%20null%2C%20%22fill%22%3A%20true%2C%20%22fillColor%22%3A%20%22%233388ff%22%2C%20%22fillOpacity%22%3A%200.2%2C%20%22fillRule%22%3A%20%22evenodd%22%2C%20%22lineCap%22%3A%20%22round%22%2C%20%22lineJoin%22%3A%20%22round%22%2C%20%22opacity%22%3A%201.0%2C%20%22radius%22%3A%2010%2C%20%22stroke%22%3A%20true%2C%20%22weight%22%3A%203%7D%0A%20%20%20%20%20%20%20%20%20%20%20%20%29.addTo%28marker_cluster_39ce51d6bd904fc8a93475e13c65a25b%29%3B%0A%20%20%20%20%20%20%20%20%0A%20%20%20%20%0A%20%20%20%20%20%20%20%20var%20popup_3a289e7619054ce79aeba4b81393b33c%20%3D%20L.popup%28%7B%22maxWidth%22%3A%20%22100%25%22%7D%29%3B%0A%0A%20%20%20%20%20%20%20%20%0A%20%20%20%20%20%20%20%20%20%20%20%20var%20html_c7255722f2724944a2485e04ff14ac8b%20%3D%20%24%28%60%3Cdiv%20id%3D%22html_c7255722f2724944a2485e04ff14ac8b%22%20style%3D%22width%3A%20100.0%25%3B%20height%3A%20100.0%25%3B%22%3EL.%20Messi%2C%20Paris%20Saint-Germain%20%20%20%20%20%20%20%20%20%20%20%20%20%20%20%20%20%20%20%20%20Rating%20%3A%2093%20%20%20%20%20%20%20%20%20%20%20%20%20%20%20%20%20%20%20%20%20%3C/div%3E%60%29%5B0%5D%3B%0A%20%20%20%20%20%20%20%20%20%20%20%20popup_3a289e7619054ce79aeba4b81393b33c.setContent%28html_c7255722f2724944a2485e04ff14ac8b%29%3B%0A%20%20%20%20%20%20%20%20%0A%0A%20%20%20%20%20%20%20%20circle_marker_5f36f79c2609468f96945a4c07230767.bindPopup%28popup_3a289e7619054ce79aeba4b81393b33c%29%0A%20%20%20%20%20%20%20%20%3B%0A%0A%20%20%20%20%20%20%20%20%0A%20%20%20%20%0A%20%20%20%20%0A%20%20%20%20%20%20%20%20%20%20%20%20var%20circle_marker_67dfa8a13a8046c089c1efdc05180b2d%20%3D%20L.circleMarker%28%0A%20%20%20%20%20%20%20%20%20%20%20%20%20%20%20%20%5B39.3260685%2C%20-4.8379791%5D%2C%0A%20%20%20%20%20%20%20%20%20%20%20%20%20%20%20%20%7B%22bubblingMouseEvents%22%3A%20true%2C%20%22color%22%3A%20%22%233388ff%22%2C%20%22dashArray%22%3A%20null%2C%20%22dashOffset%22%3A%20null%2C%20%22fill%22%3A%20true%2C%20%22fillColor%22%3A%20%22%233388ff%22%2C%20%22fillOpacity%22%3A%200.2%2C%20%22fillRule%22%3A%20%22evenodd%22%2C%20%22lineCap%22%3A%20%22round%22%2C%20%22lineJoin%22%3A%20%22round%22%2C%20%22opacity%22%3A%201.0%2C%20%22radius%22%3A%2010%2C%20%22stroke%22%3A%20true%2C%20%22weight%22%3A%203%7D%0A%20%20%20%20%20%20%20%20%20%20%20%20%29.addTo%28marker_cluster_39ce51d6bd904fc8a93475e13c65a25b%29%3B%0A%20%20%20%20%20%20%20%20%0A%20%20%20%20%0A%20%20%20%20%20%20%20%20var%20popup_23f04fce987d46109e1c99953715e4b6%20%3D%20L.popup%28%7B%22maxWidth%22%3A%20%22100%25%22%7D%29%3B%0A%0A%20%20%20%20%20%20%20%20%0A%20%20%20%20%20%20%20%20%20%20%20%20var%20html_cfe8169849074683bc8c18096446bc96%20%3D%20%24%28%60%3Cdiv%20id%3D%22html_cfe8169849074683bc8c18096446bc96%22%20style%3D%22width%3A%20100.0%25%3B%20height%3A%20100.0%25%3B%22%3EJordi%20Alba%2C%20FC%20Barcelona%20%20%20%20%20%20%20%20%20%20%20%20%20%20%20%20%20%20%20%20%20Rating%20%3A%2086%20%20%20%20%20%20%20%20%20%20%20%20%20%20%20%20%20%20%20%20%20%3C/div%3E%60%29%5B0%5D%3B%0A%20%20%20%20%20%20%20%20%20%20%20%20popup_23f04fce987d46109e1c99953715e4b6.setContent%28html_cfe8169849074683bc8c18096446bc96%29%3B%0A%20%20%20%20%20%20%20%20%0A%0A%20%20%20%20%20%20%20%20circle_marker_67dfa8a13a8046c089c1efdc05180b2d.bindPopup%28popup_23f04fce987d46109e1c99953715e4b6%29%0A%20%20%20%20%20%20%20%20%3B%0A%0A%20%20%20%20%20%20%20%20%0A%20%20%20%20%0A%20%20%20%20%0A%20%20%20%20%20%20%20%20%20%20%20%20var%20circle_marker_f6c260c0599c4260b1735721d8bfda9e%20%3D%20L.circleMarker%28%0A%20%20%20%20%20%20%20%20%20%20%20%20%20%20%20%20%5B52.215933%2C%2019.134422%5D%2C%0A%20%20%20%20%20%20%20%20%20%20%20%20%20%20%20%20%7B%22bubblingMouseEvents%22%3A%20true%2C%20%22color%22%3A%20%22%233388ff%22%2C%20%22dashArray%22%3A%20null%2C%20%22dashOffset%22%3A%20null%2C%20%22fill%22%3A%20true%2C%20%22fillColor%22%3A%20%22%233388ff%22%2C%20%22fillOpacity%22%3A%200.2%2C%20%22fillRule%22%3A%20%22evenodd%22%2C%20%22lineCap%22%3A%20%22round%22%2C%20%22lineJoin%22%3A%20%22round%22%2C%20%22opacity%22%3A%201.0%2C%20%22radius%22%3A%2010%2C%20%22stroke%22%3A%20true%2C%20%22weight%22%3A%203%7D%0A%20%20%20%20%20%20%20%20%20%20%20%20%29.addTo%28marker_cluster_39ce51d6bd904fc8a93475e13c65a25b%29%3B%0A%20%20%20%20%20%20%20%20%0A%20%20%20%20%0A%20%20%20%20%20%20%20%20var%20popup_e82ca0160fb84bb6b68ca4a40c347f33%20%3D%20L.popup%28%7B%22maxWidth%22%3A%20%22100%25%22%7D%29%3B%0A%0A%20%20%20%20%20%20%20%20%0A%20%20%20%20%20%20%20%20%20%20%20%20var%20html_83fdd85a51924fd5b7dabb8065a1d433%20%3D%20%24%28%60%3Cdiv%20id%3D%22html_83fdd85a51924fd5b7dabb8065a1d433%22%20style%3D%22width%3A%20100.0%25%3B%20height%3A%20100.0%25%3B%22%3ER.%20Lewandowski%2C%20FC%20Bayern%20M%C3%BCnchen%20%20%20%20%20%20%20%20%20%20%20%20%20%20%20%20%20%20%20%20%20Rating%20%3A%2092%20%20%20%20%20%20%20%20%20%20%20%20%20%20%20%20%20%20%20%20%20%3C/div%3E%60%29%5B0%5D%3B%0A%20%20%20%20%20%20%20%20%20%20%20%20popup_e82ca0160fb84bb6b68ca4a40c347f33.setContent%28html_83fdd85a51924fd5b7dabb8065a1d433%29%3B%0A%20%20%20%20%20%20%20%20%0A%0A%20%20%20%20%20%20%20%20circle_marker_f6c260c0599c4260b1735721d8bfda9e.bindPopup%28popup_e82ca0160fb84bb6b68ca4a40c347f33%29%0A%20%20%20%20%20%20%20%20%3B%0A%0A%20%20%20%20%20%20%20%20%0A%20%20%20%20%0A%20%20%20%20%0A%20%20%20%20%20%20%20%20%20%20%20%20var%20circle_marker_f5236ad025b64d54a0381d55dd406427%20%3D%20L.circleMarker%28%0A%20%20%20%20%20%20%20%20%20%20%20%20%20%20%20%20%5B26.2540493%2C%2029.2675469%5D%2C%0A%20%20%20%20%20%20%20%20%20%20%20%20%20%20%20%20%7B%22bubblingMouseEvents%22%3A%20true%2C%20%22color%22%3A%20%22%233388ff%22%2C%20%22dashArray%22%3A%20null%2C%20%22dashOffset%22%3A%20null%2C%20%22fill%22%3A%20true%2C%20%22fillColor%22%3A%20%22%233388ff%22%2C%20%22fillOpacity%22%3A%200.2%2C%20%22fillRule%22%3A%20%22evenodd%22%2C%20%22lineCap%22%3A%20%22round%22%2C%20%22lineJoin%22%3A%20%22round%22%2C%20%22opacity%22%3A%201.0%2C%20%22radius%22%3A%2010%2C%20%22stroke%22%3A%20true%2C%20%22weight%22%3A%203%7D%0A%20%20%20%20%20%20%20%20%20%20%20%20%29.addTo%28marker_cluster_39ce51d6bd904fc8a93475e13c65a25b%29%3B%0A%20%20%20%20%20%20%20%20%0A%20%20%20%20%0A%20%20%20%20%20%20%20%20var%20popup_f1fa0f7d7dc1465e874b640d0061fee1%20%3D%20L.popup%28%7B%22maxWidth%22%3A%20%22100%25%22%7D%29%3B%0A%0A%20%20%20%20%20%20%20%20%0A%20%20%20%20%20%20%20%20%20%20%20%20var%20html_466dde4817174812a84e430579839fa6%20%3D%20%24%28%60%3Cdiv%20id%3D%22html_466dde4817174812a84e430579839fa6%22%20style%3D%22width%3A%20100.0%25%3B%20height%3A%20100.0%25%3B%22%3EM.%20Salah%2C%20Liverpool%20%20%20%20%20%20%20%20%20%20%20%20%20%20%20%20%20%20%20%20%20Rating%20%3A%2089%20%20%20%20%20%20%20%20%20%20%20%20%20%20%20%20%20%20%20%20%20%3C/div%3E%60%29%5B0%5D%3B%0A%20%20%20%20%20%20%20%20%20%20%20%20popup_f1fa0f7d7dc1465e874b640d0061fee1.setContent%28html_466dde4817174812a84e430579839fa6%29%3B%0A%20%20%20%20%20%20%20%20%0A%0A%20%20%20%20%20%20%20%20circle_marker_f5236ad025b64d54a0381d55dd406427.bindPopup%28popup_f1fa0f7d7dc1465e874b640d0061fee1%29%0A%20%20%20%20%20%20%20%20%3B%0A%0A%20%20%20%20%20%20%20%20%0A%20%20%20%20%0A%20%20%20%20%0A%20%20%20%20%20%20%20%20%20%20%20%20var%20circle_marker_ed5bcca423e44702a6d74de0a2468f46%20%3D%20L.circleMarker%28%0A%20%20%20%20%20%20%20%20%20%20%20%20%20%20%20%20%5B40.0332629%2C%20-7.8896263%5D%2C%0A%20%20%20%20%20%20%20%20%20%20%20%20%20%20%20%20%7B%22bubblingMouseEvents%22%3A%20true%2C%20%22color%22%3A%20%22%233388ff%22%2C%20%22dashArray%22%3A%20null%2C%20%22dashOffset%22%3A%20null%2C%20%22fill%22%3A%20true%2C%20%22fillColor%22%3A%20%22%233388ff%22%2C%20%22fillOpacity%22%3A%200.2%2C%20%22fillRule%22%3A%20%22evenodd%22%2C%20%22lineCap%22%3A%20%22round%22%2C%20%22lineJoin%22%3A%20%22round%22%2C%20%22opacity%22%3A%201.0%2C%20%22radius%22%3A%2010%2C%20%22stroke%22%3A%20true%2C%20%22weight%22%3A%203%7D%0A%20%20%20%20%20%20%20%20%20%20%20%20%29.addTo%28marker_cluster_39ce51d6bd904fc8a93475e13c65a25b%29%3B%0A%20%20%20%20%20%20%20%20%0A%20%20%20%20%0A%20%20%20%20%20%20%20%20var%20popup_e1acfd3a489f43b19b86026cbb88a88a%20%3D%20L.popup%28%7B%22maxWidth%22%3A%20%22100%25%22%7D%29%3B%0A%0A%20%20%20%20%20%20%20%20%0A%20%20%20%20%20%20%20%20%20%20%20%20var%20html_3090ab6336ec4411a21495812404dfa6%20%3D%20%24%28%60%3Cdiv%20id%3D%22html_3090ab6336ec4411a21495812404dfa6%22%20style%3D%22width%3A%20100.0%25%3B%20height%3A%20100.0%25%3B%22%3ECristiano%20Ronaldo%2C%20Manchester%20United%20%20%20%20%20%20%20%20%20%20%20%20%20%20%20%20%20%20%20%20%20Rating%20%3A%2091%20%20%20%20%20%20%20%20%20%20%20%20%20%20%20%20%20%20%20%20%20%3C/div%3E%60%29%5B0%5D%3B%0A%20%20%20%20%20%20%20%20%20%20%20%20popup_e1acfd3a489f43b19b86026cbb88a88a.setContent%28html_3090ab6336ec4411a21495812404dfa6%29%3B%0A%20%20%20%20%20%20%20%20%0A%0A%20%20%20%20%20%20%20%20circle_marker_ed5bcca423e44702a6d74de0a2468f46.bindPopup%28popup_e1acfd3a489f43b19b86026cbb88a88a%29%0A%20%20%20%20%20%20%20%20%3B%0A%0A%20%20%20%20%20%20%20%20%0A%20%20%20%20%0A%20%20%20%20%0A%20%20%20%20%20%20%20%20%20%20%20%20var%20circle_marker_75711db0c2b94d80a41c74345fe4333f%20%3D%20L.circleMarker%28%0A%20%20%20%20%20%20%20%20%20%20%20%20%20%20%20%20%5B52.5310214%2C%20-1.2649062%5D%2C%0A%20%20%20%20%20%20%20%20%20%20%20%20%20%20%20%20%7B%22bubblingMouseEvents%22%3A%20true%2C%20%22color%22%3A%20%22%233388ff%22%2C%20%22dashArray%22%3A%20null%2C%20%22dashOffset%22%3A%20null%2C%20%22fill%22%3A%20true%2C%20%22fillColor%22%3A%20%22%233388ff%22%2C%20%22fillOpacity%22%3A%200.2%2C%20%22fillRule%22%3A%20%22evenodd%22%2C%20%22lineCap%22%3A%20%22round%22%2C%20%22lineJoin%22%3A%20%22round%22%2C%20%22opacity%22%3A%201.0%2C%20%22radius%22%3A%2010%2C%20%22stroke%22%3A%20true%2C%20%22weight%22%3A%203%7D%0A%20%20%20%20%20%20%20%20%20%20%20%20%29.addTo%28marker_cluster_39ce51d6bd904fc8a93475e13c65a25b%29%3B%0A%20%20%20%20%20%20%20%20%0A%20%20%20%20%0A%20%20%20%20%20%20%20%20var%20popup_d19ae453f407460d994035a5aea0dab4%20%3D%20L.popup%28%7B%22maxWidth%22%3A%20%22100%25%22%7D%29%3B%0A%0A%20%20%20%20%20%20%20%20%0A%20%20%20%20%20%20%20%20%20%20%20%20var%20html_e6619722898042e8b2af1962163fe137%20%3D%20%24%28%60%3Cdiv%20id%3D%22html_e6619722898042e8b2af1962163fe137%22%20style%3D%22width%3A%20100.0%25%3B%20height%3A%20100.0%25%3B%22%3EH.%20Kane%2C%20Tottenham%20Hotspur%20%20%20%20%20%20%20%20%20%20%20%20%20%20%20%20%20%20%20%20%20Rating%20%3A%2090%20%20%20%20%20%20%20%20%20%20%20%20%20%20%20%20%20%20%20%20%20%3C/div%3E%60%29%5B0%5D%3B%0A%20%20%20%20%20%20%20%20%20%20%20%20popup_d19ae453f407460d994035a5aea0dab4.setContent%28html_e6619722898042e8b2af1962163fe137%29%3B%0A%20%20%20%20%20%20%20%20%0A%0A%20%20%20%20%20%20%20%20circle_marker_75711db0c2b94d80a41c74345fe4333f.bindPopup%28popup_d19ae453f407460d994035a5aea0dab4%29%0A%20%20%20%20%20%20%20%20%3B%0A%0A%20%20%20%20%20%20%20%20%0A%20%20%20%20%0A%20%20%20%20%0A%20%20%20%20%20%20%20%20%20%20%20%20var%20circle_marker_a260049667f14125908263d759805703%20%3D%20L.circleMarker%28%0A%20%20%20%20%20%20%20%20%20%20%20%20%20%20%20%20%5B42.6384261%2C%2012.674297%5D%2C%0A%20%20%20%20%20%20%20%20%20%20%20%20%20%20%20%20%7B%22bubblingMouseEvents%22%3A%20true%2C%20%22color%22%3A%20%22%233388ff%22%2C%20%22dashArray%22%3A%20null%2C%20%22dashOffset%22%3A%20null%2C%20%22fill%22%3A%20true%2C%20%22fillColor%22%3A%20%22%233388ff%22%2C%20%22fillOpacity%22%3A%200.2%2C%20%22fillRule%22%3A%20%22evenodd%22%2C%20%22lineCap%22%3A%20%22round%22%2C%20%22lineJoin%22%3A%20%22round%22%2C%20%22opacity%22%3A%201.0%2C%20%22radius%22%3A%2010%2C%20%22stroke%22%3A%20true%2C%20%22weight%22%3A%203%7D%0A%20%20%20%20%20%20%20%20%20%20%20%20%29.addTo%28marker_cluster_39ce51d6bd904fc8a93475e13c65a25b%29%3B%0A%20%20%20%20%20%20%20%20%0A%20%20%20%20%0A%20%20%20%20%20%20%20%20var%20popup_1e827a5d8e9c4937ad0ba48f803a9c52%20%3D%20L.popup%28%7B%22maxWidth%22%3A%20%22100%25%22%7D%29%3B%0A%0A%20%20%20%20%20%20%20%20%0A%20%20%20%20%20%20%20%20%20%20%20%20var%20html_381d05d9e9a34e84be301ff423e2042c%20%3D%20%24%28%60%3Cdiv%20id%3D%22html_381d05d9e9a34e84be301ff423e2042c%22%20style%3D%22width%3A%20100.0%25%3B%20height%3A%20100.0%25%3B%22%3EM.%20Verratti%2C%20Paris%20Saint-Germain%20%20%20%20%20%20%20%20%20%20%20%20%20%20%20%20%20%20%20%20%20Rating%20%3A%2087%20%20%20%20%20%20%20%20%20%20%20%20%20%20%20%20%20%20%20%20%20%3C/div%3E%60%29%5B0%5D%3B%0A%20%20%20%20%20%20%20%20%20%20%20%20popup_1e827a5d8e9c4937ad0ba48f803a9c52.setContent%28html_381d05d9e9a34e84be301ff423e2042c%29%3B%0A%20%20%20%20%20%20%20%20%0A%0A%20%20%20%20%20%20%20%20circle_marker_a260049667f14125908263d759805703.bindPopup%28popup_1e827a5d8e9c4937ad0ba48f803a9c52%29%0A%20%20%20%20%20%20%20%20%3B%0A%0A%20%20%20%20%20%20%20%20%0A%20%20%20%20%0A%20%20%20%20%0A%20%20%20%20%20%20%20%20%20%20%20%20var%20circle_marker_c0d4c7d3a01b4aeb8706b018236ede03%20%3D%20L.circleMarker%28%0A%20%20%20%20%20%20%20%20%20%20%20%20%20%20%20%20%5B39.3260685%2C%20-4.8379791%5D%2C%0A%20%20%20%20%20%20%20%20%20%20%20%20%20%20%20%20%7B%22bubblingMouseEvents%22%3A%20true%2C%20%22color%22%3A%20%22%233388ff%22%2C%20%22dashArray%22%3A%20null%2C%20%22dashOffset%22%3A%20null%2C%20%22fill%22%3A%20true%2C%20%22fillColor%22%3A%20%22%233388ff%22%2C%20%22fillOpacity%22%3A%200.2%2C%20%22fillRule%22%3A%20%22evenodd%22%2C%20%22lineCap%22%3A%20%22round%22%2C%20%22lineJoin%22%3A%20%22round%22%2C%20%22opacity%22%3A%201.0%2C%20%22radius%22%3A%2010%2C%20%22stroke%22%3A%20true%2C%20%22weight%22%3A%203%7D%0A%20%20%20%20%20%20%20%20%20%20%20%20%29.addTo%28marker_cluster_39ce51d6bd904fc8a93475e13c65a25b%29%3B%0A%20%20%20%20%20%20%20%20%0A%20%20%20%20%0A%20%20%20%20%20%20%20%20var%20popup_5b102ed43ddd4e8b8754a3c6f5837229%20%3D%20L.popup%28%7B%22maxWidth%22%3A%20%22100%25%22%7D%29%3B%0A%0A%20%20%20%20%20%20%20%20%0A%20%20%20%20%20%20%20%20%20%20%20%20var%20html_fdbedb18daf044999c9ad11fdda63da2%20%3D%20%24%28%60%3Cdiv%20id%3D%22html_fdbedb18daf044999c9ad11fdda63da2%22%20style%3D%22width%3A%20100.0%25%3B%20height%3A%20100.0%25%3B%22%3EThiago%2C%20Liverpool%20%20%20%20%20%20%20%20%20%20%20%20%20%20%20%20%20%20%20%20%20Rating%20%3A%2086%20%20%20%20%20%20%20%20%20%20%20%20%20%20%20%20%20%20%20%20%20%3C/div%3E%60%29%5B0%5D%3B%0A%20%20%20%20%20%20%20%20%20%20%20%20popup_5b102ed43ddd4e8b8754a3c6f5837229.setContent%28html_fdbedb18daf044999c9ad11fdda63da2%29%3B%0A%20%20%20%20%20%20%20%20%0A%0A%20%20%20%20%20%20%20%20circle_marker_c0d4c7d3a01b4aeb8706b018236ede03.bindPopup%28popup_5b102ed43ddd4e8b8754a3c6f5837229%29%0A%20%20%20%20%20%20%20%20%3B%0A%0A%20%20%20%20%20%20%20%20%0A%20%20%20%20%0A%20%20%20%20%0A%20%20%20%20%20%20%20%20%20%20%20%20var%20circle_marker_13064a64868144a1bbd12e4b853e3548%20%3D%20L.circleMarker%28%0A%20%20%20%20%20%20%20%20%20%20%20%20%20%20%20%20%5B14.4750607%2C%20-14.4529612%5D%2C%0A%20%20%20%20%20%20%20%20%20%20%20%20%20%20%20%20%7B%22bubblingMouseEvents%22%3A%20true%2C%20%22color%22%3A%20%22%233388ff%22%2C%20%22dashArray%22%3A%20null%2C%20%22dashOffset%22%3A%20null%2C%20%22fill%22%3A%20true%2C%20%22fillColor%22%3A%20%22%233388ff%22%2C%20%22fillOpacity%22%3A%200.2%2C%20%22fillRule%22%3A%20%22evenodd%22%2C%20%22lineCap%22%3A%20%22round%22%2C%20%22lineJoin%22%3A%20%22round%22%2C%20%22opacity%22%3A%201.0%2C%20%22radius%22%3A%2010%2C%20%22stroke%22%3A%20true%2C%20%22weight%22%3A%203%7D%0A%20%20%20%20%20%20%20%20%20%20%20%20%29.addTo%28marker_cluster_39ce51d6bd904fc8a93475e13c65a25b%29%3B%0A%20%20%20%20%20%20%20%20%0A%20%20%20%20%0A%20%20%20%20%20%20%20%20var%20popup_94ae55c75c2543b4ac1697d729d883e7%20%3D%20L.popup%28%7B%22maxWidth%22%3A%20%22100%25%22%7D%29%3B%0A%0A%20%20%20%20%20%20%20%20%0A%20%20%20%20%20%20%20%20%20%20%20%20var%20html_a4eeaa1c4740467893ff41b9c144b3e7%20%3D%20%24%28%60%3Cdiv%20id%3D%22html_a4eeaa1c4740467893ff41b9c144b3e7%22%20style%3D%22width%3A%20100.0%25%3B%20height%3A%20100.0%25%3B%22%3ES.%20Mane%2C%20Liverpool%20%20%20%20%20%20%20%20%20%20%20%20%20%20%20%20%20%20%20%20%20Rating%20%3A%2089%20%20%20%20%20%20%20%20%20%20%20%20%20%20%20%20%20%20%20%20%20%3C/div%3E%60%29%5B0%5D%3B%0A%20%20%20%20%20%20%20%20%20%20%20%20popup_94ae55c75c2543b4ac1697d729d883e7.setContent%28html_a4eeaa1c4740467893ff41b9c144b3e7%29%3B%0A%20%20%20%20%20%20%20%20%0A%0A%20%20%20%20%20%20%20%20circle_marker_13064a64868144a1bbd12e4b853e3548.bindPopup%28popup_94ae55c75c2543b4ac1697d729d883e7%29%0A%20%20%20%20%20%20%20%20%3B%0A%0A%20%20%20%20%20%20%20%20%0A%20%20%20%20%0A%20%20%20%20%0A%20%20%20%20%20%20%20%20%20%20%20%20var%20circle_marker_60e3c8b87b4749b5a73ba384114a88dc%20%3D%20L.circleMarker%28%0A%20%20%20%20%20%20%20%20%20%20%20%20%20%20%20%20%5B-10.3333333%2C%20-53.2%5D%2C%0A%20%20%20%20%20%20%20%20%20%20%20%20%20%20%20%20%7B%22bubblingMouseEvents%22%3A%20true%2C%20%22color%22%3A%20%22%233388ff%22%2C%20%22dashArray%22%3A%20null%2C%20%22dashOffset%22%3A%20null%2C%20%22fill%22%3A%20true%2C%20%22fillColor%22%3A%20%22%233388ff%22%2C%20%22fillOpacity%22%3A%200.2%2C%20%22fillRule%22%3A%20%22evenodd%22%2C%20%22lineCap%22%3A%20%22round%22%2C%20%22lineJoin%22%3A%20%22round%22%2C%20%22opacity%22%3A%201.0%2C%20%22radius%22%3A%2010%2C%20%22stroke%22%3A%20true%2C%20%22weight%22%3A%203%7D%0A%20%20%20%20%20%20%20%20%20%20%20%20%29.addTo%28marker_cluster_39ce51d6bd904fc8a93475e13c65a25b%29%3B%0A%20%20%20%20%20%20%20%20%0A%20%20%20%20%0A%20%20%20%20%20%20%20%20var%20popup_ef8fd18b8bf549beba906187445d6d1a%20%3D%20L.popup%28%7B%22maxWidth%22%3A%20%22100%25%22%7D%29%3B%0A%0A%20%20%20%20%20%20%20%20%0A%20%20%20%20%20%20%20%20%20%20%20%20var%20html_a3fc33ed0cb64cda909e4c0460745674%20%3D%20%24%28%60%3Cdiv%20id%3D%22html_a3fc33ed0cb64cda909e4c0460745674%22%20style%3D%22width%3A%20100.0%25%3B%20height%3A%20100.0%25%3B%22%3ENeymar%20Jr%2C%20Paris%20Saint-Germain%20%20%20%20%20%20%20%20%20%20%20%20%20%20%20%20%20%20%20%20%20Rating%20%3A%2091%20%20%20%20%20%20%20%20%20%20%20%20%20%20%20%20%20%20%20%20%20%3C/div%3E%60%29%5B0%5D%3B%0A%20%20%20%20%20%20%20%20%20%20%20%20popup_ef8fd18b8bf549beba906187445d6d1a.setContent%28html_a3fc33ed0cb64cda909e4c0460745674%29%3B%0A%20%20%20%20%20%20%20%20%0A%0A%20%20%20%20%20%20%20%20circle_marker_60e3c8b87b4749b5a73ba384114a88dc.bindPopup%28popup_ef8fd18b8bf549beba906187445d6d1a%29%0A%20%20%20%20%20%20%20%20%3B%0A%0A%20%20%20%20%20%20%20%20%0A%20%20%20%20%0A%20%20%20%20%0A%20%20%20%20%20%20%20%20%20%20%20%20var%20circle_marker_f1b342423c1e4677bda97f9391cdd5bc%20%3D%20L.circleMarker%28%0A%20%20%20%20%20%20%20%20%20%20%20%20%20%20%20%20%5B46.603354%2C%201.8883335%5D%2C%0A%20%20%20%20%20%20%20%20%20%20%20%20%20%20%20%20%7B%22bubblingMouseEvents%22%3A%20true%2C%20%22color%22%3A%20%22%233388ff%22%2C%20%22dashArray%22%3A%20null%2C%20%22dashOffset%22%3A%20null%2C%20%22fill%22%3A%20true%2C%20%22fillColor%22%3A%20%22%233388ff%22%2C%20%22fillOpacity%22%3A%200.2%2C%20%22fillRule%22%3A%20%22evenodd%22%2C%20%22lineCap%22%3A%20%22round%22%2C%20%22lineJoin%22%3A%20%22round%22%2C%20%22opacity%22%3A%201.0%2C%20%22radius%22%3A%2010%2C%20%22stroke%22%3A%20true%2C%20%22weight%22%3A%203%7D%0A%20%20%20%20%20%20%20%20%20%20%20%20%29.addTo%28marker_cluster_39ce51d6bd904fc8a93475e13c65a25b%29%3B%0A%20%20%20%20%20%20%20%20%0A%20%20%20%20%0A%20%20%20%20%20%20%20%20var%20popup_9aefb52200db49619af4b98347798831%20%3D%20L.popup%28%7B%22maxWidth%22%3A%20%22100%25%22%7D%29%3B%0A%0A%20%20%20%20%20%20%20%20%0A%20%20%20%20%20%20%20%20%20%20%20%20var%20html_12e9bfaa0178451babd9f533c7fa1753%20%3D%20%24%28%60%3Cdiv%20id%3D%22html_12e9bfaa0178451babd9f533c7fa1753%22%20style%3D%22width%3A%20100.0%25%3B%20height%3A%20100.0%25%3B%22%3EN.%20Kante%2C%20Chelsea%20%20%20%20%20%20%20%20%20%20%20%20%20%20%20%20%20%20%20%20%20Rating%20%3A%2090%20%20%20%20%20%20%20%20%20%20%20%20%20%20%20%20%20%20%20%20%20%3C/div%3E%60%29%5B0%5D%3B%0A%20%20%20%20%20%20%20%20%20%20%20%20popup_9aefb52200db49619af4b98347798831.setContent%28html_12e9bfaa0178451babd9f533c7fa1753%29%3B%0A%20%20%20%20%20%20%20%20%0A%0A%20%20%20%20%20%20%20%20circle_marker_f1b342423c1e4677bda97f9391cdd5bc.bindPopup%28popup_9aefb52200db49619af4b98347798831%29%0A%20%20%20%20%20%20%20%20%3B%0A%0A%20%20%20%20%20%20%20%20%0A%20%20%20%20%0A%20%20%20%20%0A%20%20%20%20%20%20%20%20%20%20%20%20var%20circle_marker_45a3f08f671f42e3b5b959ba136431bb%20%3D%20L.circleMarker%28%0A%20%20%20%20%20%20%20%20%20%20%20%20%20%20%20%20%5B-34.9964963%2C%20-64.9672817%5D%2C%0A%20%20%20%20%20%20%20%20%20%20%20%20%20%20%20%20%7B%22bubblingMouseEvents%22%3A%20true%2C%20%22color%22%3A%20%22%233388ff%22%2C%20%22dashArray%22%3A%20null%2C%20%22dashOffset%22%3A%20null%2C%20%22fill%22%3A%20true%2C%20%22fillColor%22%3A%20%22%233388ff%22%2C%20%22fillOpacity%22%3A%200.2%2C%20%22fillRule%22%3A%20%22evenodd%22%2C%20%22lineCap%22%3A%20%22round%22%2C%20%22lineJoin%22%3A%20%22round%22%2C%20%22opacity%22%3A%201.0%2C%20%22radius%22%3A%2010%2C%20%22stroke%22%3A%20true%2C%20%22weight%22%3A%203%7D%0A%20%20%20%20%20%20%20%20%20%20%20%20%29.addTo%28marker_cluster_39ce51d6bd904fc8a93475e13c65a25b%29%3B%0A%20%20%20%20%20%20%20%20%0A%20%20%20%20%0A%20%20%20%20%20%20%20%20var%20popup_a541a31d9f4d4b5ba61cd693314b98bb%20%3D%20L.popup%28%7B%22maxWidth%22%3A%20%22100%25%22%7D%29%3B%0A%0A%20%20%20%20%20%20%20%20%0A%20%20%20%20%20%20%20%20%20%20%20%20var%20html_0e0e3423b9bf4d66b55987b357863161%20%3D%20%24%28%60%3Cdiv%20id%3D%22html_0e0e3423b9bf4d66b55987b357863161%22%20style%3D%22width%3A%20100.0%25%3B%20height%3A%20100.0%25%3B%22%3EA.%20Di%20Maria%2C%20Paris%20Saint-Germain%20%20%20%20%20%20%20%20%20%20%20%20%20%20%20%20%20%20%20%20%20Rating%20%3A%2087%20%20%20%20%20%20%20%20%20%20%20%20%20%20%20%20%20%20%20%20%20%3C/div%3E%60%29%5B0%5D%3B%0A%20%20%20%20%20%20%20%20%20%20%20%20popup_a541a31d9f4d4b5ba61cd693314b98bb.setContent%28html_0e0e3423b9bf4d66b55987b357863161%29%3B%0A%20%20%20%20%20%20%20%20%0A%0A%20%20%20%20%20%20%20%20circle_marker_45a3f08f671f42e3b5b959ba136431bb.bindPopup%28popup_a541a31d9f4d4b5ba61cd693314b98bb%29%0A%20%20%20%20%20%20%20%20%3B%0A%0A%20%20%20%20%20%20%20%20%0A%20%20%20%20%0A%20%20%20%20%0A%20%20%20%20%20%20%20%20%20%20%20%20var%20circle_marker_e55e60c933e941a981e4851f49b9b543%20%3D%20L.circleMarker%28%0A%20%20%20%20%20%20%20%20%20%20%20%20%20%20%20%20%5B46.603354%2C%201.8883335%5D%2C%0A%20%20%20%20%20%20%20%20%20%20%20%20%20%20%20%20%7B%22bubblingMouseEvents%22%3A%20true%2C%20%22color%22%3A%20%22%233388ff%22%2C%20%22dashArray%22%3A%20null%2C%20%22dashOffset%22%3A%20null%2C%20%22fill%22%3A%20true%2C%20%22fillColor%22%3A%20%22%233388ff%22%2C%20%22fillOpacity%22%3A%200.2%2C%20%22fillRule%22%3A%20%22evenodd%22%2C%20%22lineCap%22%3A%20%22round%22%2C%20%22lineJoin%22%3A%20%22round%22%2C%20%22opacity%22%3A%201.0%2C%20%22radius%22%3A%2010%2C%20%22stroke%22%3A%20true%2C%20%22weight%22%3A%203%7D%0A%20%20%20%20%20%20%20%20%20%20%20%20%29.addTo%28marker_cluster_39ce51d6bd904fc8a93475e13c65a25b%29%3B%0A%20%20%20%20%20%20%20%20%0A%20%20%20%20%0A%20%20%20%20%20%20%20%20var%20popup_f4018480af4f45c8b4040136c3d32afa%20%3D%20L.popup%28%7B%22maxWidth%22%3A%20%22100%25%22%7D%29%3B%0A%0A%20%20%20%20%20%20%20%20%0A%20%20%20%20%20%20%20%20%20%20%20%20var%20html_9dfc5a0f1da742a1ab5a420b9b093acc%20%3D%20%24%28%60%3Cdiv%20id%3D%22html_9dfc5a0f1da742a1ab5a420b9b093acc%22%20style%3D%22width%3A%20100.0%25%3B%20height%3A%20100.0%25%3B%22%3EK.%20Mbappe%2C%20Paris%20Saint-Germain%20%20%20%20%20%20%20%20%20%20%20%20%20%20%20%20%20%20%20%20%20Rating%20%3A%2091%20%20%20%20%20%20%20%20%20%20%20%20%20%20%20%20%20%20%20%20%20%3C/div%3E%60%29%5B0%5D%3B%0A%20%20%20%20%20%20%20%20%20%20%20%20popup_f4018480af4f45c8b4040136c3d32afa.setContent%28html_9dfc5a0f1da742a1ab5a420b9b093acc%29%3B%0A%20%20%20%20%20%20%20%20%0A%0A%20%20%20%20%20%20%20%20circle_marker_e55e60c933e941a981e4851f49b9b543.bindPopup%28popup_f4018480af4f45c8b4040136c3d32afa%29%0A%20%20%20%20%20%20%20%20%3B%0A%0A%20%20%20%20%20%20%20%20%0A%20%20%20%20%0A%20%20%20%20%0A%20%20%20%20%20%20%20%20%20%20%20%20var%20circle_marker_33e141ce3df94126b1cc25e0fa08d46e%20%3D%20L.circleMarker%28%0A%20%20%20%20%20%20%20%20%20%20%20%20%20%20%20%20%5B39.3260685%2C%20-4.8379791%5D%2C%0A%20%20%20%20%20%20%20%20%20%20%20%20%20%20%20%20%7B%22bubblingMouseEvents%22%3A%20true%2C%20%22color%22%3A%20%22%233388ff%22%2C%20%22dashArray%22%3A%20null%2C%20%22dashOffset%22%3A%20null%2C%20%22fill%22%3A%20true%2C%20%22fillColor%22%3A%20%22%233388ff%22%2C%20%22fillOpacity%22%3A%200.2%2C%20%22fillRule%22%3A%20%22evenodd%22%2C%20%22lineCap%22%3A%20%22round%22%2C%20%22lineJoin%22%3A%20%22round%22%2C%20%22opacity%22%3A%201.0%2C%20%22radius%22%3A%2010%2C%20%22stroke%22%3A%20true%2C%20%22weight%22%3A%203%7D%0A%20%20%20%20%20%20%20%20%20%20%20%20%29.addTo%28marker_cluster_39ce51d6bd904fc8a93475e13c65a25b%29%3B%0A%20%20%20%20%20%20%20%20%0A%20%20%20%20%0A%20%20%20%20%20%20%20%20var%20popup_93f90201327b407e9c4669a3dc58c315%20%3D%20L.popup%28%7B%22maxWidth%22%3A%20%22100%25%22%7D%29%3B%0A%0A%20%20%20%20%20%20%20%20%0A%20%20%20%20%20%20%20%20%20%20%20%20var%20html_927e71101ff6436c8c71ec436a57c2fc%20%3D%20%24%28%60%3Cdiv%20id%3D%22html_927e71101ff6436c8c71ec436a57c2fc%22%20style%3D%22width%3A%20100.0%25%3B%20height%3A%20100.0%25%3B%22%3EParejo%2C%20Villarreal%20CF%20%20%20%20%20%20%20%20%20%20%20%20%20%20%20%20%20%20%20%20%20Rating%20%3A%2086%20%20%20%20%20%20%20%20%20%20%20%20%20%20%20%20%20%20%20%20%20%3C/div%3E%60%29%5B0%5D%3B%0A%20%20%20%20%20%20%20%20%20%20%20%20popup_93f90201327b407e9c4669a3dc58c315.setContent%28html_927e71101ff6436c8c71ec436a57c2fc%29%3B%0A%20%20%20%20%20%20%20%20%0A%0A%20%20%20%20%20%20%20%20circle_marker_33e141ce3df94126b1cc25e0fa08d46e.bindPopup%28popup_93f90201327b407e9c4669a3dc58c315%29%0A%20%20%20%20%20%20%20%20%3B%0A%0A%20%20%20%20%20%20%20%20%0A%20%20%20%20%0A%20%20%20%20%0A%20%20%20%20%20%20%20%20%20%20%20%20var%20circle_marker_22bfdebf8398432a8024d3bd1b9885ad%20%3D%20L.circleMarker%28%0A%20%20%20%20%20%20%20%20%20%20%20%20%20%20%20%20%5B-10.3333333%2C%20-53.2%5D%2C%0A%20%20%20%20%20%20%20%20%20%20%20%20%20%20%20%20%7B%22bubblingMouseEvents%22%3A%20true%2C%20%22color%22%3A%20%22%233388ff%22%2C%20%22dashArray%22%3A%20null%2C%20%22dashOffset%22%3A%20null%2C%20%22fill%22%3A%20true%2C%20%22fillColor%22%3A%20%22%233388ff%22%2C%20%22fillOpacity%22%3A%200.2%2C%20%22fillRule%22%3A%20%22evenodd%22%2C%20%22lineCap%22%3A%20%22round%22%2C%20%22lineJoin%22%3A%20%22round%22%2C%20%22opacity%22%3A%201.0%2C%20%22radius%22%3A%2010%2C%20%22stroke%22%3A%20true%2C%20%22weight%22%3A%203%7D%0A%20%20%20%20%20%20%20%20%20%20%20%20%29.addTo%28marker_cluster_39ce51d6bd904fc8a93475e13c65a25b%29%3B%0A%20%20%20%20%20%20%20%20%0A%20%20%20%20%0A%20%20%20%20%20%20%20%20var%20popup_9219c07f14924c94922588b076620247%20%3D%20L.popup%28%7B%22maxWidth%22%3A%20%22100%25%22%7D%29%3B%0A%0A%20%20%20%20%20%20%20%20%0A%20%20%20%20%20%20%20%20%20%20%20%20var%20html_ec2817cef8a94372a48920efad102035%20%3D%20%24%28%60%3Cdiv%20id%3D%22html_ec2817cef8a94372a48920efad102035%22%20style%3D%22width%3A%20100.0%25%3B%20height%3A%20100.0%25%3B%22%3EFabinho%2C%20Liverpool%20%20%20%20%20%20%20%20%20%20%20%20%20%20%20%20%20%20%20%20%20Rating%20%3A%2086%20%20%20%20%20%20%20%20%20%20%20%20%20%20%20%20%20%20%20%20%20%3C/div%3E%60%29%5B0%5D%3B%0A%20%20%20%20%20%20%20%20%20%20%20%20popup_9219c07f14924c94922588b076620247.setContent%28html_ec2817cef8a94372a48920efad102035%29%3B%0A%20%20%20%20%20%20%20%20%0A%0A%20%20%20%20%20%20%20%20circle_marker_22bfdebf8398432a8024d3bd1b9885ad.bindPopup%28popup_9219c07f14924c94922588b076620247%29%0A%20%20%20%20%20%20%20%20%3B%0A%0A%20%20%20%20%20%20%20%20%0A%20%20%20%20%0A%20%20%20%20%0A%20%20%20%20%20%20%20%20%20%20%20%20var%20circle_marker_b7e79ace8334497aafa0429a38233356%20%3D%20L.circleMarker%28%0A%20%20%20%20%20%20%20%20%20%20%20%20%20%20%20%20%5B56.7861112%2C%20-4.1140518%5D%2C%0A%20%20%20%20%20%20%20%20%20%20%20%20%20%20%20%20%7B%22bubblingMouseEvents%22%3A%20true%2C%20%22color%22%3A%20%22%233388ff%22%2C%20%22dashArray%22%3A%20null%2C%20%22dashOffset%22%3A%20null%2C%20%22fill%22%3A%20true%2C%20%22fillColor%22%3A%20%22%233388ff%22%2C%20%22fillOpacity%22%3A%200.2%2C%20%22fillRule%22%3A%20%22evenodd%22%2C%20%22lineCap%22%3A%20%22round%22%2C%20%22lineJoin%22%3A%20%22round%22%2C%20%22opacity%22%3A%201.0%2C%20%22radius%22%3A%2010%2C%20%22stroke%22%3A%20true%2C%20%22weight%22%3A%203%7D%0A%20%20%20%20%20%20%20%20%20%20%20%20%29.addTo%28marker_cluster_39ce51d6bd904fc8a93475e13c65a25b%29%3B%0A%20%20%20%20%20%20%20%20%0A%20%20%20%20%0A%20%20%20%20%20%20%20%20var%20popup_e0287f312ad74f4396be49be7d55c952%20%3D%20L.popup%28%7B%22maxWidth%22%3A%20%22100%25%22%7D%29%3B%0A%0A%20%20%20%20%20%20%20%20%0A%20%20%20%20%20%20%20%20%20%20%20%20var%20html_de22df54e0804af08ab4fda8424faada%20%3D%20%24%28%60%3Cdiv%20id%3D%22html_de22df54e0804af08ab4fda8424faada%22%20style%3D%22width%3A%20100.0%25%3B%20height%3A%20100.0%25%3B%22%3EA.%20Robertson%2C%20Liverpool%20%20%20%20%20%20%20%20%20%20%20%20%20%20%20%20%20%20%20%20%20Rating%20%3A%2087%20%20%20%20%20%20%20%20%20%20%20%20%20%20%20%20%20%20%20%20%20%3C/div%3E%60%29%5B0%5D%3B%0A%20%20%20%20%20%20%20%20%20%20%20%20popup_e0287f312ad74f4396be49be7d55c952.setContent%28html_de22df54e0804af08ab4fda8424faada%29%3B%0A%20%20%20%20%20%20%20%20%0A%0A%20%20%20%20%20%20%20%20circle_marker_b7e79ace8334497aafa0429a38233356.bindPopup%28popup_e0287f312ad74f4396be49be7d55c952%29%0A%20%20%20%20%20%20%20%20%3B%0A%0A%20%20%20%20%20%20%20%20%0A%20%20%20%20%0A%20%20%20%20%0A%20%20%20%20%20%20%20%20%20%20%20%20var%20circle_marker_c20e5fd6f2c34e0cb53e0ee4e10dd112%20%3D%20L.circleMarker%28%0A%20%20%20%20%20%20%20%20%20%20%20%20%20%20%20%20%5B51.0834196%2C%2010.4234469%5D%2C%0A%20%20%20%20%20%20%20%20%20%20%20%20%20%20%20%20%7B%22bubblingMouseEvents%22%3A%20true%2C%20%22color%22%3A%20%22%233388ff%22%2C%20%22dashArray%22%3A%20null%2C%20%22dashOffset%22%3A%20null%2C%20%22fill%22%3A%20true%2C%20%22fillColor%22%3A%20%22%233388ff%22%2C%20%22fillOpacity%22%3A%200.2%2C%20%22fillRule%22%3A%20%22evenodd%22%2C%20%22lineCap%22%3A%20%22round%22%2C%20%22lineJoin%22%3A%20%22round%22%2C%20%22opacity%22%3A%201.0%2C%20%22radius%22%3A%2010%2C%20%22stroke%22%3A%20true%2C%20%22weight%22%3A%203%7D%0A%20%20%20%20%20%20%20%20%20%20%20%20%29.addTo%28marker_cluster_39ce51d6bd904fc8a93475e13c65a25b%29%3B%0A%20%20%20%20%20%20%20%20%0A%20%20%20%20%0A%20%20%20%20%20%20%20%20var%20popup_ca40634376c446c79eabfccc22b3c4f3%20%3D%20L.popup%28%7B%22maxWidth%22%3A%20%22100%25%22%7D%29%3B%0A%0A%20%20%20%20%20%20%20%20%0A%20%20%20%20%20%20%20%20%20%20%20%20var%20html_85afb6e164994a31bccea387faba5f4a%20%3D%20%24%28%60%3Cdiv%20id%3D%22html_85afb6e164994a31bccea387faba5f4a%22%20style%3D%22width%3A%20100.0%25%3B%20height%3A%20100.0%25%3B%22%3ET.%20Kroos%2C%20Real%20Madrid%20CF%20%20%20%20%20%20%20%20%20%20%20%20%20%20%20%20%20%20%20%20%20Rating%20%3A%2088%20%20%20%20%20%20%20%20%20%20%20%20%20%20%20%20%20%20%20%20%20%3C/div%3E%60%29%5B0%5D%3B%0A%20%20%20%20%20%20%20%20%20%20%20%20popup_ca40634376c446c79eabfccc22b3c4f3.setContent%28html_85afb6e164994a31bccea387faba5f4a%29%3B%0A%20%20%20%20%20%20%20%20%0A%0A%20%20%20%20%20%20%20%20circle_marker_c20e5fd6f2c34e0cb53e0ee4e10dd112.bindPopup%28popup_ca40634376c446c79eabfccc22b3c4f3%29%0A%20%20%20%20%20%20%20%20%3B%0A%0A%20%20%20%20%20%20%20%20%0A%20%20%20%20%0A%20%20%20%20%0A%20%20%20%20%20%20%20%20%20%20%20%20var%20circle_marker_7b468fd2b623470b8f6047c4e3c8a411%20%3D%20L.circleMarker%28%0A%20%20%20%20%20%20%20%20%20%20%20%20%20%20%20%20%5B36.638392%2C%20127.6961188%5D%2C%0A%20%20%20%20%20%20%20%20%20%20%20%20%20%20%20%20%7B%22bubblingMouseEvents%22%3A%20true%2C%20%22color%22%3A%20%22%233388ff%22%2C%20%22dashArray%22%3A%20null%2C%20%22dashOffset%22%3A%20null%2C%20%22fill%22%3A%20true%2C%20%22fillColor%22%3A%20%22%233388ff%22%2C%20%22fillOpacity%22%3A%200.2%2C%20%22fillRule%22%3A%20%22evenodd%22%2C%20%22lineCap%22%3A%20%22round%22%2C%20%22lineJoin%22%3A%20%22round%22%2C%20%22opacity%22%3A%201.0%2C%20%22radius%22%3A%2010%2C%20%22stroke%22%3A%20true%2C%20%22weight%22%3A%203%7D%0A%20%20%20%20%20%20%20%20%20%20%20%20%29.addTo%28marker_cluster_39ce51d6bd904fc8a93475e13c65a25b%29%3B%0A%20%20%20%20%20%20%20%20%0A%20%20%20%20%0A%20%20%20%20%20%20%20%20var%20popup_e7cf3375cbfe44c599c5b8e30416df9d%20%3D%20L.popup%28%7B%22maxWidth%22%3A%20%22100%25%22%7D%29%3B%0A%0A%20%20%20%20%20%20%20%20%0A%20%20%20%20%20%20%20%20%20%20%20%20var%20html_4ec839970e4649a390b483a96562caec%20%3D%20%24%28%60%3Cdiv%20id%3D%22html_4ec839970e4649a390b483a96562caec%22%20style%3D%22width%3A%20100.0%25%3B%20height%3A%20100.0%25%3B%22%3EH.%20Son%2C%20Tottenham%20Hotspur%20%20%20%20%20%20%20%20%20%20%20%20%20%20%20%20%20%20%20%20%20Rating%20%3A%2089%20%20%20%20%20%20%20%20%20%20%20%20%20%20%20%20%20%20%20%20%20%3C/div%3E%60%29%5B0%5D%3B%0A%20%20%20%20%20%20%20%20%20%20%20%20popup_e7cf3375cbfe44c599c5b8e30416df9d.setContent%28html_4ec839970e4649a390b483a96562caec%29%3B%0A%20%20%20%20%20%20%20%20%0A%0A%20%20%20%20%20%20%20%20circle_marker_7b468fd2b623470b8f6047c4e3c8a411.bindPopup%28popup_e7cf3375cbfe44c599c5b8e30416df9d%29%0A%20%20%20%20%20%20%20%20%3B%0A%0A%20%20%20%20%20%20%20%20%0A%20%20%20%20%0A%20%20%20%20%0A%20%20%20%20%20%20%20%20%20%20%20%20var%20circle_marker_08a9407a23b9423d841124d47a58d577%20%3D%20L.circleMarker%28%0A%20%20%20%20%20%20%20%20%20%20%20%20%20%20%20%20%5B51.0834196%2C%2010.4234469%5D%2C%0A%20%20%20%20%20%20%20%20%20%20%20%20%20%20%20%20%7B%22bubblingMouseEvents%22%3A%20true%2C%20%22color%22%3A%20%22%233388ff%22%2C%20%22dashArray%22%3A%20null%2C%20%22dashOffset%22%3A%20null%2C%20%22fill%22%3A%20true%2C%20%22fillColor%22%3A%20%22%233388ff%22%2C%20%22fillOpacity%22%3A%200.2%2C%20%22fillRule%22%3A%20%22evenodd%22%2C%20%22lineCap%22%3A%20%22round%22%2C%20%22lineJoin%22%3A%20%22round%22%2C%20%22opacity%22%3A%201.0%2C%20%22radius%22%3A%2010%2C%20%22stroke%22%3A%20true%2C%20%22weight%22%3A%203%7D%0A%20%20%20%20%20%20%20%20%20%20%20%20%29.addTo%28marker_cluster_39ce51d6bd904fc8a93475e13c65a25b%29%3B%0A%20%20%20%20%20%20%20%20%0A%20%20%20%20%0A%20%20%20%20%20%20%20%20var%20popup_a9b2bb96017848d1bb80280b341d2b9a%20%3D%20L.popup%28%7B%22maxWidth%22%3A%20%22100%25%22%7D%29%3B%0A%0A%20%20%20%20%20%20%20%20%0A%20%20%20%20%20%20%20%20%20%20%20%20var%20html_6ee13e6e38d742ca97378ff391eef59f%20%3D%20%24%28%60%3Cdiv%20id%3D%22html_6ee13e6e38d742ca97378ff391eef59f%22%20style%3D%22width%3A%20100.0%25%3B%20height%3A%20100.0%25%3B%22%3ET.%20Muller%2C%20FC%20Bayern%20M%C3%BCnchen%20%20%20%20%20%20%20%20%20%20%20%20%20%20%20%20%20%20%20%20%20Rating%20%3A%2087%20%20%20%20%20%20%20%20%20%20%20%20%20%20%20%20%20%20%20%20%20%3C/div%3E%60%29%5B0%5D%3B%0A%20%20%20%20%20%20%20%20%20%20%20%20popup_a9b2bb96017848d1bb80280b341d2b9a.setContent%28html_6ee13e6e38d742ca97378ff391eef59f%29%3B%0A%20%20%20%20%20%20%20%20%0A%0A%20%20%20%20%20%20%20%20circle_marker_08a9407a23b9423d841124d47a58d577.bindPopup%28popup_a9b2bb96017848d1bb80280b341d2b9a%29%0A%20%20%20%20%20%20%20%20%3B%0A%0A%20%20%20%20%20%20%20%20%0A%20%20%20%20%0A%20%20%20%20%0A%20%20%20%20%20%20%20%20%20%20%20%20var%20circle_marker_5dff2968939f49c08e34e3b81d02357c%20%3D%20L.circleMarker%28%0A%20%20%20%20%20%20%20%20%20%20%20%20%20%20%20%20%5B52.5310214%2C%20-1.2649062%5D%2C%0A%20%20%20%20%20%20%20%20%20%20%20%20%20%20%20%20%7B%22bubblingMouseEvents%22%3A%20true%2C%20%22color%22%3A%20%22%233388ff%22%2C%20%22dashArray%22%3A%20null%2C%20%22dashOffset%22%3A%20null%2C%20%22fill%22%3A%20true%2C%20%22fillColor%22%3A%20%22%233388ff%22%2C%20%22fillOpacity%22%3A%200.2%2C%20%22fillRule%22%3A%20%22evenodd%22%2C%20%22lineCap%22%3A%20%22round%22%2C%20%22lineJoin%22%3A%20%22round%22%2C%20%22opacity%22%3A%201.0%2C%20%22radius%22%3A%2010%2C%20%22stroke%22%3A%20true%2C%20%22weight%22%3A%203%7D%0A%20%20%20%20%20%20%20%20%20%20%20%20%29.addTo%28marker_cluster_39ce51d6bd904fc8a93475e13c65a25b%29%3B%0A%20%20%20%20%20%20%20%20%0A%20%20%20%20%0A%20%20%20%20%20%20%20%20var%20popup_00678177524c42c5aa9ed4d980dedb6e%20%3D%20L.popup%28%7B%22maxWidth%22%3A%20%22100%25%22%7D%29%3B%0A%0A%20%20%20%20%20%20%20%20%0A%20%20%20%20%20%20%20%20%20%20%20%20var%20html_9c2538403d7343d19b56a7c1c0535147%20%3D%20%24%28%60%3Cdiv%20id%3D%22html_9c2538403d7343d19b56a7c1c0535147%22%20style%3D%22width%3A%20100.0%25%3B%20height%3A%20100.0%25%3B%22%3EJ.%20Vardy%2C%20Leicester%20City%20%20%20%20%20%20%20%20%20%20%20%20%20%20%20%20%20%20%20%20%20Rating%20%3A%2086%20%20%20%20%20%20%20%20%20%20%20%20%20%20%20%20%20%20%20%20%20%3C/div%3E%60%29%5B0%5D%3B%0A%20%20%20%20%20%20%20%20%20%20%20%20popup_00678177524c42c5aa9ed4d980dedb6e.setContent%28html_9c2538403d7343d19b56a7c1c0535147%29%3B%0A%20%20%20%20%20%20%20%20%0A%0A%20%20%20%20%20%20%20%20circle_marker_5dff2968939f49c08e34e3b81d02357c.bindPopup%28popup_00678177524c42c5aa9ed4d980dedb6e%29%0A%20%20%20%20%20%20%20%20%3B%0A%0A%20%20%20%20%20%20%20%20%0A%20%20%20%20%0A%20%20%20%20%0A%20%20%20%20%20%20%20%20%20%20%20%20var%20circle_marker_0f20e8e3e88e41ad946c1af336f96684%20%3D%20L.circleMarker%28%0A%20%20%20%20%20%20%20%20%20%20%20%20%20%20%20%20%5B-34.9964963%2C%20-64.9672817%5D%2C%0A%20%20%20%20%20%20%20%20%20%20%20%20%20%20%20%20%7B%22bubblingMouseEvents%22%3A%20true%2C%20%22color%22%3A%20%22%233388ff%22%2C%20%22dashArray%22%3A%20null%2C%20%22dashOffset%22%3A%20null%2C%20%22fill%22%3A%20true%2C%20%22fillColor%22%3A%20%22%233388ff%22%2C%20%22fillOpacity%22%3A%200.2%2C%20%22fillRule%22%3A%20%22evenodd%22%2C%20%22lineCap%22%3A%20%22round%22%2C%20%22lineJoin%22%3A%20%22round%22%2C%20%22opacity%22%3A%201.0%2C%20%22radius%22%3A%2010%2C%20%22stroke%22%3A%20true%2C%20%22weight%22%3A%203%7D%0A%20%20%20%20%20%20%20%20%20%20%20%20%29.addTo%28marker_cluster_39ce51d6bd904fc8a93475e13c65a25b%29%3B%0A%20%20%20%20%20%20%20%20%0A%20%20%20%20%0A%20%20%20%20%20%20%20%20var%20popup_8d922f9860894cc6804dc2c5f7fc323a%20%3D%20L.popup%28%7B%22maxWidth%22%3A%20%22100%25%22%7D%29%3B%0A%0A%20%20%20%20%20%20%20%20%0A%20%20%20%20%20%20%20%20%20%20%20%20var%20html_dc367eff95d846c5831d6361ed4fdcfa%20%3D%20%24%28%60%3Cdiv%20id%3D%22html_dc367eff95d846c5831d6361ed4fdcfa%22%20style%3D%22width%3A%20100.0%25%3B%20height%3A%20100.0%25%3B%22%3EP.%20Dybala%2C%20Juventus%20%20%20%20%20%20%20%20%20%20%20%20%20%20%20%20%20%20%20%20%20Rating%20%3A%2087%20%20%20%20%20%20%20%20%20%20%20%20%20%20%20%20%20%20%20%20%20%3C/div%3E%60%29%5B0%5D%3B%0A%20%20%20%20%20%20%20%20%20%20%20%20popup_8d922f9860894cc6804dc2c5f7fc323a.setContent%28html_dc367eff95d846c5831d6361ed4fdcfa%29%3B%0A%20%20%20%20%20%20%20%20%0A%0A%20%20%20%20%20%20%20%20circle_marker_0f20e8e3e88e41ad946c1af336f96684.bindPopup%28popup_8d922f9860894cc6804dc2c5f7fc323a%29%0A%20%20%20%20%20%20%20%20%3B%0A%0A%20%20%20%20%20%20%20%20%0A%20%20%20%20%0A%20%20%20%20%0A%20%20%20%20%20%20%20%20%20%20%20%20var%20circle_marker_c8bd25fdf1904c749fc8414eaa8a513b%20%3D%20L.circleMarker%28%0A%20%20%20%20%20%20%20%20%20%20%20%20%20%20%20%20%5B40.0332629%2C%20-7.8896263%5D%2C%0A%20%20%20%20%20%20%20%20%20%20%20%20%20%20%20%20%7B%22bubblingMouseEvents%22%3A%20true%2C%20%22color%22%3A%20%22%233388ff%22%2C%20%22dashArray%22%3A%20null%2C%20%22dashOffset%22%3A%20null%2C%20%22fill%22%3A%20true%2C%20%22fillColor%22%3A%20%22%233388ff%22%2C%20%22fillOpacity%22%3A%200.2%2C%20%22fillRule%22%3A%20%22evenodd%22%2C%20%22lineCap%22%3A%20%22round%22%2C%20%22lineJoin%22%3A%20%22round%22%2C%20%22opacity%22%3A%201.0%2C%20%22radius%22%3A%2010%2C%20%22stroke%22%3A%20true%2C%20%22weight%22%3A%203%7D%0A%20%20%20%20%20%20%20%20%20%20%20%20%29.addTo%28marker_cluster_39ce51d6bd904fc8a93475e13c65a25b%29%3B%0A%20%20%20%20%20%20%20%20%0A%20%20%20%20%0A%20%20%20%20%20%20%20%20var%20popup_d65ebdacf12b4884aff70494666589ba%20%3D%20L.popup%28%7B%22maxWidth%22%3A%20%22100%25%22%7D%29%3B%0A%0A%20%20%20%20%20%20%20%20%0A%20%20%20%20%20%20%20%20%20%20%20%20var%20html_1ae9824bacbf44e199967570a576f6f1%20%3D%20%24%28%60%3Cdiv%20id%3D%22html_1ae9824bacbf44e199967570a576f6f1%22%20style%3D%22width%3A%20100.0%25%3B%20height%3A%20100.0%25%3B%22%3EBernardo%20Silva%2C%20Manchester%20City%20%20%20%20%20%20%20%20%20%20%20%20%20%20%20%20%20%20%20%20%20Rating%20%3A%2086%20%20%20%20%20%20%20%20%20%20%20%20%20%20%20%20%20%20%20%20%20%3C/div%3E%60%29%5B0%5D%3B%0A%20%20%20%20%20%20%20%20%20%20%20%20popup_d65ebdacf12b4884aff70494666589ba.setContent%28html_1ae9824bacbf44e199967570a576f6f1%29%3B%0A%20%20%20%20%20%20%20%20%0A%0A%20%20%20%20%20%20%20%20circle_marker_c8bd25fdf1904c749fc8414eaa8a513b.bindPopup%28popup_d65ebdacf12b4884aff70494666589ba%29%0A%20%20%20%20%20%20%20%20%3B%0A%0A%20%20%20%20%20%20%20%20%0A%20%20%20%20%0A%20%20%20%20%0A%20%20%20%20%20%20%20%20%20%20%20%20var%20circle_marker_e6582624db244412b2ad65b695891c99%20%3D%20L.circleMarker%28%0A%20%20%20%20%20%20%20%20%20%20%20%20%20%20%20%20%5B39.3260685%2C%20-4.8379791%5D%2C%0A%20%20%20%20%20%20%20%20%20%20%20%20%20%20%20%20%7B%22bubblingMouseEvents%22%3A%20true%2C%20%22color%22%3A%20%22%233388ff%22%2C%20%22dashArray%22%3A%20null%2C%20%22dashOffset%22%3A%20null%2C%20%22fill%22%3A%20true%2C%20%22fillColor%22%3A%20%22%233388ff%22%2C%20%22fillOpacity%22%3A%200.2%2C%20%22fillRule%22%3A%20%22evenodd%22%2C%20%22lineCap%22%3A%20%22round%22%2C%20%22lineJoin%22%3A%20%22round%22%2C%20%22opacity%22%3A%201.0%2C%20%22radius%22%3A%2010%2C%20%22stroke%22%3A%20true%2C%20%22weight%22%3A%203%7D%0A%20%20%20%20%20%20%20%20%20%20%20%20%29.addTo%28marker_cluster_39ce51d6bd904fc8a93475e13c65a25b%29%3B%0A%20%20%20%20%20%20%20%20%0A%20%20%20%20%0A%20%20%20%20%20%20%20%20var%20popup_87939997bfbf40f7803d9e44661570f1%20%3D%20L.popup%28%7B%22maxWidth%22%3A%20%22100%25%22%7D%29%3B%0A%0A%20%20%20%20%20%20%20%20%0A%20%20%20%20%20%20%20%20%20%20%20%20var%20html_9c836a318aa8422ca01f71ef2615ed82%20%3D%20%24%28%60%3Cdiv%20id%3D%22html_9c836a318aa8422ca01f71ef2615ed82%22%20style%3D%22width%3A%20100.0%25%3B%20height%3A%20100.0%25%3B%22%3EGerard%20Moreno%2C%20Villarreal%20CF%20%20%20%20%20%20%20%20%20%20%20%20%20%20%20%20%20%20%20%20%20Rating%20%3A%2086%20%20%20%20%20%20%20%20%20%20%20%20%20%20%20%20%20%20%20%20%20%3C/div%3E%60%29%5B0%5D%3B%0A%20%20%20%20%20%20%20%20%20%20%20%20popup_87939997bfbf40f7803d9e44661570f1.setContent%28html_9c836a318aa8422ca01f71ef2615ed82%29%3B%0A%20%20%20%20%20%20%20%20%0A%0A%20%20%20%20%20%20%20%20circle_marker_e6582624db244412b2ad65b695891c99.bindPopup%28popup_87939997bfbf40f7803d9e44661570f1%29%0A%20%20%20%20%20%20%20%20%3B%0A%0A%20%20%20%20%20%20%20%20%0A%20%20%20%20%0A%20%20%20%20%0A%20%20%20%20%20%20%20%20%20%20%20%20var%20circle_marker_605ba459dbc548c6b8452af12b26448f%20%3D%20L.circleMarker%28%0A%20%20%20%20%20%20%20%20%20%20%20%20%20%20%20%20%5B46.603354%2C%201.8883335%5D%2C%0A%20%20%20%20%20%20%20%20%20%20%20%20%20%20%20%20%7B%22bubblingMouseEvents%22%3A%20true%2C%20%22color%22%3A%20%22%233388ff%22%2C%20%22dashArray%22%3A%20null%2C%20%22dashOffset%22%3A%20null%2C%20%22fill%22%3A%20true%2C%20%22fillColor%22%3A%20%22%233388ff%22%2C%20%22fillOpacity%22%3A%200.2%2C%20%22fillRule%22%3A%20%22evenodd%22%2C%20%22lineCap%22%3A%20%22round%22%2C%20%22lineJoin%22%3A%20%22round%22%2C%20%22opacity%22%3A%201.0%2C%20%22radius%22%3A%2010%2C%20%22stroke%22%3A%20true%2C%20%22weight%22%3A%203%7D%0A%20%20%20%20%20%20%20%20%20%20%20%20%29.addTo%28marker_cluster_39ce51d6bd904fc8a93475e13c65a25b%29%3B%0A%20%20%20%20%20%20%20%20%0A%20%20%20%20%0A%20%20%20%20%20%20%20%20var%20popup_9d02c0d9b881426d823f71ec1e987f82%20%3D%20L.popup%28%7B%22maxWidth%22%3A%20%22100%25%22%7D%29%3B%0A%0A%20%20%20%20%20%20%20%20%0A%20%20%20%20%20%20%20%20%20%20%20%20var%20html_c8511c2bfca14d078f9f95164adbb649%20%3D%20%24%28%60%3Cdiv%20id%3D%22html_c8511c2bfca14d078f9f95164adbb649%22%20style%3D%22width%3A%20100.0%25%3B%20height%3A%20100.0%25%3B%22%3EK.%20Benzema%2C%20Real%20Madrid%20CF%20%20%20%20%20%20%20%20%20%20%20%20%20%20%20%20%20%20%20%20%20Rating%20%3A%2089%20%20%20%20%20%20%20%20%20%20%20%20%20%20%20%20%20%20%20%20%20%3C/div%3E%60%29%5B0%5D%3B%0A%20%20%20%20%20%20%20%20%20%20%20%20popup_9d02c0d9b881426d823f71ec1e987f82.setContent%28html_c8511c2bfca14d078f9f95164adbb649%29%3B%0A%20%20%20%20%20%20%20%20%0A%0A%20%20%20%20%20%20%20%20circle_marker_605ba459dbc548c6b8452af12b26448f.bindPopup%28popup_9d02c0d9b881426d823f71ec1e987f82%29%0A%20%20%20%20%20%20%20%20%3B%0A%0A%20%20%20%20%20%20%20%20%0A%20%20%20%20%0A%20%20%20%20%0A%20%20%20%20%20%20%20%20%20%20%20%20var%20circle_marker_e11138ebe55c4361bad41aced04fe2ff%20%3D%20L.circleMarker%28%0A%20%20%20%20%20%20%20%20%20%20%20%20%20%20%20%20%5B52.5310214%2C%20-1.2649062%5D%2C%0A%20%20%20%20%20%20%20%20%20%20%20%20%20%20%20%20%7B%22bubblingMouseEvents%22%3A%20true%2C%20%22color%22%3A%20%22%233388ff%22%2C%20%22dashArray%22%3A%20null%2C%20%22dashOffset%22%3A%20null%2C%20%22fill%22%3A%20true%2C%20%22fillColor%22%3A%20%22%233388ff%22%2C%20%22fillOpacity%22%3A%200.2%2C%20%22fillRule%22%3A%20%22evenodd%22%2C%20%22lineCap%22%3A%20%22round%22%2C%20%22lineJoin%22%3A%20%22round%22%2C%20%22opacity%22%3A%201.0%2C%20%22radius%22%3A%2010%2C%20%22stroke%22%3A%20true%2C%20%22weight%22%3A%203%7D%0A%20%20%20%20%20%20%20%20%20%20%20%20%29.addTo%28marker_cluster_39ce51d6bd904fc8a93475e13c65a25b%29%3B%0A%20%20%20%20%20%20%20%20%0A%20%20%20%20%0A%20%20%20%20%20%20%20%20var%20popup_bd7cdf9c6ad14b1da0badbe8b27b68ab%20%3D%20L.popup%28%7B%22maxWidth%22%3A%20%22100%25%22%7D%29%3B%0A%0A%20%20%20%20%20%20%20%20%0A%20%20%20%20%20%20%20%20%20%20%20%20var%20html_6de5fac79a8f4855afedb7dbb0572ab2%20%3D%20%24%28%60%3Cdiv%20id%3D%22html_6de5fac79a8f4855afedb7dbb0572ab2%22%20style%3D%22width%3A%20100.0%25%3B%20height%3A%20100.0%25%3B%22%3ER.%20Sterling%2C%20Manchester%20City%20%20%20%20%20%20%20%20%20%20%20%20%20%20%20%20%20%20%20%20%20Rating%20%3A%2088%20%20%20%20%20%20%20%20%20%20%20%20%20%20%20%20%20%20%20%20%20%3C/div%3E%60%29%5B0%5D%3B%0A%20%20%20%20%20%20%20%20%20%20%20%20popup_bd7cdf9c6ad14b1da0badbe8b27b68ab.setContent%28html_6de5fac79a8f4855afedb7dbb0572ab2%29%3B%0A%20%20%20%20%20%20%20%20%0A%0A%20%20%20%20%20%20%20%20circle_marker_e11138ebe55c4361bad41aced04fe2ff.bindPopup%28popup_bd7cdf9c6ad14b1da0badbe8b27b68ab%29%0A%20%20%20%20%20%20%20%20%3B%0A%0A%20%20%20%20%20%20%20%20%0A%20%20%20%20%0A%20%20%20%20%0A%20%20%20%20%20%20%20%20%20%20%20%20var%20circle_marker_707218fa5fdc4f25b39e30e5357f4ff8%20%3D%20L.circleMarker%28%0A%20%20%20%20%20%20%20%20%20%20%20%20%20%20%20%20%5B52.15517%2C%205.38721%5D%2C%0A%20%20%20%20%20%20%20%20%20%20%20%20%20%20%20%20%7B%22bubblingMouseEvents%22%3A%20true%2C%20%22color%22%3A%20%22%233388ff%22%2C%20%22dashArray%22%3A%20null%2C%20%22dashOffset%22%3A%20null%2C%20%22fill%22%3A%20true%2C%20%22fillColor%22%3A%20%22%233388ff%22%2C%20%22fillOpacity%22%3A%200.2%2C%20%22fillRule%22%3A%20%22evenodd%22%2C%20%22lineCap%22%3A%20%22round%22%2C%20%22lineJoin%22%3A%20%22round%22%2C%20%22opacity%22%3A%201.0%2C%20%22radius%22%3A%2010%2C%20%22stroke%22%3A%20true%2C%20%22weight%22%3A%203%7D%0A%20%20%20%20%20%20%20%20%20%20%20%20%29.addTo%28marker_cluster_39ce51d6bd904fc8a93475e13c65a25b%29%3B%0A%20%20%20%20%20%20%20%20%0A%20%20%20%20%0A%20%20%20%20%20%20%20%20var%20popup_d57097497ac3440ebb019fddb8f676ca%20%3D%20L.popup%28%7B%22maxWidth%22%3A%20%22100%25%22%7D%29%3B%0A%0A%20%20%20%20%20%20%20%20%0A%20%20%20%20%20%20%20%20%20%20%20%20var%20html_e82c9fb2e609472dbf75b9f3047ce60c%20%3D%20%24%28%60%3Cdiv%20id%3D%22html_e82c9fb2e609472dbf75b9f3047ce60c%22%20style%3D%22width%3A%20100.0%25%3B%20height%3A%20100.0%25%3B%22%3EV.%20van%20Dijk%2C%20Liverpool%20%20%20%20%20%20%20%20%20%20%20%20%20%20%20%20%20%20%20%20%20Rating%20%3A%2089%20%20%20%20%20%20%20%20%20%20%20%20%20%20%20%20%20%20%20%20%20%3C/div%3E%60%29%5B0%5D%3B%0A%20%20%20%20%20%20%20%20%20%20%20%20popup_d57097497ac3440ebb019fddb8f676ca.setContent%28html_e82c9fb2e609472dbf75b9f3047ce60c%29%3B%0A%20%20%20%20%20%20%20%20%0A%0A%20%20%20%20%20%20%20%20circle_marker_707218fa5fdc4f25b39e30e5357f4ff8.bindPopup%28popup_d57097497ac3440ebb019fddb8f676ca%29%0A%20%20%20%20%20%20%20%20%3B%0A%0A%20%20%20%20%20%20%20%20%0A%20%20%20%20%0A%20%20%20%20%0A%20%20%20%20%20%20%20%20%20%20%20%20var%20circle_marker_cb16fa3e63ca4ac284f6e8b82d25ae43%20%3D%20L.circleMarker%28%0A%20%20%20%20%20%20%20%20%20%20%20%20%20%20%20%20%5B60.5000209%2C%209.0999715%5D%2C%0A%20%20%20%20%20%20%20%20%20%20%20%20%20%20%20%20%7B%22bubblingMouseEvents%22%3A%20true%2C%20%22color%22%3A%20%22%233388ff%22%2C%20%22dashArray%22%3A%20null%2C%20%22dashOffset%22%3A%20null%2C%20%22fill%22%3A%20true%2C%20%22fillColor%22%3A%20%22%233388ff%22%2C%20%22fillOpacity%22%3A%200.2%2C%20%22fillRule%22%3A%20%22evenodd%22%2C%20%22lineCap%22%3A%20%22round%22%2C%20%22lineJoin%22%3A%20%22round%22%2C%20%22opacity%22%3A%201.0%2C%20%22radius%22%3A%2010%2C%20%22stroke%22%3A%20true%2C%20%22weight%22%3A%203%7D%0A%20%20%20%20%20%20%20%20%20%20%20%20%29.addTo%28marker_cluster_39ce51d6bd904fc8a93475e13c65a25b%29%3B%0A%20%20%20%20%20%20%20%20%0A%20%20%20%20%0A%20%20%20%20%20%20%20%20var%20popup_ac040988b4cf4b74b3a7b473c504cd55%20%3D%20L.popup%28%7B%22maxWidth%22%3A%20%22100%25%22%7D%29%3B%0A%0A%20%20%20%20%20%20%20%20%0A%20%20%20%20%20%20%20%20%20%20%20%20var%20html_6be2b1e3455b40e38edaccff482b6c60%20%3D%20%24%28%60%3Cdiv%20id%3D%22html_6be2b1e3455b40e38edaccff482b6c60%22%20style%3D%22width%3A%20100.0%25%3B%20height%3A%20100.0%25%3B%22%3EE.%20Haaland%2C%20Borussia%20Dortmund%20%20%20%20%20%20%20%20%20%20%20%20%20%20%20%20%20%20%20%20%20Rating%20%3A%2088%20%20%20%20%20%20%20%20%20%20%20%20%20%20%20%20%20%20%20%20%20%3C/div%3E%60%29%5B0%5D%3B%0A%20%20%20%20%20%20%20%20%20%20%20%20popup_ac040988b4cf4b74b3a7b473c504cd55.setContent%28html_6be2b1e3455b40e38edaccff482b6c60%29%3B%0A%20%20%20%20%20%20%20%20%0A%0A%20%20%20%20%20%20%20%20circle_marker_cb16fa3e63ca4ac284f6e8b82d25ae43.bindPopup%28popup_ac040988b4cf4b74b3a7b473c504cd55%29%0A%20%20%20%20%20%20%20%20%3B%0A%0A%20%20%20%20%20%20%20%20%0A%20%20%20%20%0A%20%20%20%20%0A%20%20%20%20%20%20%20%20%20%20%20%20var%20circle_marker_7b4faa5216a14d39b71607565a3cee80%20%3D%20L.circleMarker%28%0A%20%20%20%20%20%20%20%20%20%20%20%20%20%20%20%20%5B39.3260685%2C%20-4.8379791%5D%2C%0A%20%20%20%20%20%20%20%20%20%20%20%20%20%20%20%20%7B%22bubblingMouseEvents%22%3A%20true%2C%20%22color%22%3A%20%22%233388ff%22%2C%20%22dashArray%22%3A%20null%2C%20%22dashOffset%22%3A%20null%2C%20%22fill%22%3A%20true%2C%20%22fillColor%22%3A%20%22%233388ff%22%2C%20%22fillOpacity%22%3A%200.2%2C%20%22fillRule%22%3A%20%22evenodd%22%2C%20%22lineCap%22%3A%20%22round%22%2C%20%22lineJoin%22%3A%20%22round%22%2C%20%22opacity%22%3A%201.0%2C%20%22radius%22%3A%2010%2C%20%22stroke%22%3A%20true%2C%20%22weight%22%3A%203%7D%0A%20%20%20%20%20%20%20%20%20%20%20%20%29.addTo%28marker_cluster_39ce51d6bd904fc8a93475e13c65a25b%29%3B%0A%20%20%20%20%20%20%20%20%0A%20%20%20%20%0A%20%20%20%20%20%20%20%20var%20popup_7fd63342e64b401cb7df27c0520e0497%20%3D%20L.popup%28%7B%22maxWidth%22%3A%20%22100%25%22%7D%29%3B%0A%0A%20%20%20%20%20%20%20%20%0A%20%20%20%20%20%20%20%20%20%20%20%20var%20html_98227eb0cda14132ae0c7d6b6754f6a0%20%3D%20%24%28%60%3Cdiv%20id%3D%22html_98227eb0cda14132ae0c7d6b6754f6a0%22%20style%3D%22width%3A%20100.0%25%3B%20height%3A%20100.0%25%3B%22%3ERodri%2C%20Manchester%20City%20%20%20%20%20%20%20%20%20%20%20%20%20%20%20%20%20%20%20%20%20Rating%20%3A%2086%20%20%20%20%20%20%20%20%20%20%20%20%20%20%20%20%20%20%20%20%20%3C/div%3E%60%29%5B0%5D%3B%0A%20%20%20%20%20%20%20%20%20%20%20%20popup_7fd63342e64b401cb7df27c0520e0497.setContent%28html_98227eb0cda14132ae0c7d6b6754f6a0%29%3B%0A%20%20%20%20%20%20%20%20%0A%0A%20%20%20%20%20%20%20%20circle_marker_7b4faa5216a14d39b71607565a3cee80.bindPopup%28popup_7fd63342e64b401cb7df27c0520e0497%29%0A%20%20%20%20%20%20%20%20%3B%0A%0A%20%20%20%20%20%20%20%20%0A%20%20%20%20%0A%20%20%20%20%0A%20%20%20%20%20%20%20%20%20%20%20%20var%20circle_marker_92d1041622d64349bad2d8ac5e3f6962%20%3D%20L.circleMarker%28%0A%20%20%20%20%20%20%20%20%20%20%20%20%20%20%20%20%5B-10.3333333%2C%20-53.2%5D%2C%0A%20%20%20%20%20%20%20%20%20%20%20%20%20%20%20%20%7B%22bubblingMouseEvents%22%3A%20true%2C%20%22color%22%3A%20%22%233388ff%22%2C%20%22dashArray%22%3A%20null%2C%20%22dashOffset%22%3A%20null%2C%20%22fill%22%3A%20true%2C%20%22fillColor%22%3A%20%22%233388ff%22%2C%20%22fillOpacity%22%3A%200.2%2C%20%22fillRule%22%3A%20%22evenodd%22%2C%20%22lineCap%22%3A%20%22round%22%2C%20%22lineJoin%22%3A%20%22round%22%2C%20%22opacity%22%3A%201.0%2C%20%22radius%22%3A%2010%2C%20%22stroke%22%3A%20true%2C%20%22weight%22%3A%203%7D%0A%20%20%20%20%20%20%20%20%20%20%20%20%29.addTo%28marker_cluster_39ce51d6bd904fc8a93475e13c65a25b%29%3B%0A%20%20%20%20%20%20%20%20%0A%20%20%20%20%0A%20%20%20%20%20%20%20%20var%20popup_dd36f4cb52054704aec4e3cd853e1e1d%20%3D%20L.popup%28%7B%22maxWidth%22%3A%20%22100%25%22%7D%29%3B%0A%0A%20%20%20%20%20%20%20%20%0A%20%20%20%20%20%20%20%20%20%20%20%20var%20html_227f82a50f624fef9ff2eca67e9adf3d%20%3D%20%24%28%60%3Cdiv%20id%3D%22html_227f82a50f624fef9ff2eca67e9adf3d%22%20style%3D%22width%3A%20100.0%25%3B%20height%3A%20100.0%25%3B%22%3EMarquinhos%2C%20Paris%20Saint-Germain%20%20%20%20%20%20%20%20%20%20%20%20%20%20%20%20%20%20%20%20%20Rating%20%3A%2087%20%20%20%20%20%20%20%20%20%20%20%20%20%20%20%20%20%20%20%20%20%3C/div%3E%60%29%5B0%5D%3B%0A%20%20%20%20%20%20%20%20%20%20%20%20popup_dd36f4cb52054704aec4e3cd853e1e1d.setContent%28html_227f82a50f624fef9ff2eca67e9adf3d%29%3B%0A%20%20%20%20%20%20%20%20%0A%0A%20%20%20%20%20%20%20%20circle_marker_92d1041622d64349bad2d8ac5e3f6962.bindPopup%28popup_dd36f4cb52054704aec4e3cd853e1e1d%29%0A%20%20%20%20%20%20%20%20%3B%0A%0A%20%20%20%20%20%20%20%20%0A%20%20%20%20%0A%20%20%20%20%0A%20%20%20%20%20%20%20%20%20%20%20%20var%20circle_marker_43a87e51ac0f4d1895bb4c930a8aec8d%20%3D%20L.circleMarker%28%0A%20%20%20%20%20%20%20%20%20%20%20%20%20%20%20%20%5B-34.9964963%2C%20-64.9672817%5D%2C%0A%20%20%20%20%20%20%20%20%20%20%20%20%20%20%20%20%7B%22bubblingMouseEvents%22%3A%20true%2C%20%22color%22%3A%20%22%233388ff%22%2C%20%22dashArray%22%3A%20null%2C%20%22dashOffset%22%3A%20null%2C%20%22fill%22%3A%20true%2C%20%22fillColor%22%3A%20%22%233388ff%22%2C%20%22fillOpacity%22%3A%200.2%2C%20%22fillRule%22%3A%20%22evenodd%22%2C%20%22lineCap%22%3A%20%22round%22%2C%20%22lineJoin%22%3A%20%22round%22%2C%20%22opacity%22%3A%201.0%2C%20%22radius%22%3A%2010%2C%20%22stroke%22%3A%20true%2C%20%22weight%22%3A%203%7D%0A%20%20%20%20%20%20%20%20%20%20%20%20%29.addTo%28marker_cluster_39ce51d6bd904fc8a93475e13c65a25b%29%3B%0A%20%20%20%20%20%20%20%20%0A%20%20%20%20%0A%20%20%20%20%20%20%20%20var%20popup_5188beed65ce488b9d979dcdb7bdc5f3%20%3D%20L.popup%28%7B%22maxWidth%22%3A%20%22100%25%22%7D%29%3B%0A%0A%20%20%20%20%20%20%20%20%0A%20%20%20%20%20%20%20%20%20%20%20%20var%20html_0f39607bd5af46a9a326af01eddc4821%20%3D%20%24%28%60%3Cdiv%20id%3D%22html_0f39607bd5af46a9a326af01eddc4821%22%20style%3D%22width%3A%20100.0%25%3B%20height%3A%20100.0%25%3B%22%3ES.%20Aguero%2C%20FC%20Barcelona%20%20%20%20%20%20%20%20%20%20%20%20%20%20%20%20%20%20%20%20%20Rating%20%3A%2087%20%20%20%20%20%20%20%20%20%20%20%20%20%20%20%20%20%20%20%20%20%3C/div%3E%60%29%5B0%5D%3B%0A%20%20%20%20%20%20%20%20%20%20%20%20popup_5188beed65ce488b9d979dcdb7bdc5f3.setContent%28html_0f39607bd5af46a9a326af01eddc4821%29%3B%0A%20%20%20%20%20%20%20%20%0A%0A%20%20%20%20%20%20%20%20circle_marker_43a87e51ac0f4d1895bb4c930a8aec8d.bindPopup%28popup_5188beed65ce488b9d979dcdb7bdc5f3%29%0A%20%20%20%20%20%20%20%20%3B%0A%0A%20%20%20%20%20%20%20%20%0A%20%20%20%20%0A%20%20%20%20%0A%20%20%20%20%20%20%20%20%20%20%20%20var%20circle_marker_369c988d61d74549a6a84452156dc169%20%3D%20L.circleMarker%28%0A%20%20%20%20%20%20%20%20%20%20%20%20%20%20%20%20%5B42.6384261%2C%2012.674297%5D%2C%0A%20%20%20%20%20%20%20%20%20%20%20%20%20%20%20%20%7B%22bubblingMouseEvents%22%3A%20true%2C%20%22color%22%3A%20%22%233388ff%22%2C%20%22dashArray%22%3A%20null%2C%20%22dashOffset%22%3A%20null%2C%20%22fill%22%3A%20true%2C%20%22fillColor%22%3A%20%22%233388ff%22%2C%20%22fillOpacity%22%3A%200.2%2C%20%22fillRule%22%3A%20%22evenodd%22%2C%20%22lineCap%22%3A%20%22round%22%2C%20%22lineJoin%22%3A%20%22round%22%2C%20%22opacity%22%3A%201.0%2C%20%22radius%22%3A%2010%2C%20%22stroke%22%3A%20true%2C%20%22weight%22%3A%203%7D%0A%20%20%20%20%20%20%20%20%20%20%20%20%29.addTo%28marker_cluster_39ce51d6bd904fc8a93475e13c65a25b%29%3B%0A%20%20%20%20%20%20%20%20%0A%20%20%20%20%0A%20%20%20%20%20%20%20%20var%20popup_901499be90b040d783c628317a758e29%20%3D%20L.popup%28%7B%22maxWidth%22%3A%20%22100%25%22%7D%29%3B%0A%0A%20%20%20%20%20%20%20%20%0A%20%20%20%20%20%20%20%20%20%20%20%20var%20html_a0a1a59d362c429189baf3d84ed26e0b%20%3D%20%24%28%60%3Cdiv%20id%3D%22html_a0a1a59d362c429189baf3d84ed26e0b%22%20style%3D%22width%3A%20100.0%25%3B%20height%3A%20100.0%25%3B%22%3EC.%20Immobile%2C%20Lazio%20%20%20%20%20%20%20%20%20%20%20%20%20%20%20%20%20%20%20%20%20Rating%20%3A%2087%20%20%20%20%20%20%20%20%20%20%20%20%20%20%20%20%20%20%20%20%20%3C/div%3E%60%29%5B0%5D%3B%0A%20%20%20%20%20%20%20%20%20%20%20%20popup_901499be90b040d783c628317a758e29.setContent%28html_a0a1a59d362c429189baf3d84ed26e0b%29%3B%0A%20%20%20%20%20%20%20%20%0A%0A%20%20%20%20%20%20%20%20circle_marker_369c988d61d74549a6a84452156dc169.bindPopup%28popup_901499be90b040d783c628317a758e29%29%0A%20%20%20%20%20%20%20%20%3B%0A%0A%20%20%20%20%20%20%20%20%0A%20%20%20%20%0A%20%20%20%20%0A%20%20%20%20%20%20%20%20%20%20%20%20var%20circle_marker_669e12d55ec44e0d917ef43d0922691e%20%3D%20L.circleMarker%28%0A%20%20%20%20%20%20%20%20%20%20%20%20%20%20%20%20%5B50.6402809%2C%204.6667145%5D%2C%0A%20%20%20%20%20%20%20%20%20%20%20%20%20%20%20%20%7B%22bubblingMouseEvents%22%3A%20true%2C%20%22color%22%3A%20%22%233388ff%22%2C%20%22dashArray%22%3A%20null%2C%20%22dashOffset%22%3A%20null%2C%20%22fill%22%3A%20true%2C%20%22fillColor%22%3A%20%22%233388ff%22%2C%20%22fillOpacity%22%3A%200.2%2C%20%22fillRule%22%3A%20%22evenodd%22%2C%20%22lineCap%22%3A%20%22round%22%2C%20%22lineJoin%22%3A%20%22round%22%2C%20%22opacity%22%3A%201.0%2C%20%22radius%22%3A%2010%2C%20%22stroke%22%3A%20true%2C%20%22weight%22%3A%203%7D%0A%20%20%20%20%20%20%20%20%20%20%20%20%29.addTo%28marker_cluster_39ce51d6bd904fc8a93475e13c65a25b%29%3B%0A%20%20%20%20%20%20%20%20%0A%20%20%20%20%0A%20%20%20%20%20%20%20%20var%20popup_51a5af10b2874164ba5d9fd19d2b1b61%20%3D%20L.popup%28%7B%22maxWidth%22%3A%20%22100%25%22%7D%29%3B%0A%0A%20%20%20%20%20%20%20%20%0A%20%20%20%20%20%20%20%20%20%20%20%20var%20html_180560d6789a4966b02e10385e13dd04%20%3D%20%24%28%60%3Cdiv%20id%3D%22html_180560d6789a4966b02e10385e13dd04%22%20style%3D%22width%3A%20100.0%25%3B%20height%3A%20100.0%25%3B%22%3ER.%20Lukaku%2C%20Chelsea%20%20%20%20%20%20%20%20%20%20%20%20%20%20%20%20%20%20%20%20%20Rating%20%3A%2088%20%20%20%20%20%20%20%20%20%20%20%20%20%20%20%20%20%20%20%20%20%3C/div%3E%60%29%5B0%5D%3B%0A%20%20%20%20%20%20%20%20%20%20%20%20popup_51a5af10b2874164ba5d9fd19d2b1b61.setContent%28html_180560d6789a4966b02e10385e13dd04%29%3B%0A%20%20%20%20%20%20%20%20%0A%0A%20%20%20%20%20%20%20%20circle_marker_669e12d55ec44e0d917ef43d0922691e.bindPopup%28popup_51a5af10b2874164ba5d9fd19d2b1b61%29%0A%20%20%20%20%20%20%20%20%3B%0A%0A%20%20%20%20%20%20%20%20%0A%20%20%20%20%0A%20%20%20%20%0A%20%20%20%20%20%20%20%20%20%20%20%20var%20circle_marker_4684a5fbdde44125bf50fbc4d3e2f2ae%20%3D%20L.circleMarker%28%0A%20%20%20%20%20%20%20%20%20%20%20%20%20%20%20%20%5B51.0834196%2C%2010.4234469%5D%2C%0A%20%20%20%20%20%20%20%20%20%20%20%20%20%20%20%20%7B%22bubblingMouseEvents%22%3A%20true%2C%20%22color%22%3A%20%22%233388ff%22%2C%20%22dashArray%22%3A%20null%2C%20%22dashOffset%22%3A%20null%2C%20%22fill%22%3A%20true%2C%20%22fillColor%22%3A%20%22%233388ff%22%2C%20%22fillOpacity%22%3A%200.2%2C%20%22fillRule%22%3A%20%22evenodd%22%2C%20%22lineCap%22%3A%20%22round%22%2C%20%22lineJoin%22%3A%20%22round%22%2C%20%22opacity%22%3A%201.0%2C%20%22radius%22%3A%2010%2C%20%22stroke%22%3A%20true%2C%20%22weight%22%3A%203%7D%0A%20%20%20%20%20%20%20%20%20%20%20%20%29.addTo%28marker_cluster_39ce51d6bd904fc8a93475e13c65a25b%29%3B%0A%20%20%20%20%20%20%20%20%0A%20%20%20%20%0A%20%20%20%20%20%20%20%20var%20popup_484c91d1e8a04006a343de5db95d708e%20%3D%20L.popup%28%7B%22maxWidth%22%3A%20%22100%25%22%7D%29%3B%0A%0A%20%20%20%20%20%20%20%20%0A%20%20%20%20%20%20%20%20%20%20%20%20var%20html_79ec93b6fb9442c7ae30dfc5bc829395%20%3D%20%24%28%60%3Cdiv%20id%3D%22html_79ec93b6fb9442c7ae30dfc5bc829395%22%20style%3D%22width%3A%20100.0%25%3B%20height%3A%20100.0%25%3B%22%3EM.%20Hummels%2C%20Borussia%20Dortmund%20%20%20%20%20%20%20%20%20%20%20%20%20%20%20%20%20%20%20%20%20Rating%20%3A%2086%20%20%20%20%20%20%20%20%20%20%20%20%20%20%20%20%20%20%20%20%20%3C/div%3E%60%29%5B0%5D%3B%0A%20%20%20%20%20%20%20%20%20%20%20%20popup_484c91d1e8a04006a343de5db95d708e.setContent%28html_79ec93b6fb9442c7ae30dfc5bc829395%29%3B%0A%20%20%20%20%20%20%20%20%0A%0A%20%20%20%20%20%20%20%20circle_marker_4684a5fbdde44125bf50fbc4d3e2f2ae.bindPopup%28popup_484c91d1e8a04006a343de5db95d708e%29%0A%20%20%20%20%20%20%20%20%3B%0A%0A%20%20%20%20%20%20%20%20%0A%20%20%20%20%0A%20%20%20%20%0A%20%20%20%20%20%20%20%20%20%20%20%20var%20circle_marker_cb196fb6cb244695a176afc8b864a0f8%20%3D%20L.circleMarker%28%0A%20%20%20%20%20%20%20%20%20%20%20%20%20%20%20%20%5B28.0000272%2C%202.9999825%5D%2C%0A%20%20%20%20%20%20%20%20%20%20%20%20%20%20%20%20%7B%22bubblingMouseEvents%22%3A%20true%2C%20%22color%22%3A%20%22%233388ff%22%2C%20%22dashArray%22%3A%20null%2C%20%22dashOffset%22%3A%20null%2C%20%22fill%22%3A%20true%2C%20%22fillColor%22%3A%20%22%233388ff%22%2C%20%22fillOpacity%22%3A%200.2%2C%20%22fillRule%22%3A%20%22evenodd%22%2C%20%22lineCap%22%3A%20%22round%22%2C%20%22lineJoin%22%3A%20%22round%22%2C%20%22opacity%22%3A%201.0%2C%20%22radius%22%3A%2010%2C%20%22stroke%22%3A%20true%2C%20%22weight%22%3A%203%7D%0A%20%20%20%20%20%20%20%20%20%20%20%20%29.addTo%28marker_cluster_39ce51d6bd904fc8a93475e13c65a25b%29%3B%0A%20%20%20%20%20%20%20%20%0A%20%20%20%20%0A%20%20%20%20%20%20%20%20var%20popup_db666b4cd2ad40ee8e7d2862de03343a%20%3D%20L.popup%28%7B%22maxWidth%22%3A%20%22100%25%22%7D%29%3B%0A%0A%20%20%20%20%20%20%20%20%0A%20%20%20%20%20%20%20%20%20%20%20%20var%20html_f08acd58d926461ca210aced44dade0f%20%3D%20%24%28%60%3Cdiv%20id%3D%22html_f08acd58d926461ca210aced44dade0f%22%20style%3D%22width%3A%20100.0%25%3B%20height%3A%20100.0%25%3B%22%3ER.%20Mahrez%2C%20Manchester%20City%20%20%20%20%20%20%20%20%20%20%20%20%20%20%20%20%20%20%20%20%20Rating%20%3A%2086%20%20%20%20%20%20%20%20%20%20%20%20%20%20%20%20%20%20%20%20%20%3C/div%3E%60%29%5B0%5D%3B%0A%20%20%20%20%20%20%20%20%20%20%20%20popup_db666b4cd2ad40ee8e7d2862de03343a.setContent%28html_f08acd58d926461ca210aced44dade0f%29%3B%0A%20%20%20%20%20%20%20%20%0A%0A%20%20%20%20%20%20%20%20circle_marker_cb196fb6cb244695a176afc8b864a0f8.bindPopup%28popup_db666b4cd2ad40ee8e7d2862de03343a%29%0A%20%20%20%20%20%20%20%20%3B%0A%0A%20%20%20%20%20%20%20%20%0A%20%20%20%20%0A%20%20%20%20%0A%20%20%20%20%20%20%20%20%20%20%20%20var%20circle_marker_11db37d4b64f4cd7babf7c6286308e58%20%3D%20L.circleMarker%28%0A%20%20%20%20%20%20%20%20%20%20%20%20%20%20%20%20%5B42.6384261%2C%2012.674297%5D%2C%0A%20%20%20%20%20%20%20%20%20%20%20%20%20%20%20%20%7B%22bubblingMouseEvents%22%3A%20true%2C%20%22color%22%3A%20%22%233388ff%22%2C%20%22dashArray%22%3A%20null%2C%20%22dashOffset%22%3A%20null%2C%20%22fill%22%3A%20true%2C%20%22fillColor%22%3A%20%22%233388ff%22%2C%20%22fillOpacity%22%3A%200.2%2C%20%22fillRule%22%3A%20%22evenodd%22%2C%20%22lineCap%22%3A%20%22round%22%2C%20%22lineJoin%22%3A%20%22round%22%2C%20%22opacity%22%3A%201.0%2C%20%22radius%22%3A%2010%2C%20%22stroke%22%3A%20true%2C%20%22weight%22%3A%203%7D%0A%20%20%20%20%20%20%20%20%20%20%20%20%29.addTo%28marker_cluster_39ce51d6bd904fc8a93475e13c65a25b%29%3B%0A%20%20%20%20%20%20%20%20%0A%20%20%20%20%0A%20%20%20%20%20%20%20%20var%20popup_e5031a4331dd4aac965492a025f3f1e9%20%3D%20L.popup%28%7B%22maxWidth%22%3A%20%22100%25%22%7D%29%3B%0A%0A%20%20%20%20%20%20%20%20%0A%20%20%20%20%20%20%20%20%20%20%20%20var%20html_be0634b2f1ae45d1a85974b3fe38487a%20%3D%20%24%28%60%3Cdiv%20id%3D%22html_be0634b2f1ae45d1a85974b3fe38487a%22%20style%3D%22width%3A%20100.0%25%3B%20height%3A%20100.0%25%3B%22%3EL.%20Insigne%2C%20Napoli%20%20%20%20%20%20%20%20%20%20%20%20%20%20%20%20%20%20%20%20%20Rating%20%3A%2086%20%20%20%20%20%20%20%20%20%20%20%20%20%20%20%20%20%20%20%20%20%3C/div%3E%60%29%5B0%5D%3B%0A%20%20%20%20%20%20%20%20%20%20%20%20popup_e5031a4331dd4aac965492a025f3f1e9.setContent%28html_be0634b2f1ae45d1a85974b3fe38487a%29%3B%0A%20%20%20%20%20%20%20%20%0A%0A%20%20%20%20%20%20%20%20circle_marker_11db37d4b64f4cd7babf7c6286308e58.bindPopup%28popup_e5031a4331dd4aac965492a025f3f1e9%29%0A%20%20%20%20%20%20%20%20%3B%0A%0A%20%20%20%20%20%20%20%20%0A%20%20%20%20%0A%20%20%20%20%0A%20%20%20%20%20%20%20%20%20%20%20%20var%20circle_marker_08457b25ff7543cf833491aeacd4f714%20%3D%20L.circleMarker%28%0A%20%20%20%20%20%20%20%20%20%20%20%20%20%20%20%20%5B39.3260685%2C%20-4.8379791%5D%2C%0A%20%20%20%20%20%20%20%20%20%20%20%20%20%20%20%20%7B%22bubblingMouseEvents%22%3A%20true%2C%20%22color%22%3A%20%22%233388ff%22%2C%20%22dashArray%22%3A%20null%2C%20%22dashOffset%22%3A%20null%2C%20%22fill%22%3A%20true%2C%20%22fillColor%22%3A%20%22%233388ff%22%2C%20%22fillOpacity%22%3A%200.2%2C%20%22fillRule%22%3A%20%22evenodd%22%2C%20%22lineCap%22%3A%20%22round%22%2C%20%22lineJoin%22%3A%20%22round%22%2C%20%22opacity%22%3A%201.0%2C%20%22radius%22%3A%2010%2C%20%22stroke%22%3A%20true%2C%20%22weight%22%3A%203%7D%0A%20%20%20%20%20%20%20%20%20%20%20%20%29.addTo%28marker_cluster_39ce51d6bd904fc8a93475e13c65a25b%29%3B%0A%20%20%20%20%20%20%20%20%0A%20%20%20%20%0A%20%20%20%20%20%20%20%20var%20popup_19df4c9d49814a1ab4103c55b01ac3c4%20%3D%20L.popup%28%7B%22maxWidth%22%3A%20%22100%25%22%7D%29%3B%0A%0A%20%20%20%20%20%20%20%20%0A%20%20%20%20%20%20%20%20%20%20%20%20var%20html_343de5c153544e2393e7d9840d00d05e%20%3D%20%24%28%60%3Cdiv%20id%3D%22html_343de5c153544e2393e7d9840d00d05e%22%20style%3D%22width%3A%20100.0%25%3B%20height%3A%20100.0%25%3B%22%3ESergio%20Busquets%2C%20FC%20Barcelona%20%20%20%20%20%20%20%20%20%20%20%20%20%20%20%20%20%20%20%20%20Rating%20%3A%2086%20%20%20%20%20%20%20%20%20%20%20%20%20%20%20%20%20%20%20%20%20%3C/div%3E%60%29%5B0%5D%3B%0A%20%20%20%20%20%20%20%20%20%20%20%20popup_19df4c9d49814a1ab4103c55b01ac3c4.setContent%28html_343de5c153544e2393e7d9840d00d05e%29%3B%0A%20%20%20%20%20%20%20%20%0A%0A%20%20%20%20%20%20%20%20circle_marker_08457b25ff7543cf833491aeacd4f714.bindPopup%28popup_19df4c9d49814a1ab4103c55b01ac3c4%29%0A%20%20%20%20%20%20%20%20%3B%0A%0A%20%20%20%20%20%20%20%20%0A%20%20%20%20%0A%20%20%20%20%0A%20%20%20%20%20%20%20%20%20%20%20%20var%20circle_marker_c96b37a873054c22a4939245a325f95e%20%3D%20L.circleMarker%28%0A%20%20%20%20%20%20%20%20%20%20%20%20%20%20%20%20%5B52.5310214%2C%20-1.2649062%5D%2C%0A%20%20%20%20%20%20%20%20%20%20%20%20%20%20%20%20%7B%22bubblingMouseEvents%22%3A%20true%2C%20%22color%22%3A%20%22%233388ff%22%2C%20%22dashArray%22%3A%20null%2C%20%22dashOffset%22%3A%20null%2C%20%22fill%22%3A%20true%2C%20%22fillColor%22%3A%20%22%233388ff%22%2C%20%22fillOpacity%22%3A%200.2%2C%20%22fillRule%22%3A%20%22evenodd%22%2C%20%22lineCap%22%3A%20%22round%22%2C%20%22lineJoin%22%3A%20%22round%22%2C%20%22opacity%22%3A%201.0%2C%20%22radius%22%3A%2010%2C%20%22stroke%22%3A%20true%2C%20%22weight%22%3A%203%7D%0A%20%20%20%20%20%20%20%20%20%20%20%20%29.addTo%28marker_cluster_39ce51d6bd904fc8a93475e13c65a25b%29%3B%0A%20%20%20%20%20%20%20%20%0A%20%20%20%20%0A%20%20%20%20%20%20%20%20var%20popup_02f3f3cfabdc4b12a4acf9b096cb394f%20%3D%20L.popup%28%7B%22maxWidth%22%3A%20%22100%25%22%7D%29%3B%0A%0A%20%20%20%20%20%20%20%20%0A%20%20%20%20%20%20%20%20%20%20%20%20var%20html_2b511ea5ece6474cb4ed2a30a5f4eaa2%20%3D%20%24%28%60%3Cdiv%20id%3D%22html_2b511ea5ece6474cb4ed2a30a5f4eaa2%22%20style%3D%22width%3A%20100.0%25%3B%20height%3A%20100.0%25%3B%22%3EJ.%20Sancho%2C%20Manchester%20United%20%20%20%20%20%20%20%20%20%20%20%20%20%20%20%20%20%20%20%20%20Rating%20%3A%2087%20%20%20%20%20%20%20%20%20%20%20%20%20%20%20%20%20%20%20%20%20%3C/div%3E%60%29%5B0%5D%3B%0A%20%20%20%20%20%20%20%20%20%20%20%20popup_02f3f3cfabdc4b12a4acf9b096cb394f.setContent%28html_2b511ea5ece6474cb4ed2a30a5f4eaa2%29%3B%0A%20%20%20%20%20%20%20%20%0A%0A%20%20%20%20%20%20%20%20circle_marker_c96b37a873054c22a4939245a325f95e.bindPopup%28popup_02f3f3cfabdc4b12a4acf9b096cb394f%29%0A%20%20%20%20%20%20%20%20%3B%0A%0A%20%20%20%20%20%20%20%20%0A%20%20%20%20%0A%20%20%20%20%0A%20%20%20%20%20%20%20%20%20%20%20%20var%20circle_marker_43589da5a48c44f5bdffec88ce988ed5%20%3D%20L.circleMarker%28%0A%20%20%20%20%20%20%20%20%20%20%20%20%20%20%20%20%5B39.3260685%2C%20-4.8379791%5D%2C%0A%20%20%20%20%20%20%20%20%20%20%20%20%20%20%20%20%7B%22bubblingMouseEvents%22%3A%20true%2C%20%22color%22%3A%20%22%233388ff%22%2C%20%22dashArray%22%3A%20null%2C%20%22dashOffset%22%3A%20null%2C%20%22fill%22%3A%20true%2C%20%22fillColor%22%3A%20%22%233388ff%22%2C%20%22fillOpacity%22%3A%200.2%2C%20%22fillRule%22%3A%20%22evenodd%22%2C%20%22lineCap%22%3A%20%22round%22%2C%20%22lineJoin%22%3A%20%22round%22%2C%20%22opacity%22%3A%201.0%2C%20%22radius%22%3A%2010%2C%20%22stroke%22%3A%20true%2C%20%22weight%22%3A%203%7D%0A%20%20%20%20%20%20%20%20%20%20%20%20%29.addTo%28marker_cluster_39ce51d6bd904fc8a93475e13c65a25b%29%3B%0A%20%20%20%20%20%20%20%20%0A%20%20%20%20%0A%20%20%20%20%20%20%20%20var%20popup_047854a414a9477bacc243258b59251b%20%3D%20L.popup%28%7B%22maxWidth%22%3A%20%22100%25%22%7D%29%3B%0A%0A%20%20%20%20%20%20%20%20%0A%20%20%20%20%20%20%20%20%20%20%20%20var%20html_92b27797211a4852baaccc15ab4ce73b%20%3D%20%24%28%60%3Cdiv%20id%3D%22html_92b27797211a4852baaccc15ab4ce73b%22%20style%3D%22width%3A%20100.0%25%3B%20height%3A%20100.0%25%3B%22%3EA.%20Laporte%2C%20Manchester%20City%20%20%20%20%20%20%20%20%20%20%20%20%20%20%20%20%20%20%20%20%20Rating%20%3A%2086%20%20%20%20%20%20%20%20%20%20%20%20%20%20%20%20%20%20%20%20%20%3C/div%3E%60%29%5B0%5D%3B%0A%20%20%20%20%20%20%20%20%20%20%20%20popup_047854a414a9477bacc243258b59251b.setContent%28html_92b27797211a4852baaccc15ab4ce73b%29%3B%0A%20%20%20%20%20%20%20%20%0A%0A%20%20%20%20%20%20%20%20circle_marker_43589da5a48c44f5bdffec88ce988ed5.bindPopup%28popup_047854a414a9477bacc243258b59251b%29%0A%20%20%20%20%20%20%20%20%3B%0A%0A%20%20%20%20%20%20%20%20%0A%20%20%20%20%0A%20%20%20%20%0A%20%20%20%20%20%20%20%20%20%20%20%20var%20circle_marker_37d716c6d4ba4a7ab0fa1e83b77140ad%20%3D%20L.circleMarker%28%0A%20%20%20%20%20%20%20%20%20%20%20%20%20%20%20%20%5B46.603354%2C%201.8883335%5D%2C%0A%20%20%20%20%20%20%20%20%20%20%20%20%20%20%20%20%7B%22bubblingMouseEvents%22%3A%20true%2C%20%22color%22%3A%20%22%233388ff%22%2C%20%22dashArray%22%3A%20null%2C%20%22dashOffset%22%3A%20null%2C%20%22fill%22%3A%20true%2C%20%22fillColor%22%3A%20%22%233388ff%22%2C%20%22fillOpacity%22%3A%200.2%2C%20%22fillRule%22%3A%20%22evenodd%22%2C%20%22lineCap%22%3A%20%22round%22%2C%20%22lineJoin%22%3A%20%22round%22%2C%20%22opacity%22%3A%201.0%2C%20%22radius%22%3A%2010%2C%20%22stroke%22%3A%20true%2C%20%22weight%22%3A%203%7D%0A%20%20%20%20%20%20%20%20%20%20%20%20%29.addTo%28marker_cluster_39ce51d6bd904fc8a93475e13c65a25b%29%3B%0A%20%20%20%20%20%20%20%20%0A%20%20%20%20%0A%20%20%20%20%20%20%20%20var%20popup_ce13052afe8d48778cd4a58f438d749c%20%3D%20L.popup%28%7B%22maxWidth%22%3A%20%22100%25%22%7D%29%3B%0A%0A%20%20%20%20%20%20%20%20%0A%20%20%20%20%20%20%20%20%20%20%20%20var%20html_4b342acba39f4f0f86e21e682cb890ec%20%3D%20%24%28%60%3Cdiv%20id%3D%22html_4b342acba39f4f0f86e21e682cb890ec%22%20style%3D%22width%3A%20100.0%25%3B%20height%3A%20100.0%25%3B%22%3EK.%20Coman%2C%20FC%20Bayern%20M%C3%BCnchen%20%20%20%20%20%20%20%20%20%20%20%20%20%20%20%20%20%20%20%20%20Rating%20%3A%2086%20%20%20%20%20%20%20%20%20%20%20%20%20%20%20%20%20%20%20%20%20%3C/div%3E%60%29%5B0%5D%3B%0A%20%20%20%20%20%20%20%20%20%20%20%20popup_ce13052afe8d48778cd4a58f438d749c.setContent%28html_4b342acba39f4f0f86e21e682cb890ec%29%3B%0A%20%20%20%20%20%20%20%20%0A%0A%20%20%20%20%20%20%20%20circle_marker_37d716c6d4ba4a7ab0fa1e83b77140ad.bindPopup%28popup_ce13052afe8d48778cd4a58f438d749c%29%0A%20%20%20%20%20%20%20%20%3B%0A%0A%20%20%20%20%20%20%20%20%0A%20%20%20%20%0A%20%20%20%20%0A%20%20%20%20%20%20%20%20%20%20%20%20var%20circle_marker_3d2c4413aaed49a0af47699f20fa9982%20%3D%20L.circleMarker%28%0A%20%20%20%20%20%20%20%20%20%20%20%20%20%20%20%20%5B46.603354%2C%201.8883335%5D%2C%0A%20%20%20%20%20%20%20%20%20%20%20%20%20%20%20%20%7B%22bubblingMouseEvents%22%3A%20true%2C%20%22color%22%3A%20%22%233388ff%22%2C%20%22dashArray%22%3A%20null%2C%20%22dashOffset%22%3A%20null%2C%20%22fill%22%3A%20true%2C%20%22fillColor%22%3A%20%22%233388ff%22%2C%20%22fillOpacity%22%3A%200.2%2C%20%22fillRule%22%3A%20%22evenodd%22%2C%20%22lineCap%22%3A%20%22round%22%2C%20%22lineJoin%22%3A%20%22round%22%2C%20%22opacity%22%3A%201.0%2C%20%22radius%22%3A%2010%2C%20%22stroke%22%3A%20true%2C%20%22weight%22%3A%203%7D%0A%20%20%20%20%20%20%20%20%20%20%20%20%29.addTo%28marker_cluster_39ce51d6bd904fc8a93475e13c65a25b%29%3B%0A%20%20%20%20%20%20%20%20%0A%20%20%20%20%0A%20%20%20%20%20%20%20%20var%20popup_c82c56b510624a63929180241f26150c%20%3D%20L.popup%28%7B%22maxWidth%22%3A%20%22100%25%22%7D%29%3B%0A%0A%20%20%20%20%20%20%20%20%0A%20%20%20%20%20%20%20%20%20%20%20%20var%20html_6acbeebe10ba4813be5e8d8fcb564a74%20%3D%20%24%28%60%3Cdiv%20id%3D%22html_6acbeebe10ba4813be5e8d8fcb564a74%22%20style%3D%22width%3A%20100.0%25%3B%20height%3A%20100.0%25%3B%22%3ER.%20Varane%2C%20Manchester%20United%20%20%20%20%20%20%20%20%20%20%20%20%20%20%20%20%20%20%20%20%20Rating%20%3A%2086%20%20%20%20%20%20%20%20%20%20%20%20%20%20%20%20%20%20%20%20%20%3C/div%3E%60%29%5B0%5D%3B%0A%20%20%20%20%20%20%20%20%20%20%20%20popup_c82c56b510624a63929180241f26150c.setContent%28html_6acbeebe10ba4813be5e8d8fcb564a74%29%3B%0A%20%20%20%20%20%20%20%20%0A%0A%20%20%20%20%20%20%20%20circle_marker_3d2c4413aaed49a0af47699f20fa9982.bindPopup%28popup_c82c56b510624a63929180241f26150c%29%0A%20%20%20%20%20%20%20%20%3B%0A%0A%20%20%20%20%20%20%20%20%0A%20%20%20%20%0A%20%20%20%20%0A%20%20%20%20%20%20%20%20%20%20%20%20var%20circle_marker_ca4c898437fe4c82bb154ee59d8b7fd6%20%3D%20L.circleMarker%28%0A%20%20%20%20%20%20%20%20%20%20%20%20%20%20%20%20%5B40.0332629%2C%20-7.8896263%5D%2C%0A%20%20%20%20%20%20%20%20%20%20%20%20%20%20%20%20%7B%22bubblingMouseEvents%22%3A%20true%2C%20%22color%22%3A%20%22%233388ff%22%2C%20%22dashArray%22%3A%20null%2C%20%22dashOffset%22%3A%20null%2C%20%22fill%22%3A%20true%2C%20%22fillColor%22%3A%20%22%233388ff%22%2C%20%22fillOpacity%22%3A%200.2%2C%20%22fillRule%22%3A%20%22evenodd%22%2C%20%22lineCap%22%3A%20%22round%22%2C%20%22lineJoin%22%3A%20%22round%22%2C%20%22opacity%22%3A%201.0%2C%20%22radius%22%3A%2010%2C%20%22stroke%22%3A%20true%2C%20%22weight%22%3A%203%7D%0A%20%20%20%20%20%20%20%20%20%20%20%20%29.addTo%28marker_cluster_39ce51d6bd904fc8a93475e13c65a25b%29%3B%0A%20%20%20%20%20%20%20%20%0A%20%20%20%20%0A%20%20%20%20%20%20%20%20var%20popup_81e176f6a9f749af887617bf8ae0e8f7%20%3D%20L.popup%28%7B%22maxWidth%22%3A%20%22100%25%22%7D%29%3B%0A%0A%20%20%20%20%20%20%20%20%0A%20%20%20%20%20%20%20%20%20%20%20%20var%20html_806988b6828c4ce69aff10f0522adce2%20%3D%20%24%28%60%3Cdiv%20id%3D%22html_806988b6828c4ce69aff10f0522adce2%22%20style%3D%22width%3A%20100.0%25%3B%20height%3A%20100.0%25%3B%22%3ERuben%20Dias%2C%20Manchester%20City%20%20%20%20%20%20%20%20%20%20%20%20%20%20%20%20%20%20%20%20%20Rating%20%3A%2087%20%20%20%20%20%20%20%20%20%20%20%20%20%20%20%20%20%20%20%20%20%3C/div%3E%60%29%5B0%5D%3B%0A%20%20%20%20%20%20%20%20%20%20%20%20popup_81e176f6a9f749af887617bf8ae0e8f7.setContent%28html_806988b6828c4ce69aff10f0522adce2%29%3B%0A%20%20%20%20%20%20%20%20%0A%0A%20%20%20%20%20%20%20%20circle_marker_ca4c898437fe4c82bb154ee59d8b7fd6.bindPopup%28popup_81e176f6a9f749af887617bf8ae0e8f7%29%0A%20%20%20%20%20%20%20%20%3B%0A%0A%20%20%20%20%20%20%20%20%0A%20%20%20%20%0A%20%20%20%20%0A%20%20%20%20%20%20%20%20%20%20%20%20var%20circle_marker_ed37e6e7e71941dcb697705c60bce108%20%3D%20L.circleMarker%28%0A%20%20%20%20%20%20%20%20%20%20%20%20%20%20%20%20%5B42.6384261%2C%2012.674297%5D%2C%0A%20%20%20%20%20%20%20%20%20%20%20%20%20%20%20%20%7B%22bubblingMouseEvents%22%3A%20true%2C%20%22color%22%3A%20%22%233388ff%22%2C%20%22dashArray%22%3A%20null%2C%20%22dashOffset%22%3A%20null%2C%20%22fill%22%3A%20true%2C%20%22fillColor%22%3A%20%22%233388ff%22%2C%20%22fillOpacity%22%3A%200.2%2C%20%22fillRule%22%3A%20%22evenodd%22%2C%20%22lineCap%22%3A%20%22round%22%2C%20%22lineJoin%22%3A%20%22round%22%2C%20%22opacity%22%3A%201.0%2C%20%22radius%22%3A%2010%2C%20%22stroke%22%3A%20true%2C%20%22weight%22%3A%203%7D%0A%20%20%20%20%20%20%20%20%20%20%20%20%29.addTo%28marker_cluster_39ce51d6bd904fc8a93475e13c65a25b%29%3B%0A%20%20%20%20%20%20%20%20%0A%20%20%20%20%0A%20%20%20%20%20%20%20%20var%20popup_9df9606a7ca84b80a64a507098cb3aec%20%3D%20L.popup%28%7B%22maxWidth%22%3A%20%22100%25%22%7D%29%3B%0A%0A%20%20%20%20%20%20%20%20%0A%20%20%20%20%20%20%20%20%20%20%20%20var%20html_3d00cb1ff5eb4ea4a257a99cb77034d6%20%3D%20%24%28%60%3Cdiv%20id%3D%22html_3d00cb1ff5eb4ea4a257a99cb77034d6%22%20style%3D%22width%3A%20100.0%25%3B%20height%3A%20100.0%25%3B%22%3EG.%20Chiellini%2C%20Juventus%20%20%20%20%20%20%20%20%20%20%20%20%20%20%20%20%20%20%20%20%20Rating%20%3A%2086%20%20%20%20%20%20%20%20%20%20%20%20%20%20%20%20%20%20%20%20%20%3C/div%3E%60%29%5B0%5D%3B%0A%20%20%20%20%20%20%20%20%20%20%20%20popup_9df9606a7ca84b80a64a507098cb3aec.setContent%28html_3d00cb1ff5eb4ea4a257a99cb77034d6%29%3B%0A%20%20%20%20%20%20%20%20%0A%0A%20%20%20%20%20%20%20%20circle_marker_ed37e6e7e71941dcb697705c60bce108.bindPopup%28popup_9df9606a7ca84b80a64a507098cb3aec%29%0A%20%20%20%20%20%20%20%20%3B%0A%0A%20%20%20%20%20%20%20%20%0A%20%20%20%20%0A%20%20%20%20%0A%20%20%20%20%20%20%20%20%20%20%20%20var%20circle_marker_394c882ac6a7417c8dfcc4f6b2126590%20%3D%20L.circleMarker%28%0A%20%20%20%20%20%20%20%20%20%20%20%20%20%20%20%20%5B48.7411522%2C%2019.4528646%5D%2C%0A%20%20%20%20%20%20%20%20%20%20%20%20%20%20%20%20%7B%22bubblingMouseEvents%22%3A%20true%2C%20%22color%22%3A%20%22%233388ff%22%2C%20%22dashArray%22%3A%20null%2C%20%22dashOffset%22%3A%20null%2C%20%22fill%22%3A%20true%2C%20%22fillColor%22%3A%20%22%233388ff%22%2C%20%22fillOpacity%22%3A%200.2%2C%20%22fillRule%22%3A%20%22evenodd%22%2C%20%22lineCap%22%3A%20%22round%22%2C%20%22lineJoin%22%3A%20%22round%22%2C%20%22opacity%22%3A%201.0%2C%20%22radius%22%3A%2010%2C%20%22stroke%22%3A%20true%2C%20%22weight%22%3A%203%7D%0A%20%20%20%20%20%20%20%20%20%20%20%20%29.addTo%28marker_cluster_39ce51d6bd904fc8a93475e13c65a25b%29%3B%0A%20%20%20%20%20%20%20%20%0A%20%20%20%20%0A%20%20%20%20%20%20%20%20var%20popup_0f377abe93b34600bc64637035ea13f6%20%3D%20L.popup%28%7B%22maxWidth%22%3A%20%22100%25%22%7D%29%3B%0A%0A%20%20%20%20%20%20%20%20%0A%20%20%20%20%20%20%20%20%20%20%20%20var%20html_51ffa014d26541fbb90dde7ff4c1feab%20%3D%20%24%28%60%3Cdiv%20id%3D%22html_51ffa014d26541fbb90dde7ff4c1feab%22%20style%3D%22width%3A%20100.0%25%3B%20height%3A%20100.0%25%3B%22%3EM.%20Skriniar%2C%20Inter%20%20%20%20%20%20%20%20%20%20%20%20%20%20%20%20%20%20%20%20%20Rating%20%3A%2086%20%20%20%20%20%20%20%20%20%20%20%20%20%20%20%20%20%20%20%20%20%3C/div%3E%60%29%5B0%5D%3B%0A%20%20%20%20%20%20%20%20%20%20%20%20popup_0f377abe93b34600bc64637035ea13f6.setContent%28html_51ffa014d26541fbb90dde7ff4c1feab%29%3B%0A%20%20%20%20%20%20%20%20%0A%0A%20%20%20%20%20%20%20%20circle_marker_394c882ac6a7417c8dfcc4f6b2126590.bindPopup%28popup_0f377abe93b34600bc64637035ea13f6%29%0A%20%20%20%20%20%20%20%20%3B%0A%0A%20%20%20%20%20%20%20%20%0A%20%20%20%20%0A%20%20%20%20%0A%20%20%20%20%20%20%20%20%20%20%20%20var%20circle_marker_567fd13c84ac49a3b3fa296006bc7c42%20%3D%20L.circleMarker%28%0A%20%20%20%20%20%20%20%20%20%20%20%20%20%20%20%20%5B14.4750607%2C%20-14.4529612%5D%2C%0A%20%20%20%20%20%20%20%20%20%20%20%20%20%20%20%20%7B%22bubblingMouseEvents%22%3A%20true%2C%20%22color%22%3A%20%22%233388ff%22%2C%20%22dashArray%22%3A%20null%2C%20%22dashOffset%22%3A%20null%2C%20%22fill%22%3A%20true%2C%20%22fillColor%22%3A%20%22%233388ff%22%2C%20%22fillOpacity%22%3A%200.2%2C%20%22fillRule%22%3A%20%22evenodd%22%2C%20%22lineCap%22%3A%20%22round%22%2C%20%22lineJoin%22%3A%20%22round%22%2C%20%22opacity%22%3A%201.0%2C%20%22radius%22%3A%2010%2C%20%22stroke%22%3A%20true%2C%20%22weight%22%3A%203%7D%0A%20%20%20%20%20%20%20%20%20%20%20%20%29.addTo%28marker_cluster_39ce51d6bd904fc8a93475e13c65a25b%29%3B%0A%20%20%20%20%20%20%20%20%0A%20%20%20%20%0A%20%20%20%20%20%20%20%20var%20popup_6a62302c75994c2d8598be04fc88b541%20%3D%20L.popup%28%7B%22maxWidth%22%3A%20%22100%25%22%7D%29%3B%0A%0A%20%20%20%20%20%20%20%20%0A%20%20%20%20%20%20%20%20%20%20%20%20var%20html_598d540aba11494c8ceecf7860d5e765%20%3D%20%24%28%60%3Cdiv%20id%3D%22html_598d540aba11494c8ceecf7860d5e765%22%20style%3D%22width%3A%20100.0%25%3B%20height%3A%20100.0%25%3B%22%3EK.%20Koulibaly%2C%20Napoli%20%20%20%20%20%20%20%20%20%20%20%20%20%20%20%20%20%20%20%20%20Rating%20%3A%2086%20%20%20%20%20%20%20%20%20%20%20%20%20%20%20%20%20%20%20%20%20%3C/div%3E%60%29%5B0%5D%3B%0A%20%20%20%20%20%20%20%20%20%20%20%20popup_6a62302c75994c2d8598be04fc88b541.setContent%28html_598d540aba11494c8ceecf7860d5e765%29%3B%0A%20%20%20%20%20%20%20%20%0A%0A%20%20%20%20%20%20%20%20circle_marker_567fd13c84ac49a3b3fa296006bc7c42.bindPopup%28popup_6a62302c75994c2d8598be04fc88b541%29%0A%20%20%20%20%20%20%20%20%3B%0A%0A%20%20%20%20%20%20%20%20%0A%20%20%20%20%0A%20%20%20%20%0A%20%20%20%20%20%20%20%20%20%20%20%20var%20circle_marker_086d73c551e14364810d7f8a86195641%20%3D%20L.circleMarker%28%0A%20%20%20%20%20%20%20%20%20%20%20%20%20%20%20%20%5B-10.3333333%2C%20-53.2%5D%2C%0A%20%20%20%20%20%20%20%20%20%20%20%20%20%20%20%20%7B%22bubblingMouseEvents%22%3A%20true%2C%20%22color%22%3A%20%22%233388ff%22%2C%20%22dashArray%22%3A%20null%2C%20%22dashOffset%22%3A%20null%2C%20%22fill%22%3A%20true%2C%20%22fillColor%22%3A%20%22%233388ff%22%2C%20%22fillOpacity%22%3A%200.2%2C%20%22fillRule%22%3A%20%22evenodd%22%2C%20%22lineCap%22%3A%20%22round%22%2C%20%22lineJoin%22%3A%20%22round%22%2C%20%22opacity%22%3A%201.0%2C%20%22radius%22%3A%2010%2C%20%22stroke%22%3A%20true%2C%20%22weight%22%3A%203%7D%0A%20%20%20%20%20%20%20%20%20%20%20%20%29.addTo%28marker_cluster_39ce51d6bd904fc8a93475e13c65a25b%29%3B%0A%20%20%20%20%20%20%20%20%0A%20%20%20%20%0A%20%20%20%20%20%20%20%20var%20popup_bafb931cc13d4cb2b2249a628f472882%20%3D%20L.popup%28%7B%22maxWidth%22%3A%20%22100%25%22%7D%29%3B%0A%0A%20%20%20%20%20%20%20%20%0A%20%20%20%20%20%20%20%20%20%20%20%20var%20html_7abf1d8895af4a9e8ebd357094cc4769%20%3D%20%24%28%60%3Cdiv%20id%3D%22html_7abf1d8895af4a9e8ebd357094cc4769%22%20style%3D%22width%3A%20100.0%25%3B%20height%3A%20100.0%25%3B%22%3EEderson%2C%20Manchester%20City%20%20%20%20%20%20%20%20%20%20%20%20%20%20%20%20%20%20%20%20%20Rating%20%3A%2089%20%20%20%20%20%20%20%20%20%20%20%20%20%20%20%20%20%20%20%20%20%3C/div%3E%60%29%5B0%5D%3B%0A%20%20%20%20%20%20%20%20%20%20%20%20popup_bafb931cc13d4cb2b2249a628f472882.setContent%28html_7abf1d8895af4a9e8ebd357094cc4769%29%3B%0A%20%20%20%20%20%20%20%20%0A%0A%20%20%20%20%20%20%20%20circle_marker_086d73c551e14364810d7f8a86195641.bindPopup%28popup_bafb931cc13d4cb2b2249a628f472882%29%0A%20%20%20%20%20%20%20%20%3B%0A%0A%20%20%20%20%20%20%20%20%0A%20%20%20%20%0A%20%20%20%20%0A%20%20%20%20%20%20%20%20%20%20%20%20var%20circle_marker_798902a9d32849a58eade6a3774c960f%20%3D%20L.circleMarker%28%0A%20%20%20%20%20%20%20%20%20%20%20%20%20%20%20%20%5B51.0834196%2C%2010.4234469%5D%2C%0A%20%20%20%20%20%20%20%20%20%20%20%20%20%20%20%20%7B%22bubblingMouseEvents%22%3A%20true%2C%20%22color%22%3A%20%22%233388ff%22%2C%20%22dashArray%22%3A%20null%2C%20%22dashOffset%22%3A%20null%2C%20%22fill%22%3A%20true%2C%20%22fillColor%22%3A%20%22%233388ff%22%2C%20%22fillOpacity%22%3A%200.2%2C%20%22fillRule%22%3A%20%22evenodd%22%2C%20%22lineCap%22%3A%20%22round%22%2C%20%22lineJoin%22%3A%20%22round%22%2C%20%22opacity%22%3A%201.0%2C%20%22radius%22%3A%2010%2C%20%22stroke%22%3A%20true%2C%20%22weight%22%3A%203%7D%0A%20%20%20%20%20%20%20%20%20%20%20%20%29.addTo%28marker_cluster_39ce51d6bd904fc8a93475e13c65a25b%29%3B%0A%20%20%20%20%20%20%20%20%0A%20%20%20%20%0A%20%20%20%20%20%20%20%20var%20popup_1b621b0fab9a4e0c96f9a16784ce18b7%20%3D%20L.popup%28%7B%22maxWidth%22%3A%20%22100%25%22%7D%29%3B%0A%0A%20%20%20%20%20%20%20%20%0A%20%20%20%20%20%20%20%20%20%20%20%20var%20html_7a696f090bfb4ced9faeaef9d75ec6ec%20%3D%20%24%28%60%3Cdiv%20id%3D%22html_7a696f090bfb4ced9faeaef9d75ec6ec%22%20style%3D%22width%3A%20100.0%25%3B%20height%3A%20100.0%25%3B%22%3EM.%20Neuer%2C%20FC%20Bayern%20M%C3%BCnchen%20%20%20%20%20%20%20%20%20%20%20%20%20%20%20%20%20%20%20%20%20Rating%20%3A%2090%20%20%20%20%20%20%20%20%20%20%20%20%20%20%20%20%20%20%20%20%20%3C/div%3E%60%29%5B0%5D%3B%0A%20%20%20%20%20%20%20%20%20%20%20%20popup_1b621b0fab9a4e0c96f9a16784ce18b7.setContent%28html_7a696f090bfb4ced9faeaef9d75ec6ec%29%3B%0A%20%20%20%20%20%20%20%20%0A%0A%20%20%20%20%20%20%20%20circle_marker_798902a9d32849a58eade6a3774c960f.bindPopup%28popup_1b621b0fab9a4e0c96f9a16784ce18b7%29%0A%20%20%20%20%20%20%20%20%3B%0A%0A%20%20%20%20%20%20%20%20%0A%20%20%20%20%0A%20%20%20%20%0A%20%20%20%20%20%20%20%20%20%20%20%20var%20circle_marker_327468b2942b4f06b38a77de59d81927%20%3D%20L.circleMarker%28%0A%20%20%20%20%20%20%20%20%20%20%20%20%20%20%20%20%5B51.0834196%2C%2010.4234469%5D%2C%0A%20%20%20%20%20%20%20%20%20%20%20%20%20%20%20%20%7B%22bubblingMouseEvents%22%3A%20true%2C%20%22color%22%3A%20%22%233388ff%22%2C%20%22dashArray%22%3A%20null%2C%20%22dashOffset%22%3A%20null%2C%20%22fill%22%3A%20true%2C%20%22fillColor%22%3A%20%22%233388ff%22%2C%20%22fillOpacity%22%3A%200.2%2C%20%22fillRule%22%3A%20%22evenodd%22%2C%20%22lineCap%22%3A%20%22round%22%2C%20%22lineJoin%22%3A%20%22round%22%2C%20%22opacity%22%3A%201.0%2C%20%22radius%22%3A%2010%2C%20%22stroke%22%3A%20true%2C%20%22weight%22%3A%203%7D%0A%20%20%20%20%20%20%20%20%20%20%20%20%29.addTo%28marker_cluster_39ce51d6bd904fc8a93475e13c65a25b%29%3B%0A%20%20%20%20%20%20%20%20%0A%20%20%20%20%0A%20%20%20%20%20%20%20%20var%20popup_3c0583a771c247bba650fd86193d2beb%20%3D%20L.popup%28%7B%22maxWidth%22%3A%20%22100%25%22%7D%29%3B%0A%0A%20%20%20%20%20%20%20%20%0A%20%20%20%20%20%20%20%20%20%20%20%20var%20html_b1b754bde47b45b5abb1b3a11291d5c5%20%3D%20%24%28%60%3Cdiv%20id%3D%22html_b1b754bde47b45b5abb1b3a11291d5c5%22%20style%3D%22width%3A%20100.0%25%3B%20height%3A%20100.0%25%3B%22%3EM.%20ter%20Stegen%2C%20FC%20Barcelona%20%20%20%20%20%20%20%20%20%20%20%20%20%20%20%20%20%20%20%20%20Rating%20%3A%2090%20%20%20%20%20%20%20%20%20%20%20%20%20%20%20%20%20%20%20%20%20%3C/div%3E%60%29%5B0%5D%3B%0A%20%20%20%20%20%20%20%20%20%20%20%20popup_3c0583a771c247bba650fd86193d2beb.setContent%28html_b1b754bde47b45b5abb1b3a11291d5c5%29%3B%0A%20%20%20%20%20%20%20%20%0A%0A%20%20%20%20%20%20%20%20circle_marker_327468b2942b4f06b38a77de59d81927.bindPopup%28popup_3c0583a771c247bba650fd86193d2beb%29%0A%20%20%20%20%20%20%20%20%3B%0A%0A%20%20%20%20%20%20%20%20%0A%20%20%20%20%0A%20%20%20%20%0A%20%20%20%20%20%20%20%20%20%20%20%20var%20circle_marker_b6031a48e0834ff399fde441ded079f8%20%3D%20L.circleMarker%28%0A%20%20%20%20%20%20%20%20%20%20%20%20%20%20%20%20%5B10.2735633%2C%20-84.0739102%5D%2C%0A%20%20%20%20%20%20%20%20%20%20%20%20%20%20%20%20%7B%22bubblingMouseEvents%22%3A%20true%2C%20%22color%22%3A%20%22%233388ff%22%2C%20%22dashArray%22%3A%20null%2C%20%22dashOffset%22%3A%20null%2C%20%22fill%22%3A%20true%2C%20%22fillColor%22%3A%20%22%233388ff%22%2C%20%22fillOpacity%22%3A%200.2%2C%20%22fillRule%22%3A%20%22evenodd%22%2C%20%22lineCap%22%3A%20%22round%22%2C%20%22lineJoin%22%3A%20%22round%22%2C%20%22opacity%22%3A%201.0%2C%20%22radius%22%3A%2010%2C%20%22stroke%22%3A%20true%2C%20%22weight%22%3A%203%7D%0A%20%20%20%20%20%20%20%20%20%20%20%20%29.addTo%28marker_cluster_39ce51d6bd904fc8a93475e13c65a25b%29%3B%0A%20%20%20%20%20%20%20%20%0A%20%20%20%20%0A%20%20%20%20%20%20%20%20var%20popup_22d20292ca8c463aa916bbb8a4bb1c52%20%3D%20L.popup%28%7B%22maxWidth%22%3A%20%22100%25%22%7D%29%3B%0A%0A%20%20%20%20%20%20%20%20%0A%20%20%20%20%20%20%20%20%20%20%20%20var%20html_54e4bf02e5234de4a3c6494a308e9c35%20%3D%20%24%28%60%3Cdiv%20id%3D%22html_54e4bf02e5234de4a3c6494a308e9c35%22%20style%3D%22width%3A%20100.0%25%3B%20height%3A%20100.0%25%3B%22%3EK.%20Navas%2C%20Paris%20Saint-Germain%20%20%20%20%20%20%20%20%20%20%20%20%20%20%20%20%20%20%20%20%20Rating%20%3A%2088%20%20%20%20%20%20%20%20%20%20%20%20%20%20%20%20%20%20%20%20%20%3C/div%3E%60%29%5B0%5D%3B%0A%20%20%20%20%20%20%20%20%20%20%20%20popup_22d20292ca8c463aa916bbb8a4bb1c52.setContent%28html_54e4bf02e5234de4a3c6494a308e9c35%29%3B%0A%20%20%20%20%20%20%20%20%0A%0A%20%20%20%20%20%20%20%20circle_marker_b6031a48e0834ff399fde441ded079f8.bindPopup%28popup_22d20292ca8c463aa916bbb8a4bb1c52%29%0A%20%20%20%20%20%20%20%20%3B%0A%0A%20%20%20%20%20%20%20%20%0A%20%20%20%20%0A%20%20%20%20%0A%20%20%20%20%20%20%20%20%20%20%20%20var%20circle_marker_d799b92ecb07456db19c13a0fbf0ae9f%20%3D%20L.circleMarker%28%0A%20%20%20%20%20%20%20%20%20%20%20%20%20%20%20%20%5B45.8133113%2C%2014.4808369%5D%2C%0A%20%20%20%20%20%20%20%20%20%20%20%20%20%20%20%20%7B%22bubblingMouseEvents%22%3A%20true%2C%20%22color%22%3A%20%22%233388ff%22%2C%20%22dashArray%22%3A%20null%2C%20%22dashOffset%22%3A%20null%2C%20%22fill%22%3A%20true%2C%20%22fillColor%22%3A%20%22%233388ff%22%2C%20%22fillOpacity%22%3A%200.2%2C%20%22fillRule%22%3A%20%22evenodd%22%2C%20%22lineCap%22%3A%20%22round%22%2C%20%22lineJoin%22%3A%20%22round%22%2C%20%22opacity%22%3A%201.0%2C%20%22radius%22%3A%2010%2C%20%22stroke%22%3A%20true%2C%20%22weight%22%3A%203%7D%0A%20%20%20%20%20%20%20%20%20%20%20%20%29.addTo%28marker_cluster_39ce51d6bd904fc8a93475e13c65a25b%29%3B%0A%20%20%20%20%20%20%20%20%0A%20%20%20%20%0A%20%20%20%20%20%20%20%20var%20popup_1c322df4e6c94d439f6a661dae4c0c20%20%3D%20L.popup%28%7B%22maxWidth%22%3A%20%22100%25%22%7D%29%3B%0A%0A%20%20%20%20%20%20%20%20%0A%20%20%20%20%20%20%20%20%20%20%20%20var%20html_843154e97ddb481584e7a9df3369585d%20%3D%20%24%28%60%3Cdiv%20id%3D%22html_843154e97ddb481584e7a9df3369585d%22%20style%3D%22width%3A%20100.0%25%3B%20height%3A%20100.0%25%3B%22%3EJ.%20Oblak%2C%20Atl%C3%A9tico%20de%20Madrid%20%20%20%20%20%20%20%20%20%20%20%20%20%20%20%20%20%20%20%20%20Rating%20%3A%2091%20%20%20%20%20%20%20%20%20%20%20%20%20%20%20%20%20%20%20%20%20%3C/div%3E%60%29%5B0%5D%3B%0A%20%20%20%20%20%20%20%20%20%20%20%20popup_1c322df4e6c94d439f6a661dae4c0c20.setContent%28html_843154e97ddb481584e7a9df3369585d%29%3B%0A%20%20%20%20%20%20%20%20%0A%0A%20%20%20%20%20%20%20%20circle_marker_d799b92ecb07456db19c13a0fbf0ae9f.bindPopup%28popup_1c322df4e6c94d439f6a661dae4c0c20%29%0A%20%20%20%20%20%20%20%20%3B%0A%0A%20%20%20%20%20%20%20%20%0A%20%20%20%20%0A%20%20%20%20%0A%20%20%20%20%20%20%20%20%20%20%20%20var%20circle_marker_7599bddd9f8e4be8a3a4120167c5d893%20%3D%20L.circleMarker%28%0A%20%20%20%20%20%20%20%20%20%20%20%20%20%20%20%20%5B-10.3333333%2C%20-53.2%5D%2C%0A%20%20%20%20%20%20%20%20%20%20%20%20%20%20%20%20%7B%22bubblingMouseEvents%22%3A%20true%2C%20%22color%22%3A%20%22%233388ff%22%2C%20%22dashArray%22%3A%20null%2C%20%22dashOffset%22%3A%20null%2C%20%22fill%22%3A%20true%2C%20%22fillColor%22%3A%20%22%233388ff%22%2C%20%22fillOpacity%22%3A%200.2%2C%20%22fillRule%22%3A%20%22evenodd%22%2C%20%22lineCap%22%3A%20%22round%22%2C%20%22lineJoin%22%3A%20%22round%22%2C%20%22opacity%22%3A%201.0%2C%20%22radius%22%3A%2010%2C%20%22stroke%22%3A%20true%2C%20%22weight%22%3A%203%7D%0A%20%20%20%20%20%20%20%20%20%20%20%20%29.addTo%28marker_cluster_39ce51d6bd904fc8a93475e13c65a25b%29%3B%0A%20%20%20%20%20%20%20%20%0A%20%20%20%20%0A%20%20%20%20%20%20%20%20var%20popup_5d8815509853410fabc36adadab9dc48%20%3D%20L.popup%28%7B%22maxWidth%22%3A%20%22100%25%22%7D%29%3B%0A%0A%20%20%20%20%20%20%20%20%0A%20%20%20%20%20%20%20%20%20%20%20%20var%20html_474cf2ec633e4118b328a0fc20239ad7%20%3D%20%24%28%60%3Cdiv%20id%3D%22html_474cf2ec633e4118b328a0fc20239ad7%22%20style%3D%22width%3A%20100.0%25%3B%20height%3A%20100.0%25%3B%22%3EAlisson%2C%20Liverpool%20%20%20%20%20%20%20%20%20%20%20%20%20%20%20%20%20%20%20%20%20Rating%20%3A%2089%20%20%20%20%20%20%20%20%20%20%20%20%20%20%20%20%20%20%20%20%20%3C/div%3E%60%29%5B0%5D%3B%0A%20%20%20%20%20%20%20%20%20%20%20%20popup_5d8815509853410fabc36adadab9dc48.setContent%28html_474cf2ec633e4118b328a0fc20239ad7%29%3B%0A%20%20%20%20%20%20%20%20%0A%0A%20%20%20%20%20%20%20%20circle_marker_7599bddd9f8e4be8a3a4120167c5d893.bindPopup%28popup_5d8815509853410fabc36adadab9dc48%29%0A%20%20%20%20%20%20%20%20%3B%0A%0A%20%20%20%20%20%20%20%20%0A%20%20%20%20%0A%20%20%20%20%0A%20%20%20%20%20%20%20%20%20%20%20%20var%20circle_marker_4d3d6346719540aaba1c77ba2069d788%20%3D%20L.circleMarker%28%0A%20%20%20%20%20%20%20%20%20%20%20%20%20%20%20%20%5B42.6384261%2C%2012.674297%5D%2C%0A%20%20%20%20%20%20%20%20%20%20%20%20%20%20%20%20%7B%22bubblingMouseEvents%22%3A%20true%2C%20%22color%22%3A%20%22%233388ff%22%2C%20%22dashArray%22%3A%20null%2C%20%22dashOffset%22%3A%20null%2C%20%22fill%22%3A%20true%2C%20%22fillColor%22%3A%20%22%233388ff%22%2C%20%22fillOpacity%22%3A%200.2%2C%20%22fillRule%22%3A%20%22evenodd%22%2C%20%22lineCap%22%3A%20%22round%22%2C%20%22lineJoin%22%3A%20%22round%22%2C%20%22opacity%22%3A%201.0%2C%20%22radius%22%3A%2010%2C%20%22stroke%22%3A%20true%2C%20%22weight%22%3A%203%7D%0A%20%20%20%20%20%20%20%20%20%20%20%20%29.addTo%28marker_cluster_39ce51d6bd904fc8a93475e13c65a25b%29%3B%0A%20%20%20%20%20%20%20%20%0A%20%20%20%20%0A%20%20%20%20%20%20%20%20var%20popup_2f3364d66cf44e32ae2c3953a4f11fb5%20%3D%20L.popup%28%7B%22maxWidth%22%3A%20%22100%25%22%7D%29%3B%0A%0A%20%20%20%20%20%20%20%20%0A%20%20%20%20%20%20%20%20%20%20%20%20var%20html_0a99c72616e746689dcb21d63756c8a5%20%3D%20%24%28%60%3Cdiv%20id%3D%22html_0a99c72616e746689dcb21d63756c8a5%22%20style%3D%22width%3A%20100.0%25%3B%20height%3A%20100.0%25%3B%22%3EG.%20Donnarumma%2C%20Paris%20Saint-Germain%20%20%20%20%20%20%20%20%20%20%20%20%20%20%20%20%20%20%20%20%20Rating%20%3A%2089%20%20%20%20%20%20%20%20%20%20%20%20%20%20%20%20%20%20%20%20%20%3C/div%3E%60%29%5B0%5D%3B%0A%20%20%20%20%20%20%20%20%20%20%20%20popup_2f3364d66cf44e32ae2c3953a4f11fb5.setContent%28html_0a99c72616e746689dcb21d63756c8a5%29%3B%0A%20%20%20%20%20%20%20%20%0A%0A%20%20%20%20%20%20%20%20circle_marker_4d3d6346719540aaba1c77ba2069d788.bindPopup%28popup_2f3364d66cf44e32ae2c3953a4f11fb5%29%0A%20%20%20%20%20%20%20%20%3B%0A%0A%20%20%20%20%20%20%20%20%0A%20%20%20%20%0A%20%20%20%20%0A%20%20%20%20%20%20%20%20%20%20%20%20var%20circle_marker_a63a10f71c9749579f50c6df458b9db5%20%3D%20L.circleMarker%28%0A%20%20%20%20%20%20%20%20%20%20%20%20%20%20%20%20%5B46.603354%2C%201.8883335%5D%2C%0A%20%20%20%20%20%20%20%20%20%20%20%20%20%20%20%20%7B%22bubblingMouseEvents%22%3A%20true%2C%20%22color%22%3A%20%22%233388ff%22%2C%20%22dashArray%22%3A%20null%2C%20%22dashOffset%22%3A%20null%2C%20%22fill%22%3A%20true%2C%20%22fillColor%22%3A%20%22%233388ff%22%2C%20%22fillOpacity%22%3A%200.2%2C%20%22fillRule%22%3A%20%22evenodd%22%2C%20%22lineCap%22%3A%20%22round%22%2C%20%22lineJoin%22%3A%20%22round%22%2C%20%22opacity%22%3A%201.0%2C%20%22radius%22%3A%2010%2C%20%22stroke%22%3A%20true%2C%20%22weight%22%3A%203%7D%0A%20%20%20%20%20%20%20%20%20%20%20%20%29.addTo%28marker_cluster_39ce51d6bd904fc8a93475e13c65a25b%29%3B%0A%20%20%20%20%20%20%20%20%0A%20%20%20%20%0A%20%20%20%20%20%20%20%20var%20popup_0141da7adebc4549a177240ce0bba129%20%3D%20L.popup%28%7B%22maxWidth%22%3A%20%22100%25%22%7D%29%3B%0A%0A%20%20%20%20%20%20%20%20%0A%20%20%20%20%20%20%20%20%20%20%20%20var%20html_2f2e3daf9dc848eab919cd4cf5a849f5%20%3D%20%24%28%60%3Cdiv%20id%3D%22html_2f2e3daf9dc848eab919cd4cf5a849f5%22%20style%3D%22width%3A%20100.0%25%3B%20height%3A%20100.0%25%3B%22%3EH.%20Lloris%2C%20Tottenham%20Hotspur%20%20%20%20%20%20%20%20%20%20%20%20%20%20%20%20%20%20%20%20%20Rating%20%3A%2087%20%20%20%20%20%20%20%20%20%20%20%20%20%20%20%20%20%20%20%20%20%3C/div%3E%60%29%5B0%5D%3B%0A%20%20%20%20%20%20%20%20%20%20%20%20popup_0141da7adebc4549a177240ce0bba129.setContent%28html_2f2e3daf9dc848eab919cd4cf5a849f5%29%3B%0A%20%20%20%20%20%20%20%20%0A%0A%20%20%20%20%20%20%20%20circle_marker_a63a10f71c9749579f50c6df458b9db5.bindPopup%28popup_0141da7adebc4549a177240ce0bba129%29%0A%20%20%20%20%20%20%20%20%3B%0A%0A%20%20%20%20%20%20%20%20%0A%20%20%20%20%0A%20%20%20%20%0A%20%20%20%20%20%20%20%20%20%20%20%20var%20circle_marker_f0e767b2ebf24198a0d88bee231f0080%20%3D%20L.circleMarker%28%0A%20%20%20%20%20%20%20%20%20%20%20%20%20%20%20%20%5B50.6402809%2C%204.6667145%5D%2C%0A%20%20%20%20%20%20%20%20%20%20%20%20%20%20%20%20%7B%22bubblingMouseEvents%22%3A%20true%2C%20%22color%22%3A%20%22%233388ff%22%2C%20%22dashArray%22%3A%20null%2C%20%22dashOffset%22%3A%20null%2C%20%22fill%22%3A%20true%2C%20%22fillColor%22%3A%20%22%233388ff%22%2C%20%22fillOpacity%22%3A%200.2%2C%20%22fillRule%22%3A%20%22evenodd%22%2C%20%22lineCap%22%3A%20%22round%22%2C%20%22lineJoin%22%3A%20%22round%22%2C%20%22opacity%22%3A%201.0%2C%20%22radius%22%3A%2010%2C%20%22stroke%22%3A%20true%2C%20%22weight%22%3A%203%7D%0A%20%20%20%20%20%20%20%20%20%20%20%20%29.addTo%28marker_cluster_39ce51d6bd904fc8a93475e13c65a25b%29%3B%0A%20%20%20%20%20%20%20%20%0A%20%20%20%20%0A%20%20%20%20%20%20%20%20var%20popup_302b95918e9841dc88494765aea12c6b%20%3D%20L.popup%28%7B%22maxWidth%22%3A%20%22100%25%22%7D%29%3B%0A%0A%20%20%20%20%20%20%20%20%0A%20%20%20%20%20%20%20%20%20%20%20%20var%20html_b86bead85009422ebba8b56bc6028587%20%3D%20%24%28%60%3Cdiv%20id%3D%22html_b86bead85009422ebba8b56bc6028587%22%20style%3D%22width%3A%20100.0%25%3B%20height%3A%20100.0%25%3B%22%3ET.%20Courtois%2C%20Real%20Madrid%20CF%20%20%20%20%20%20%20%20%20%20%20%20%20%20%20%20%20%20%20%20%20Rating%20%3A%2089%20%20%20%20%20%20%20%20%20%20%20%20%20%20%20%20%20%20%20%20%20%3C/div%3E%60%29%5B0%5D%3B%0A%20%20%20%20%20%20%20%20%20%20%20%20popup_302b95918e9841dc88494765aea12c6b.setContent%28html_b86bead85009422ebba8b56bc6028587%29%3B%0A%20%20%20%20%20%20%20%20%0A%0A%20%20%20%20%20%20%20%20circle_marker_f0e767b2ebf24198a0d88bee231f0080.bindPopup%28popup_302b95918e9841dc88494765aea12c6b%29%0A%20%20%20%20%20%20%20%20%3B%0A%0A%20%20%20%20%20%20%20%20%0A%20%20%20%20%0A%20%20%20%20%0A%20%20%20%20%20%20%20%20%20%20%20%20var%20circle_marker_821adc0ffda74bd8be3a8312b37278d9%20%3D%20L.circleMarker%28%0A%20%20%20%20%20%20%20%20%20%20%20%20%20%20%20%20%5B52.215933%2C%2019.134422%5D%2C%0A%20%20%20%20%20%20%20%20%20%20%20%20%20%20%20%20%7B%22bubblingMouseEvents%22%3A%20true%2C%20%22color%22%3A%20%22%233388ff%22%2C%20%22dashArray%22%3A%20null%2C%20%22dashOffset%22%3A%20null%2C%20%22fill%22%3A%20true%2C%20%22fillColor%22%3A%20%22%233388ff%22%2C%20%22fillOpacity%22%3A%200.2%2C%20%22fillRule%22%3A%20%22evenodd%22%2C%20%22lineCap%22%3A%20%22round%22%2C%20%22lineJoin%22%3A%20%22round%22%2C%20%22opacity%22%3A%201.0%2C%20%22radius%22%3A%2010%2C%20%22stroke%22%3A%20true%2C%20%22weight%22%3A%203%7D%0A%20%20%20%20%20%20%20%20%20%20%20%20%29.addTo%28marker_cluster_39ce51d6bd904fc8a93475e13c65a25b%29%3B%0A%20%20%20%20%20%20%20%20%0A%20%20%20%20%0A%20%20%20%20%20%20%20%20var%20popup_72084d807d92463c970281542746632b%20%3D%20L.popup%28%7B%22maxWidth%22%3A%20%22100%25%22%7D%29%3B%0A%0A%20%20%20%20%20%20%20%20%0A%20%20%20%20%20%20%20%20%20%20%20%20var%20html_d5b24030306c4605b05d1fe917622a58%20%3D%20%24%28%60%3Cdiv%20id%3D%22html_d5b24030306c4605b05d1fe917622a58%22%20style%3D%22width%3A%20100.0%25%3B%20height%3A%20100.0%25%3B%22%3EW.%20Szczesny%2C%20Juventus%20%20%20%20%20%20%20%20%20%20%20%20%20%20%20%20%20%20%20%20%20Rating%20%3A%2087%20%20%20%20%20%20%20%20%20%20%20%20%20%20%20%20%20%20%20%20%20%3C/div%3E%60%29%5B0%5D%3B%0A%20%20%20%20%20%20%20%20%20%20%20%20popup_72084d807d92463c970281542746632b.setContent%28html_d5b24030306c4605b05d1fe917622a58%29%3B%0A%20%20%20%20%20%20%20%20%0A%0A%20%20%20%20%20%20%20%20circle_marker_821adc0ffda74bd8be3a8312b37278d9.bindPopup%28popup_72084d807d92463c970281542746632b%29%0A%20%20%20%20%20%20%20%20%3B%0A%0A%20%20%20%20%20%20%20%20%0A%20%20%20%20%0A%20%20%20%20%0A%20%20%20%20%20%20%20%20%20%20%20%20var%20circle_marker_d03e9451243b42c384e9d6ed72f6e6ac%20%3D%20L.circleMarker%28%0A%20%20%20%20%20%20%20%20%20%20%20%20%20%20%20%20%5B50.6402809%2C%204.6667145%5D%2C%0A%20%20%20%20%20%20%20%20%20%20%20%20%20%20%20%20%7B%22bubblingMouseEvents%22%3A%20true%2C%20%22color%22%3A%20%22%233388ff%22%2C%20%22dashArray%22%3A%20null%2C%20%22dashOffset%22%3A%20null%2C%20%22fill%22%3A%20true%2C%20%22fillColor%22%3A%20%22%233388ff%22%2C%20%22fillOpacity%22%3A%200.2%2C%20%22fillRule%22%3A%20%22evenodd%22%2C%20%22lineCap%22%3A%20%22round%22%2C%20%22lineJoin%22%3A%20%22round%22%2C%20%22opacity%22%3A%201.0%2C%20%22radius%22%3A%2010%2C%20%22stroke%22%3A%20true%2C%20%22weight%22%3A%203%7D%0A%20%20%20%20%20%20%20%20%20%20%20%20%29.addTo%28marker_cluster_39ce51d6bd904fc8a93475e13c65a25b%29%3B%0A%20%20%20%20%20%20%20%20%0A%20%20%20%20%0A%20%20%20%20%20%20%20%20var%20popup_73ae5c165d384900a5802112b47a66ae%20%3D%20L.popup%28%7B%22maxWidth%22%3A%20%22100%25%22%7D%29%3B%0A%0A%20%20%20%20%20%20%20%20%0A%20%20%20%20%20%20%20%20%20%20%20%20var%20html_207285c611d744cfb5ffaddf4026f00a%20%3D%20%24%28%60%3Cdiv%20id%3D%22html_207285c611d744cfb5ffaddf4026f00a%22%20style%3D%22width%3A%20100.0%25%3B%20height%3A%20100.0%25%3B%22%3EK.%20Casteels%2C%20VfL%20Wolfsburg%20%20%20%20%20%20%20%20%20%20%20%20%20%20%20%20%20%20%20%20%20Rating%20%3A%2086%20%20%20%20%20%20%20%20%20%20%20%20%20%20%20%20%20%20%20%20%20%3C/div%3E%60%29%5B0%5D%3B%0A%20%20%20%20%20%20%20%20%20%20%20%20popup_73ae5c165d384900a5802112b47a66ae.setContent%28html_207285c611d744cfb5ffaddf4026f00a%29%3B%0A%20%20%20%20%20%20%20%20%0A%0A%20%20%20%20%20%20%20%20circle_marker_d03e9451243b42c384e9d6ed72f6e6ac.bindPopup%28popup_73ae5c165d384900a5802112b47a66ae%29%0A%20%20%20%20%20%20%20%20%3B%0A%0A%20%20%20%20%20%20%20%20%0A%20%20%20%20%0A%20%20%20%20%0A%20%20%20%20%20%20%20%20%20%20%20%20var%20circle_marker_c647f6ab6189458da03ccd0f6bd16afa%20%3D%20L.circleMarker%28%0A%20%20%20%20%20%20%20%20%20%20%20%20%20%20%20%20%5B45.8133113%2C%2014.4808369%5D%2C%0A%20%20%20%20%20%20%20%20%20%20%20%20%20%20%20%20%7B%22bubblingMouseEvents%22%3A%20true%2C%20%22color%22%3A%20%22%233388ff%22%2C%20%22dashArray%22%3A%20null%2C%20%22dashOffset%22%3A%20null%2C%20%22fill%22%3A%20true%2C%20%22fillColor%22%3A%20%22%233388ff%22%2C%20%22fillOpacity%22%3A%200.2%2C%20%22fillRule%22%3A%20%22evenodd%22%2C%20%22lineCap%22%3A%20%22round%22%2C%20%22lineJoin%22%3A%20%22round%22%2C%20%22opacity%22%3A%201.0%2C%20%22radius%22%3A%2010%2C%20%22stroke%22%3A%20true%2C%20%22weight%22%3A%203%7D%0A%20%20%20%20%20%20%20%20%20%20%20%20%29.addTo%28marker_cluster_39ce51d6bd904fc8a93475e13c65a25b%29%3B%0A%20%20%20%20%20%20%20%20%0A%20%20%20%20%0A%20%20%20%20%20%20%20%20var%20popup_d6656dd5ef6541f4a4875b4ac109148e%20%3D%20L.popup%28%7B%22maxWidth%22%3A%20%22100%25%22%7D%29%3B%0A%0A%20%20%20%20%20%20%20%20%0A%20%20%20%20%20%20%20%20%20%20%20%20var%20html_fdd1c184a0964cf18b8dc660bfb42b97%20%3D%20%24%28%60%3Cdiv%20id%3D%22html_fdd1c184a0964cf18b8dc660bfb42b97%22%20style%3D%22width%3A%20100.0%25%3B%20height%3A%20100.0%25%3B%22%3ES.%20Handanovic%2C%20Inter%20%20%20%20%20%20%20%20%20%20%20%20%20%20%20%20%20%20%20%20%20Rating%20%3A%2086%20%20%20%20%20%20%20%20%20%20%20%20%20%20%20%20%20%20%20%20%20%3C/div%3E%60%29%5B0%5D%3B%0A%20%20%20%20%20%20%20%20%20%20%20%20popup_d6656dd5ef6541f4a4875b4ac109148e.setContent%28html_fdd1c184a0964cf18b8dc660bfb42b97%29%3B%0A%20%20%20%20%20%20%20%20%0A%0A%20%20%20%20%20%20%20%20circle_marker_c647f6ab6189458da03ccd0f6bd16afa.bindPopup%28popup_d6656dd5ef6541f4a4875b4ac109148e%29%0A%20%20%20%20%20%20%20%20%3B%0A%0A%20%20%20%20%20%20%20%20%0A%20%20%20%20%0A%3C/script%3E onload=\"this.contentDocument.open();this.contentDocument.write(    decodeURIComponent(this.getAttribute('data-html')));this.contentDocument.close();\" allowfullscreen webkitallowfullscreen mozallowfullscreen></iframe></div></div>"
      ],
      "text/plain": [
       "<folium.folium.Map at 0x2446b0e6b20>"
      ]
     },
     "execution_count": 45,
     "metadata": {},
     "output_type": "execute_result"
    }
   ],
   "source": [
    "# Create a world map to show distributions of top 75 players\n",
    "import folium\n",
    "from folium.plugins import MarkerCluster\n",
    "#empty map\n",
    "world_map= folium.Map(tiles=\"cartodbpositron\")\n",
    "marker_cluster = MarkerCluster().add_to(world_map)\n",
    "#for each coordinate, create circlemarker of user percent\n",
    "for i in range(len(top75_bestplayers)):\n",
    "        lat = top75_bestplayers.iloc[i]['latitude']\n",
    "        long = top75_bestplayers.iloc[i]['longitude']\n",
    "        radius=10\n",
    "        popup_text = \"\"\"{}, {}\n",
    "                    Rating : {}\n",
    "                    \"\"\"\n",
    "        popup_text = popup_text.format(top75_bestplayers.iloc[i]['Name'],top75_bestplayers.iloc[i]['Club'],\n",
    "                                   top75_bestplayers.iloc[i]['Overall']\n",
    "                                   )\n",
    "        folium.CircleMarker(location = [lat, long], radius=radius, popup= popup_text, fill =True).add_to(marker_cluster)\n",
    "#show the map\n",
    "world_map"
   ]
  },
  {
   "cell_type": "markdown",
   "metadata": {},
   "source": [
    "## Meilleurs talents"
   ]
  },
  {
   "cell_type": "code",
   "execution_count": 46,
   "metadata": {},
   "outputs": [],
   "source": [
    "df['Evolution']=df['Potential']-df['Overall']"
   ]
  },
  {
   "cell_type": "code",
   "execution_count": 142,
   "metadata": {
    "scrolled": false
   },
   "outputs": [
    {
     "data": {
      "text/html": [
       "<style  type=\"text/css\" >\n",
       "#T_125eb421_9e5d_11ec_b2f2_e02be9f13799row0_col5,#T_125eb421_9e5d_11ec_b2f2_e02be9f13799row13_col6{\n",
       "            background-color:  #ff0000;\n",
       "            color:  #f1f1f1;\n",
       "        }#T_125eb421_9e5d_11ec_b2f2_e02be9f13799row0_col6{\n",
       "            background-color:  #f79d9d;\n",
       "            color:  #000000;\n",
       "        }#T_125eb421_9e5d_11ec_b2f2_e02be9f13799row1_col5,#T_125eb421_9e5d_11ec_b2f2_e02be9f13799row2_col5,#T_125eb421_9e5d_11ec_b2f2_e02be9f13799row3_col5,#T_125eb421_9e5d_11ec_b2f2_e02be9f13799row4_col5,#T_125eb421_9e5d_11ec_b2f2_e02be9f13799row5_col5{\n",
       "            background-color:  #fb5050;\n",
       "            color:  #000000;\n",
       "        }#T_125eb421_9e5d_11ec_b2f2_e02be9f13799row1_col6,#T_125eb421_9e5d_11ec_b2f2_e02be9f13799row3_col6,#T_125eb421_9e5d_11ec_b2f2_e02be9f13799row7_col6,#T_125eb421_9e5d_11ec_b2f2_e02be9f13799row8_col6,#T_125eb421_9e5d_11ec_b2f2_e02be9f13799row11_col6{\n",
       "            background-color:  #f3e8e8;\n",
       "            color:  #000000;\n",
       "        }#T_125eb421_9e5d_11ec_b2f2_e02be9f13799row2_col6,#T_125eb421_9e5d_11ec_b2f2_e02be9f13799row4_col6{\n",
       "            background-color:  #f6b8b7;\n",
       "            color:  #000000;\n",
       "        }#T_125eb421_9e5d_11ec_b2f2_e02be9f13799row5_col6{\n",
       "            background-color:  #f6b0b0;\n",
       "            color:  #000000;\n",
       "        }#T_125eb421_9e5d_11ec_b2f2_e02be9f13799row6_col5,#T_125eb421_9e5d_11ec_b2f2_e02be9f13799row7_col5,#T_125eb421_9e5d_11ec_b2f2_e02be9f13799row8_col5,#T_125eb421_9e5d_11ec_b2f2_e02be9f13799row9_col5,#T_125eb421_9e5d_11ec_b2f2_e02be9f13799row10_col5,#T_125eb421_9e5d_11ec_b2f2_e02be9f13799row11_col5,#T_125eb421_9e5d_11ec_b2f2_e02be9f13799row12_col5,#T_125eb421_9e5d_11ec_b2f2_e02be9f13799row13_col5{\n",
       "            background-color:  #f7a0a0;\n",
       "            color:  #000000;\n",
       "        }#T_125eb421_9e5d_11ec_b2f2_e02be9f13799row6_col6{\n",
       "            background-color:  #f6bbbb;\n",
       "            color:  #000000;\n",
       "        }#T_125eb421_9e5d_11ec_b2f2_e02be9f13799row9_col6{\n",
       "            background-color:  #f97f7f;\n",
       "            color:  #000000;\n",
       "        }#T_125eb421_9e5d_11ec_b2f2_e02be9f13799row10_col6,#T_125eb421_9e5d_11ec_b2f2_e02be9f13799row14_col5{\n",
       "            background-color:  #f3f0f0;\n",
       "            color:  #000000;\n",
       "        }#T_125eb421_9e5d_11ec_b2f2_e02be9f13799row12_col6{\n",
       "            background-color:  #fc3838;\n",
       "            color:  #f1f1f1;\n",
       "        }#T_125eb421_9e5d_11ec_b2f2_e02be9f13799row14_col6{\n",
       "            background-color:  #fa6c6c;\n",
       "            color:  #000000;\n",
       "        }</style><table id=\"T_125eb421_9e5d_11ec_b2f2_e02be9f13799\" ><thead>    <tr>        <th class=\"blank level0\" ></th>        <th class=\"col_heading level0 col0\" >Name</th>        <th class=\"col_heading level0 col1\" >Age</th>        <th class=\"col_heading level0 col2\" >Club</th>        <th class=\"col_heading level0 col3\" >Overall</th>        <th class=\"col_heading level0 col4\" >Potential</th>        <th class=\"col_heading level0 col5\" >Evolution</th>        <th class=\"col_heading level0 col6\" >Value (€)</th>    </tr></thead><tbody>\n",
       "                <tr>\n",
       "                        <th id=\"T_125eb421_9e5d_11ec_b2f2_e02be9f13799level0_row0\" class=\"row_heading level0 row0\" >373</th>\n",
       "                        <td id=\"T_125eb421_9e5d_11ec_b2f2_e02be9f13799row0_col0\" class=\"data row0 col0\" >R. Gravenberch</td>\n",
       "                        <td id=\"T_125eb421_9e5d_11ec_b2f2_e02be9f13799row0_col1\" class=\"data row0 col1\" >19</td>\n",
       "                        <td id=\"T_125eb421_9e5d_11ec_b2f2_e02be9f13799row0_col2\" class=\"data row0 col2\" >Ajax</td>\n",
       "                        <td id=\"T_125eb421_9e5d_11ec_b2f2_e02be9f13799row0_col3\" class=\"data row0 col3\" >78</td>\n",
       "                        <td id=\"T_125eb421_9e5d_11ec_b2f2_e02be9f13799row0_col4\" class=\"data row0 col4\" >90</td>\n",
       "                        <td id=\"T_125eb421_9e5d_11ec_b2f2_e02be9f13799row0_col5\" class=\"data row0 col5\" >12</td>\n",
       "                        <td id=\"T_125eb421_9e5d_11ec_b2f2_e02be9f13799row0_col6\" class=\"data row0 col6\" >33000000</td>\n",
       "            </tr>\n",
       "            <tr>\n",
       "                        <th id=\"T_125eb421_9e5d_11ec_b2f2_e02be9f13799level0_row1\" class=\"row_heading level0 row1\" >4568</th>\n",
       "                        <td id=\"T_125eb421_9e5d_11ec_b2f2_e02be9f13799row1_col0\" class=\"data row1 col0\" >J. Doku</td>\n",
       "                        <td id=\"T_125eb421_9e5d_11ec_b2f2_e02be9f13799row1_col1\" class=\"data row1 col1\" >19</td>\n",
       "                        <td id=\"T_125eb421_9e5d_11ec_b2f2_e02be9f13799row1_col2\" class=\"data row1 col2\" >Stade Rennais FC</td>\n",
       "                        <td id=\"T_125eb421_9e5d_11ec_b2f2_e02be9f13799row1_col3\" class=\"data row1 col3\" >77</td>\n",
       "                        <td id=\"T_125eb421_9e5d_11ec_b2f2_e02be9f13799row1_col4\" class=\"data row1 col4\" >88</td>\n",
       "                        <td id=\"T_125eb421_9e5d_11ec_b2f2_e02be9f13799row1_col5\" class=\"data row1 col5\" >11</td>\n",
       "                        <td id=\"T_125eb421_9e5d_11ec_b2f2_e02be9f13799row1_col6\" class=\"data row1 col6\" >23000000</td>\n",
       "            </tr>\n",
       "            <tr>\n",
       "                        <th id=\"T_125eb421_9e5d_11ec_b2f2_e02be9f13799level0_row2\" class=\"row_heading level0 row2\" >300</th>\n",
       "                        <td id=\"T_125eb421_9e5d_11ec_b2f2_e02be9f13799row2_col0\" class=\"data row2 col0\" >E. Camavinga</td>\n",
       "                        <td id=\"T_125eb421_9e5d_11ec_b2f2_e02be9f13799row2_col1\" class=\"data row2 col1\" >18</td>\n",
       "                        <td id=\"T_125eb421_9e5d_11ec_b2f2_e02be9f13799row2_col2\" class=\"data row2 col2\" >Real Madrid CF</td>\n",
       "                        <td id=\"T_125eb421_9e5d_11ec_b2f2_e02be9f13799row2_col3\" class=\"data row2 col3\" >78</td>\n",
       "                        <td id=\"T_125eb421_9e5d_11ec_b2f2_e02be9f13799row2_col4\" class=\"data row2 col4\" >89</td>\n",
       "                        <td id=\"T_125eb421_9e5d_11ec_b2f2_e02be9f13799row2_col5\" class=\"data row2 col5\" >11</td>\n",
       "                        <td id=\"T_125eb421_9e5d_11ec_b2f2_e02be9f13799row2_col6\" class=\"data row2 col6\" >29500000</td>\n",
       "            </tr>\n",
       "            <tr>\n",
       "                        <th id=\"T_125eb421_9e5d_11ec_b2f2_e02be9f13799level0_row3\" class=\"row_heading level0 row3\" >2517</th>\n",
       "                        <td id=\"T_125eb421_9e5d_11ec_b2f2_e02be9f13799row3_col0\" class=\"data row3 col0\" >N. Madueke</td>\n",
       "                        <td id=\"T_125eb421_9e5d_11ec_b2f2_e02be9f13799row3_col1\" class=\"data row3 col1\" >19</td>\n",
       "                        <td id=\"T_125eb421_9e5d_11ec_b2f2_e02be9f13799row3_col2\" class=\"data row3 col2\" >PSV</td>\n",
       "                        <td id=\"T_125eb421_9e5d_11ec_b2f2_e02be9f13799row3_col3\" class=\"data row3 col3\" >77</td>\n",
       "                        <td id=\"T_125eb421_9e5d_11ec_b2f2_e02be9f13799row3_col4\" class=\"data row3 col4\" >88</td>\n",
       "                        <td id=\"T_125eb421_9e5d_11ec_b2f2_e02be9f13799row3_col5\" class=\"data row3 col5\" >11</td>\n",
       "                        <td id=\"T_125eb421_9e5d_11ec_b2f2_e02be9f13799row3_col6\" class=\"data row3 col6\" >23000000</td>\n",
       "            </tr>\n",
       "            <tr>\n",
       "                        <th id=\"T_125eb421_9e5d_11ec_b2f2_e02be9f13799level0_row4\" class=\"row_heading level0 row4\" >1822</th>\n",
       "                        <td id=\"T_125eb421_9e5d_11ec_b2f2_e02be9f13799row4_col0\" class=\"data row4 col0\" >F. Wirtz</td>\n",
       "                        <td id=\"T_125eb421_9e5d_11ec_b2f2_e02be9f13799row4_col1\" class=\"data row4 col1\" >18</td>\n",
       "                        <td id=\"T_125eb421_9e5d_11ec_b2f2_e02be9f13799row4_col2\" class=\"data row4 col2\" >Bayer 04 Leverkusen</td>\n",
       "                        <td id=\"T_125eb421_9e5d_11ec_b2f2_e02be9f13799row4_col3\" class=\"data row4 col3\" >78</td>\n",
       "                        <td id=\"T_125eb421_9e5d_11ec_b2f2_e02be9f13799row4_col4\" class=\"data row4 col4\" >89</td>\n",
       "                        <td id=\"T_125eb421_9e5d_11ec_b2f2_e02be9f13799row4_col5\" class=\"data row4 col5\" >11</td>\n",
       "                        <td id=\"T_125eb421_9e5d_11ec_b2f2_e02be9f13799row4_col6\" class=\"data row4 col6\" >29500000</td>\n",
       "            </tr>\n",
       "            <tr>\n",
       "                        <th id=\"T_125eb421_9e5d_11ec_b2f2_e02be9f13799level0_row5\" class=\"row_heading level0 row5\" >1582</th>\n",
       "                        <td id=\"T_125eb421_9e5d_11ec_b2f2_e02be9f13799row5_col0\" class=\"data row5 col0\" >M. Greenwood</td>\n",
       "                        <td id=\"T_125eb421_9e5d_11ec_b2f2_e02be9f13799row5_col1\" class=\"data row5 col1\" >19</td>\n",
       "                        <td id=\"T_125eb421_9e5d_11ec_b2f2_e02be9f13799row5_col2\" class=\"data row5 col2\" >Manchester United</td>\n",
       "                        <td id=\"T_125eb421_9e5d_11ec_b2f2_e02be9f13799row5_col3\" class=\"data row5 col3\" >78</td>\n",
       "                        <td id=\"T_125eb421_9e5d_11ec_b2f2_e02be9f13799row5_col4\" class=\"data row5 col4\" >89</td>\n",
       "                        <td id=\"T_125eb421_9e5d_11ec_b2f2_e02be9f13799row5_col5\" class=\"data row5 col5\" >11</td>\n",
       "                        <td id=\"T_125eb421_9e5d_11ec_b2f2_e02be9f13799row5_col6\" class=\"data row5 col6\" >30500000</td>\n",
       "            </tr>\n",
       "            <tr>\n",
       "                        <th id=\"T_125eb421_9e5d_11ec_b2f2_e02be9f13799level0_row6\" class=\"row_heading level0 row6\" >835</th>\n",
       "                        <td id=\"T_125eb421_9e5d_11ec_b2f2_e02be9f13799row6_col0\" class=\"data row6 col0\" >Nuno Mendes</td>\n",
       "                        <td id=\"T_125eb421_9e5d_11ec_b2f2_e02be9f13799row6_col1\" class=\"data row6 col1\" >19</td>\n",
       "                        <td id=\"T_125eb421_9e5d_11ec_b2f2_e02be9f13799row6_col2\" class=\"data row6 col2\" >Paris Saint-Germain</td>\n",
       "                        <td id=\"T_125eb421_9e5d_11ec_b2f2_e02be9f13799row6_col3\" class=\"data row6 col3\" >78</td>\n",
       "                        <td id=\"T_125eb421_9e5d_11ec_b2f2_e02be9f13799row6_col4\" class=\"data row6 col4\" >88</td>\n",
       "                        <td id=\"T_125eb421_9e5d_11ec_b2f2_e02be9f13799row6_col5\" class=\"data row6 col5\" >10</td>\n",
       "                        <td id=\"T_125eb421_9e5d_11ec_b2f2_e02be9f13799row6_col6\" class=\"data row6 col6\" >29000000</td>\n",
       "            </tr>\n",
       "            <tr>\n",
       "                        <th id=\"T_125eb421_9e5d_11ec_b2f2_e02be9f13799level0_row7\" class=\"row_heading level0 row7\" >1424</th>\n",
       "                        <td id=\"T_125eb421_9e5d_11ec_b2f2_e02be9f13799row7_col0\" class=\"data row7 col0\" >D. Szoboszlai</td>\n",
       "                        <td id=\"T_125eb421_9e5d_11ec_b2f2_e02be9f13799row7_col1\" class=\"data row7 col1\" >20</td>\n",
       "                        <td id=\"T_125eb421_9e5d_11ec_b2f2_e02be9f13799row7_col2\" class=\"data row7 col2\" >RB Leipzig</td>\n",
       "                        <td id=\"T_125eb421_9e5d_11ec_b2f2_e02be9f13799row7_col3\" class=\"data row7 col3\" >77</td>\n",
       "                        <td id=\"T_125eb421_9e5d_11ec_b2f2_e02be9f13799row7_col4\" class=\"data row7 col4\" >87</td>\n",
       "                        <td id=\"T_125eb421_9e5d_11ec_b2f2_e02be9f13799row7_col5\" class=\"data row7 col5\" >10</td>\n",
       "                        <td id=\"T_125eb421_9e5d_11ec_b2f2_e02be9f13799row7_col6\" class=\"data row7 col6\" >23000000</td>\n",
       "            </tr>\n",
       "            <tr>\n",
       "                        <th id=\"T_125eb421_9e5d_11ec_b2f2_e02be9f13799level0_row8\" class=\"row_heading level0 row8\" >2753</th>\n",
       "                        <td id=\"T_125eb421_9e5d_11ec_b2f2_e02be9f13799row8_col0\" class=\"data row8 col0\" >C. Hudson-Odoi</td>\n",
       "                        <td id=\"T_125eb421_9e5d_11ec_b2f2_e02be9f13799row8_col1\" class=\"data row8 col1\" >20</td>\n",
       "                        <td id=\"T_125eb421_9e5d_11ec_b2f2_e02be9f13799row8_col2\" class=\"data row8 col2\" >Chelsea</td>\n",
       "                        <td id=\"T_125eb421_9e5d_11ec_b2f2_e02be9f13799row8_col3\" class=\"data row8 col3\" >77</td>\n",
       "                        <td id=\"T_125eb421_9e5d_11ec_b2f2_e02be9f13799row8_col4\" class=\"data row8 col4\" >87</td>\n",
       "                        <td id=\"T_125eb421_9e5d_11ec_b2f2_e02be9f13799row8_col5\" class=\"data row8 col5\" >10</td>\n",
       "                        <td id=\"T_125eb421_9e5d_11ec_b2f2_e02be9f13799row8_col6\" class=\"data row8 col6\" >23000000</td>\n",
       "            </tr>\n",
       "            <tr>\n",
       "                        <th id=\"T_125eb421_9e5d_11ec_b2f2_e02be9f13799level0_row9\" class=\"row_heading level0 row9\" >358</th>\n",
       "                        <td id=\"T_125eb421_9e5d_11ec_b2f2_e02be9f13799row9_col0\" class=\"data row9 col0\" >J. Bellingham</td>\n",
       "                        <td id=\"T_125eb421_9e5d_11ec_b2f2_e02be9f13799row9_col1\" class=\"data row9 col1\" >18</td>\n",
       "                        <td id=\"T_125eb421_9e5d_11ec_b2f2_e02be9f13799row9_col2\" class=\"data row9 col2\" >Borussia Dortmund</td>\n",
       "                        <td id=\"T_125eb421_9e5d_11ec_b2f2_e02be9f13799row9_col3\" class=\"data row9 col3\" >79</td>\n",
       "                        <td id=\"T_125eb421_9e5d_11ec_b2f2_e02be9f13799row9_col4\" class=\"data row9 col4\" >89</td>\n",
       "                        <td id=\"T_125eb421_9e5d_11ec_b2f2_e02be9f13799row9_col5\" class=\"data row9 col5\" >10</td>\n",
       "                        <td id=\"T_125eb421_9e5d_11ec_b2f2_e02be9f13799row9_col6\" class=\"data row9 col6\" >37000000</td>\n",
       "            </tr>\n",
       "            <tr>\n",
       "                        <th id=\"T_125eb421_9e5d_11ec_b2f2_e02be9f13799level0_row10\" class=\"row_heading level0 row10\" >2098</th>\n",
       "                        <td id=\"T_125eb421_9e5d_11ec_b2f2_e02be9f13799row10_col0\" class=\"data row10 col0\" >G. Reyna</td>\n",
       "                        <td id=\"T_125eb421_9e5d_11ec_b2f2_e02be9f13799row10_col1\" class=\"data row10 col1\" >18</td>\n",
       "                        <td id=\"T_125eb421_9e5d_11ec_b2f2_e02be9f13799row10_col2\" class=\"data row10 col2\" >Borussia Dortmund</td>\n",
       "                        <td id=\"T_125eb421_9e5d_11ec_b2f2_e02be9f13799row10_col3\" class=\"data row10 col3\" >77</td>\n",
       "                        <td id=\"T_125eb421_9e5d_11ec_b2f2_e02be9f13799row10_col4\" class=\"data row10 col4\" >87</td>\n",
       "                        <td id=\"T_125eb421_9e5d_11ec_b2f2_e02be9f13799row10_col5\" class=\"data row10 col5\" >10</td>\n",
       "                        <td id=\"T_125eb421_9e5d_11ec_b2f2_e02be9f13799row10_col6\" class=\"data row10 col6\" >22000000</td>\n",
       "            </tr>\n",
       "            <tr>\n",
       "                        <th id=\"T_125eb421_9e5d_11ec_b2f2_e02be9f13799level0_row11\" class=\"row_heading level0 row11\" >1664</th>\n",
       "                        <td id=\"T_125eb421_9e5d_11ec_b2f2_e02be9f13799row11_col0\" class=\"data row11 col0\" >M. Damsgaard</td>\n",
       "                        <td id=\"T_125eb421_9e5d_11ec_b2f2_e02be9f13799row11_col1\" class=\"data row11 col1\" >20</td>\n",
       "                        <td id=\"T_125eb421_9e5d_11ec_b2f2_e02be9f13799row11_col2\" class=\"data row11 col2\" >U.C. Sampdoria</td>\n",
       "                        <td id=\"T_125eb421_9e5d_11ec_b2f2_e02be9f13799row11_col3\" class=\"data row11 col3\" >77</td>\n",
       "                        <td id=\"T_125eb421_9e5d_11ec_b2f2_e02be9f13799row11_col4\" class=\"data row11 col4\" >87</td>\n",
       "                        <td id=\"T_125eb421_9e5d_11ec_b2f2_e02be9f13799row11_col5\" class=\"data row11 col5\" >10</td>\n",
       "                        <td id=\"T_125eb421_9e5d_11ec_b2f2_e02be9f13799row11_col6\" class=\"data row11 col6\" >23000000</td>\n",
       "            </tr>\n",
       "            <tr>\n",
       "                        <th id=\"T_125eb421_9e5d_11ec_b2f2_e02be9f13799level0_row12\" class=\"row_heading level0 row12\" >2101</th>\n",
       "                        <td id=\"T_125eb421_9e5d_11ec_b2f2_e02be9f13799row12_col0\" class=\"data row12 col0\" >Vinicius Jr.</td>\n",
       "                        <td id=\"T_125eb421_9e5d_11ec_b2f2_e02be9f13799row12_col1\" class=\"data row12 col1\" >20</td>\n",
       "                        <td id=\"T_125eb421_9e5d_11ec_b2f2_e02be9f13799row12_col2\" class=\"data row12 col2\" >Real Madrid CF</td>\n",
       "                        <td id=\"T_125eb421_9e5d_11ec_b2f2_e02be9f13799row12_col3\" class=\"data row12 col3\" >80</td>\n",
       "                        <td id=\"T_125eb421_9e5d_11ec_b2f2_e02be9f13799row12_col4\" class=\"data row12 col4\" >90</td>\n",
       "                        <td id=\"T_125eb421_9e5d_11ec_b2f2_e02be9f13799row12_col5\" class=\"data row12 col5\" >10</td>\n",
       "                        <td id=\"T_125eb421_9e5d_11ec_b2f2_e02be9f13799row12_col6\" class=\"data row12 col6\" >46500000</td>\n",
       "            </tr>\n",
       "            <tr>\n",
       "                        <th id=\"T_125eb421_9e5d_11ec_b2f2_e02be9f13799level0_row13\" class=\"row_heading level0 row13\" >703</th>\n",
       "                        <td id=\"T_125eb421_9e5d_11ec_b2f2_e02be9f13799row13_col0\" class=\"data row13 col0\" >Pedri</td>\n",
       "                        <td id=\"T_125eb421_9e5d_11ec_b2f2_e02be9f13799row13_col1\" class=\"data row13 col1\" >18</td>\n",
       "                        <td id=\"T_125eb421_9e5d_11ec_b2f2_e02be9f13799row13_col2\" class=\"data row13 col2\" >FC Barcelona</td>\n",
       "                        <td id=\"T_125eb421_9e5d_11ec_b2f2_e02be9f13799row13_col3\" class=\"data row13 col3\" >81</td>\n",
       "                        <td id=\"T_125eb421_9e5d_11ec_b2f2_e02be9f13799row13_col4\" class=\"data row13 col4\" >91</td>\n",
       "                        <td id=\"T_125eb421_9e5d_11ec_b2f2_e02be9f13799row13_col5\" class=\"data row13 col5\" >10</td>\n",
       "                        <td id=\"T_125eb421_9e5d_11ec_b2f2_e02be9f13799row13_col6\" class=\"data row13 col6\" >54000000</td>\n",
       "            </tr>\n",
       "            <tr>\n",
       "                        <th id=\"T_125eb421_9e5d_11ec_b2f2_e02be9f13799level0_row14\" class=\"row_heading level0 row14\" >1585</th>\n",
       "                        <td id=\"T_125eb421_9e5d_11ec_b2f2_e02be9f13799row14_col0\" class=\"data row14 col0\" >Antony</td>\n",
       "                        <td id=\"T_125eb421_9e5d_11ec_b2f2_e02be9f13799row14_col1\" class=\"data row14 col1\" >21</td>\n",
       "                        <td id=\"T_125eb421_9e5d_11ec_b2f2_e02be9f13799row14_col2\" class=\"data row14 col2\" >Ajax</td>\n",
       "                        <td id=\"T_125eb421_9e5d_11ec_b2f2_e02be9f13799row14_col3\" class=\"data row14 col3\" >79</td>\n",
       "                        <td id=\"T_125eb421_9e5d_11ec_b2f2_e02be9f13799row14_col4\" class=\"data row14 col4\" >88</td>\n",
       "                        <td id=\"T_125eb421_9e5d_11ec_b2f2_e02be9f13799row14_col5\" class=\"data row14 col5\" >9</td>\n",
       "                        <td id=\"T_125eb421_9e5d_11ec_b2f2_e02be9f13799row14_col6\" class=\"data row14 col6\" >39500000</td>\n",
       "            </tr>\n",
       "    </tbody></table>"
      ],
      "text/plain": [
       "<pandas.io.formats.style.Styler at 0x2447553ddc0>"
      ]
     },
     "execution_count": 142,
     "metadata": {},
     "output_type": "execute_result"
    }
   ],
   "source": [
    "# Nous enlevons les joueurs qui ont un salaire = 0 car ce sont les légendes du jeu qui ont un potentiel important\n",
    "a=df[df['Wage (€)']!=0].sort_values('Evolution',ascending=False)[['Name','Age','Club','Overall','Potential','Evolution','Value (€)']].head(15)\n",
    "a.style.background_gradient(cmap=sns.light_palette(\"red\", as_cmap=True),subset=['Evolution','Value (€)'])"
   ]
  },
  {
   "cell_type": "code",
   "execution_count": 48,
   "metadata": {
    "scrolled": true
   },
   "outputs": [
    {
     "data": {
      "text/plain": [
       "Text(0.5, 1.0, 'Best possible evolutions of players')"
      ]
     },
     "execution_count": 48,
     "metadata": {},
     "output_type": "execute_result"
    },
    {
     "data": {
      "image/png": "[encoded data removed]",
      "text/plain": [
       "<Figure size 1224x504 with 1 Axes>"
      ]
     },
     "metadata": {
      "needs_background": "light"
     },
     "output_type": "display_data"
    }
   ],
   "source": [
    "f, ax = plt.subplots(figsize=(17, 7))\n",
    "sns.barplot(x=a['Evolution'],y=a.Name,data=a, palette='Spectral')\n",
    "plt.title('Best possible evolutions of players')"
   ]
  },
  {
   "cell_type": "markdown",
   "metadata": {},
   "source": [
    "### Les pieds des meilleurs joueurs"
   ]
  },
  {
   "cell_type": "code",
   "execution_count": 151,
   "metadata": {},
   "outputs": [
    {
     "data": {
      "text/plain": [
       "Text(0.5, 1.0, 'Top 75 best players preferred foot')"
      ]
     },
     "execution_count": 151,
     "metadata": {},
     "output_type": "execute_result"
    },
    {
     "data": {
      "image/png": "[encoded data removed]",
      "text/plain": [
       "<Figure size 576x396 with 1 Axes>"
      ]
     },
     "metadata": {},
     "output_type": "display_data"
    }
   ],
   "source": [
    "top75_bestplayers['Preferred Foot'].value_counts().plot(kind='pie',autopct='%1.0f%%', pctdistance=0.5, labeldistance=1.1)\n",
    "plt.title('Top 75 best players preferred foot')"
   ]
  },
  {
   "cell_type": "markdown",
   "metadata": {},
   "source": [
    "### Répartition des tailles et poids des 75 meilleurs"
   ]
  },
  {
   "cell_type": "code",
   "execution_count": 50,
   "metadata": {},
   "outputs": [
    {
     "data": {
      "text/plain": [
       "Text(0.5, 1.0, 'Repartition of Height and Weight of the top 75')"
      ]
     },
     "execution_count": 50,
     "metadata": {},
     "output_type": "execute_result"
    },
    {
     "data": {
      "image/png": "[encoded data removed]",
      "text/plain": [
       "<Figure size 432x288 with 1 Axes>"
      ]
     },
     "metadata": {
      "needs_background": "light"
     },
     "output_type": "display_data"
    }
   ],
   "source": [
    "top75_bestplayers=top75_bestplayers.rename(columns={'Height':'Height (cm)','Weight':'Weight (kg)'})\n",
    "\n",
    "top75_bestplayers['Height (cm)'].plot.kde()\n",
    "top75_bestplayers['Weight (kg)'].plot.kde()\n",
    "plt.legend()\n",
    "plt.title('Repartition of Height and Weight of the top 75')"
   ]
  },
  {
   "cell_type": "markdown",
   "metadata": {},
   "source": [
    "## Etude des clubs"
   ]
  },
  {
   "cell_type": "markdown",
   "metadata": {},
   "source": [
    "### Clubs ayant les équipes les plus chères"
   ]
  },
  {
   "cell_type": "code",
   "execution_count": 51,
   "metadata": {},
   "outputs": [],
   "source": [
    "a=pd.DataFrame(df.groupby(['Club']).sum()['Value (€)'].sort_values(ascending=False)).head(20)"
   ]
  },
  {
   "cell_type": "code",
   "execution_count": 52,
   "metadata": {
    "scrolled": true
   },
   "outputs": [
    {
     "data": {
      "text/plain": [
       "Text(0.5, 1.0, 'Ranking of club having the most valuables players')"
      ]
     },
     "execution_count": 52,
     "metadata": {},
     "output_type": "execute_result"
    },
    {
     "data": {
      "image/png": "[encoded data removed]",
      "text/plain": [
       "<Figure size 1224x504 with 1 Axes>"
      ]
     },
     "metadata": {
      "needs_background": "light"
     },
     "output_type": "display_data"
    }
   ],
   "source": [
    "f, ax = plt.subplots(figsize=(17, 7))\n",
    "sns.barplot(x=a['Value (€)'],y=a.index,data=a, palette='Spectral')\n",
    "plt.title('Ranking of club having the most valuables players')"
   ]
  },
  {
   "cell_type": "markdown",
   "metadata": {},
   "source": [
    "### Clubs ayant les meilleurs espoirs"
   ]
  },
  {
   "cell_type": "code",
   "execution_count": 53,
   "metadata": {},
   "outputs": [],
   "source": [
    "a=pd.DataFrame(df.groupby(['Club']).sum()['Evolution'].sort_values(ascending=False)).head(20)"
   ]
  },
  {
   "cell_type": "code",
   "execution_count": 54,
   "metadata": {
    "scrolled": false
   },
   "outputs": [
    {
     "data": {
      "text/plain": [
       "Text(0.5, 1.0, 'Ranking of club having the most talented players')"
      ]
     },
     "execution_count": 54,
     "metadata": {},
     "output_type": "execute_result"
    },
    {
     "data": {
      "image/png": "[encoded data removed]",
      "text/plain": [
       "<Figure size 1224x504 with 1 Axes>"
      ]
     },
     "metadata": {
      "needs_background": "light"
     },
     "output_type": "display_data"
    }
   ],
   "source": [
    "f, ax = plt.subplots(figsize=(17, 7))\n",
    "sns.barplot(x=a['Evolution'],y=a.index,data=a, palette='Spectral')\n",
    "plt.title('Ranking of club having the most talented players')"
   ]
  },
  {
   "cell_type": "markdown",
   "metadata": {},
   "source": [
    "### Clubs ayant les joueurs les plus grands"
   ]
  },
  {
   "cell_type": "code",
   "execution_count": 154,
   "metadata": {},
   "outputs": [],
   "source": [
    "a=pd.DataFrame(df.groupby(['Club']).mean()['Height'].sort_values(ascending=False)).head(20)"
   ]
  },
  {
   "cell_type": "code",
   "execution_count": 155,
   "metadata": {
    "scrolled": true
   },
   "outputs": [
    {
     "data": {
      "text/plain": [
       "Text(0.5, 1.0, 'Ranking of club having the tallest players')"
      ]
     },
     "execution_count": 155,
     "metadata": {},
     "output_type": "execute_result"
    },
    {
     "data": {
      "image/png": "[encoded data removed]",
      "text/plain": [
       "<Figure size 1224x504 with 1 Axes>"
      ]
     },
     "metadata": {},
     "output_type": "display_data"
    }
   ],
   "source": [
    "f, ax = plt.subplots(figsize=(17, 7))\n",
    "sns.barplot(x=a['Height'],y=a.index,data=a, palette='Spectral')\n",
    "plt.title('Ranking of club having the tallest players')"
   ]
  },
  {
   "cell_type": "markdown",
   "metadata": {},
   "source": [
    "### Clubs ayant les joueurs les plus lourds"
   ]
  },
  {
   "cell_type": "code",
   "execution_count": 57,
   "metadata": {},
   "outputs": [],
   "source": [
    "a=pd.DataFrame(df.groupby(['Club']).mean()['Weight'].sort_values(ascending=False)).head(20)"
   ]
  },
  {
   "cell_type": "code",
   "execution_count": 58,
   "metadata": {},
   "outputs": [
    {
     "data": {
      "text/plain": [
       "Text(0.5, 1.0, 'Ranking of club having the heaviest players')"
      ]
     },
     "execution_count": 58,
     "metadata": {},
     "output_type": "execute_result"
    },
    {
     "data": {
      "image/png": "[encoded data removed]",
      "text/plain": [
       "<Figure size 1224x504 with 1 Axes>"
      ]
     },
     "metadata": {
      "needs_background": "light"
     },
     "output_type": "display_data"
    }
   ],
   "source": [
    "f, ax = plt.subplots(figsize=(17, 7))\n",
    "sns.barplot(x=a['Weight'],y=a.index,data=a, palette='Spectral')\n",
    "plt.title('Ranking of club having the heaviest players')"
   ]
  },
  {
   "cell_type": "markdown",
   "metadata": {},
   "source": [
    "## Data Visualisation"
   ]
  },
  {
   "cell_type": "markdown",
   "metadata": {
    "heading_collapsed": true
   },
   "source": [
    "### Radar chart joueurs "
   ]
  },
  {
   "cell_type": "code",
   "execution_count": 59,
   "metadata": {
    "hidden": true
   },
   "outputs": [
    {
     "name": "stdout",
     "output_type": "stream",
     "text": [
      "Name: Thiago Silva\n",
      "Age: 36\n",
      "Nation: Brazil\n",
      "Club: Chelsea\n",
      "Overall Rating: 85\n"
     ]
    }
   ],
   "source": [
    "import matplotlib.patches as mpatches\n",
    "import matplotlib.pyplot as plt\n",
    "plt.style.use('seaborn')\n",
    "\n",
    "color1=(0,152/255,158/255,0.8)\n",
    "color2=(180/255,215/255,141/255,0.8)\n",
    "color3=(255/255,230/255,122/255,0.8)\n",
    "color4=(246/255,172/255,26/255,0.8)\n",
    "color5=(216/255,34/255,13/255,0.8)\n",
    "colors=[color1,color2,color3,color4,color5]\n",
    "\n",
    "def base_info(player):\n",
    "    if player.empty:\n",
    "        print(\"Can't find a player with sofifa_id = \"+str(sofifa_id))\n",
    "    else:\n",
    "        player=player.reset_index()\n",
    "        print('Name: '+player['Name'][0])\n",
    "        print('Age: '+str(player['Age'][0]))\n",
    "        print('Nation: '+player['Nationality'][0])\n",
    "        print('Club: '+player['Club'][0])\n",
    "        print('Overall Rating: '+str(player['Overall'][0]))\n",
    "        \n",
    "\n",
    "base_info(df[df['Name']==\"Thiago Silva\"])\n"
   ]
  },
  {
   "cell_type": "code",
   "execution_count": 60,
   "metadata": {
    "hidden": true
   },
   "outputs": [],
   "source": [
    "def radar_plot(player):\n",
    "\n",
    "    player=player.reset_index()\n",
    "\n",
    "    angles=np.linspace(0,2*np.pi,6,endpoint=False)\n",
    "    angles=np.concatenate((angles, [0]))\n",
    "\n",
    "    #Detect if GoalKeeper or not\n",
    "    if player['GKDiving'].values[0]<30:\n",
    "        attributes=player.loc[0,['Acceleration','Finishing','Agility','Dribbling','StandingTackle','Strength','BallControl']]\n",
    "        labels=('ACCELERATION\\n{:d}'.format(int(player.loc[0,'Acceleration'])),\n",
    "                'FINISHING\\n{:d}\\n'.format(int(player.loc[0,'Finishing'])),\n",
    "                'AGILITY\\n{:d}\\n'.format(int(player.loc[0,'Agility'])),\n",
    "                'DRIBBLING\\n{:d}'.format(int(player.loc[0,'Dribbling'])),\n",
    "                '\\nTACKLE\\n{:d}'.format(int(player.loc[0,'StandingTackle'])),\n",
    "                '\\nPHYSIC\\n{:d}'.format(int(player.loc[0,'Strength'])),\n",
    "                'CONTROL\\n{:d}'.format(int(player.loc[0,'BallControl'])))\n",
    "    else:\n",
    "        attributes=player.loc[0,['GKDiving','GKHandling','GKKicking','GKReflexes','Reactions','GKPositioning','GKDiving']]\n",
    "        labels=('DIV\\n{:d}'.format(int(player.loc[0,'GKDiving'])),\n",
    "                'HAN\\n{:d}\\n'.format(int(player.loc[0,'GKHandling'])),\n",
    "                'KIC\\n{:d}\\n'.format(int(player.loc[0,'GKKicking'])),\n",
    "                'REF\\n{:d}'.format(int(player.loc[0,'GKReflexes'])),\n",
    "                '\\nREACTIONS\\n{:d}'.format(int(player.loc[0,'Reactions'])),\n",
    "                '\\nPOS\\n{:d}'.format(int(player.loc[0,'GKPositioning'])),\n",
    "                'DIV\\n{:d}'.format(int(player.loc[0,'GKDiving'])))\n",
    "\n",
    "    fig=plt.figure(figsize=(5,5))\n",
    "    rect0 = [0, 0, 1, 1]\n",
    "    rect1 = [0.00005, 0.00005, 0.9999, 0.9999]\n",
    "    rect2 = [0.1, 0.1, 0.8, 0.8]\n",
    "    rect3 = [0.2, 0.2, 0.6, 0.6]\n",
    "    rect4 = [0.3, 0.3, 0.4, 0.4]\n",
    "    rect5 = [0.4, 0.4, 0.2, 0.2]\n",
    "\n",
    "    rects=[rect1,rect2,rect3,rect4,rect5]\n",
    "\n",
    "    for rect,col in zip(rects,colors):\n",
    "        bk=plt.axes(rect,projection='polar')\n",
    "        bk.fill(angles,[1,1,1,1,1,1,1],color=col)\n",
    "        bk.set_ylim(0,1)\n",
    "        bk.axis('off')\n",
    "\n",
    "    rdp=plt.axes(rect0,projection='polar')\n",
    "    rdp.plot(angles,attributes,color='#222222',linestyle=\"-\",lw=2)\n",
    "    rdp.fill(angles,attributes,color='#222222',alpha=0.3)\n",
    "    rdp.set_thetagrids(angles/np.pi*180,labels,fontsize=13)\n",
    "    rdp.set_title(player.Name[0],fontsize=20)\n",
    "    rdp.patch.set_alpha(0)\n",
    "    rdp.set_rticks([])\n",
    "    rdp.set_ylim(0,100)\n",
    "    #rdp.axis('off')\n",
    "    plt.show()"
   ]
  },
  {
   "cell_type": "code",
   "execution_count": 61,
   "metadata": {
    "hidden": true
   },
   "outputs": [
    {
     "data": {
      "image/png": "[encoded data removed]",
      "text/plain": [
       "<Figure size 360x360 with 6 Axes>"
      ]
     },
     "metadata": {},
     "output_type": "display_data"
    }
   ],
   "source": [
    "radar_plot(df[df['Name'].str.contains('Marquinhos')])"
   ]
  }
 ],
 "metadata": {
  "kernelspec": {
   "display_name": "Python 3",
   "language": "python",
   "name": "python3"
  },
  "language_info": {
   "codemirror_mode": {
    "name": "ipython",
    "version": 3
   },
   "file_extension": ".py",
   "mimetype": "text/x-python",
   "name": "python",
   "nbconvert_exporter": "python",
   "pygments_lexer": "ipython3",
   "version": "3.8.5"
  }
 },
 "nbformat": 4,
 "nbformat_minor": 4
}
